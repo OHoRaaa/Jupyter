{
 "cells": [
  {
   "cell_type": "code",
   "execution_count": 2,
   "id": "10d2215f",
   "metadata": {},
   "outputs": [],
   "source": [
    "f = open('mytest.txt', 'w')\n",
    "f.close()"
   ]
  },
  {
   "cell_type": "code",
   "execution_count": 4,
   "id": "4b3444e5",
   "metadata": {},
   "outputs": [],
   "source": [
    "f = open('mytest.txt', 'a')\n",
    "f.write('hello')\n",
    "f.close()"
   ]
  },
  {
   "cell_type": "code",
   "execution_count": 11,
   "id": "c320ff46",
   "metadata": {},
   "outputs": [
    {
     "data": {
      "text/plain": [
       "'hello'"
      ]
     },
     "execution_count": 11,
     "metadata": {},
     "output_type": "execute_result"
    }
   ],
   "source": [
    "# f = open('mytest.txt', 'r')\n",
    "# text = f.read()\n",
    "# f.close()\n",
    "\n",
    "# print(text)\n",
    "\n",
    "with open('mytest.txt', 'r') as f:\n",
    "    text = f.read()\n",
    "text"
   ]
  },
  {
   "cell_type": "code",
   "execution_count": null,
   "id": "8a944bf6",
   "metadata": {},
   "outputs": [],
   "source": []
  },
  {
   "cell_type": "code",
   "execution_count": 9,
   "id": "55178635",
   "metadata": {},
   "outputs": [
    {
     "name": "stdout",
     "output_type": "stream",
     "text": [
      "16\n"
     ]
    }
   ],
   "source": [
    "# 임의의 정수를 입력받은 후 0부터 임의의 정수까지의 홀수 합을 리턴하는 함수를 만들고 실행하시오.\n",
    "\n",
    "def total(n):\n",
    "    suma = 0\n",
    "    for i in range(1, n + 1, 2):\n",
    "        suma += i\n",
    "    return suma\n",
    "\n",
    "print(total(7))\n",
    "        \n",
    "        "
   ]
  },
  {
   "cell_type": "code",
   "execution_count": null,
   "id": "19accb77",
   "metadata": {},
   "outputs": [],
   "source": []
  },
  {
   "cell_type": "code",
   "execution_count": 29,
   "id": "1c1ed546",
   "metadata": {},
   "outputs": [
    {
     "name": "stdout",
     "output_type": "stream",
     "text": [
      "이름: 박정연, 메일: wjddus531@gmail.com, 주소: 경기도\n"
     ]
    }
   ],
   "source": [
    "## 명함을 출력하는 class BusinessCardf만들고 객체를 생성해서 메소드를 실행하시오.\n",
    "# 인스턴스변수 : name, email, addr\n",
    "# 메소드 : __init__ : 인스턴스 변수 초기화\n",
    "# 메소드 : print_business_card : 명함을 출력하는 메소드\n",
    "\n",
    "class BusinessCard:\n",
    "    def __init__(self, name, email, addr):\n",
    "        self.name = name\n",
    "        self.email = email\n",
    "        self.addr = addr\n",
    "    def print_business(self):\n",
    "        print(f'이름: {self.name}, 메일: {self.email}, 주소: {self.addr}')\n",
    "\n",
    "person = BusinessCard('박정연', 'wjddus531@gmail.com', '경기도')      \n",
    "person.print_business()"
   ]
  },
  {
   "cell_type": "code",
   "execution_count": null,
   "id": "14515d8c",
   "metadata": {},
   "outputs": [],
   "source": []
  },
  {
   "cell_type": "code",
   "execution_count": 22,
   "id": "11c942ca",
   "metadata": {},
   "outputs": [
    {
     "name": "stdout",
     "output_type": "stream",
     "text": [
      "O\n",
      "I\n",
      "U\n"
     ]
    }
   ],
   "source": [
    "# text = 'python is fun'\n",
    "# text의 character를 모음만 대문자로 전환해서 출력하세요.   참고) 영어모음 = ‘aeiou’\n",
    "\n",
    "text = 'python is fun'\n",
    "\n",
    "for i in text:\n",
    "    if i in 'aeiou':\n",
    "        print(i.upper())\n"
   ]
  },
  {
   "cell_type": "code",
   "execution_count": 27,
   "id": "f8ad481c",
   "metadata": {},
   "outputs": [
    {
     "name": "stdout",
     "output_type": "stream",
     "text": [
      "['o', 'p', 't', 't', 'o', 'a', ' ', 'h', 'n', 'i', 'g']\n"
     ]
    }
   ],
   "source": [
    "# computational thinking에서 홀수인덱스만 리스트에 담으세요..\n",
    "text = 'computational thinking'\n",
    "\n",
    "li = []\n",
    "for i in range(len(text)):\n",
    "    if i % 2 == 1:\n",
    "        li.append(text[i])\n",
    "print(li)\n",
    "    \n"
   ]
  },
  {
   "cell_type": "code",
   "execution_count": null,
   "id": "ecfc342e",
   "metadata": {},
   "outputs": [],
   "source": []
  }
 ],
 "metadata": {
  "kernelspec": {
   "display_name": "Python 3 (ipykernel)",
   "language": "python",
   "name": "python3"
  },
  "language_info": {
   "codemirror_mode": {
    "name": "ipython",
    "version": 3
   },
   "file_extension": ".py",
   "mimetype": "text/x-python",
   "name": "python",
   "nbconvert_exporter": "python",
   "pygments_lexer": "ipython3",
   "version": "3.9.7"
  }
 },
 "nbformat": 4,
 "nbformat_minor": 5
}
