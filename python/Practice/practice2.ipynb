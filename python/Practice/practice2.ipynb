{
 "cells": [
  {
   "cell_type": "code",
   "execution_count": 1,
   "id": "501b895e",
   "metadata": {},
   "outputs": [
    {
     "data": {
      "text/plain": [
       "'ale'"
      ]
     },
     "execution_count": 1,
     "metadata": {},
     "output_type": "execute_result"
    }
   ],
   "source": [
    "# String\n",
    "txt1 = 'A tale that was not right'\n",
    "# 'ale' 이 출력..\n",
    "txt1[3:6]"
   ]
  },
  {
   "cell_type": "code",
   "execution_count": 2,
   "id": "8f94dd8c",
   "metadata": {},
   "outputs": [
    {
     "data": {
      "text/plain": [
       "'A tale'"
      ]
     },
     "execution_count": 2,
     "metadata": {},
     "output_type": "execute_result"
    }
   ],
   "source": [
    "# 'A tale' 출력\n",
    "txt1[:6]"
   ]
  },
  {
   "cell_type": "code",
   "execution_count": 7,
   "id": "a1205641",
   "metadata": {},
   "outputs": [
    {
     "data": {
      "text/plain": [
       "'not'"
      ]
     },
     "execution_count": 7,
     "metadata": {},
     "output_type": "execute_result"
    }
   ],
   "source": [
    "# 'not' 출력\n",
    "txt1[16:19]"
   ]
  },
  {
   "cell_type": "code",
   "execution_count": 8,
   "id": "11027422",
   "metadata": {},
   "outputs": [
    {
     "data": {
      "text/plain": [
       "'a tale that was not right'"
      ]
     },
     "execution_count": 8,
     "metadata": {},
     "output_type": "execute_result"
    }
   ],
   "source": [
    "# txt1을 소문자 전환\n",
    "txt1.lower()"
   ]
  },
  {
   "cell_type": "code",
   "execution_count": 9,
   "id": "5777f8dd",
   "metadata": {},
   "outputs": [
    {
     "data": {
      "text/plain": [
       "'A TALE THAT WAS NOT RIGHT'"
      ]
     },
     "execution_count": 9,
     "metadata": {},
     "output_type": "execute_result"
    }
   ],
   "source": [
    "# txt1을 대문자 전환\n",
    "txt1.upper()"
   ]
  },
  {
   "cell_type": "code",
   "execution_count": 10,
   "id": "d2a7399a",
   "metadata": {},
   "outputs": [
    {
     "data": {
      "text/plain": [
       "1"
      ]
     },
     "execution_count": 10,
     "metadata": {},
     "output_type": "execute_result"
    }
   ],
   "source": [
    "# 'o'가 몇 개 존재하는가?\n",
    "txt1.count('o')"
   ]
  },
  {
   "cell_type": "code",
   "execution_count": 11,
   "id": "4c0d8e50",
   "metadata": {},
   "outputs": [
    {
     "data": {
      "text/plain": [
       "17"
      ]
     },
     "execution_count": 11,
     "metadata": {},
     "output_type": "execute_result"
    }
   ],
   "source": [
    "# 'o'가 몇 번 인덱스에 존재하는가?\n",
    "txt1.index('o')"
   ]
  },
  {
   "cell_type": "code",
   "execution_count": 13,
   "id": "9b4084a9",
   "metadata": {},
   "outputs": [
    {
     "data": {
      "text/plain": [
       "25"
      ]
     },
     "execution_count": 13,
     "metadata": {},
     "output_type": "execute_result"
    }
   ],
   "source": [
    "# txt1의 길이는 어떻게 되는가?\n",
    "len(txt1)"
   ]
  },
  {
   "cell_type": "code",
   "execution_count": 14,
   "id": "e46b3b03",
   "metadata": {},
   "outputs": [
    {
     "data": {
      "text/plain": [
       "['A', 'tale', 'that', 'was', 'not', 'right']"
      ]
     },
     "execution_count": 14,
     "metadata": {},
     "output_type": "execute_result"
    }
   ],
   "source": [
    "# space를 기준으로 나누어서 List에 담으세요..\n",
    "txt1.split()"
   ]
  },
  {
   "cell_type": "code",
   "execution_count": 20,
   "id": "df7ab1b0",
   "metadata": {},
   "outputs": [
    {
     "name": "stdout",
     "output_type": "stream",
     "text": [
      "A story that was not right\n"
     ]
    }
   ],
   "source": [
    "# 'tale'을 'story'로 바꾸세요..\n",
    "a = txt1.replace('tale', 'story')\n",
    "print(a)\n",
    "\n"
   ]
  },
  {
   "cell_type": "code",
   "execution_count": 21,
   "id": "39919d16",
   "metadata": {},
   "outputs": [
    {
     "data": {
      "text/plain": [
       "True"
      ]
     },
     "execution_count": 21,
     "metadata": {},
     "output_type": "execute_result"
    }
   ],
   "source": [
    "# txt1 안에 'right'가 존재하는지 확인\n",
    "'right' in txt1"
   ]
  },
  {
   "cell_type": "code",
   "execution_count": null,
   "id": "e4d68a3a",
   "metadata": {},
   "outputs": [],
   "source": []
  },
  {
   "cell_type": "code",
   "execution_count": null,
   "id": "782fc81c",
   "metadata": {},
   "outputs": [],
   "source": []
  },
  {
   "cell_type": "code",
   "execution_count": 27,
   "id": "98b32aac",
   "metadata": {},
   "outputs": [
    {
     "data": {
      "text/plain": [
       "['수성', '금성']"
      ]
     },
     "execution_count": 27,
     "metadata": {},
     "output_type": "execute_result"
    }
   ],
   "source": [
    "# List\n",
    "sol = ['태양','수성','금성','지구','화성','목성','지구']\n",
    "sol1 = ['토성','천황성','해왕성']\n",
    "planet = '지구'\n",
    "\n",
    "# 1. sol에서 ['수성','금성']을 출력\n",
    "sol[1:3]"
   ]
  },
  {
   "cell_type": "code",
   "execution_count": 28,
   "id": "a2ad924e",
   "metadata": {},
   "outputs": [
    {
     "data": {
      "text/plain": [
       "3"
      ]
     },
     "execution_count": 28,
     "metadata": {},
     "output_type": "execute_result"
    }
   ],
   "source": [
    "# 2. sol에서 '지구' 위치 인덱스 출력\n",
    "sol.index('지구')"
   ]
  },
  {
   "cell_type": "code",
   "execution_count": 29,
   "id": "7fc2b9cc",
   "metadata": {},
   "outputs": [
    {
     "name": "stdout",
     "output_type": "stream",
     "text": [
      "['태양', '수성', '금성', '지구', '해왕성', '목성', '지구']\n"
     ]
    }
   ],
   "source": [
    "# 3. sol에서 '화성'을 '해왕성'으로 수정\n",
    "sol[4] = '해왕성'\n",
    "print(sol)"
   ]
  },
  {
   "cell_type": "code",
   "execution_count": 30,
   "id": "96026e7a",
   "metadata": {},
   "outputs": [
    {
     "name": "stdout",
     "output_type": "stream",
     "text": [
      "['태양', '명왕성', '수성', '금성', '지구', '해왕성', '목성', '지구']\n"
     ]
    }
   ],
   "source": [
    "# 4. '수성'자리에 '명왕성' 삽입\n",
    "sol.insert(1, '명왕성')\n",
    "print(sol)"
   ]
  },
  {
   "cell_type": "code",
   "execution_count": 31,
   "id": "cf3345bb",
   "metadata": {},
   "outputs": [
    {
     "name": "stdout",
     "output_type": "stream",
     "text": [
      "['태양', '명왕성', '수성', '금성', '지구', '해왕성', '목성', '지구', '토성']\n"
     ]
    }
   ],
   "source": [
    "# 5. '토성'을 맨 끝에 삽입\n",
    "sol.append('토성')\n",
    "print(sol)"
   ]
  },
  {
   "cell_type": "code",
   "execution_count": 32,
   "id": "a246a5e7",
   "metadata": {},
   "outputs": [
    {
     "name": "stdout",
     "output_type": "stream",
     "text": [
      "['태양', '명왕성', '수성', '금성', '지구', '해왕성', '목성', '지구']\n"
     ]
    }
   ],
   "source": [
    "# 6. 맨 끝 요소를 삭제하고 리턴\n",
    "sol.pop()\n",
    "print(sol)"
   ]
  },
  {
   "cell_type": "code",
   "execution_count": 33,
   "id": "6ce0a2a2",
   "metadata": {},
   "outputs": [
    {
     "name": "stdout",
     "output_type": "stream",
     "text": [
      "['태양', '명왕성', '수성', '지구', '해왕성', '목성', '지구']\n"
     ]
    }
   ],
   "source": [
    "# 7. '금성'을 제거\n",
    "sol.remove('금성')\n",
    "print(sol)"
   ]
  },
  {
   "cell_type": "code",
   "execution_count": 34,
   "id": "97b8c366",
   "metadata": {},
   "outputs": [
    {
     "name": "stdout",
     "output_type": "stream",
     "text": [
      "['태양', '해왕성', '목성', '지구']\n"
     ]
    }
   ],
   "source": [
    "# 8. 1번 인덱스에서 3번 인덱스까지 삭제\n",
    "del sol[1:4]\n",
    "print(sol)"
   ]
  },
  {
   "cell_type": "code",
   "execution_count": 35,
   "id": "b5f5d4bd",
   "metadata": {},
   "outputs": [
    {
     "name": "stdout",
     "output_type": "stream",
     "text": [
      "['태양', '해왕성', '지구']\n"
     ]
    }
   ],
   "source": [
    "# 9. 인덱스 2번 요소 삭제\n",
    "sol.pop(2)\n",
    "print(sol)"
   ]
  },
  {
   "cell_type": "code",
   "execution_count": 36,
   "id": "bbef2baa",
   "metadata": {},
   "outputs": [
    {
     "data": {
      "text/plain": [
       "['태양', '해왕성', '지구', '토성', '천황성', '해왕성']"
      ]
     },
     "execution_count": 36,
     "metadata": {},
     "output_type": "execute_result"
    }
   ],
   "source": [
    "# 10. sol과 sol1을 합치세요\n",
    "sol + sol1"
   ]
  },
  {
   "cell_type": "code",
   "execution_count": 37,
   "id": "abaa7ab9",
   "metadata": {},
   "outputs": [
    {
     "data": {
      "text/plain": [
       "['해왕성', '태양', '지구']"
      ]
     },
     "execution_count": 37,
     "metadata": {},
     "output_type": "execute_result"
    }
   ],
   "source": [
    "# 11. 내림차순 정렬\n",
    "sorted(sol, reverse = True)"
   ]
  },
  {
   "cell_type": "code",
   "execution_count": 38,
   "id": "11635d67",
   "metadata": {},
   "outputs": [
    {
     "data": {
      "text/plain": [
       "['지구', '태양', '해왕성']"
      ]
     },
     "execution_count": 38,
     "metadata": {},
     "output_type": "execute_result"
    }
   ],
   "source": [
    "# 12. 오름차순 정렬\n",
    "sorted(sol)"
   ]
  },
  {
   "cell_type": "code",
   "execution_count": 39,
   "id": "497454d8",
   "metadata": {},
   "outputs": [
    {
     "data": {
      "text/plain": [
       "False"
      ]
     },
     "execution_count": 39,
     "metadata": {},
     "output_type": "execute_result"
    }
   ],
   "source": [
    "# 13. '만리장성'이 있는지 확인\n",
    "'만리장성' in sol"
   ]
  },
  {
   "cell_type": "code",
   "execution_count": 40,
   "id": "01fea650",
   "metadata": {},
   "outputs": [
    {
     "data": {
      "text/plain": [
       "['태양', '해왕성', '지구', '태양', '해왕성', '지구', '태양', '해왕성', '지구']"
      ]
     },
     "execution_count": 40,
     "metadata": {},
     "output_type": "execute_result"
    }
   ],
   "source": [
    "# 14. so1을 3번 반복하세요\n",
    "sol * 3"
   ]
  },
  {
   "cell_type": "code",
   "execution_count": 41,
   "id": "0dfc5309",
   "metadata": {},
   "outputs": [
    {
     "data": {
      "text/plain": [
       "3"
      ]
     },
     "execution_count": 41,
     "metadata": {},
     "output_type": "execute_result"
    }
   ],
   "source": [
    "# 15. 길이를 출력하세요\n",
    "len(sol)"
   ]
  },
  {
   "cell_type": "code",
   "execution_count": 42,
   "id": "233b2078",
   "metadata": {},
   "outputs": [
    {
     "data": {
      "text/plain": [
       "1"
      ]
     },
     "execution_count": 42,
     "metadata": {},
     "output_type": "execute_result"
    }
   ],
   "source": [
    "# 16. '지구'가 몇 개 포함되어있는지 확인.\n",
    "sol.count('지구')"
   ]
  },
  {
   "cell_type": "code",
   "execution_count": 43,
   "id": "939c1fd0",
   "metadata": {},
   "outputs": [
    {
     "name": "stdout",
     "output_type": "stream",
     "text": [
      "[]\n"
     ]
    }
   ],
   "source": [
    "# 17. 모든 원소를 지우세요.\n",
    "sol.clear()\n",
    "print(sol)"
   ]
  },
  {
   "cell_type": "code",
   "execution_count": 45,
   "id": "4084fae7",
   "metadata": {
    "collapsed": true
   },
   "outputs": [
    {
     "ename": "NameError",
     "evalue": "name 'sol' is not defined",
     "output_type": "error",
     "traceback": [
      "\u001b[1;31m---------------------------------------------------------------------------\u001b[0m",
      "\u001b[1;31mNameError\u001b[0m                                 Traceback (most recent call last)",
      "\u001b[1;32m~\\AppData\\Local\\Temp/ipykernel_6424/4216051547.py\u001b[0m in \u001b[0;36m<module>\u001b[1;34m\u001b[0m\n\u001b[0;32m      1\u001b[0m \u001b[1;31m# 18. sol리스트를 삭제하세요..\u001b[0m\u001b[1;33m\u001b[0m\u001b[1;33m\u001b[0m\u001b[0m\n\u001b[1;32m----> 2\u001b[1;33m \u001b[1;32mdel\u001b[0m \u001b[0msol\u001b[0m\u001b[1;33m\u001b[0m\u001b[1;33m\u001b[0m\u001b[0m\n\u001b[0m",
      "\u001b[1;31mNameError\u001b[0m: name 'sol' is not defined"
     ]
    }
   ],
   "source": [
    "# 18. sol리스트를 삭제하세요..\n",
    "del sol"
   ]
  },
  {
   "cell_type": "code",
   "execution_count": null,
   "id": "5dc6f5c6",
   "metadata": {},
   "outputs": [],
   "source": []
  },
  {
   "cell_type": "code",
   "execution_count": null,
   "id": "b83c023a",
   "metadata": {},
   "outputs": [],
   "source": []
  },
  {
   "cell_type": "code",
   "execution_count": 46,
   "id": "fa821048",
   "metadata": {},
   "outputs": [
    {
     "data": {
      "text/plain": [
       "'tuple'"
      ]
     },
     "execution_count": 46,
     "metadata": {},
     "output_type": "execute_result"
    }
   ],
   "source": [
    "# Tuple\n",
    "myTuple = ('tuple', (1,2,3) , [4,5,6,7,8] ,'7', '8', '9')\n",
    "\n",
    "# 'tuple'을 출력하세요\n",
    "myTuple[0]"
   ]
  },
  {
   "cell_type": "code",
   "execution_count": 47,
   "id": "749c3dd2",
   "metadata": {},
   "outputs": [
    {
     "data": {
      "text/plain": [
       "3"
      ]
     },
     "execution_count": 47,
     "metadata": {},
     "output_type": "execute_result"
    }
   ],
   "source": [
    "# 3을 출력하세요\n",
    "myTuple[1][2]"
   ]
  },
  {
   "cell_type": "code",
   "execution_count": 48,
   "id": "c59c27e5",
   "metadata": {},
   "outputs": [
    {
     "data": {
      "text/plain": [
       "[4, 5]"
      ]
     },
     "execution_count": 48,
     "metadata": {},
     "output_type": "execute_result"
    }
   ],
   "source": [
    "# 4,5를 출력하세요\n",
    "myTuple[2][:2]"
   ]
  },
  {
   "cell_type": "code",
   "execution_count": 49,
   "id": "5d9f15f8",
   "metadata": {},
   "outputs": [
    {
     "data": {
      "text/plain": [
       "[4, 5, 6]"
      ]
     },
     "execution_count": 49,
     "metadata": {},
     "output_type": "execute_result"
    }
   ],
   "source": [
    "# [4,5,6]을 출력하세요\n",
    "myTuple[2][:3]"
   ]
  },
  {
   "cell_type": "code",
   "execution_count": 50,
   "id": "8c38d661",
   "metadata": {},
   "outputs": [
    {
     "data": {
      "text/plain": [
       "6"
      ]
     },
     "execution_count": 50,
     "metadata": {},
     "output_type": "execute_result"
    }
   ],
   "source": [
    "# tuple의 길이를 리턴하세요 ( 요소의 갯수가 몇 개인지 )\n",
    "len(myTuple)"
   ]
  },
  {
   "cell_type": "code",
   "execution_count": 51,
   "id": "8c501168",
   "metadata": {},
   "outputs": [
    {
     "data": {
      "text/plain": [
       "True"
      ]
     },
     "execution_count": 51,
     "metadata": {},
     "output_type": "execute_result"
    }
   ],
   "source": [
    "# '7'이 있는지 확인하세요\n",
    "'7' in myTuple"
   ]
  },
  {
   "cell_type": "code",
   "execution_count": 57,
   "id": "a4f711d0",
   "metadata": {},
   "outputs": [
    {
     "data": {
      "text/plain": [
       "3"
      ]
     },
     "execution_count": 57,
     "metadata": {},
     "output_type": "execute_result"
    }
   ],
   "source": [
    "# '7'의 인덱스를 출력하세요.\n",
    "myTuple.index('7')"
   ]
  },
  {
   "cell_type": "code",
   "execution_count": 55,
   "id": "54c08ae2",
   "metadata": {},
   "outputs": [
    {
     "data": {
      "text/plain": [
       "1"
      ]
     },
     "execution_count": 55,
     "metadata": {},
     "output_type": "execute_result"
    }
   ],
   "source": [
    "# '7'이 몇 개 있는지 확인하세요\n",
    "myTuple.count('7')"
   ]
  },
  {
   "cell_type": "code",
   "execution_count": 58,
   "id": "32a5a038",
   "metadata": {},
   "outputs": [
    {
     "data": {
      "text/plain": [
       "[4, 5, 6, 7, 8]"
      ]
     },
     "execution_count": 58,
     "metadata": {},
     "output_type": "execute_result"
    }
   ],
   "source": [
    "# 인데스 2번를 출력하세요\n",
    "myTuple[2]"
   ]
  },
  {
   "cell_type": "code",
   "execution_count": 59,
   "id": "a1ccbb98",
   "metadata": {},
   "outputs": [
    {
     "data": {
      "text/plain": [
       "8"
      ]
     },
     "execution_count": 59,
     "metadata": {},
     "output_type": "execute_result"
    }
   ],
   "source": [
    "# 인데스 2번에서 최대값을 출력하세요\n",
    "max(myTuple[2])"
   ]
  },
  {
   "cell_type": "code",
   "execution_count": 60,
   "id": "4ef293ec",
   "metadata": {},
   "outputs": [
    {
     "data": {
      "text/plain": [
       "4"
      ]
     },
     "execution_count": 60,
     "metadata": {},
     "output_type": "execute_result"
    }
   ],
   "source": [
    "# 인데스 2번에서 최소값을 출력하세요\n",
    "min(myTuple[2])"
   ]
  },
  {
   "cell_type": "code",
   "execution_count": 62,
   "id": "ac53c358",
   "metadata": {},
   "outputs": [
    {
     "name": "stdout",
     "output_type": "stream",
     "text": [
      "30\n"
     ]
    }
   ],
   "source": [
    "# 인데스 2번에서 총합을 출력하세요\n",
    "a = sum(myTuple[2])\n",
    "print(a)"
   ]
  },
  {
   "cell_type": "code",
   "execution_count": 64,
   "id": "4d57881f",
   "metadata": {},
   "outputs": [
    {
     "data": {
      "text/plain": [
       "6.0"
      ]
     },
     "execution_count": 64,
     "metadata": {},
     "output_type": "execute_result"
    }
   ],
   "source": [
    "# 인데스 2번에서 평균을 출력하세요\n",
    "len(myTuple[2])\n",
    "a / 5"
   ]
  },
  {
   "cell_type": "code",
   "execution_count": 65,
   "id": "d71b4122",
   "metadata": {},
   "outputs": [
    {
     "data": {
      "text/plain": [
       "[8, 7, 6, 5, 4]"
      ]
     },
     "execution_count": 65,
     "metadata": {},
     "output_type": "execute_result"
    }
   ],
   "source": [
    "# 인데스 2번를 내림차순 정렬해서 출력하세요.\n",
    "sorted(myTuple[2], reverse = True)"
   ]
  },
  {
   "cell_type": "code",
   "execution_count": null,
   "id": "55b75873",
   "metadata": {},
   "outputs": [],
   "source": []
  },
  {
   "cell_type": "code",
   "execution_count": null,
   "id": "4d7d6578",
   "metadata": {},
   "outputs": [],
   "source": []
  },
  {
   "cell_type": "code",
   "execution_count": 66,
   "id": "541225b3",
   "metadata": {},
   "outputs": [],
   "source": [
    "# Set\n",
    "\n",
    "# 원소가 없는 set인 s를 만드세요\n",
    "s = set()"
   ]
  },
  {
   "cell_type": "code",
   "execution_count": 68,
   "id": "25801f08",
   "metadata": {},
   "outputs": [
    {
     "name": "stdout",
     "output_type": "stream",
     "text": [
      "{'earth', 'sky'}\n"
     ]
    }
   ],
   "source": [
    "# s에 원소 'sky'와 'earth'를 추가하세요\n",
    "s.add('sky')\n",
    "s.add('earth')\n",
    "print(s)"
   ]
  },
  {
   "cell_type": "code",
   "execution_count": 69,
   "id": "b5367d30",
   "metadata": {},
   "outputs": [
    {
     "name": "stdout",
     "output_type": "stream",
     "text": [
      "{1, 2, 'earth', 'sky'}\n"
     ]
    }
   ],
   "source": [
    "# s에 1,2 두 원소를 추가하세요\n",
    "s.add(1)\n",
    "s.add(2)\n",
    "print(s)"
   ]
  },
  {
   "cell_type": "code",
   "execution_count": 72,
   "id": "1f0eb36c",
   "metadata": {},
   "outputs": [
    {
     "name": "stdout",
     "output_type": "stream",
     "text": [
      "{1, 2, 'earth'}\n"
     ]
    }
   ],
   "source": [
    "# s에서 'sky'를 삭제하세요\n",
    "print(s)"
   ]
  },
  {
   "cell_type": "code",
   "execution_count": null,
   "id": "7650c1b3",
   "metadata": {},
   "outputs": [],
   "source": [
    "A = {1,2,3,4,5,6}\n",
    "B = {1,2,3,7,8,9}\n",
    "C = {1,2,3}\n",
    "# 두 집합의 합집합을 출력"
   ]
  },
  {
   "cell_type": "code",
   "execution_count": null,
   "id": "b9599c0a",
   "metadata": {},
   "outputs": [],
   "source": [
    "# 두 집합의 교집합을 출력"
   ]
  },
  {
   "cell_type": "code",
   "execution_count": null,
   "id": "4cb1a735",
   "metadata": {},
   "outputs": [],
   "source": [
    "# A의 B에 대한 차집합"
   ]
  },
  {
   "cell_type": "code",
   "execution_count": null,
   "id": "ccb1a577",
   "metadata": {},
   "outputs": [],
   "source": [
    "# 대칭차집합"
   ]
  },
  {
   "cell_type": "code",
   "execution_count": null,
   "id": "3ad58fe5",
   "metadata": {},
   "outputs": [],
   "source": [
    "# C가 A의 부분집합인지 확인"
   ]
  },
  {
   "cell_type": "code",
   "execution_count": null,
   "id": "7dcd9b38",
   "metadata": {},
   "outputs": [],
   "source": [
    "# A가 C를 포함하는지 확인"
   ]
  },
  {
   "cell_type": "code",
   "execution_count": 73,
   "id": "77e780ba",
   "metadata": {},
   "outputs": [],
   "source": [
    "# 집합 B의 길이를 출력\n",
    "# 집합 B의 최대값 출력\n",
    "# 집합 B의 최소값 출력\n",
    "# 집합 B의 합을 출력\n",
    "# 집합 B의 평균출력\n",
    "# 집합 B의 내림차순 출력\n",
    "# 집합 B에 5가 포함되어 있는지 확인"
   ]
  },
  {
   "cell_type": "code",
   "execution_count": null,
   "id": "9cd0a2fe",
   "metadata": {},
   "outputs": [],
   "source": []
  },
  {
   "cell_type": "code",
   "execution_count": null,
   "id": "6ab11f41",
   "metadata": {},
   "outputs": [],
   "source": []
  },
  {
   "cell_type": "code",
   "execution_count": 116,
   "id": "7c59d99f",
   "metadata": {},
   "outputs": [],
   "source": [
    "# Dictionary\n",
    "\n",
    "# 'mydict'라는 딕셔너리를 만드세요.\n",
    "m = {}"
   ]
  },
  {
   "cell_type": "code",
   "execution_count": 117,
   "id": "3f563d84",
   "metadata": {},
   "outputs": [],
   "source": [
    "# 'red':4, 'blue':3, 'green':1 세 요소를 추가하세요.\n",
    "m = {\n",
    "    'red':4,\n",
    "    'blue':3,\n",
    "    'green':1\n",
    "}"
   ]
  },
  {
   "cell_type": "code",
   "execution_count": 118,
   "id": "dae0475f",
   "metadata": {},
   "outputs": [
    {
     "data": {
      "text/plain": [
       "True"
      ]
     },
     "execution_count": 118,
     "metadata": {},
     "output_type": "execute_result"
    }
   ],
   "source": [
    "# key에 'blue'가 있는지 확인하세요.\n",
    "'blue' in m"
   ]
  },
  {
   "cell_type": "code",
   "execution_count": 119,
   "id": "47a49bde",
   "metadata": {},
   "outputs": [
    {
     "data": {
      "text/plain": [
       "3"
      ]
     },
     "execution_count": 119,
     "metadata": {},
     "output_type": "execute_result"
    }
   ],
   "source": [
    "# mydict의 길이를 출력하세요.\n",
    "len(m)"
   ]
  },
  {
   "cell_type": "code",
   "execution_count": 120,
   "id": "27b824b7",
   "metadata": {},
   "outputs": [
    {
     "data": {
      "text/plain": [
       "4"
      ]
     },
     "execution_count": 120,
     "metadata": {},
     "output_type": "execute_result"
    }
   ],
   "source": [
    "# 'red'의 값을 출력하세요.\n",
    "m['red']"
   ]
  },
  {
   "cell_type": "code",
   "execution_count": 121,
   "id": "9a961084",
   "metadata": {},
   "outputs": [],
   "source": [
    "# 'red'의 값을 10으로 수정하세요.\n",
    "m['red'] = 10"
   ]
  },
  {
   "cell_type": "code",
   "execution_count": 122,
   "id": "eaabf141",
   "metadata": {},
   "outputs": [
    {
     "data": {
      "text/plain": [
       "dict_keys(['red', 'blue', 'green'])"
      ]
     },
     "execution_count": 122,
     "metadata": {},
     "output_type": "execute_result"
    }
   ],
   "source": [
    "# key값만 출력하세요\n",
    "m.keys()"
   ]
  },
  {
   "cell_type": "code",
   "execution_count": 123,
   "id": "cbc75750",
   "metadata": {},
   "outputs": [
    {
     "data": {
      "text/plain": [
       "dict_values([10, 3, 1])"
      ]
     },
     "execution_count": 123,
     "metadata": {},
     "output_type": "execute_result"
    }
   ],
   "source": [
    "# value값만 출력하세요\n",
    "m.values()"
   ]
  },
  {
   "cell_type": "code",
   "execution_count": 124,
   "id": "f04a18c1",
   "metadata": {},
   "outputs": [
    {
     "data": {
      "text/plain": [
       "dict_items([('red', 10), ('blue', 3), ('green', 1)])"
      ]
     },
     "execution_count": 124,
     "metadata": {},
     "output_type": "execute_result"
    }
   ],
   "source": [
    "# key와 value를 튜플로 출력하세요.\n",
    "m.items()"
   ]
  },
  {
   "cell_type": "code",
   "execution_count": 125,
   "id": "9df00d34",
   "metadata": {},
   "outputs": [],
   "source": [
    "# (key기준으로 정렬하세요.)\n"
   ]
  },
  {
   "cell_type": "code",
   "execution_count": 126,
   "id": "9414488e",
   "metadata": {},
   "outputs": [],
   "source": [
    "# (value기준으로 정렬하세요)"
   ]
  },
  {
   "cell_type": "code",
   "execution_count": 127,
   "id": "ceb2cba8",
   "metadata": {},
   "outputs": [
    {
     "data": {
      "text/plain": [
       "{'red': 10, 'blue': 3, 'green': 1}"
      ]
     },
     "execution_count": 127,
     "metadata": {},
     "output_type": "execute_result"
    }
   ],
   "source": [
    "# key 'blue'요소를 삭제하세요\n",
    "m"
   ]
  },
  {
   "cell_type": "code",
   "execution_count": 128,
   "id": "d3fcdb97",
   "metadata": {},
   "outputs": [
    {
     "data": {
      "text/plain": [
       "20"
      ]
     },
     "execution_count": 128,
     "metadata": {},
     "output_type": "execute_result"
    }
   ],
   "source": [
    "# key 'pink'요소 값을 출력하되 오류가 없도록 하세요\n",
    "m.get('pink', 20)"
   ]
  },
  {
   "cell_type": "code",
   "execution_count": 129,
   "id": "057311a8",
   "metadata": {},
   "outputs": [],
   "source": [
    "# key 'pink' 값을 출력하되 없으면, value 20으로 새로이 추가하세요\n",
    "m\n",
    "m['pink'] = 20"
   ]
  },
  {
   "cell_type": "code",
   "execution_count": 113,
   "id": "85ca721a",
   "metadata": {},
   "outputs": [
    {
     "data": {
      "text/plain": [
       "True"
      ]
     },
     "execution_count": 113,
     "metadata": {},
     "output_type": "execute_result"
    }
   ],
   "source": [
    "# value에 20이 있는지 확인하세요.\n",
    "20 in m.values()"
   ]
  },
  {
   "cell_type": "code",
   "execution_count": 130,
   "id": "dedbdea9",
   "metadata": {},
   "outputs": [],
   "source": [
    "# key는 'yellow'에 value는 30을 추가하세요.\n",
    "m['yellow'] = 30"
   ]
  },
  {
   "cell_type": "code",
   "execution_count": 132,
   "id": "f5311a12",
   "metadata": {},
   "outputs": [],
   "source": [
    "# yourdict = {'파랑':50, '빨강':70}을 합하세요..\n",
    "yourdict = {'파랑':50, '빨강':70}\n",
    "m.update(yourdict)\n"
   ]
  },
  {
   "cell_type": "code",
   "execution_count": 133,
   "id": "cacaa52c",
   "metadata": {},
   "outputs": [
    {
     "data": {
      "text/plain": [
       "{'red': 10,\n",
       " 'blue': 3,\n",
       " 'green': 1,\n",
       " 'pink': 20,\n",
       " 'yellow': 30,\n",
       " '파랑': 50,\n",
       " '빨강': 70}"
      ]
     },
     "execution_count": 133,
     "metadata": {},
     "output_type": "execute_result"
    }
   ],
   "source": [
    "m"
   ]
  },
  {
   "cell_type": "code",
   "execution_count": null,
   "id": "fd353d94",
   "metadata": {},
   "outputs": [],
   "source": []
  }
 ],
 "metadata": {
  "kernelspec": {
   "display_name": "Python 3 (ipykernel)",
   "language": "python",
   "name": "python3"
  },
  "language_info": {
   "codemirror_mode": {
    "name": "ipython",
    "version": 3
   },
   "file_extension": ".py",
   "mimetype": "text/x-python",
   "name": "python",
   "nbconvert_exporter": "python",
   "pygments_lexer": "ipython3",
   "version": "3.9.7"
  }
 },
 "nbformat": 4,
 "nbformat_minor": 5
}
