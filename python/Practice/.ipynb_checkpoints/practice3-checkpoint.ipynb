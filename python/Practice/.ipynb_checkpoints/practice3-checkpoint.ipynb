{
 "cells": [
  {
   "cell_type": "code",
   "execution_count": 8,
   "id": "68d9341f",
   "metadata": {},
   "outputs": [
    {
     "name": "stdout",
     "output_type": "stream",
     "text": [
      "정수를 입력하시오10\n",
      "30\n"
     ]
    }
   ],
   "source": [
    "# If\n",
    "\n",
    "## 임의 정수(n)를 입력받은 후 0부터 n까지의 정수 중 짝수들의 합을 구하시오.\n",
    "a = int(input('정수를 입력하시오'))\n",
    "count = 0\n",
    "for i in range(a + 1):\n",
    "    if i % 2 == 0:\n",
    "        count += i\n",
    "print(count)\n",
    "    "
   ]
  },
  {
   "cell_type": "code",
   "execution_count": 13,
   "id": "1c360ba6",
   "metadata": {},
   "outputs": [
    {
     "name": "stdout",
     "output_type": "stream",
     "text": [
      "이름을 입력하시오qqqq\n",
      "{'mary': 1520, 'tom': 5214, 'park': 5478, 'sams': 5478, 'qqqq': 2000}\n"
     ]
    }
   ],
   "source": [
    "# names = {'mary':1520, 'tom':5214, 'park':5478, 'sams':5478}\n",
    "# 이름을 입력받은 후 names dict에 이름이 있으면 값을 출력하고,\n",
    "# 없으면 새로운 값 2000과 함께 dict에 'key':'value'로 추가\n",
    "# setdefault를 사용하지 않음..\n",
    "\n",
    "names = {'mary':1520, 'tom':5214, 'park':5478, 'sams':5478}\n",
    "i = input('이름을 입력하시오')\n",
    "if i in names:\n",
    "    print(names[i])\n",
    "else:\n",
    "    names[i]=2000\n",
    "print(names)\n"
   ]
  },
  {
   "cell_type": "code",
   "execution_count": null,
   "id": "3bd5417a",
   "metadata": {},
   "outputs": [],
   "source": [
    "# 학점 출력.. 점수를 입력받은 후..\n",
    "# 90점 이상이면 \"당신은 'A'학점입니다\"를 출력\n",
    "# 80점 이상이면서 90점 미만이면 \"당신은 'B'학점입니다\"를 출력\n",
    "# 70점 이상이면서 80점 미만이면 \"당신은 'C'학점입니다\"를 출력\n",
    "# 70점 미만이면 \"당신은 D학점입니다\"를 출력"
   ]
  },
  {
   "cell_type": "code",
   "execution_count": 16,
   "id": "c12454e0",
   "metadata": {},
   "outputs": [
    {
     "name": "stdout",
     "output_type": "stream",
     "text": [
      "점수를 입력하시오85\n",
      "너는 B학점\n"
     ]
    }
   ],
   "source": [
    "score = int(input('점수를 입력하시오'))\n",
    "\n",
    "if score >= 90:\n",
    "    print('너는 A학점')\n",
    "elif 80<= score < 90:\n",
    "    print('너는 B학점')\n",
    "elif 70 <= score < 80:\n",
    "    print('너는 C학점')\n",
    "else:\n",
    "    print('너는 D학점')"
   ]
  },
  {
   "cell_type": "code",
   "execution_count": null,
   "id": "d0e2decc",
   "metadata": {},
   "outputs": [],
   "source": []
  },
  {
   "cell_type": "code",
   "execution_count": 24,
   "id": "9d42c3b5",
   "metadata": {},
   "outputs": [
    {
     "name": "stdout",
     "output_type": "stream",
     "text": [
      "O\n",
      "I\n",
      "U\n"
     ]
    }
   ],
   "source": [
    "# For\n",
    "\n",
    "# text = 'python is fun' # text의 character를 모음만 대문자로 전환해서 출력하세요. \n",
    "# 참고) 영어모음 = ‘aeiou’\n",
    "text = 'python is fun'\n",
    "for i in text:\n",
    "    if i in 'aeiou':\n",
    "        print(i.upper())\n",
    "        \n"
   ]
  },
  {
   "cell_type": "code",
   "execution_count": 25,
   "id": "24ed2357",
   "metadata": {},
   "outputs": [
    {
     "name": "stdout",
     "output_type": "stream",
     "text": [
      "0 p\n",
      "1 y\n",
      "2 t\n",
      "3 h\n",
      "4 o\n",
      "5 n\n",
      "6  \n",
      "7 i\n",
      "8 s\n",
      "9  \n",
      "10 f\n",
      "11 u\n",
      "12 n\n"
     ]
    }
   ],
   "source": [
    "# 위의 text의 문자를 index와 함께 출력하시오.\n",
    "for i,j in enumerate(text):\n",
    "    print(i,j)"
   ]
  },
  {
   "cell_type": "code",
   "execution_count": 51,
   "id": "df954b34",
   "metadata": {},
   "outputs": [
    {
     "name": "stdout",
     "output_type": "stream",
     "text": [
      "[2, 4, 6, 8, 10, 12, 14, 16, 18, 20]\n"
     ]
    }
   ],
   "source": [
    "# 1~20까지 수에서 짝수만 리스트에 담으세요.\n",
    "# => for문과 while문, list comprehension을 각각 활용\n",
    "\n",
    "# li = []\n",
    "# for i in range(1, 21):\n",
    "#     if i % 2 == 0:\n",
    "#         li.append(i)\n",
    "# print(li)\n",
    "\n",
    "li = []\n",
    "i = 1\n",
    "while i <= 20:\n",
    "    i += 1\n",
    "    if i % 2 == 0:\n",
    "        li.append(i)\n",
    "print(li)\n",
    "        \n",
    "\n",
    "# [i for i in range(1, 21) if i % 2 == 0]\n",
    "        \n",
    " "
   ]
  },
  {
   "cell_type": "code",
   "execution_count": 48,
   "id": "12676ae0",
   "metadata": {},
   "outputs": [
    {
     "name": "stdout",
     "output_type": "stream",
     "text": [
      "3\n",
      "4\n",
      "5\n",
      "6\n"
     ]
    }
   ],
   "source": [
    "# 1~10까지 정수를 출력하는 while문에서 continue와 break를 이용해서 \n",
    "# 3,4,5,6만 출력하도록 하시오.\n",
    "i = 1\n",
    "while i <=10:\n",
    "    i += 1\n",
    "    if i < 3:\n",
    "        continue\n",
    "    if i >= 7:\n",
    "        break\n",
    "    print(i)\n",
    "\n"
   ]
  },
  {
   "cell_type": "code",
   "execution_count": 57,
   "id": "c5bc6ce7",
   "metadata": {},
   "outputs": [
    {
     "name": "stdout",
     "output_type": "stream",
     "text": [
      "[('a', '가'), ('a', '나'), ('a', '다'), ('a', '라'), ('a', '마'), ('b', '가'), ('b', '나'), ('b', '다'), ('b', '라'), ('b', '마'), ('c', '가'), ('c', '나'), ('c', '다'), ('c', '라'), ('c', '마'), ('d', '가'), ('d', '나'), ('d', '다'), ('d', '라'), ('d', '마'), ('e', '가'), ('e', '나'), ('e', '다'), ('e', '라'), ('e', '마')]\n"
     ]
    }
   ],
   "source": [
    "# x = ['a','b','c','d','e'], y = ['가','나','다','라','마'] 두 리스트의 원소들의 \n",
    "# 모든 조합을 아래와 같이 출력하시오. =>\n",
    "# [('a','가'), ('a','나'), ('a', '다') ... ('e','라'), ('e', '마')]\n",
    "x = ['a','b','c','d','e']\n",
    "y = ['가','나','다','라','마']\n",
    "li = []\n",
    "for i in x:\n",
    "    for j in range(len(y)):\n",
    "        a = (i, y[j])\n",
    "        li.append(a)\n",
    "print(li)\n",
    "        \n",
    "        "
   ]
  },
  {
   "cell_type": "code",
   "execution_count": 63,
   "id": "b074cf6a",
   "metadata": {},
   "outputs": [
    {
     "name": "stdout",
     "output_type": "stream",
     "text": [
      "['o', 'p', 't', 't', 'o', 'a', ' ', 'h', 'n', 'i', 'g']\n"
     ]
    }
   ],
   "source": [
    "# computational thinking에서 홀수인덱스만 리스트에 담으세요..\n",
    "text = 'computational thinking'\n",
    "li = []\n",
    "for i in range(len(text)):\n",
    "    if i % 2 == 1:\n",
    "        li.append(text[i])\n",
    "print(li)\n",
    "    \n",
    "    \n",
    "        "
   ]
  },
  {
   "cell_type": "code",
   "execution_count": 65,
   "id": "9b588a04",
   "metadata": {},
   "outputs": [
    {
     "name": "stdout",
     "output_type": "stream",
     "text": [
      "점수를 입력하시오10\n",
      "점수를 입력하시오20\n",
      "점수를 입력하시오30\n",
      "점수를 입력하시오40\n",
      "점수를 입력하시오50\n",
      "30.0\n"
     ]
    }
   ],
   "source": [
    "# 점수를 5회 입력받은 후 평균을 출력하세요.\n",
    "\n",
    "count = 0\n",
    "suma = 0\n",
    "while count < 5:\n",
    "    count += 1\n",
    "    score = int(input('점수를 입력하시오'))\n",
    "    suma += score\n",
    "print(suma / 5)\n",
    "    \n",
    "    "
   ]
  },
  {
   "cell_type": "code",
   "execution_count": 69,
   "id": "3a8b8d29",
   "metadata": {},
   "outputs": [
    {
     "name": "stdout",
     "output_type": "stream",
     "text": [
      "(0, 'h') (1, 'e') (2, 'l') (3, 'l') (4, 'o') (5, ' ') (6, 'w') (7, 'o') (8, 'r') (9, 'l') (10, 'd') "
     ]
    }
   ],
   "source": [
    "# text = 'hello world'에서 각 문자를 인덱스와 함께 튜플로 묶어서 출력\n",
    "# (0, 'h'), (1, 'e') ...\n",
    "text = 'hello world'\n",
    "for i, j in enumerate(text):\n",
    "    print((i,str(j)), end = ' ')"
   ]
  },
  {
   "cell_type": "code",
   "execution_count": 30,
   "id": "cbece24b",
   "metadata": {},
   "outputs": [],
   "source": [
    "# 구구단을 출력하시오..."
   ]
  },
  {
   "cell_type": "code",
   "execution_count": 70,
   "id": "0f7aca4a",
   "metadata": {},
   "outputs": [
    {
     "ename": "NameError",
     "evalue": "name 'ddddd' is not defined",
     "output_type": "error",
     "traceback": [
      "\u001b[1;31m---------------------------------------------------------------------------\u001b[0m",
      "\u001b[1;31mNameError\u001b[0m                                 Traceback (most recent call last)",
      "\u001b[1;32m~\\AppData\\Local\\Temp/ipykernel_7072/2487491902.py\u001b[0m in \u001b[0;36m<module>\u001b[1;34m\u001b[0m\n\u001b[1;32m----> 1\u001b[1;33m \u001b[0mddddd\u001b[0m\u001b[1;33m\u001b[0m\u001b[1;33m\u001b[0m\u001b[0m\n\u001b[0m",
      "\u001b[1;31mNameError\u001b[0m: name 'ddddd' is not defined"
     ]
    }
   ],
   "source": [
    "ddddd"
   ]
  },
  {
   "cell_type": "code",
   "execution_count": null,
   "id": "d5ade10b",
   "metadata": {},
   "outputs": [],
   "source": [
    "sdfsdfsfd"
   ]
  }
 ],
 "metadata": {
  "kernelspec": {
   "display_name": "Python 3 (ipykernel)",
   "language": "python",
   "name": "python3"
  },
  "language_info": {
   "codemirror_mode": {
    "name": "ipython",
    "version": 3
   },
   "file_extension": ".py",
   "mimetype": "text/x-python",
   "name": "python",
   "nbconvert_exporter": "python",
   "pygments_lexer": "ipython3",
   "version": "3.9.7"
  }
 },
 "nbformat": 4,
 "nbformat_minor": 5
}
