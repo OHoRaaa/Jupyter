{
 "cells": [
  {
   "cell_type": "code",
   "execution_count": 1,
   "id": "945c8ebd",
   "metadata": {},
   "outputs": [],
   "source": [
    "# quiz 1"
   ]
  },
  {
   "cell_type": "code",
   "execution_count": 2,
   "id": "b8f4bd7e",
   "metadata": {},
   "outputs": [],
   "source": [
    "# 7자리 이상의 임의의 정수를 입력받은 후, 1000단위 구별자를 추가하여 리턴하는 코드를\n",
    "# 작성하시오 ex)123456789 => 123,456,789"
   ]
  },
  {
   "cell_type": "code",
   "execution_count": 6,
   "id": "2647b586",
   "metadata": {},
   "outputs": [
    {
     "name": "stdout",
     "output_type": "stream",
     "text": [
      "7자리 이상의 정수를 입력하시오123456789\n",
      "9,876,543,21\n"
     ]
    }
   ],
   "source": [
    "num = input('7자리 이상의 정수를 입력하시오')\n",
    "num = num[::-1]\n",
    "ret = ''\n",
    "\n",
    "for i, c in enumerate(num):\n",
    "    if i % 3 == 0:\n",
    "        ret += c + ','\n",
    "    else:\n",
    "        ret += c\n",
    "print(ret)"
   ]
  },
  {
   "cell_type": "code",
   "execution_count": null,
   "id": "405d33c5",
   "metadata": {},
   "outputs": [],
   "source": []
  },
  {
   "cell_type": "code",
   "execution_count": null,
   "id": "36dc6588",
   "metadata": {},
   "outputs": [],
   "source": [
    "# text file 을 열어서 어떤 문자가 몇 번 등장했는지를 출력\n",
    "# 등장 빈도순으로 출력\n",
    "# '가' -> 256회\n",
    "# '1' -> 230회\n",
    "# '마' -> 150회\n",
    "\n",
    "file = open('Txt_example.txt', 'r')\n"
   ]
  }
 ],
 "metadata": {
  "kernelspec": {
   "display_name": "Python 3.10.1 64-bit",
   "language": "python",
   "name": "python3101jvsc74a57bd08931d08a56ba8ec5bd4013e6d6c9066a90d099ecd0b9731835efa4c48cf46a24"
  },
  "language_info": {
   "codemirror_mode": {
    "name": "ipython",
    "version": 3
   },
   "file_extension": ".py",
   "mimetype": "text/x-python",
   "name": "python",
   "nbconvert_exporter": "python",
   "pygments_lexer": "ipython3",
   "version": "3.10.1"
  }
 },
 "nbformat": 4,
 "nbformat_minor": 5
}
