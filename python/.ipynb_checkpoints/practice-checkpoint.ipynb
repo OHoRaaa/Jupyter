{
 "cells": [
  {
   "cell_type": "code",
   "execution_count": 68,
   "id": "2094cc0f",
   "metadata": {},
   "outputs": [
    {
     "data": {
      "text/plain": [
       "'tuple'"
      ]
     },
     "execution_count": 68,
     "metadata": {},
     "output_type": "execute_result"
    }
   ],
   "source": [
    "# Tuple\n",
    "myTuple = ('tuple', (1,2,3) , [4,5,6,7,8] ,'7', '8', '9')\n",
    "\n",
    "# 'tuple'을 출력하세요\n",
    "myTuple[0]"
   ]
  },
  {
   "cell_type": "code",
   "execution_count": 69,
   "id": "dd01b7de",
   "metadata": {},
   "outputs": [
    {
     "data": {
      "text/plain": [
       "3"
      ]
     },
     "execution_count": 69,
     "metadata": {},
     "output_type": "execute_result"
    }
   ],
   "source": [
    "# 3을 출력하세요\n",
    "myTuple[1][2]"
   ]
  },
  {
   "cell_type": "code",
   "execution_count": 70,
   "id": "65d7b2a9",
   "metadata": {},
   "outputs": [
    {
     "data": {
      "text/plain": [
       "[4, 5]"
      ]
     },
     "execution_count": 70,
     "metadata": {},
     "output_type": "execute_result"
    }
   ],
   "source": [
    "# 4,5를 출력하세요\n",
    "myTuple[2][:2]"
   ]
  },
  {
   "cell_type": "code",
   "execution_count": null,
   "id": "ef677dfb",
   "metadata": {},
   "outputs": [],
   "source": [
    "# [4,5,6]을 출력하세요\n",
    "myTuple[2][:3]"
   ]
  },
  {
   "cell_type": "code",
   "execution_count": null,
   "id": "2ff50d6a",
   "metadata": {},
   "outputs": [],
   "source": [
    "# tuple의 길이를 리턴하세요 ( 요소의 갯수가 몇 개인지 )\n",
    "len(myTuple[0])"
   ]
  },
  {
   "cell_type": "code",
   "execution_count": 73,
   "id": "e55fbccd",
   "metadata": {},
   "outputs": [
    {
     "data": {
      "text/plain": [
       "True"
      ]
     },
     "execution_count": 73,
     "metadata": {},
     "output_type": "execute_result"
    }
   ],
   "source": [
    "# '7'이 있는지 확인하세요\n",
    "'7' in myTuple"
   ]
  },
  {
   "cell_type": "code",
   "execution_count": 74,
   "id": "14ff0d21",
   "metadata": {},
   "outputs": [
    {
     "data": {
      "text/plain": [
       "3"
      ]
     },
     "execution_count": 74,
     "metadata": {},
     "output_type": "execute_result"
    }
   ],
   "source": [
    "# '7'의 인덱스를 출력하세요.\n",
    "myTuple.index('7')"
   ]
  },
  {
   "cell_type": "code",
   "execution_count": 75,
   "id": "e95eb985",
   "metadata": {},
   "outputs": [
    {
     "data": {
      "text/plain": [
       "1"
      ]
     },
     "execution_count": 75,
     "metadata": {},
     "output_type": "execute_result"
    }
   ],
   "source": [
    "# '7'이 몇 개 있는지 확인하세요\n",
    "myTuple.count('7')"
   ]
  },
  {
   "cell_type": "code",
   "execution_count": 76,
   "id": "405347ca",
   "metadata": {},
   "outputs": [
    {
     "data": {
      "text/plain": [
       "[4, 5, 6, 7, 8]"
      ]
     },
     "execution_count": 76,
     "metadata": {},
     "output_type": "execute_result"
    }
   ],
   "source": [
    "# 인데스 2번를 출력하세요\n",
    "myTuple[2]"
   ]
  },
  {
   "cell_type": "code",
   "execution_count": 77,
   "id": "8c88de97",
   "metadata": {},
   "outputs": [
    {
     "data": {
      "text/plain": [
       "8"
      ]
     },
     "execution_count": 77,
     "metadata": {},
     "output_type": "execute_result"
    }
   ],
   "source": [
    "# 인데스 2번에서 최대값을 출력하세요\n",
    "max(myTuple[2])"
   ]
  },
  {
   "cell_type": "code",
   "execution_count": null,
   "id": "38ae4915",
   "metadata": {},
   "outputs": [],
   "source": []
  },
  {
   "cell_type": "code",
   "execution_count": 78,
   "id": "be4d245f",
   "metadata": {},
   "outputs": [
    {
     "data": {
      "text/plain": [
       "4"
      ]
     },
     "execution_count": 78,
     "metadata": {},
     "output_type": "execute_result"
    }
   ],
   "source": [
    "# 인데스 2번에서 최소값을 출력하세요\n",
    "min(myTuple[2])"
   ]
  },
  {
   "cell_type": "code",
   "execution_count": 80,
   "id": "4be7f768",
   "metadata": {},
   "outputs": [
    {
     "name": "stdout",
     "output_type": "stream",
     "text": [
      "30\n"
     ]
    }
   ],
   "source": [
    "# 인데스 2번에서 총합을 출력하세요\n",
    "a = sum(myTuple[2])\n",
    "print(a)"
   ]
  },
  {
   "cell_type": "code",
   "execution_count": 81,
   "id": "0e4d2e09",
   "metadata": {},
   "outputs": [
    {
     "name": "stdout",
     "output_type": "stream",
     "text": [
      "6.0\n"
     ]
    }
   ],
   "source": [
    "# 인데스 2번에서 평균을 출력하세요\n",
    "print(a / len(myTuple[2]))"
   ]
  },
  {
   "cell_type": "code",
   "execution_count": 82,
   "id": "62bd2cec",
   "metadata": {},
   "outputs": [
    {
     "data": {
      "text/plain": [
       "[8, 7, 6, 5, 4]"
      ]
     },
     "execution_count": 82,
     "metadata": {},
     "output_type": "execute_result"
    }
   ],
   "source": [
    "# 인데스 2번를 내림차순 정렬해서 출력하세요.\n",
    "sorted(myTuple[2], reverse = True)"
   ]
  },
  {
   "cell_type": "code",
   "execution_count": null,
   "id": "c1a6960c",
   "metadata": {},
   "outputs": [],
   "source": []
  },
  {
   "cell_type": "code",
   "execution_count": 86,
   "id": "ee910023",
   "metadata": {},
   "outputs": [],
   "source": [
    "# Set\n",
    "\n",
    "# 원소가 없는 set인 s를 만드세요\n",
    "s = set()"
   ]
  },
  {
   "cell_type": "code",
   "execution_count": 89,
   "id": "f9b901b2",
   "metadata": {},
   "outputs": [
    {
     "name": "stdout",
     "output_type": "stream",
     "text": [
      "{'sky', 'earth'}\n"
     ]
    }
   ],
   "source": [
    "# s에 원소 'sky'와 'earth'를 추가하세요\n",
    "s.add('sky')\n",
    "s.add('earth')\n",
    "print(s)"
   ]
  },
  {
   "cell_type": "code",
   "execution_count": 90,
   "id": "a7b8f563",
   "metadata": {},
   "outputs": [
    {
     "name": "stdout",
     "output_type": "stream",
     "text": [
      "{'sky', 1, 2, 'earth'}\n"
     ]
    }
   ],
   "source": [
    "# s에 1,2 두 원소를 추가하세요\n",
    "s.add(1)\n",
    "s.add(2)\n",
    "print(s)"
   ]
  },
  {
   "cell_type": "code",
   "execution_count": 92,
   "id": "4fc08990",
   "metadata": {},
   "outputs": [
    {
     "name": "stdout",
     "output_type": "stream",
     "text": [
      "{1, 2, 'earth'}\n"
     ]
    }
   ],
   "source": [
    "# s에서 'sky'를 삭제하세요\n",
    "s.remove('sky')\n",
    "print(s)"
   ]
  },
  {
   "cell_type": "code",
   "execution_count": 93,
   "id": "0be2cdf9",
   "metadata": {},
   "outputs": [
    {
     "data": {
      "text/plain": [
       "{1, 2, 3, 4, 5, 6, 7, 8, 9}"
      ]
     },
     "execution_count": 93,
     "metadata": {},
     "output_type": "execute_result"
    }
   ],
   "source": [
    "A = {1,2,3,4,5,6}\n",
    "B = {1,2,3,7,8,9}\n",
    "C = {1,2,3}\n",
    "# 두 집합의 합집합을 출력\n",
    "A.union(B)"
   ]
  },
  {
   "cell_type": "code",
   "execution_count": 94,
   "id": "a98722d6",
   "metadata": {},
   "outputs": [
    {
     "data": {
      "text/plain": [
       "{1, 2, 3}"
      ]
     },
     "execution_count": 94,
     "metadata": {},
     "output_type": "execute_result"
    }
   ],
   "source": [
    "# 두 집합의 교집합을 출력\n",
    "A.intersection(B)"
   ]
  },
  {
   "cell_type": "code",
   "execution_count": 95,
   "id": "af0d7ce5",
   "metadata": {},
   "outputs": [
    {
     "data": {
      "text/plain": [
       "{4, 5, 6}"
      ]
     },
     "execution_count": 95,
     "metadata": {},
     "output_type": "execute_result"
    }
   ],
   "source": [
    "# A의 B에 대한 차집합\n",
    "A.difference(B)"
   ]
  },
  {
   "cell_type": "code",
   "execution_count": null,
   "id": "03111596",
   "metadata": {},
   "outputs": [],
   "source": [
    "# 대칭차집합"
   ]
  },
  {
   "cell_type": "code",
   "execution_count": 96,
   "id": "39933b38",
   "metadata": {},
   "outputs": [
    {
     "data": {
      "text/plain": [
       "6"
      ]
     },
     "execution_count": 96,
     "metadata": {},
     "output_type": "execute_result"
    }
   ],
   "source": [
    "# C가 A의 부분집합인지 확인\n",
    "# A가 C를 포함하는지 확인\n",
    "\n",
    "# 집합 B의 길이를 출력\n",
    "len(B)"
   ]
  },
  {
   "cell_type": "code",
   "execution_count": 97,
   "id": "6ab746f7",
   "metadata": {},
   "outputs": [
    {
     "data": {
      "text/plain": [
       "[9, 8, 7, 3, 2, 1]"
      ]
     },
     "execution_count": 97,
     "metadata": {},
     "output_type": "execute_result"
    }
   ],
   "source": [
    "# 집합 B의 최대값 출력\n",
    "# 집합 B의 최소값 출력\n",
    "# 집합 B의 합을 출력\n",
    "# 집합 B의 평균출력\n",
    "# 집합 B의 내림차순 출력\n",
    "sorted(B, reverse = True)"
   ]
  },
  {
   "cell_type": "code",
   "execution_count": 98,
   "id": "bef2a006",
   "metadata": {},
   "outputs": [
    {
     "data": {
      "text/plain": [
       "False"
      ]
     },
     "execution_count": 98,
     "metadata": {},
     "output_type": "execute_result"
    }
   ],
   "source": [
    "# 집합 B에 5가 포함되어 있는지 확인\n",
    "5 in B"
   ]
  },
  {
   "cell_type": "code",
   "execution_count": null,
   "id": "28e525cf",
   "metadata": {},
   "outputs": [],
   "source": []
  },
  {
   "cell_type": "code",
   "execution_count": null,
   "id": "ec6381e8",
   "metadata": {},
   "outputs": [],
   "source": []
  },
  {
   "cell_type": "code",
   "execution_count": 99,
   "id": "a5afe2d3",
   "metadata": {},
   "outputs": [],
   "source": [
    "# Dictionary\n",
    "\n",
    "# 'mydict'라는 딕셔너리를 만드세요.\n",
    "mydict = {}"
   ]
  },
  {
   "cell_type": "code",
   "execution_count": 105,
   "id": "cf71bf18",
   "metadata": {},
   "outputs": [
    {
     "name": "stdout",
     "output_type": "stream",
     "text": [
      "{'red': 4, 'blue': 3, 'green': 1}\n"
     ]
    }
   ],
   "source": [
    "# 'red':4, 'blue':3, 'green':1 세 요소를 추가하세요.\n",
    "mydict = {\n",
    "    'red':4,\n",
    "    'blue':3,\n",
    "    'green':1\n",
    "}\n",
    "print(mydict)"
   ]
  },
  {
   "cell_type": "code",
   "execution_count": 106,
   "id": "cf9166ce",
   "metadata": {},
   "outputs": [
    {
     "data": {
      "text/plain": [
       "True"
      ]
     },
     "execution_count": 106,
     "metadata": {},
     "output_type": "execute_result"
    }
   ],
   "source": [
    "# key에 'blue'가 있는지 확인하세요.\n",
    "'blue' in mydict.keys()"
   ]
  },
  {
   "cell_type": "code",
   "execution_count": 107,
   "id": "e4348a28",
   "metadata": {},
   "outputs": [
    {
     "data": {
      "text/plain": [
       "3"
      ]
     },
     "execution_count": 107,
     "metadata": {},
     "output_type": "execute_result"
    }
   ],
   "source": [
    "# mydict의 길이를 출력하세요.\n",
    "len(mydict)"
   ]
  },
  {
   "cell_type": "code",
   "execution_count": 108,
   "id": "92952998",
   "metadata": {},
   "outputs": [
    {
     "data": {
      "text/plain": [
       "4"
      ]
     },
     "execution_count": 108,
     "metadata": {},
     "output_type": "execute_result"
    }
   ],
   "source": [
    "# 'red'의 값을 출력하세요.\n",
    "mydict['red']"
   ]
  },
  {
   "cell_type": "code",
   "execution_count": 124,
   "id": "a3e70fa1",
   "metadata": {},
   "outputs": [
    {
     "name": "stdout",
     "output_type": "stream",
     "text": [
      "{'red': 10, 'green': 1}\n"
     ]
    }
   ],
   "source": [
    "# 'red'의 값을 10으로 수정하세요.\n",
    "mydict['red'] = 10\n",
    "print(mydict)"
   ]
  },
  {
   "cell_type": "code",
   "execution_count": 125,
   "id": "d2be2bf9",
   "metadata": {},
   "outputs": [
    {
     "data": {
      "text/plain": [
       "dict_keys(['red', 'green'])"
      ]
     },
     "execution_count": 125,
     "metadata": {},
     "output_type": "execute_result"
    }
   ],
   "source": [
    "# key값만 출력하세요\n",
    "mydict.keys()"
   ]
  },
  {
   "cell_type": "code",
   "execution_count": 126,
   "id": "8acc3d4b",
   "metadata": {},
   "outputs": [
    {
     "data": {
      "text/plain": [
       "dict_values([10, 1])"
      ]
     },
     "execution_count": 126,
     "metadata": {},
     "output_type": "execute_result"
    }
   ],
   "source": [
    "# value값만 출력하세요\n",
    "mydict.values()"
   ]
  },
  {
   "cell_type": "code",
   "execution_count": 127,
   "id": "97a2e550",
   "metadata": {},
   "outputs": [
    {
     "data": {
      "text/plain": [
       "dict_items([('red', 10), ('green', 1)])"
      ]
     },
     "execution_count": 127,
     "metadata": {},
     "output_type": "execute_result"
    }
   ],
   "source": [
    "# key와 value를 튜플로 출력하세요.\n",
    "mydict.items()"
   ]
  },
  {
   "cell_type": "code",
   "execution_count": 128,
   "id": "dc064092",
   "metadata": {},
   "outputs": [],
   "source": [
    "# (key기준으로 정렬하세요.)\n"
   ]
  },
  {
   "cell_type": "code",
   "execution_count": 129,
   "id": "9d434407",
   "metadata": {},
   "outputs": [],
   "source": [
    "# (value기준으로 정렬하세요)"
   ]
  },
  {
   "cell_type": "code",
   "execution_count": 131,
   "id": "f952efae",
   "metadata": {},
   "outputs": [
    {
     "ename": "KeyError",
     "evalue": "'blue'",
     "output_type": "error",
     "traceback": [
      "\u001b[1;31m---------------------------------------------------------------------------\u001b[0m",
      "\u001b[1;31mKeyError\u001b[0m                                  Traceback (most recent call last)",
      "\u001b[1;32m~\\AppData\\Local\\Temp/ipykernel_3132/871173661.py\u001b[0m in \u001b[0;36m<module>\u001b[1;34m\u001b[0m\n\u001b[0;32m      1\u001b[0m \u001b[1;31m# key 'blue'요소를 삭제하세요\u001b[0m\u001b[1;33m\u001b[0m\u001b[1;33m\u001b[0m\u001b[0m\n\u001b[1;32m----> 2\u001b[1;33m \u001b[1;32mdel\u001b[0m \u001b[0mmydict\u001b[0m\u001b[1;33m[\u001b[0m\u001b[1;34m'blue'\u001b[0m\u001b[1;33m]\u001b[0m\u001b[1;33m\u001b[0m\u001b[1;33m\u001b[0m\u001b[0m\n\u001b[0m\u001b[0;32m      3\u001b[0m \u001b[0mprint\u001b[0m\u001b[1;33m(\u001b[0m\u001b[0mmydict\u001b[0m\u001b[1;33m)\u001b[0m\u001b[1;33m\u001b[0m\u001b[1;33m\u001b[0m\u001b[0m\n",
      "\u001b[1;31mKeyError\u001b[0m: 'blue'"
     ]
    }
   ],
   "source": [
    "# key 'blue'요소를 삭제하세요\n",
    "\n"
   ]
  },
  {
   "cell_type": "code",
   "execution_count": 132,
   "id": "83fd89bc",
   "metadata": {},
   "outputs": [],
   "source": [
    "# key 'pink'요소 값을 출력하되 오류가 없도록 하세요\n",
    "mydict.get('pink')"
   ]
  },
  {
   "cell_type": "code",
   "execution_count": 135,
   "id": "39cbeb2c",
   "metadata": {},
   "outputs": [
    {
     "name": "stdout",
     "output_type": "stream",
     "text": [
      "{'red': 10, 'green': 1, 'pink': 20}\n"
     ]
    }
   ],
   "source": [
    "# key 'pink' 값을 출력하되 없으면, value 20으로 새로이 추가하세요\n",
    "mydict.get('pink')\n",
    "mydict['pink'] = 20\n",
    "print(mydict)"
   ]
  },
  {
   "cell_type": "code",
   "execution_count": 136,
   "id": "67f40e8f",
   "metadata": {},
   "outputs": [
    {
     "data": {
      "text/plain": [
       "True"
      ]
     },
     "execution_count": 136,
     "metadata": {},
     "output_type": "execute_result"
    }
   ],
   "source": [
    "# value에 20이 있는지 확인하세요.\n",
    "20 in mydict.values()"
   ]
  },
  {
   "cell_type": "code",
   "execution_count": 138,
   "id": "a4def46b",
   "metadata": {},
   "outputs": [
    {
     "name": "stdout",
     "output_type": "stream",
     "text": [
      "{'red': 10, 'green': 1, 'pink': 20, 'yellow': 30}\n"
     ]
    }
   ],
   "source": [
    "# key는 'yellow'에 value는 30을 추가하세요.\n",
    "mydict['yellow'] = 30\n",
    "print(mydict)"
   ]
  },
  {
   "cell_type": "code",
   "execution_count": 143,
   "id": "544866dc",
   "metadata": {},
   "outputs": [
    {
     "name": "stdout",
     "output_type": "stream",
     "text": [
      "{'red': 10, 'green': 1, 'pink': 20, 'yellow': 30, '파랑': 50, '빨강': 70}\n"
     ]
    }
   ],
   "source": [
    "# yourdict = {'파랑':50, '빨강':70}을 합하세요..\n",
    "yourdict = {'파랑':50, '빨강':70}\n",
    "mydict.update(yourdict)\n",
    "print(mydict)"
   ]
  },
  {
   "cell_type": "code",
   "execution_count": null,
   "id": "de975e34",
   "metadata": {},
   "outputs": [],
   "source": []
  },
  {
   "cell_type": "code",
   "execution_count": null,
   "id": "c2e32772",
   "metadata": {},
   "outputs": [],
   "source": []
  },
  {
   "cell_type": "code",
   "execution_count": 146,
   "id": "82dc6cc5",
   "metadata": {
    "scrolled": true
   },
   "outputs": [
    {
     "name": "stdout",
     "output_type": "stream",
     "text": [
      "정수를 입력하시오9\n",
      "20\n"
     ]
    }
   ],
   "source": [
    "## 임의 정수(n)를 입력받은 후 0부터 n까지의 정수 중 짝수들의 합을 구하시오.\n",
    "a = int(input('정수를 입력하시오'))\n",
    "suma = 0\n",
    "for i in range(a):\n",
    "    if i % 2 == 0:\n",
    "        suma += i\n",
    "print(suma)\n",
    "    "
   ]
  },
  {
   "cell_type": "code",
   "execution_count": 152,
   "id": "faa803cb",
   "metadata": {},
   "outputs": [
    {
     "name": "stdout",
     "output_type": "stream",
     "text": [
      "이름을 입력하시오asd\n",
      "{'mary': 1520, 'tom': 5214, 'park': 5478, 'sams': 5478, 'asd': 2000}\n"
     ]
    }
   ],
   "source": [
    "# names = {'mary':1520, 'tom':5214, 'park':5478, 'sams':5478}\n",
    "# # 이름을 입력받은 후 names dict에 이름이 있으면 값을 출력하고,\n",
    "# # 없으면 새로운 값 2000과 함께 dict에 'key':'value'로 추가\n",
    "# # setdefault를 사용하지 않음..\n",
    "\n",
    "names = {'mary':1520, 'tom':5214, 'park':5478, 'sams':5478}\n",
    "person = input('이름을 입력하시오')\n",
    "if person in names:\n",
    "    print(names[person])\n",
    "else:\n",
    "    names[person] = 2000\n",
    "    print(names)\n"
   ]
  },
  {
   "cell_type": "code",
   "execution_count": 154,
   "id": "92b85bf1",
   "metadata": {},
   "outputs": [
    {
     "name": "stdout",
     "output_type": "stream",
     "text": [
      "O\n",
      "I\n",
      "U\n"
     ]
    }
   ],
   "source": [
    "# text = 'python is fun' # text의 character를 모음만 대문자로 전환해서 출력하세요. \n",
    "# 참고) 영어모음 = ‘aeiou’\n",
    "\n",
    "text = 'python is fun'\n",
    "for i in text:\n",
    "    if i in 'aeiou':\n",
    "        a = i.upper()\n",
    "        print(a)\n",
    "        \n",
    "\n"
   ]
  },
  {
   "cell_type": "code",
   "execution_count": 156,
   "id": "039748d2",
   "metadata": {
    "collapsed": true
   },
   "outputs": [
    {
     "name": "stdout",
     "output_type": "stream",
     "text": [
      "0 p\n",
      "1 y\n",
      "2 t\n",
      "3 h\n",
      "4 o\n",
      "5 n\n",
      "6  \n",
      "7 i\n",
      "8 s\n",
      "9  \n",
      "10 f\n",
      "11 u\n",
      "12 n\n"
     ]
    }
   ],
   "source": [
    "text = 'python is fun'\n",
    "for i,j in enumerate(text):\n",
    "    print(i,j)"
   ]
  },
  {
   "cell_type": "code",
   "execution_count": 159,
   "id": "b35ac957",
   "metadata": {},
   "outputs": [
    {
     "name": "stdout",
     "output_type": "stream",
     "text": [
      "[2, 4, 6, 8, 10, 12, 14, 16, 18, 20]\n"
     ]
    }
   ],
   "source": [
    "# 1~20까지 수에서 짝수만 리스트에 담으세요.\n",
    "a = []\n",
    "for i in range(1,21):\n",
    "    if i % 2 == 0:\n",
    "        a.append(i)\n",
    "print(a)"
   ]
  },
  {
   "cell_type": "code",
   "execution_count": 168,
   "id": "a9f9e5a7",
   "metadata": {},
   "outputs": [
    {
     "name": "stdout",
     "output_type": "stream",
     "text": [
      "[2, 4, 6, 8, 10, 12, 14, 16, 18, 20]\n"
     ]
    }
   ],
   "source": [
    "li = []\n",
    "a = 1\n",
    "while a <= 20:\n",
    "    a += 1\n",
    "    if a % 2 == 0:\n",
    "        li.append(a)\n",
    "print(li)\n",
    "        "
   ]
  },
  {
   "cell_type": "code",
   "execution_count": 161,
   "id": "645eb2cc",
   "metadata": {},
   "outputs": [
    {
     "data": {
      "text/plain": [
       "[2, 4, 6, 8, 10, 12, 14, 16, 18, 20]"
      ]
     },
     "execution_count": 161,
     "metadata": {},
     "output_type": "execute_result"
    }
   ],
   "source": [
    "[i for i in range(1, 21) if i % 2 == 0]"
   ]
  },
  {
   "cell_type": "code",
   "execution_count": 169,
   "id": "3f884e5d",
   "metadata": {},
   "outputs": [
    {
     "name": "stdout",
     "output_type": "stream",
     "text": [
      "3\n",
      "4\n",
      "5\n",
      "6\n"
     ]
    }
   ],
   "source": [
    "# 1~10까지 정수를 출력하는 while문에서 continue와 break를 이용해서 3,4,5,6만 출력하도록 하시오.\n",
    "a = 0\n",
    "while a <= 10:\n",
    "    a += 1\n",
    "    if a < 3:\n",
    "        continue\n",
    "    if a >= 7:\n",
    "        break\n",
    "    print(a)"
   ]
  },
  {
   "cell_type": "code",
   "execution_count": 172,
   "id": "98c9a974",
   "metadata": {},
   "outputs": [
    {
     "name": "stdout",
     "output_type": "stream",
     "text": [
      "[('a', '가'), ('a', '나'), ('a', '다'), ('a', '라'), ('a', '마'), ('b', '가'), ('b', '나'), ('b', '다'), ('b', '라'), ('b', '마'), ('c', '가'), ('c', '나'), ('c', '다'), ('c', '라'), ('c', '마'), ('d', '가'), ('d', '나'), ('d', '다'), ('d', '라'), ('d', '마'), ('e', '가'), ('e', '나'), ('e', '다'), ('e', '라'), ('e', '마')]\n"
     ]
    }
   ],
   "source": [
    "# x = ['a','b','c','d','e'], y = ['가','나','다','라','마'] 두 리스트의 원소들의 모든 조합을 아래와 같이 출력하시오. =>\n",
    "# [('a','가'), ('a','나'), ('a', '다') ... ('e','라'), ('e', '마')]\n",
    "\n",
    "x = ['a','b','c','d','e']\n",
    "y = ['가','나','다','라','마']\n",
    "\n",
    "a = []\n",
    "for i in range(len(x)):\n",
    "    for j in range(len(y)):\n",
    "        a.append((x[i], y[j]))\n",
    "print(a)\n",
    "        "
   ]
  },
  {
   "cell_type": "code",
   "execution_count": 184,
   "id": "b97a0a95",
   "metadata": {},
   "outputs": [
    {
     "name": "stdout",
     "output_type": "stream",
     "text": [
      "['o', 'p', 't', 't', 'o', 'a', ' ', 'h', 'n', 'i', 'g']\n"
     ]
    }
   ],
   "source": [
    "# computational thinking에서 홀수인덱스만 리스트에 담으세요..\n",
    "li=[]\n",
    "hole = 'computational thinking'\n",
    "for i in range(1, len(hole), 2):\n",
    "    b = hole[i]\n",
    "    li.append(b)\n",
    "print(li)\n",
    "   "
   ]
  },
  {
   "cell_type": "code",
   "execution_count": 189,
   "id": "8feacd1d",
   "metadata": {
    "collapsed": true
   },
   "outputs": [
    {
     "name": "stdout",
     "output_type": "stream",
     "text": [
      "점수를 입력하시오10\n",
      "점수를 입력하시오20\n",
      "점수를 입력하시오30\n",
      "점수를 입력하시오40\n",
      "점수를 입력하시오50\n",
      "30.0\n"
     ]
    }
   ],
   "source": [
    "# 점수를 5회 입력받은 후 평균을 출력하세요.\n",
    "score = 0\n",
    "wow = 0\n",
    "while score < 5:\n",
    "    a = int(input('점수를 입력하시오'))\n",
    "    score += 1\n",
    "    wow += a\n",
    "    b = wow / 5\n",
    "print(b)\n",
    "    "
   ]
  },
  {
   "cell_type": "code",
   "execution_count": 201,
   "id": "8f94d767",
   "metadata": {},
   "outputs": [
    {
     "name": "stdout",
     "output_type": "stream",
     "text": [
      "6\n",
      "2.0\n"
     ]
    }
   ],
   "source": [
    "# 매개변수 3개를 받고, 합계, 평균, 최대값을 각각 리턴하는 함수를 만들고 실행하시오.\n",
    "\n",
    "class wow:\n",
    "    def __init__(self, a, b, c):\n",
    "        self.a = a\n",
    "        self.b = b\n",
    "        self.c = c\n",
    "    def setdata(self, a, b, c):\n",
    "        self.a = a\n",
    "        self.b = b\n",
    "        self.c = c\n",
    "    def suma(self):\n",
    "        result = self.a + self.b + self.c\n",
    "        return result \n",
    "    def ave(self):\n",
    "        result = (self.a + self.b + self.c) / 3\n",
    "        return result\n",
    "    def maxa(self):\n",
    "        result = max(self.a, self.b, self.c)\n",
    "        return result\n",
    "\n",
    "p1 = wow(1,2,3)\n",
    "p1.a\n",
    " \n",
    "print(p1.suma())\n",
    "print(p1.ave())\n",
    "        "
   ]
  },
  {
   "cell_type": "code",
   "execution_count": 19,
   "id": "07ae1162",
   "metadata": {},
   "outputs": [
    {
     "name": "stdout",
     "output_type": "stream",
     "text": [
      "9\n"
     ]
    }
   ],
   "source": [
    "# 임의의 정수를 입력받은 후 절대값을 리턴하는 함수를 만들고 실행하시오.\n",
    "\n",
    "\n",
    "def best(a):\n",
    "    print(abs(a))\n",
    "\n",
    "best(-9)\n"
   ]
  },
  {
   "cell_type": "code",
   "execution_count": 27,
   "id": "ead3a6fe",
   "metadata": {},
   "outputs": [
    {
     "name": "stdout",
     "output_type": "stream",
     "text": [
      "16\n"
     ]
    }
   ],
   "source": [
    "# 임의의 정수를 입력받은 후 0부터 임의의 정수까지의 홀수 합을 리턴하는 함수를 만들고 실행하시오.\n",
    "\n",
    "\n",
    "def suma(num):\n",
    "    c = 0\n",
    "    for i in range(int(num) + 1):\n",
    "        if i % 2 == 1:\n",
    "            c += i\n",
    "    print(c)\n",
    "\n",
    "            \n",
    "suma(7)\n",
    "           \n",
    "\n",
    "            \n",
    "    \n",
    "        \n"
   ]
  },
  {
   "cell_type": "code",
   "execution_count": 31,
   "id": "3bb64d67",
   "metadata": {},
   "outputs": [
    {
     "data": {
      "text/plain": [
       "12.56"
      ]
     },
     "execution_count": 31,
     "metadata": {},
     "output_type": "execute_result"
    }
   ],
   "source": [
    "# 반지름을 입력받은 후 원의 면적을 리턴하는 함수를 구현하고 실행하시오. \n",
    "# pi = 3.14, circle_area = (radius**2)*pi\n",
    "\n",
    "def circle(r):\n",
    "    area = 3.14 * r ** 2\n",
    "    return area\n",
    "\n",
    "circle(2)"
   ]
  },
  {
   "cell_type": "code",
   "execution_count": 1,
   "id": "ce17a9a1",
   "metadata": {},
   "outputs": [
    {
     "data": {
      "text/plain": [
       "'tuple'"
      ]
     },
     "execution_count": 1,
     "metadata": {},
     "output_type": "execute_result"
    }
   ],
   "source": [
    "# Tuple\n",
    "myTuple = ('tuple', (1,2,3) , [4,5,6,7,8] ,'7', '8', '9')\n",
    "\n",
    "# 'tuple'을 출력하세요\n",
    "myTuple[0]"
   ]
  },
  {
   "cell_type": "code",
   "execution_count": 2,
   "id": "fac67590",
   "metadata": {},
   "outputs": [
    {
     "data": {
      "text/plain": [
       "3"
      ]
     },
     "execution_count": 2,
     "metadata": {},
     "output_type": "execute_result"
    }
   ],
   "source": [
    "# 3을 출력하세요\n",
    "myTuple[1][2]"
   ]
  },
  {
   "cell_type": "code",
   "execution_count": 3,
   "id": "6d925f0e",
   "metadata": {},
   "outputs": [
    {
     "data": {
      "text/plain": [
       "[4, 5]"
      ]
     },
     "execution_count": 3,
     "metadata": {},
     "output_type": "execute_result"
    }
   ],
   "source": [
    "# 4,5를 출력하세요\n",
    "myTuple[2][:2]"
   ]
  },
  {
   "cell_type": "code",
   "execution_count": 4,
   "id": "393630e9",
   "metadata": {},
   "outputs": [
    {
     "data": {
      "text/plain": [
       "[4, 5, 6]"
      ]
     },
     "execution_count": 4,
     "metadata": {},
     "output_type": "execute_result"
    }
   ],
   "source": [
    "# [4,5,6]을 출력하세요\n",
    "myTuple[2][:3]"
   ]
  },
  {
   "cell_type": "code",
   "execution_count": 5,
   "id": "71723e26",
   "metadata": {},
   "outputs": [
    {
     "data": {
      "text/plain": [
       "6"
      ]
     },
     "execution_count": 5,
     "metadata": {},
     "output_type": "execute_result"
    }
   ],
   "source": [
    "# tuple의 길이를 리턴하세요 ( 요소의 갯수가 몇 개인지 )\n",
    "len(myTuple)"
   ]
  },
  {
   "cell_type": "code",
   "execution_count": 6,
   "id": "ef45350c",
   "metadata": {},
   "outputs": [
    {
     "data": {
      "text/plain": [
       "True"
      ]
     },
     "execution_count": 6,
     "metadata": {},
     "output_type": "execute_result"
    }
   ],
   "source": [
    "# '7'이 있는지 확인하세요\n",
    "'7' in myTuple"
   ]
  },
  {
   "cell_type": "code",
   "execution_count": 7,
   "id": "83f5b7c4",
   "metadata": {},
   "outputs": [
    {
     "data": {
      "text/plain": [
       "3"
      ]
     },
     "execution_count": 7,
     "metadata": {},
     "output_type": "execute_result"
    }
   ],
   "source": [
    "# '7'의 인덱스를 출력하세요.\n",
    "myTuple.index('7')"
   ]
  },
  {
   "cell_type": "code",
   "execution_count": 8,
   "id": "e71649ea",
   "metadata": {},
   "outputs": [
    {
     "data": {
      "text/plain": [
       "1"
      ]
     },
     "execution_count": 8,
     "metadata": {},
     "output_type": "execute_result"
    }
   ],
   "source": [
    "# '7'이 몇 개 있는지 확인하세요\n",
    "myTuple.count('7')"
   ]
  },
  {
   "cell_type": "code",
   "execution_count": 9,
   "id": "f1c71bdc",
   "metadata": {},
   "outputs": [
    {
     "data": {
      "text/plain": [
       "[4, 5, 6, 7, 8]"
      ]
     },
     "execution_count": 9,
     "metadata": {},
     "output_type": "execute_result"
    }
   ],
   "source": [
    "# 인데스 2번를 출력하세요\n",
    "myTuple[2]"
   ]
  },
  {
   "cell_type": "code",
   "execution_count": 10,
   "id": "118ebef4",
   "metadata": {},
   "outputs": [
    {
     "data": {
      "text/plain": [
       "8"
      ]
     },
     "execution_count": 10,
     "metadata": {},
     "output_type": "execute_result"
    }
   ],
   "source": [
    "# 인데스 2번에서 최대값을 출력하세요\n",
    "max(myTuple[2])"
   ]
  },
  {
   "cell_type": "code",
   "execution_count": 11,
   "id": "936a4add",
   "metadata": {},
   "outputs": [
    {
     "data": {
      "text/plain": [
       "4"
      ]
     },
     "execution_count": 11,
     "metadata": {},
     "output_type": "execute_result"
    }
   ],
   "source": [
    "# 인데스 2번에서 최소값을 출력하세요\n",
    "min(myTuple[2])"
   ]
  },
  {
   "cell_type": "code",
   "execution_count": 12,
   "id": "23a4cf67",
   "metadata": {},
   "outputs": [
    {
     "data": {
      "text/plain": [
       "30"
      ]
     },
     "execution_count": 12,
     "metadata": {},
     "output_type": "execute_result"
    }
   ],
   "source": [
    "# 인데스 2번에서 총합을 출력하세요\n",
    "sum(myTuple[2])"
   ]
  },
  {
   "cell_type": "code",
   "execution_count": 13,
   "id": "54c04d73",
   "metadata": {},
   "outputs": [
    {
     "data": {
      "text/plain": [
       "6.0"
      ]
     },
     "execution_count": 13,
     "metadata": {},
     "output_type": "execute_result"
    }
   ],
   "source": [
    "# 인데스 2번에서 평균을 출력하세요\n",
    "sum(myTuple[2]) / len(myTuple[2])"
   ]
  },
  {
   "cell_type": "code",
   "execution_count": 14,
   "id": "1125d1fc",
   "metadata": {},
   "outputs": [
    {
     "data": {
      "text/plain": [
       "[8, 7, 6, 5, 4]"
      ]
     },
     "execution_count": 14,
     "metadata": {},
     "output_type": "execute_result"
    }
   ],
   "source": [
    "# 인데스 2번를 내림차순 정렬해서 출력하세요.\n",
    "sorted(myTuple[2], reverse = True )"
   ]
  },
  {
   "cell_type": "code",
   "execution_count": null,
   "id": "f296f05e",
   "metadata": {},
   "outputs": [],
   "source": []
  },
  {
   "cell_type": "code",
   "execution_count": 15,
   "id": "88d97588",
   "metadata": {},
   "outputs": [],
   "source": [
    "# Set\n",
    "\n",
    "# 원소가 없는 set인 s를 만드세요\n",
    "s = set()"
   ]
  },
  {
   "cell_type": "code",
   "execution_count": 16,
   "id": "875a8b2f",
   "metadata": {},
   "outputs": [
    {
     "name": "stdout",
     "output_type": "stream",
     "text": [
      "{'sky', 'earth'}\n"
     ]
    }
   ],
   "source": [
    "# s에 원소 'sky'와 'earth'를 추가하세요\n",
    "s.add('sky')\n",
    "s.add('earth')\n",
    "print(s)"
   ]
  },
  {
   "cell_type": "code",
   "execution_count": 17,
   "id": "b7eda769",
   "metadata": {},
   "outputs": [
    {
     "name": "stdout",
     "output_type": "stream",
     "text": [
      "{'sky', 2, 'earth', 1}\n"
     ]
    }
   ],
   "source": [
    "# s에 1,2 두 원소를 추가하세요\n",
    "s.add(1)\n",
    "s.add(2)\n",
    "print(s)"
   ]
  },
  {
   "cell_type": "code",
   "execution_count": 18,
   "id": "96031ede",
   "metadata": {},
   "outputs": [
    {
     "name": "stdout",
     "output_type": "stream",
     "text": [
      "{2, 'earth', 1}\n"
     ]
    }
   ],
   "source": [
    "# s에서 'sky'를 삭제하세요\n",
    "s.remove('sky')\n",
    "print(s)"
   ]
  },
  {
   "cell_type": "code",
   "execution_count": 19,
   "id": "23a194c2",
   "metadata": {},
   "outputs": [
    {
     "data": {
      "text/plain": [
       "{1, 2, 3, 4, 5, 6, 7, 8, 9}"
      ]
     },
     "execution_count": 19,
     "metadata": {},
     "output_type": "execute_result"
    }
   ],
   "source": [
    "A = {1,2,3,4,5,6}\n",
    "B = {1,2,3,7,8,9}\n",
    "C = {1,2,3}\n",
    "# 두 집합의 합집합을 출력\n",
    "A.union(B)"
   ]
  },
  {
   "cell_type": "code",
   "execution_count": 20,
   "id": "f717babd",
   "metadata": {},
   "outputs": [
    {
     "data": {
      "text/plain": [
       "{1, 2, 3}"
      ]
     },
     "execution_count": 20,
     "metadata": {},
     "output_type": "execute_result"
    }
   ],
   "source": [
    "# 두 집합의 교집합을 출력\n",
    "A.intersection(B)"
   ]
  },
  {
   "cell_type": "code",
   "execution_count": 21,
   "id": "c5e6bd3e",
   "metadata": {},
   "outputs": [
    {
     "data": {
      "text/plain": [
       "{4, 5, 6}"
      ]
     },
     "execution_count": 21,
     "metadata": {},
     "output_type": "execute_result"
    }
   ],
   "source": [
    "# A의 B에 대한 차집합\n",
    "A.difference(B)"
   ]
  },
  {
   "cell_type": "code",
   "execution_count": 48,
   "id": "05b2e3c7",
   "metadata": {},
   "outputs": [
    {
     "data": {
      "text/plain": [
       "{4, 5, 6, 7, 8, 9}"
      ]
     },
     "execution_count": 48,
     "metadata": {},
     "output_type": "execute_result"
    }
   ],
   "source": [
    "# 대칭차집합\n",
    "A.symmetric_difference(B)"
   ]
  },
  {
   "cell_type": "code",
   "execution_count": 51,
   "id": "aadf806f",
   "metadata": {},
   "outputs": [
    {
     "data": {
      "text/plain": [
       "True"
      ]
     },
     "execution_count": 51,
     "metadata": {},
     "output_type": "execute_result"
    }
   ],
   "source": [
    "# C가 A의 부분집합인지 확인\n",
    "C.issubset(A)"
   ]
  },
  {
   "cell_type": "code",
   "execution_count": 52,
   "id": "d4644d67",
   "metadata": {},
   "outputs": [
    {
     "data": {
      "text/plain": [
       "True"
      ]
     },
     "execution_count": 52,
     "metadata": {},
     "output_type": "execute_result"
    }
   ],
   "source": [
    "# A가 C를 포함하는지 확인\n",
    "A.issuperset(C)"
   ]
  },
  {
   "cell_type": "code",
   "execution_count": 22,
   "id": "74ccfaf0",
   "metadata": {},
   "outputs": [
    {
     "data": {
      "text/plain": [
       "6"
      ]
     },
     "execution_count": 22,
     "metadata": {},
     "output_type": "execute_result"
    }
   ],
   "source": [
    "# 집합 B의 길이를 출력\n",
    "len(B)"
   ]
  },
  {
   "cell_type": "code",
   "execution_count": 23,
   "id": "60e1eec3",
   "metadata": {},
   "outputs": [
    {
     "data": {
      "text/plain": [
       "9"
      ]
     },
     "execution_count": 23,
     "metadata": {},
     "output_type": "execute_result"
    }
   ],
   "source": [
    "# 집합 B의 최대값 출력\n",
    "max(B)"
   ]
  },
  {
   "cell_type": "code",
   "execution_count": 24,
   "id": "04fef2e6",
   "metadata": {},
   "outputs": [
    {
     "data": {
      "text/plain": [
       "1"
      ]
     },
     "execution_count": 24,
     "metadata": {},
     "output_type": "execute_result"
    }
   ],
   "source": [
    "# 집합 B의 최소값 출력\n",
    "min(B)"
   ]
  },
  {
   "cell_type": "code",
   "execution_count": 25,
   "id": "a21d022a",
   "metadata": {},
   "outputs": [
    {
     "data": {
      "text/plain": [
       "30"
      ]
     },
     "execution_count": 25,
     "metadata": {},
     "output_type": "execute_result"
    }
   ],
   "source": [
    "# 집합 B의 합을 출력\n",
    "sum(B)"
   ]
  },
  {
   "cell_type": "code",
   "execution_count": 26,
   "id": "f89ca2aa",
   "metadata": {},
   "outputs": [
    {
     "data": {
      "text/plain": [
       "5.0"
      ]
     },
     "execution_count": 26,
     "metadata": {},
     "output_type": "execute_result"
    }
   ],
   "source": [
    "# 집합 B의 평균출력\n",
    "sum(B) / len(B)"
   ]
  },
  {
   "cell_type": "code",
   "execution_count": 27,
   "id": "ed39b669",
   "metadata": {},
   "outputs": [
    {
     "data": {
      "text/plain": [
       "[9, 8, 7, 3, 2, 1]"
      ]
     },
     "execution_count": 27,
     "metadata": {},
     "output_type": "execute_result"
    }
   ],
   "source": [
    "# 집합 B의 내림차순 출력\n",
    "sorted(B, reverse = True)"
   ]
  },
  {
   "cell_type": "code",
   "execution_count": 28,
   "id": "062903f6",
   "metadata": {},
   "outputs": [
    {
     "data": {
      "text/plain": [
       "False"
      ]
     },
     "execution_count": 28,
     "metadata": {},
     "output_type": "execute_result"
    }
   ],
   "source": [
    "# 집합 B에 5가 포함되어 있는지 확인\n",
    "5 in B"
   ]
  },
  {
   "cell_type": "code",
   "execution_count": null,
   "id": "4c691b0e",
   "metadata": {},
   "outputs": [],
   "source": []
  },
  {
   "cell_type": "code",
   "execution_count": 54,
   "id": "e3250f6b",
   "metadata": {},
   "outputs": [],
   "source": [
    "# Dictionary\n",
    "\n",
    "# 'mydict'라는 딕셔너리를 만드세요.\n",
    "myd = {}"
   ]
  },
  {
   "cell_type": "code",
   "execution_count": 55,
   "id": "80178bfa",
   "metadata": {},
   "outputs": [
    {
     "name": "stdout",
     "output_type": "stream",
     "text": [
      "{'red': 4, 'blue': 3, 'green': 1}\n"
     ]
    }
   ],
   "source": [
    "# 'red':4, 'blue':3, 'green':1 세 요소를 추가하세요.\n",
    "myd['red'] = 4\n",
    "myd['blue'] = 3\n",
    "myd['green'] = 1\n",
    "print(myd)"
   ]
  },
  {
   "cell_type": "code",
   "execution_count": 56,
   "id": "681f8b04",
   "metadata": {},
   "outputs": [
    {
     "data": {
      "text/plain": [
       "True"
      ]
     },
     "execution_count": 56,
     "metadata": {},
     "output_type": "execute_result"
    }
   ],
   "source": [
    "# key에 'blue'가 있는지 확인하세요.\n",
    "'blue' in myd.keys()"
   ]
  },
  {
   "cell_type": "code",
   "execution_count": 57,
   "id": "3727e666",
   "metadata": {},
   "outputs": [
    {
     "data": {
      "text/plain": [
       "3"
      ]
     },
     "execution_count": 57,
     "metadata": {},
     "output_type": "execute_result"
    }
   ],
   "source": [
    "# mydict의 길이를 출력하세요.\n",
    "len(myd)"
   ]
  },
  {
   "cell_type": "code",
   "execution_count": 58,
   "id": "5fc6849f",
   "metadata": {},
   "outputs": [
    {
     "data": {
      "text/plain": [
       "4"
      ]
     },
     "execution_count": 58,
     "metadata": {},
     "output_type": "execute_result"
    }
   ],
   "source": [
    "# 'red'의 값을 출력하세요.\n",
    "myd['red']"
   ]
  },
  {
   "cell_type": "code",
   "execution_count": 59,
   "id": "3cefccb2",
   "metadata": {},
   "outputs": [],
   "source": [
    "# 'red'의 값을 10으로 수정하세요.\n",
    "myd['red'] = 10"
   ]
  },
  {
   "cell_type": "code",
   "execution_count": 60,
   "id": "49a99f7f",
   "metadata": {},
   "outputs": [
    {
     "data": {
      "text/plain": [
       "dict_keys(['red', 'blue', 'green'])"
      ]
     },
     "execution_count": 60,
     "metadata": {},
     "output_type": "execute_result"
    }
   ],
   "source": [
    "# key값만 출력하세요\n",
    "myd.keys()"
   ]
  },
  {
   "cell_type": "code",
   "execution_count": 61,
   "id": "ea6a71da",
   "metadata": {},
   "outputs": [
    {
     "data": {
      "text/plain": [
       "dict_values([10, 3, 1])"
      ]
     },
     "execution_count": 61,
     "metadata": {},
     "output_type": "execute_result"
    }
   ],
   "source": [
    "# value값만 출력하세요\n",
    "myd.values()"
   ]
  },
  {
   "cell_type": "code",
   "execution_count": 62,
   "id": "ea3c71dc",
   "metadata": {},
   "outputs": [
    {
     "data": {
      "text/plain": [
       "dict_items([('red', 10), ('blue', 3), ('green', 1)])"
      ]
     },
     "execution_count": 62,
     "metadata": {},
     "output_type": "execute_result"
    }
   ],
   "source": [
    "# key와 value를 튜플로 출력하세요.\n",
    "myd.items()"
   ]
  },
  {
   "cell_type": "code",
   "execution_count": 64,
   "id": "c31fc057",
   "metadata": {},
   "outputs": [
    {
     "data": {
      "text/plain": [
       "[('red', 10), ('green', 1), ('blue', 3)]"
      ]
     },
     "execution_count": 64,
     "metadata": {},
     "output_type": "execute_result"
    }
   ],
   "source": [
    "# (key기준으로 정렬하세요.)\n",
    "sorted(myd.items(), key = lambda x : x[0], reverse = True)\n"
   ]
  },
  {
   "cell_type": "code",
   "execution_count": 66,
   "id": "2a768fa9",
   "metadata": {},
   "outputs": [
    {
     "data": {
      "text/plain": [
       "[('red', 10), ('blue', 3), ('green', 1)]"
      ]
     },
     "execution_count": 66,
     "metadata": {},
     "output_type": "execute_result"
    }
   ],
   "source": [
    "# (value기준으로 정렬하세요)\n",
    "sorted(myd.items(), key = lambda x : x[1], reverse = True)"
   ]
  },
  {
   "cell_type": "code",
   "execution_count": 41,
   "id": "503e8d8b",
   "metadata": {},
   "outputs": [
    {
     "data": {
      "text/plain": [
       "{'red': 10, 'green': 1}"
      ]
     },
     "execution_count": 41,
     "metadata": {},
     "output_type": "execute_result"
    }
   ],
   "source": [
    "# key 'blue'요소를 삭제하세요\n",
    "del myd['blue']\n",
    "myd"
   ]
  },
  {
   "cell_type": "code",
   "execution_count": 42,
   "id": "e5ebc80a",
   "metadata": {},
   "outputs": [],
   "source": [
    "# key 'pink'요소 값을 출력하되 오류가 없도록 하세요\n",
    "myd.get('pink')"
   ]
  },
  {
   "cell_type": "code",
   "execution_count": 43,
   "id": "05a2b2fd",
   "metadata": {},
   "outputs": [
    {
     "data": {
      "text/plain": [
       "{'red': 10, 'green': 1, 'pink': 20}"
      ]
     },
     "execution_count": 43,
     "metadata": {},
     "output_type": "execute_result"
    }
   ],
   "source": [
    "# key 'pink' 값을 출력하되 없으면, value 20으로 새로이 추가하세요\n",
    "myd['pink'] = 20\n",
    "myd"
   ]
  },
  {
   "cell_type": "code",
   "execution_count": 44,
   "id": "c07e4d88",
   "metadata": {},
   "outputs": [
    {
     "data": {
      "text/plain": [
       "True"
      ]
     },
     "execution_count": 44,
     "metadata": {},
     "output_type": "execute_result"
    }
   ],
   "source": [
    "# value에 20이 있는지 확인하세요.\n",
    "20 in myd.values()"
   ]
  },
  {
   "cell_type": "code",
   "execution_count": 45,
   "id": "1b96ea25",
   "metadata": {},
   "outputs": [
    {
     "data": {
      "text/plain": [
       "{'red': 10, 'green': 1, 'pink': 20, 'yellow': 30}"
      ]
     },
     "execution_count": 45,
     "metadata": {},
     "output_type": "execute_result"
    }
   ],
   "source": [
    "# key는 'yellow'에 value는 30을 추가하세요.\n",
    "myd['yellow'] = 30\n",
    "myd"
   ]
  },
  {
   "cell_type": "code",
   "execution_count": 46,
   "id": "82adb3e1",
   "metadata": {},
   "outputs": [],
   "source": [
    "# yourdict = {'파랑':50, '빨강':70}을 합하세요..\n",
    "yourdict = {'파랑':50, '빨강':70}\n",
    "myd.update(yourdict)"
   ]
  },
  {
   "cell_type": "code",
   "execution_count": 47,
   "id": "7ba7e379",
   "metadata": {},
   "outputs": [
    {
     "data": {
      "text/plain": [
       "{'red': 10, 'green': 1, 'pink': 20, 'yellow': 30, '파랑': 50, '빨강': 70}"
      ]
     },
     "execution_count": 47,
     "metadata": {},
     "output_type": "execute_result"
    }
   ],
   "source": [
    "myd"
   ]
  },
  {
   "cell_type": "code",
   "execution_count": null,
   "id": "4c7adf22",
   "metadata": {},
   "outputs": [],
   "source": []
  },
  {
   "cell_type": "code",
   "execution_count": 68,
   "id": "c8faed72",
   "metadata": {},
   "outputs": [
    {
     "name": "stdout",
     "output_type": "stream",
     "text": [
      "임의의 정수를 입력하시오9\n",
      "20\n"
     ]
    }
   ],
   "source": [
    "# If\n",
    "\n",
    "## 임의 정수(n)를 입력받은 후 0부터 n까지의 정수 중 짝수들의 합을 구하시오.\n",
    "\n",
    "num = int(input('임의의 정수를 입력하시오'))\n",
    "total = 0\n",
    "for i in range(num + 1):\n",
    "    if i % 2 == 0:\n",
    "        total += i\n",
    "print(total)\n",
    "        \n",
    "        "
   ]
  },
  {
   "cell_type": "code",
   "execution_count": 73,
   "id": "be5f7054",
   "metadata": {},
   "outputs": [
    {
     "name": "stdout",
     "output_type": "stream",
     "text": [
      "이름을 입력하시오aaaa\n",
      "{'mary': 1520, 'tom': 5214, 'park': 5478, 'sams': 5478, 'aaaa': 2000}\n"
     ]
    }
   ],
   "source": [
    "# names = {'mary':1520, 'tom':5214, 'park':5478, 'sams':5478}\n",
    "# 이름을 입력받은 후 names dict에 이름이 있으면 값을 출력하고,\n",
    "# 없으면 새로운 값 2000과 함께 dict에 'key':'value'로 추가\n",
    "# setdefault를 사용하지 않음..\n",
    "\n",
    "names = {'mary':1520, 'tom':5214, 'park':5478, 'sams':5478}\n",
    "\n",
    "name = input('이름을 입력하시오')\n",
    "\n",
    "if name in names:\n",
    "    print(names[name])\n",
    "else:\n",
    "    names[name] = 2000\n",
    "    print(names)"
   ]
  },
  {
   "cell_type": "code",
   "execution_count": 77,
   "id": "00d4bb4a",
   "metadata": {},
   "outputs": [
    {
     "name": "stdout",
     "output_type": "stream",
     "text": [
      "점수를 입력하시오88\n",
      "넌 B\n"
     ]
    }
   ],
   "source": [
    "# 학점 출력.. 점수를 입력받은 후..\n",
    "# 90점 이상이면 \"당신은 'A'학점입니다\"를 출력\n",
    "# 80점 이상이면서 90점 미만이면 \"당신은 'B'학점입니다\"를 출력\n",
    "# 70점 이상이면서 80점 미만이면 \"당신은 'C'학점입니다\"를 출력\n",
    "# 70점 미만이면 \"당신은 D학점입니다\"를 출력\n",
    "\n",
    "score = int(input('점수를 입력하시오'))\n",
    "if 90 <= score:\n",
    "    print('넌 A')\n",
    "elif 80 <= score < 90:\n",
    "    print('넌 B')\n",
    "elif 70 <= score < 80:\n",
    "    print('넌 C')\n",
    "else:\n",
    "    print('넌 D')\n",
    "    "
   ]
  },
  {
   "cell_type": "code",
   "execution_count": 79,
   "id": "a4ae00dd",
   "metadata": {},
   "outputs": [
    {
     "name": "stdout",
     "output_type": "stream",
     "text": [
      "비밀번호를 입력하시오468\n",
      "틀렸어\n"
     ]
    }
   ],
   "source": [
    "# 비밀번호 = 1234 인 경우 비밀번호를 입력받은 후 맞으면' 환영합니다'. \n",
    "# 틀리면 '비밀번호가 틀립니다'를 출력하시오\n",
    "\n",
    "psw = int(input('비밀번호를 입력하시오'))\n",
    "\n",
    "if psw == 1234:\n",
    "    print('환영해')\n",
    "else:\n",
    "    print('틀렸어')"
   ]
  },
  {
   "cell_type": "code",
   "execution_count": 82,
   "id": "7628924b",
   "metadata": {},
   "outputs": [
    {
     "name": "stdout",
     "output_type": "stream",
     "text": [
      "임의의 정수를 입력하시오86\n",
      "짝수야\n"
     ]
    }
   ],
   "source": [
    "# 임의의 정수를 입력받은 후 짝수면 ' 짝수입니다' 홀수면 '홀수입니다'를 출력\n",
    "\n",
    "num = int(input('임의의 정수를 입력하시오'))\n",
    "\n",
    "if num % 2 == 0:\n",
    "    print('짝수야')\n",
    "else:\n",
    "    print('홀수야')"
   ]
  },
  {
   "cell_type": "code",
   "execution_count": 102,
   "id": "32d34530",
   "metadata": {},
   "outputs": [
    {
     "name": "stdout",
     "output_type": "stream",
     "text": [
      "주민번호를 입력하시오940415-1041614\n",
      "당신의 나이는 28살 이고, 성별은 남자입니다.\n"
     ]
    }
   ],
   "source": [
    "# 주민번호 '940415-1041614'\n",
    "# 주민번호를 입력받은 후 '당신의 나이는 _이고, 성별은 _입니다'를 출력하시오\n",
    "\n",
    "num = input('주민번호를 입력하시오')\n",
    "age = 2022 - (1900 + int(num[:2]))\n",
    "\n",
    "\n",
    "def gender(num):\n",
    "    if num[7] == '1':\n",
    "        return  '남자'\n",
    "    else:\n",
    "        return  '여자'\n",
    "\n",
    "\n",
    "print(f'당신의 나이는 {age}살 이고, 성별은 {gender(num)}입니다.')"
   ]
  },
  {
   "cell_type": "code",
   "execution_count": 107,
   "id": "bc732863",
   "metadata": {},
   "outputs": [
    {
     "name": "stdout",
     "output_type": "stream",
     "text": [
      "이름을 입력하시오Han\n",
      "불합격입니다\n"
     ]
    }
   ],
   "source": [
    "scores = {'Mary':85, 'Sam':95, 'Bob':87, 'Han':77}\n",
    "\n",
    "# 이름을 입력받은 후 이름이 있으면 80점 이상이면 '합격입니다',\n",
    "# 이하이면 '불합격입니다'를 출력하시오. 이름이 없으면 값을 0으로 하여 추가하시오\n",
    "\n",
    "name = input('이름을 입력하시오')\n",
    "\n",
    "if name in scores:\n",
    "    if scores[name] >= 80:\n",
    "        print('합격입니다')\n",
    "    else:\n",
    "        print('불합격입니다')\n",
    "else:\n",
    "    scores[name] = 0\n",
    "    print(scores)\n",
    "    \n"
   ]
  },
  {
   "cell_type": "code",
   "execution_count": 113,
   "id": "830a04d0",
   "metadata": {},
   "outputs": [
    {
     "name": "stdout",
     "output_type": "stream",
     "text": [
      "mime <= 가위, 바위, 보 중에서 하나를 선택하세요바위\n",
      "yours <= 가위, 바위, 보 중에서 하나를 선택하세요가위\n",
      "이김\n"
     ]
    }
   ],
   "source": [
    "# 가위, 바위, 보 게임\n",
    "mine = input('mime <= 가위, 바위, 보 중에서 하나를 선택하세요')\n",
    "yours = input('yours <= 가위, 바위, 보 중에서 하나를 선택하세요')\n",
    "\n",
    "# 비겼습니다\n",
    "# 내가 이겼습니다\n",
    "# 당신이 이겼습니다\n",
    "\n",
    "if mine == yours:\n",
    "    print('비김')\n",
    "elif mine == '가위':\n",
    "    if yours == '바위':\n",
    "        print('짐')\n",
    "    else:;ㅣ\n",
    "        print('이김')\n",
    "elif mine == '바위':\n",
    "    if yours == '가위':\n",
    "        print('이김')\n",
    "    else:\n",
    "        print('짐')\n",
    "elif mine == '보':\n",
    "    if yours == '가위':\n",
    "        print('짐')\n",
    "    else:\n",
    "        print('이김')\n",
    "        "
   ]
  },
  {
   "cell_type": "code",
   "execution_count": 116,
   "id": "b308a5bf",
   "metadata": {},
   "outputs": [
    {
     "name": "stdout",
     "output_type": "stream",
     "text": [
      "나이를 입력하세요10\n",
      "어리시군요\n"
     ]
    }
   ],
   "source": [
    "# 나이를 입력받은 후, 50대 이상이면 중년이시군요. 20~40대면 젊으시군요\n",
    "# 20세 미만이면 어리시군요를 출력\n",
    "\n",
    "age = int(input('나이를 입력하세요'))\n",
    "if age >= 50:\n",
    "    print('중년이시군요')\n",
    "elif 20<= age <50:\n",
    "    print('젊으시군요')\n",
    "else:\n",
    "    print('어리시군요')"
   ]
  },
  {
   "cell_type": "code",
   "execution_count": 130,
   "id": "550e02a5",
   "metadata": {},
   "outputs": [
    {
     "name": "stdout",
     "output_type": "stream",
     "text": [
      "O\n",
      "I\n",
      "U\n"
     ]
    }
   ],
   "source": [
    "# For\n",
    "\n",
    "# text = 'python is fun' # text의 character를 모음만 대문자로 전환해서 출력하세요. 참고) 영어모음 = ‘aeiou’\n",
    "\n",
    "text = 'python is fun'\n",
    "\n",
    "for i in text:\n",
    "    if i in 'aeiou':\n",
    "        a = i.upper()\n",
    "        print(a)\n"
   ]
  },
  {
   "cell_type": "code",
   "execution_count": 141,
   "id": "7e6a4e61",
   "metadata": {},
   "outputs": [
    {
     "name": "stdout",
     "output_type": "stream",
     "text": [
      "8\n"
     ]
    }
   ],
   "source": [
    "# 모음의 숫자를 계산하시오\n",
    "\n",
    "text = 'computational thinking'\n",
    "vol = 'aeiouAEIOU'\n",
    "\n",
    "piece = 0\n",
    "for i in text:\n",
    "    if i in vol:\n",
    "        piece += 1\n",
    "print(piece)\n",
    "        "
   ]
  },
  {
   "cell_type": "code",
   "execution_count": 144,
   "id": "72b5989f",
   "metadata": {},
   "outputs": [
    {
     "name": "stdout",
     "output_type": "stream",
     "text": [
      "26\n"
     ]
    }
   ],
   "source": [
    "# word의 길이가 4 이상인 단어의 단어길이 총합을 구하시오\n",
    "words = ['mountain', 'sea', 'sky', 'river', 'cloud', 'tree', 'lake']\n",
    "\n",
    "count = 0\n",
    "\n",
    "for i in words:\n",
    "    if len(i) >= 4:\n",
    "        count += len(i)\n",
    "print(count)"
   ]
  },
  {
   "cell_type": "code",
   "execution_count": 153,
   "id": "1f892f70",
   "metadata": {},
   "outputs": [
    {
     "name": "stdout",
     "output_type": "stream",
     "text": [
      "[('a', '가'), ('a', '나'), ('a', '다'), ('a', '라'), ('b', '가'), ('b', '나'), ('b', '다'), ('b', '라'), ('c', '가'), ('c', '나'), ('c', '다'), ('c', '라'), ('d', '가'), ('d', '나'), ('d', '다'), ('d', '라')]\n"
     ]
    }
   ],
   "source": [
    "# 두 리스트 원소간의 모든 조합을 리스트에 담으시오\n",
    "# [('a', '가'), ('a', '나'), ... ('d', '다'), ('d', '라')]\n",
    "\n",
    "L1 = ['a', 'b', 'c', 'd']\n",
    "L2 = ['가', '나', '다', '라']\n",
    "\n",
    "L=[]\n",
    "for i in L1:\n",
    "    for j in L2:\n",
    "        a = (i, j)\n",
    "        L.append(a)\n",
    "print(L)\n"
   ]
  },
  {
   "cell_type": "code",
   "execution_count": 161,
   "id": "3edc88bd",
   "metadata": {},
   "outputs": [
    {
     "name": "stdout",
     "output_type": "stream",
     "text": [
      "110\n",
      "100\n"
     ]
    }
   ],
   "source": [
    "# for문과 while문을 이용해서 1~20까지의 정수에서 짝수의 합과 홀수의 합을 구하시오\n",
    "\n",
    "# suma = 0\n",
    "# sumb = 0\n",
    "\n",
    "# for i in range(0, 21, 2):\n",
    "#     suma += i\n",
    "# for j in range(1, 21, 2):\n",
    "#     sumb += j\n",
    "# print(suma)\n",
    "# print(sumb)\n",
    "\n",
    "i = 0\n",
    "suma = 0\n",
    "sumb = 0\n",
    "while i < 20:\n",
    "    i += 1\n",
    "    if i % 2 == 0:\n",
    "        suma += i\n",
    "    else:\n",
    "        sumb += i\n",
    "print(suma)\n",
    "print(sumb)\n",
    "    "
   ]
  },
  {
   "cell_type": "code",
   "execution_count": 168,
   "id": "a74597b0",
   "metadata": {},
   "outputs": [
    {
     "name": "stdout",
     "output_type": "stream",
     "text": [
      "4 5 6 7 "
     ]
    }
   ],
   "source": [
    "# break와 continue를 이용해서 1부터 10까지 정수 중에서 4,5,6,7만을 출력하시오\n",
    "\n",
    "num = 1\n",
    "while num < 10:\n",
    "    num += 1\n",
    "    if num < 4:\n",
    "        continue\n",
    "    if num >= 8:\n",
    "        break\n",
    "    print(num, end = ' ')\n",
    "    \n"
   ]
  },
  {
   "cell_type": "code",
   "execution_count": 172,
   "id": "eafa6453",
   "metadata": {},
   "outputs": [
    {
     "name": "stdout",
     "output_type": "stream",
     "text": [
      "170\n",
      "30\n"
     ]
    }
   ],
   "source": [
    "# 반복문을 이용해서 최대값과 최소값을 구하시오\n",
    "L = [70, 100, 80, 120, 130, 170, 30]\n",
    "max_a = L[0]\n",
    "min_a = L[0]\n",
    "\n",
    "for i in L:\n",
    "    if max_a < i:\n",
    "        max_a = i\n",
    "    if min_a > i:\n",
    "        min_a = i\n",
    "print(max_a)\n",
    "print(min_a)\n",
    "        "
   ]
  },
  {
   "cell_type": "code",
   "execution_count": 173,
   "id": "306d267a",
   "metadata": {},
   "outputs": [
    {
     "name": "stdout",
     "output_type": "stream",
     "text": [
      "*\n",
      "**\n",
      "***\n",
      "****\n",
      "*****\n"
     ]
    }
   ],
   "source": [
    "# *\n",
    "# **\n",
    "# ***\n",
    "# ****\n",
    "# *****\n",
    "\n",
    "for i in range(1, 6):\n",
    "    print('*' * i )"
   ]
  },
  {
   "cell_type": "code",
   "execution_count": 174,
   "id": "2fdef2d1",
   "metadata": {},
   "outputs": [
    {
     "name": "stdout",
     "output_type": "stream",
     "text": [
      " *****\n",
      "  ****\n",
      "   ***\n",
      "    **\n",
      "     *\n"
     ]
    }
   ],
   "source": [
    "# *****\n",
    "#  ****\n",
    "#   ***\n",
    "#    **\n",
    "#     *\n",
    "\n",
    "for i in range(5):\n",
    "    print(i * ' ',(5-i) * '*')"
   ]
  },
  {
   "cell_type": "code",
   "execution_count": 178,
   "id": "1fd61226",
   "metadata": {},
   "outputs": [
    {
     "name": "stdout",
     "output_type": "stream",
     "text": [
      "     *\n",
      "    **\n",
      "   ***\n",
      "  ****\n",
      " *****\n"
     ]
    }
   ],
   "source": [
    "#     *\n",
    "#    **\n",
    "#   ***\n",
    "#  ****\n",
    "# *****\n",
    "\n",
    "for i in range(1, 6):\n",
    "    print(' ' * (5-i), '*' * i)"
   ]
  },
  {
   "cell_type": "code",
   "execution_count": 179,
   "id": "da03b1b1",
   "metadata": {},
   "outputs": [
    {
     "name": "stdout",
     "output_type": "stream",
     "text": [
      "***** \n",
      "****  \n",
      "***   \n",
      "**    \n",
      "*     \n"
     ]
    }
   ],
   "source": [
    "# *****\n",
    "# ****\n",
    "# ***\n",
    "# **\n",
    "# *\n",
    "\n",
    "for i in range(5):\n",
    "    print('*' * (5-i), ' '* i)"
   ]
  },
  {
   "cell_type": "code",
   "execution_count": 182,
   "id": "0c7d9422",
   "metadata": {},
   "outputs": [
    {
     "name": "stdout",
     "output_type": "stream",
     "text": [
      "임의의 수를 입력하시오5\n",
      "120\n"
     ]
    }
   ],
   "source": [
    "# 임의의 수를 입력받은 후 팩토리얼을 계산하는 코드를 작성하시오\n",
    "# 5! = 5*4*3*2*1\n",
    "\n",
    "num = int(input('임의의 수를 입력하시오'))\n",
    "re = 1\n",
    "while num > 1:\n",
    "    re *= num\n",
    "    num -= 1\n",
    "    \n",
    "print(re)\n",
    "    "
   ]
  },
  {
   "cell_type": "code",
   "execution_count": 186,
   "id": "a8fdcbbc",
   "metadata": {},
   "outputs": [
    {
     "data": {
      "text/plain": [
       "[2, 4, 6, 8, 10, 12, 14, 16, 18, 20]"
      ]
     },
     "execution_count": 186,
     "metadata": {},
     "output_type": "execute_result"
    }
   ],
   "source": [
    "# 1~20까지 수에서 짝수만 리스트에 담으세요.\n",
    "# => for문과 while문, list comprehension을 각각 활용\n",
    "\n",
    "\n",
    "# li = []\n",
    "# for i in range(1, 21):\n",
    "#     if i % 2 == 0:\n",
    "#         li.append(i)\n",
    "# print(li)\n",
    "\n",
    "# li = []\n",
    "# num = 1\n",
    "# while num < 20:\n",
    "#     num += 1\n",
    "#     if num % 2 == 0:\n",
    "#         li.append(num)\n",
    "# print(li)\n",
    "\n",
    "[i for i in range(1, 21) if i % 2 == 0]\n",
    "        \n",
    "        "
   ]
  },
  {
   "cell_type": "code",
   "execution_count": 190,
   "id": "927fa548",
   "metadata": {},
   "outputs": [
    {
     "name": "stdout",
     "output_type": "stream",
     "text": [
      "[('a', '가'), ('a', '나'), ('a', '다'), ('a', '라'), ('a', '마'), ('b', '가'), ('b', '나'), ('b', '다'), ('b', '라'), ('b', '마'), ('c', '가'), ('c', '나'), ('c', '다'), ('c', '라'), ('c', '마'), ('d', '가'), ('d', '나'), ('d', '다'), ('d', '라'), ('d', '마'), ('e', '가'), ('e', '나'), ('e', '다'), ('e', '라'), ('e', '마')]\n"
     ]
    }
   ],
   "source": [
    "# x = ['a','b','c','d','e'], y = ['가','나','다','라','마'] 두 리스트의 원소들의 모든 조합을 아래와 같이 출력하시오. =>\n",
    "# [('a','가'), ('a','나'), ('a', '다') ... ('e','라'), ('e', '마')]\n",
    "\n",
    "x = ['a','b','c','d','e']\n",
    "y = ['가','나','다','라','마']\n",
    "li = []\n",
    "for i in x:\n",
    "    for j in y:\n",
    "        li.append((i,j))\n",
    "print(li)\n",
    "        \n",
    "\n"
   ]
  },
  {
   "cell_type": "code",
   "execution_count": 200,
   "id": "22862e34",
   "metadata": {},
   "outputs": [
    {
     "name": "stdout",
     "output_type": "stream",
     "text": [
      "['o', 'p', 't', 't', 'o', ' ', 't', 'h', 'g']\n"
     ]
    }
   ],
   "source": [
    "# computational thinking에서 홀수인덱스만 리스트에 담으세요..\n",
    "\n",
    "text = 'computational thinking'\n",
    "\n",
    "li = []\n",
    "for i in text:\n",
    " "
   ]
  },
  {
   "cell_type": "code",
   "execution_count": null,
   "id": "d54cb6ba",
   "metadata": {},
   "outputs": [],
   "source": []
  }
 ],
 "metadata": {
  "kernelspec": {
   "display_name": "Python 3.10.1 64-bit",
   "language": "python",
   "name": "python3101jvsc74a57bd08931d08a56ba8ec5bd4013e6d6c9066a90d099ecd0b9731835efa4c48cf46a24"
  },
  "language_info": {
   "codemirror_mode": {
    "name": "ipython",
    "version": 3
   },
   "file_extension": ".py",
   "mimetype": "text/x-python",
   "name": "python",
   "nbconvert_exporter": "python",
   "pygments_lexer": "ipython3",
   "version": "3.10.1"
  }
 },
 "nbformat": 4,
 "nbformat_minor": 5
}
