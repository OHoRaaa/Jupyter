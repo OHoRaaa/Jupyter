{
 "cells": [
  {
   "cell_type": "code",
   "execution_count": 36,
   "id": "ac181b6b",
   "metadata": {
    "scrolled": true
   },
   "outputs": [
    {
     "ename": "SyntaxError",
     "evalue": "invalid syntax (Temp/ipykernel_12708/4016689430.py, line 5)",
     "output_type": "error",
     "traceback": [
      "\u001b[1;36m  File \u001b[1;32m\"C:\\Users\\bitcamp\\AppData\\Local\\Temp/ipykernel_12708/4016689430.py\"\u001b[1;36m, line \u001b[1;32m5\u001b[0m\n\u001b[1;33m    sum = 0\u001b[0m\n\u001b[1;37m    ^\u001b[0m\n\u001b[1;31mSyntaxError\u001b[0m\u001b[1;31m:\u001b[0m invalid syntax\n"
     ]
    }
   ],
   "source": [
    "# If\n",
    "\n",
    "## 임의 정수(n)를 입력받은 후 0부터 n까지의 정수 중 짝수들의 합을 구하시오.\n",
    "num = int(input('임의의 수를 입력하시오')\n",
    "sum = 0\n",
    "for i in range(num):\n",
    "    if i % 2 == 0:\n",
    "        sum =+ i"
   ]
  },
  {
   "cell_type": "code",
   "execution_count": 37,
   "id": "a8d71cac",
   "metadata": {},
   "outputs": [
    {
     "name": "stdout",
     "output_type": "stream",
     "text": [
      "이름을 입력하세요mary\n",
      "1520\n"
     ]
    }
   ],
   "source": [
    "# names = {'mary':1520, 'tom':5214, 'park':5478, 'sams':5478}\n",
    "# 이름을 입력받은 후 names dict에 이름이 있으면 값을 출력하고,\n",
    "# 없으면 새로운 값 2000과 함께 dict에 'key':'value'로 추가\n",
    "# setdefault를 사용하지 않음..\n",
    "\n",
    "names = {'mary':1520, 'tom':5214, 'park':5478, 'sams':5478}\n",
    "\n",
    "nam = input('이름을 입력하세요')\n",
    "\n",
    "if nam in names:\n",
    "    print(names[nam])\n",
    "else:\n",
    "    names[nam] = 2000\n",
    "\n",
    "\n"
   ]
  },
  {
   "cell_type": "code",
   "execution_count": null,
   "id": "795eb72c",
   "metadata": {},
   "outputs": [],
   "source": [
    "# 학점 출력.. 점수를 입력받은 후..\n",
    "# 90점 이상이면 \"당신은 'A'학점입니다\"를 출력\n",
    "# 80점 이상이면서 90점 미만이면 \"당신은 'B'학점입니다\"를 출력\n",
    "# 70점 이상이면서 80점 미만이면 \"당신은 'C'학점입니다\"를 출력\n",
    "# 70점 미만이면 \"당신은 D학점입니다\"를 출력\n",
    "\n",
    "score = int(input('점수를 입력하세요'))\n",
    "if score >= 90:\n",
    "    print('A학점입니다')\n",
    "elif 90 > score >= 80:\n",
    "    print('B학점입니다')\n",
    "elif 80 > score >= 70:\n",
    "    print('C학점입니다')\n",
    "else:\n",
    "    print('D학점입니다')"
   ]
  },
  {
   "cell_type": "code",
   "execution_count": null,
   "id": "bed60102",
   "metadata": {},
   "outputs": [],
   "source": []
  },
  {
   "cell_type": "code",
   "execution_count": 46,
   "id": "ab846490",
   "metadata": {},
   "outputs": [
    {
     "name": "stdout",
     "output_type": "stream",
     "text": [
      "O I U "
     ]
    }
   ],
   "source": [
    "# For\n",
    "\n",
    "# text = 'python is fun' # text의 character를 모음만 대문자로 전환해서 출력하세요. 참고) 영어모음 = ‘aeiou’\n",
    "text = 'python is fun'\n",
    "for c in text:\n",
    "    if c in 'aeiou':\n",
    "        print(c.upper(), end = ' ')"
   ]
  },
  {
   "cell_type": "code",
   "execution_count": 47,
   "id": "a919f603",
   "metadata": {},
   "outputs": [
    {
     "name": "stdout",
     "output_type": "stream",
     "text": [
      "0 p\n",
      "1 y\n",
      "2 t\n",
      "3 h\n",
      "4 o\n",
      "5 n\n",
      "6  \n",
      "7 i\n",
      "8 s\n",
      "9  \n",
      "10 f\n",
      "11 u\n",
      "12 n\n",
      "0 p\n",
      "1 y\n",
      "2 t\n",
      "3 h\n",
      "4 o\n",
      "5 n\n",
      "6  \n",
      "7 i\n",
      "8 s\n",
      "9  \n",
      "10 f\n",
      "11 u\n",
      "12 n\n"
     ]
    }
   ],
   "source": [
    "# 위의 text의 문자를 index와 함께 출력하시오.\n",
    "text = 'python is fun' \n",
    "for i in range(len(text)):\n",
    "    print(i, text[i])\n",
    "\n",
    "for i,j in enumerate(text):\n",
    "    print(i,j)"
   ]
  },
  {
   "cell_type": "code",
   "execution_count": 32,
   "id": "aa2cb7c7",
   "metadata": {},
   "outputs": [
    {
     "data": {
      "text/plain": [
       "[2, 4, 6, 8, 10, 12, 14, 16, 18, 20]"
      ]
     },
     "execution_count": 32,
     "metadata": {},
     "output_type": "execute_result"
    }
   ],
   "source": [
    "# 1~20까지 수에서 짝수만 리스트에 담으세요.\n",
    "# => for문과 while문, list comprehension을 각각 활용\n",
    "\n",
    "even_list = []\n",
    "for i in range(1, 21):\n",
    "    if i % 2 == 0:\n",
    "        even_list.append(i)\n",
    "even_list\n",
    "\n",
    "\n",
    "even_list = []\n",
    "count = 0\n",
    "while count < 21:\n",
    "    if count % 2 == 0\"\n",
    "        even_list.append(count)\n",
    "    count += 1\n",
    "even_list\n",
    "\n",
    "[i for i in range(1, 21) if i % 2 == 0]"
   ]
  },
  {
   "cell_type": "code",
   "execution_count": 48,
   "id": "c8c9c88b",
   "metadata": {},
   "outputs": [
    {
     "name": "stdout",
     "output_type": "stream",
     "text": [
      "3\n",
      "4\n",
      "5\n",
      "6\n"
     ]
    }
   ],
   "source": [
    "# 1~10까지 정수를 출력하는 while문에서 continue와 break를 이용해서 3,4,5,6만 출력하도록 하시오.\n",
    "\n",
    "count = 0\n",
    "while count < 10:\n",
    "    count += 1\n",
    "    if count < 3:\n",
    "        continue\n",
    "    if count > 6:\n",
    "        break\n",
    "    print(count)\n",
    "    "
   ]
  },
  {
   "cell_type": "code",
   "execution_count": 51,
   "id": "35ee79dc",
   "metadata": {},
   "outputs": [
    {
     "data": {
      "text/plain": [
       "[('a', '가'), ('b', '나'), ('c', '다'), ('d', '라'), ('e', '마')]"
      ]
     },
     "execution_count": 51,
     "metadata": {},
     "output_type": "execute_result"
    }
   ],
   "source": [
    "# x = ['a','b','c','d','e'], y = ['가','나','다','라','마'] 두 리스트의 원소들의 모든 조합을 아래와 같이 출력하시오. =>\n",
    "# [('a','가'), ('a','나'), ('a', '다') ... ('e','라'), ('e', '마')]\n",
    "\n",
    "\n",
    "x = ['a','b','c','d','e'] \n",
    "y = ['가','나','다','라','마'] \n",
    "\n",
    "l = []\n",
    "for i in range(len(x)):\n",
    "    l.append((x[i], y[i]))\n",
    "l\n",
    "\n",
    "l = []\n",
    "for i in zip(x, y):\n",
    "    l.append(i)\n",
    "l\n",
    "\n"
   ]
  },
  {
   "cell_type": "code",
   "execution_count": 52,
   "id": "2d5cd080",
   "metadata": {},
   "outputs": [
    {
     "name": "stdout",
     "output_type": "stream",
     "text": [
      "['o', 'p', 't', 't', 'o', 'a', ' ', 'h', 'n', 'i', 'g']\n"
     ]
    }
   ],
   "source": [
    "# computational thinking에서 홀수인덱스만 리스트에 담으세요..\n",
    "\n",
    "text = 'computational thinking'\n",
    "L = []\n",
    "for i in range(1, len(text), 2):\n",
    "    L.append(text[i])\n",
    "print(L)\n"
   ]
  },
  {
   "cell_type": "code",
   "execution_count": 43,
   "id": "6d0321de",
   "metadata": {},
   "outputs": [
    {
     "name": "stdout",
     "output_type": "stream",
     "text": [
      "점수를 입력하시오50\n",
      "점수를 입력하시오10\n",
      "점수를 입력하시오5\n",
      "점수를 입력하시오6\n",
      "점수를 입력하시오3\n"
     ]
    },
    {
     "data": {
      "text/plain": [
       "14.8"
      ]
     },
     "execution_count": 43,
     "metadata": {},
     "output_type": "execute_result"
    }
   ],
   "source": [
    "# 점수를 5회 입력받은 후 평균을 출력하세요.\n",
    "\n",
    "count = 0\n",
    "score_sum = 0\n",
    "while count < 5:\n",
    "    score = int(input('점수를 입력하시오'))\n",
    "    score_sum += score\n",
    "    count += 1\n",
    "score_sum / 5"
   ]
  },
  {
   "cell_type": "code",
   "execution_count": 39,
   "id": "de30fdcc",
   "metadata": {},
   "outputs": [
    {
     "name": "stdout",
     "output_type": "stream",
     "text": [
      "0 p\n",
      "1 y\n",
      "2 t\n",
      "3 h\n",
      "4 o\n",
      "5 n\n",
      "6  \n",
      "7 i\n",
      "8 s\n",
      "9  \n",
      "10 f\n",
      "11 u\n",
      "12 n\n"
     ]
    }
   ],
   "source": [
    "# text = 'hello world'에서 각 문자를 인덱스와 함께 튜플로 묶어서 출력\n",
    "# (0, 'h'), (1, 'e') ...\n",
    "\n",
    "for i, j in enumerate(text):\n",
    "    print(i, j)"
   ]
  },
  {
   "cell_type": "code",
   "execution_count": 38,
   "id": "e2baf52c",
   "metadata": {},
   "outputs": [
    {
     "name": "stdout",
     "output_type": "stream",
     "text": [
      "1*1=11*2=21*3=31*4=41*5=51*6=61*7=71*8=81*9=92*1=22*2=42*3=62*4=82*5=102*6=122*7=142*8=162*9=183*1=33*2=63*3=93*4=123*5=153*6=183*7=213*8=243*9=274*1=44*2=84*3=124*4=164*5=204*6=244*7=284*8=324*9=365*1=55*2=105*3=155*4=205*5=255*6=305*7=355*8=405*9=456*1=66*2=126*3=186*4=246*5=306*6=366*7=426*8=486*9=547*1=77*2=147*3=217*4=287*5=357*6=427*7=497*8=567*9=638*1=88*2=168*3=248*4=328*5=408*6=488*7=568*8=648*9=729*1=99*2=189*3=279*4=369*5=459*6=549*7=639*8=729*9=81"
     ]
    }
   ],
   "source": [
    "# 구구단을 출력하시오...\n",
    "for i in range(1, 10):\n",
    "    for j in range(1, 10):\n",
    "        print('{}*{}={}'.format(i, j, i*j), end = '')"
   ]
  },
  {
   "cell_type": "code",
   "execution_count": null,
   "id": "3ccc6938",
   "metadata": {},
   "outputs": [],
   "source": []
  },
  {
   "cell_type": "code",
   "execution_count": 53,
   "id": "ab53a8da",
   "metadata": {
    "scrolled": true
   },
   "outputs": [
    {
     "name": "stdout",
     "output_type": "stream",
     "text": [
      "1\n",
      "정수를 입력하시오1\n",
      "2\n",
      "정수를 입력하시오2\n",
      "3\n",
      "정수를 입력하시오3\n",
      "4\n",
      "정수를 입력하시오4\n",
      "5\n",
      "정수를 입력하시오5\n",
      "6\n",
      "정수를 입력하시오50\n",
      "13.0\n"
     ]
    }
   ],
   "source": [
    "count = 0\n",
    "plus = 0\n",
    "while count <= 5:\n",
    "    count+=1\n",
    "    print(count)\n",
    "    a = int(input('정수를 입력하시오'))\n",
    "    plus += a\n",
    "print(plus/5)"
   ]
  },
  {
   "cell_type": "code",
   "execution_count": null,
   "id": "dd36fefe",
   "metadata": {},
   "outputs": [],
   "source": []
  }
 ],
 "metadata": {
  "kernelspec": {
   "display_name": "Python 3 (ipykernel)",
   "language": "python",
   "name": "python3"
  },
  "language_info": {
   "codemirror_mode": {
    "name": "ipython",
    "version": 3
   },
   "file_extension": ".py",
   "mimetype": "text/x-python",
   "name": "python",
   "nbconvert_exporter": "python",
   "pygments_lexer": "ipython3",
   "version": "3.9.7"
  }
 },
 "nbformat": 4,
 "nbformat_minor": 5
}
