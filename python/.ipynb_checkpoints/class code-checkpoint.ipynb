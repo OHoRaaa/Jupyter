{
 "cells": [
  {
   "cell_type": "code",
   "execution_count": 1,
   "id": "ed177efe",
   "metadata": {},
   "outputs": [],
   "source": [
    "# class\n",
    "\n",
    "# 자주 또는 함께 사용하는 함수들과 변수들을 하나의 덩어리로 묶어서 사용하자\n",
    "# class - 함수와 변수들의 덩어리\n",
    "# class 사용 - class를 복사해서 사용 => class를 복사한 것(instance)\n",
    "# class를 복사 => instance를 생성한다. 객체를 생성~\n",
    "\n",
    "# class 내에 있는 함수 - 메소드(method)\n",
    "# clss 내에 있는 변수 - 속성(attribute)\n",
    "\n",
    "# class - 붕어빵 기계, instance - 붕어빵"
   ]
  },
  {
   "cell_type": "code",
   "execution_count": 25,
   "id": "b2631ffe",
   "metadata": {},
   "outputs": [
    {
     "name": "stdout",
     "output_type": "stream",
     "text": [
      "====================\n",
      "Name: yuna\n",
      "Email yuna@hanmail.net:\n",
      "Address : Seoul\n",
      "====================\n"
     ]
    }
   ],
   "source": [
    "# 명함을 찍는 코드\n",
    "\n",
    "print('=' * 20)\n",
    "print('Name: {}'.format('yuna'))\n",
    "print('Email {}:'.format('yuna@hanmail.net'))\n",
    "print('Address : {}'.format('Seoul'))\n",
    "print('=' * 20)"
   ]
  },
  {
   "cell_type": "code",
   "execution_count": 26,
   "id": "ee3009f1",
   "metadata": {},
   "outputs": [],
   "source": [
    "# 함수\n",
    "\n",
    "def BusinessCard():\n",
    "    print('=' * 20)\n",
    "    print('Name: {}'.format('yuna'))\n",
    "    print('Email {}:'.format('yuna@hanmail.net'))\n",
    "    print('Address : {}'.format('Seoul'))\n",
    "    print('=' * 20)"
   ]
  },
  {
   "cell_type": "code",
   "execution_count": 27,
   "id": "e0a241d0",
   "metadata": {},
   "outputs": [],
   "source": [
    "# 매개변수\n",
    "\n",
    "def BusinessCard(name, email, address):\n",
    "    print('=' * 20)\n",
    "    print('Name: {}'.format('yuna'))\n",
    "    print('Email {}:'.format('yuna@hanmail.net'))\n",
    "    print('Address : {}'.format('Seoul'))\n",
    "    print('=' * 20)"
   ]
  },
  {
   "cell_type": "code",
   "execution_count": 28,
   "id": "b94decf0",
   "metadata": {},
   "outputs": [
    {
     "name": "stdout",
     "output_type": "stream",
     "text": [
      "====================\n",
      "Name: yuna\n",
      "Email yuna@hanmail.net:\n",
      "Address : Seoul\n",
      "====================\n"
     ]
    }
   ],
   "source": [
    "name = 'park'\n",
    "email = 'asd'\n",
    "address = 'aaaaaa'\n",
    "BusinessCard(name, email, address)"
   ]
  },
  {
   "cell_type": "code",
   "execution_count": null,
   "id": "21b4822f",
   "metadata": {},
   "outputs": [],
   "source": []
  },
  {
   "cell_type": "code",
   "execution_count": 7,
   "id": "d4f20667",
   "metadata": {},
   "outputs": [],
   "source": [
    "# class - 함께 사용하는 변수와 함수들을 묶자\n",
    "# 메소드가 self라는 매개변수를 받는다\n",
    "# 변수도 앞에 self를 붙인다 - 인스턴스 변수\n",
    "\n",
    "# self - 인스턴스의 주소값"
   ]
  },
  {
   "cell_type": "code",
   "execution_count": 29,
   "id": "e67081a6",
   "metadata": {},
   "outputs": [],
   "source": [
    "class BusinessCard:\n",
    "    name = 'park'\n",
    "    email = 'asd'\n",
    "    address = 'aaaaaa'\n",
    "    \n",
    "def BusinessCard(self, name, email, address):\n",
    "    print('=' * 20)\n",
    "    print('Name: {}'.format(name))\n",
    "    print('Email {}:'.format(email))\n",
    "    print('Address : {}'.format(address))\n",
    "    print('=' * 20)\n",
    "    \n",
    "    "
   ]
  },
  {
   "cell_type": "code",
   "execution_count": null,
   "id": "8e76f36e",
   "metadata": {},
   "outputs": [],
   "source": []
  },
  {
   "cell_type": "code",
   "execution_count": 31,
   "id": "fb5fa7db",
   "metadata": {},
   "outputs": [
    {
     "ename": "TypeError",
     "evalue": "BusinessCard() missing 4 required positional arguments: 'self', 'name', 'email', and 'address'",
     "output_type": "error",
     "traceback": [
      "\u001b[1;31m---------------------------------------------------------------------------\u001b[0m",
      "\u001b[1;31mTypeError\u001b[0m                                 Traceback (most recent call last)",
      "\u001b[1;32m~\\AppData\\Local\\Temp/ipykernel_13100/3712422296.py\u001b[0m in \u001b[0;36m<module>\u001b[1;34m\u001b[0m\n\u001b[1;32m----> 1\u001b[1;33m \u001b[0mbc\u001b[0m \u001b[1;33m=\u001b[0m \u001b[0mBusinessCard\u001b[0m\u001b[1;33m(\u001b[0m\u001b[1;33m)\u001b[0m\u001b[1;33m\u001b[0m\u001b[1;33m\u001b[0m\u001b[0m\n\u001b[0m\u001b[0;32m      2\u001b[0m \u001b[0mbc\u001b[0m\u001b[1;33m.\u001b[0m\u001b[0mBusinessCard\u001b[0m\u001b[1;33m(\u001b[0m\u001b[1;34m'park'\u001b[0m\u001b[1;33m,\u001b[0m \u001b[1;34m'park@'\u001b[0m\u001b[1;33m,\u001b[0m \u001b[1;34m'seoul'\u001b[0m\u001b[1;33m)\u001b[0m\u001b[1;33m\u001b[0m\u001b[1;33m\u001b[0m\u001b[0m\n",
      "\u001b[1;31mTypeError\u001b[0m: BusinessCard() missing 4 required positional arguments: 'self', 'name', 'email', and 'address'"
     ]
    }
   ],
   "source": [
    "bc = BusinessCard()\n",
    "bc.BusinessCard('park', 'park@', 'seoul')"
   ]
  },
  {
   "cell_type": "code",
   "execution_count": 32,
   "id": "b898ba0e",
   "metadata": {},
   "outputs": [],
   "source": [
    "# class를 사용하기 위해서 필요한 값들은 클래스를 복사하는 순간(인스턴스 생성)에 강제로 입력하도록 만들자\n",
    "\n",
    "# =>클래스가 복사되는 순간 set_info()함수가 강제로 실행되도록 한다\n",
    "# =>생성자 함수: 클래스가 복사되는 순간 강제로 실행되는 함수\n",
    "\n",
    "class BusinessCard:\n",
    "    \n",
    "    def __init__(self, name, email, address):\n",
    "        self.name = name     # self.변수 - 인스턴스 변수(특정 인스턴스 내에서만 공유되는 변수)\n",
    "        self.email = email\n",
    "        self.address = address\n",
    "    \n",
    "    def BusinessCard(self):\n",
    "        print('=' * 20)\n",
    "        print('Name: {}'.format(self.name))\n",
    "        print('Email {}:'.format(self.email))\n",
    "        print('Address : {}'.format(self.address))\n",
    "        print('=' * 20)"
   ]
  },
  {
   "cell_type": "code",
   "execution_count": 18,
   "id": "1db31489",
   "metadata": {},
   "outputs": [
    {
     "ename": "TypeError",
     "evalue": "BusinessCard() missing 4 required positional arguments: 'self', 'name', 'email', and 'address'",
     "output_type": "error",
     "traceback": [
      "\u001b[1;31m---------------------------------------------------------------------------\u001b[0m",
      "\u001b[1;31mTypeError\u001b[0m                                 Traceback (most recent call last)",
      "\u001b[1;32m~\\AppData\\Local\\Temp/ipykernel_13100/2198598189.py\u001b[0m in \u001b[0;36m<module>\u001b[1;34m\u001b[0m\n\u001b[1;32m----> 1\u001b[1;33m \u001b[0mbc\u001b[0m \u001b[1;33m=\u001b[0m \u001b[0mBusinessCard\u001b[0m\u001b[1;33m(\u001b[0m\u001b[1;33m)\u001b[0m\u001b[1;33m\u001b[0m\u001b[1;33m\u001b[0m\u001b[0m\n\u001b[0m",
      "\u001b[1;31mTypeError\u001b[0m: BusinessCard() missing 4 required positional arguments: 'self', 'name', 'email', and 'address'"
     ]
    }
   ],
   "source": [
    "bc = BusinessCard()"
   ]
  },
  {
   "cell_type": "code",
   "execution_count": 15,
   "id": "2b5f4fcd",
   "metadata": {},
   "outputs": [
    {
     "ename": "NameError",
     "evalue": "name 'bc' is not defined",
     "output_type": "error",
     "traceback": [
      "\u001b[1;31m---------------------------------------------------------------------------\u001b[0m",
      "\u001b[1;31mNameError\u001b[0m                                 Traceback (most recent call last)",
      "\u001b[1;32m~\\AppData\\Local\\Temp/ipykernel_13100/2668618677.py\u001b[0m in \u001b[0;36m<module>\u001b[1;34m\u001b[0m\n\u001b[1;32m----> 1\u001b[1;33m \u001b[0mbc\u001b[0m\u001b[1;33m.\u001b[0m\u001b[0mset_info\u001b[0m\u001b[1;33m(\u001b[0m\u001b[1;34m'yuna'\u001b[0m\u001b[1;33m,\u001b[0m \u001b[1;34m'yuna@hanmeil.net'\u001b[0m\u001b[1;33m,\u001b[0m \u001b[1;34m'seoul'\u001b[0m\u001b[1;33m)\u001b[0m\u001b[1;33m\u001b[0m\u001b[1;33m\u001b[0m\u001b[0m\n\u001b[0m",
      "\u001b[1;31mNameError\u001b[0m: name 'bc' is not defined"
     ]
    }
   ],
   "source": [
    "# 인스턴스는 class를 복사한 것 - class 내의 모든 메소드, 속성들을 복사해 옴\n",
    "# 인스턴스에서 복사해 온 class의 메소드나 변수를 사용할 때 '.' => 접근자\n",
    "bc.set_info('yuna', 'yuna@hanmeil.net', 'seoul')"
   ]
  },
  {
   "cell_type": "code",
   "execution_count": 16,
   "id": "be3f616a",
   "metadata": {},
   "outputs": [
    {
     "ename": "TypeError",
     "evalue": "BusinessCard() missing 4 required positional arguments: 'self', 'name', 'email', and 'address'",
     "output_type": "error",
     "traceback": [
      "\u001b[1;31m---------------------------------------------------------------------------\u001b[0m",
      "\u001b[1;31mTypeError\u001b[0m                                 Traceback (most recent call last)",
      "\u001b[1;32m~\\AppData\\Local\\Temp/ipykernel_13100/1968077353.py\u001b[0m in \u001b[0;36m<module>\u001b[1;34m\u001b[0m\n\u001b[1;32m----> 1\u001b[1;33m \u001b[0mbc1\u001b[0m \u001b[1;33m=\u001b[0m \u001b[0mBusinessCard\u001b[0m\u001b[1;33m(\u001b[0m\u001b[1;33m)\u001b[0m\u001b[1;33m\u001b[0m\u001b[1;33m\u001b[0m\u001b[0m\n\u001b[0m\u001b[0;32m      2\u001b[0m \u001b[0mbc1\u001b[0m\u001b[1;33m.\u001b[0m\u001b[0mset_info\u001b[0m\u001b[1;33m(\u001b[0m\u001b[1;34m'park'\u001b[0m\u001b[1;33m,\u001b[0m \u001b[1;34m'park@hanmail.net'\u001b[0m\u001b[1;33m,\u001b[0m \u001b[1;34m'incheon'\u001b[0m\u001b[1;33m)\u001b[0m\u001b[1;33m\u001b[0m\u001b[1;33m\u001b[0m\u001b[0m\n\u001b[0;32m      3\u001b[0m \u001b[0mbc1\u001b[0m\u001b[1;33m.\u001b[0m\u001b[0mBusinessCard\u001b[0m\u001b[1;33m(\u001b[0m\u001b[1;33m)\u001b[0m\u001b[1;33m\u001b[0m\u001b[1;33m\u001b[0m\u001b[0m\n",
      "\u001b[1;31mTypeError\u001b[0m: BusinessCard() missing 4 required positional arguments: 'self', 'name', 'email', and 'address'"
     ]
    }
   ],
   "source": [
    "bc1 = BusinessCard()\n",
    "bc1.set_info('park', 'park@hanmail.net', 'incheon')\n",
    "bc1.BusinessCard()"
   ]
  },
  {
   "cell_type": "code",
   "execution_count": null,
   "id": "124364fe",
   "metadata": {},
   "outputs": [],
   "source": [
    "bc2 = BusinessCard()\n",
    "bc2.BusinessCard()"
   ]
  },
  {
   "cell_type": "code",
   "execution_count": 17,
   "id": "6a9ed3be",
   "metadata": {},
   "outputs": [
    {
     "ename": "TypeError",
     "evalue": "BusinessCard() missing 4 required positional arguments: 'self', 'name', 'email', and 'address'",
     "output_type": "error",
     "traceback": [
      "\u001b[1;31m---------------------------------------------------------------------------\u001b[0m",
      "\u001b[1;31mTypeError\u001b[0m                                 Traceback (most recent call last)",
      "\u001b[1;32m~\\AppData\\Local\\Temp/ipykernel_13100/1299382809.py\u001b[0m in \u001b[0;36m<module>\u001b[1;34m\u001b[0m\n\u001b[1;32m----> 1\u001b[1;33m \u001b[0mbc2\u001b[0m \u001b[1;33m=\u001b[0m \u001b[0mBusinessCard\u001b[0m\u001b[1;33m(\u001b[0m\u001b[1;33m)\u001b[0m\u001b[1;33m\u001b[0m\u001b[1;33m\u001b[0m\u001b[0m\n\u001b[0m\u001b[0;32m      2\u001b[0m \u001b[0mbc2\u001b[0m\u001b[1;33m.\u001b[0m\u001b[0mset_info\u001b[0m\u001b[1;33m(\u001b[0m\u001b[1;34m'kim'\u001b[0m\u001b[1;33m,\u001b[0m \u001b[1;34m'kim@'\u001b[0m\u001b[1;33m,\u001b[0m \u001b[1;34m'busan'\u001b[0m\u001b[1;33m)\u001b[0m\u001b[1;33m\u001b[0m\u001b[1;33m\u001b[0m\u001b[0m\n\u001b[0;32m      3\u001b[0m \u001b[0mbc2\u001b[0m\u001b[1;33m.\u001b[0m\u001b[0mBusinessCard\u001b[0m\u001b[1;33m(\u001b[0m\u001b[1;33m)\u001b[0m\u001b[1;33m\u001b[0m\u001b[1;33m\u001b[0m\u001b[0m\n",
      "\u001b[1;31mTypeError\u001b[0m: BusinessCard() missing 4 required positional arguments: 'self', 'name', 'email', and 'address'"
     ]
    }
   ],
   "source": [
    "bc2 = BusinessCard()\n",
    "bc2.set_info('kim', 'kim@', 'busan')\n",
    "bc2.BusinessCard()"
   ]
  },
  {
   "cell_type": "code",
   "execution_count": null,
   "id": "17e6ac28",
   "metadata": {},
   "outputs": [],
   "source": []
  },
  {
   "cell_type": "code",
   "execution_count": 19,
   "id": "bfb06c82",
   "metadata": {},
   "outputs": [],
   "source": [
    "# class 변수\n",
    "# 특정 인스턴스 내부가 아닌, 모든 인스턴스에서 공유하는 변수\n",
    "# 클래스 변수의 정의 - 클래스 내에서 변수 앞에 self를 쓰지 않으면 class변수로 정의\n",
    "# 클래스 변수에 접근할 때는 클래스 명으로 접근\n",
    "# 인스턴스 변수로 클래스 변수에 접근하는 경우, 동일 이름의 인스턴스 변수가 없으면 가능\n",
    "\n",
    "# 인스턴스 변수 - 특정 인스턴스 내에서만 공유되는 변수"
   ]
  },
  {
   "cell_type": "code",
   "execution_count": 22,
   "id": "b6a1cb62",
   "metadata": {},
   "outputs": [],
   "source": [
    "class Circle:\n",
    "    pi = 3.14 # 클래스 변수\n",
    "    \n",
    "    def __init__(self,radius):\n",
    "        self.radius = radius\n",
    "    def area(self):\n",
    "        circle_area = Circle.pi * pow(self.radius, 2)\n",
    "        return circle_area\n",
    "    def perimeter(self):\n",
    "        circle_perimeter = Circle.pi * 2 * self.radius\n",
    "        return circle_perimeter"
   ]
  },
  {
   "cell_type": "code",
   "execution_count": 33,
   "id": "08a473a3",
   "metadata": {},
   "outputs": [],
   "source": [
    "cir = Circle(3)"
   ]
  },
  {
   "cell_type": "code",
   "execution_count": 34,
   "id": "6a6f304a",
   "metadata": {},
   "outputs": [
    {
     "data": {
      "text/plain": [
       "28.26"
      ]
     },
     "execution_count": 34,
     "metadata": {},
     "output_type": "execute_result"
    }
   ],
   "source": [
    "cir.area()"
   ]
  },
  {
   "cell_type": "code",
   "execution_count": null,
   "id": "6efd9245",
   "metadata": {},
   "outputs": [],
   "source": []
  },
  {
   "cell_type": "code",
   "execution_count": 35,
   "id": "44977e85",
   "metadata": {},
   "outputs": [],
   "source": [
    "# 상속"
   ]
  },
  {
   "cell_type": "code",
   "execution_count": 36,
   "id": "151f63fb",
   "metadata": {},
   "outputs": [],
   "source": [
    "class Parent:\n",
    "    def can_sing(self):\n",
    "        print('sing a song')"
   ]
  },
  {
   "cell_type": "code",
   "execution_count": 37,
   "id": "f9833500",
   "metadata": {},
   "outputs": [],
   "source": [
    "p = Parent()"
   ]
  },
  {
   "cell_type": "code",
   "execution_count": 38,
   "id": "fbf4c1aa",
   "metadata": {},
   "outputs": [
    {
     "name": "stdout",
     "output_type": "stream",
     "text": [
      "sing a song\n"
     ]
    }
   ],
   "source": [
    "p.can_sing()"
   ]
  },
  {
   "cell_type": "code",
   "execution_count": 39,
   "id": "cc4816c6",
   "metadata": {},
   "outputs": [],
   "source": [
    "# Parent class를 상속  => Parent class의 모든 요소를 가져옴\n",
    "\n",
    "class Child(Parent):      \n",
    "    pass"
   ]
  },
  {
   "cell_type": "code",
   "execution_count": 40,
   "id": "0187f6af",
   "metadata": {},
   "outputs": [],
   "source": [
    "c=Child()"
   ]
  },
  {
   "cell_type": "code",
   "execution_count": 41,
   "id": "58ebe586",
   "metadata": {},
   "outputs": [
    {
     "name": "stdout",
     "output_type": "stream",
     "text": [
      "sing a song\n"
     ]
    }
   ],
   "source": [
    "c.can_sing()"
   ]
  },
  {
   "cell_type": "code",
   "execution_count": 42,
   "id": "a1b07f84",
   "metadata": {},
   "outputs": [],
   "source": [
    "class Child(Parent):\n",
    "    def can_dance(self):\n",
    "        print('play dancing')"
   ]
  },
  {
   "cell_type": "code",
   "execution_count": 43,
   "id": "e0a1b09d",
   "metadata": {},
   "outputs": [],
   "source": [
    "c=Child()"
   ]
  },
  {
   "cell_type": "code",
   "execution_count": 44,
   "id": "d2e1d7fb",
   "metadata": {},
   "outputs": [
    {
     "name": "stdout",
     "output_type": "stream",
     "text": [
      "sing a song\n"
     ]
    }
   ],
   "source": [
    "c.can_sing()  # 부모 클래스로부터 상속 받은 메소드"
   ]
  },
  {
   "cell_type": "code",
   "execution_count": 45,
   "id": "ab83cddf",
   "metadata": {},
   "outputs": [
    {
     "name": "stdout",
     "output_type": "stream",
     "text": [
      "play dancing\n"
     ]
    }
   ],
   "source": [
    "c.can_dance() # 자신의 메소드"
   ]
  },
  {
   "cell_type": "code",
   "execution_count": null,
   "id": "a07e8b08",
   "metadata": {},
   "outputs": [],
   "source": []
  },
  {
   "cell_type": "code",
   "execution_count": 46,
   "id": "d9eef498",
   "metadata": {},
   "outputs": [],
   "source": [
    "# quiz\n",
    "# 임의의 정수 2개를 인스턴스 변수로 받은 후 \n",
    "# 사칙연산의 메소드를 가진 클래스를 정의하고 (add, mul, div, sub)\n",
    "# 객체를 만들어서 메소드를 실행하시오"
   ]
  },
  {
   "cell_type": "code",
   "execution_count": 61,
   "id": "49764cb7",
   "metadata": {},
   "outputs": [],
   "source": [
    "class FourCal:\n",
    "    \n",
    "    def __init__(self,x,y):\n",
    "        self.x = x\n",
    "        self.y = y\n",
    "        \n",
    "    def addf(self):\n",
    "        result = self.x + self.y\n",
    "        return result\n",
    "    \n",
    "    def mulf(self):\n",
    "        result = self.x + self.y\n",
    "        return result\n",
    "    \n",
    "    def subf(self):\n",
    "        result = self.x - self.y\n",
    "        return result"
   ]
  },
  {
   "cell_type": "code",
   "execution_count": 62,
   "id": "e4c0155d",
   "metadata": {},
   "outputs": [],
   "source": [
    "cal = FourCal(2,4)"
   ]
  },
  {
   "cell_type": "code",
   "execution_count": 63,
   "id": "aca0f902",
   "metadata": {},
   "outputs": [
    {
     "data": {
      "text/plain": [
       "6"
      ]
     },
     "execution_count": 63,
     "metadata": {},
     "output_type": "execute_result"
    }
   ],
   "source": [
    "cal.addf()"
   ]
  },
  {
   "cell_type": "code",
   "execution_count": null,
   "id": "6bd6c341",
   "metadata": {},
   "outputs": [],
   "source": []
  },
  {
   "cell_type": "code",
   "execution_count": 67,
   "id": "a9c45a05",
   "metadata": {},
   "outputs": [],
   "source": [
    "class FourCal1(FourCal):\n",
    "    def powf(self):\n",
    "        result = self.x ** self.y\n",
    "        return result"
   ]
  },
  {
   "cell_type": "code",
   "execution_count": null,
   "id": "4861f831",
   "metadata": {},
   "outputs": [],
   "source": []
  },
  {
   "cell_type": "code",
   "execution_count": 70,
   "id": "f8f611a6",
   "metadata": {},
   "outputs": [],
   "source": [
    "class SafeCal(FourCal):\n",
    "    def divf(self):             # 부모 클래스의 메소드를 수정 => override\n",
    "        if self.y == 0:\n",
    "            return 0\n",
    "        else:\n",
    "            return self.x / self.y"
   ]
  },
  {
   "cell_type": "code",
   "execution_count": 72,
   "id": "37ea960c",
   "metadata": {},
   "outputs": [],
   "source": [
    "sc = SafeCal(2, 0)"
   ]
  },
  {
   "cell_type": "code",
   "execution_count": 74,
   "id": "834a4e21",
   "metadata": {},
   "outputs": [
    {
     "data": {
      "text/plain": [
       "0"
      ]
     },
     "execution_count": 74,
     "metadata": {},
     "output_type": "execute_result"
    }
   ],
   "source": [
    "sc.divf()"
   ]
  },
  {
   "cell_type": "code",
   "execution_count": null,
   "id": "90bfbff0",
   "metadata": {},
   "outputs": [],
   "source": []
  },
  {
   "cell_type": "code",
   "execution_count": 75,
   "id": "c5c5e695",
   "metadata": {},
   "outputs": [],
   "source": [
    "# 클래스 메소드\n",
    "# 스테틱 메소드"
   ]
  },
  {
   "cell_type": "code",
   "execution_count": 76,
   "id": "00f89aee",
   "metadata": {},
   "outputs": [],
   "source": [
    "class Sam:\n",
    "    data = 'Python'    # 클래스 변수\n",
    "    \n",
    "    def __init__(self):\n",
    "        self.data1 = 'korea'   # 인스턴스 변수\n",
    "    def instance_method(self):\n",
    "        print('instance method :',self.data1)\n",
    "        \n",
    "    @classmethod\n",
    "    def class_method(cls):     # 클래스 메소드, cls 키워드로 클래스 변수에 접근\n",
    "        print('class method :', cls.data)\n",
    "        \n",
    "    # 스테틱 메소드, self, cls 매개변수를 받지 않음\n",
    "    def static_method():\n",
    "        print('static method :', Sam.data)\n",
    "        "
   ]
  },
  {
   "cell_type": "code",
   "execution_count": 77,
   "id": "675bb929",
   "metadata": {},
   "outputs": [],
   "source": [
    "s = Sam()"
   ]
  },
  {
   "cell_type": "code",
   "execution_count": 79,
   "id": "7af5a3b7",
   "metadata": {},
   "outputs": [
    {
     "name": "stdout",
     "output_type": "stream",
     "text": [
      "instance method : korea\n",
      "class method : Python\n",
      "static method : Python\n"
     ]
    }
   ],
   "source": [
    "s.instance_method()\n",
    "s.class_method()\n",
    "Sam.static_method()"
   ]
  },
  {
   "cell_type": "code",
   "execution_count": 80,
   "id": "b796afc3",
   "metadata": {},
   "outputs": [
    {
     "name": "stdout",
     "output_type": "stream",
     "text": [
      "class method : Python\n"
     ]
    }
   ],
   "source": [
    "Sam.class_method()"
   ]
  },
  {
   "cell_type": "code",
   "execution_count": 81,
   "id": "204e26d7",
   "metadata": {},
   "outputs": [
    {
     "name": "stdout",
     "output_type": "stream",
     "text": [
      "class method : Python\n"
     ]
    }
   ],
   "source": [
    "Sam.class_method()"
   ]
  },
  {
   "cell_type": "code",
   "execution_count": 82,
   "id": "c2255076",
   "metadata": {},
   "outputs": [],
   "source": [
    "# 클래스 메소드나 스테틱 메소드는 객체를 생성하지 않고 클래스명으로 바로 호출 가능\n",
    "# 클래스 메소드와 스테틱 메소드는 클래스 변수에만 접근이 가능하다\n",
    "# 클래스 메소드 cls 키워드를 사용\n",
    "# 스테틱 메소드 cls를 사용하지 않고 클래스 명으로 호출한다"
   ]
  },
  {
   "cell_type": "code",
   "execution_count": null,
   "id": "ccb2c9c4",
   "metadata": {},
   "outputs": [],
   "source": []
  },
  {
   "cell_type": "code",
   "execution_count": 83,
   "id": "7400c8db",
   "metadata": {},
   "outputs": [],
   "source": [
    "# 학생리스트"
   ]
  },
  {
   "cell_type": "code",
   "execution_count": 87,
   "id": "f5ba19fe",
   "metadata": {},
   "outputs": [],
   "source": [
    "students = [\n",
    "    {'name':'윤인성', 'korean':87, 'math':98, 'english':45, 'science':35},\n",
    "    {'name':'박민수', 'korean':98, 'math':54, 'english':34, 'science':45},\n",
    "    {'name':'박철호', 'korean':67, 'math':15, 'english':77, 'science':56},\n",
    "    {'name':'이호성', 'korean':48, 'math':78, 'english':44, 'science':67},\n",
    "    {'name':'최민수', 'korean':27, 'math':24, 'english':11, 'science':78},\n",
    "    {'name':'유인태', 'korean':78, 'math':94, 'english':22, 'science':89}\n",
    "]"
   ]
  },
  {
   "cell_type": "code",
   "execution_count": 88,
   "id": "1d66a098",
   "metadata": {},
   "outputs": [],
   "source": [
    "# 이름      총점    평점\n",
    "# 윤인성     ?       ?\n",
    "# 박민수     ?       ?"
   ]
  },
  {
   "cell_type": "code",
   "execution_count": 95,
   "id": "91e2bddd",
   "metadata": {},
   "outputs": [
    {
     "name": "stdout",
     "output_type": "stream",
     "text": [
      "name 총점 평점\n",
      "윤인성\t265\t66.25\n",
      "박민수\t231\t57.75\n",
      "박철호\t215\t53.75\n",
      "이호성\t237\t59.25\n",
      "최민수\t140\t35.0\n",
      "유인태\t283\t70.75\n"
     ]
    }
   ],
   "source": [
    "print('name', '총점', '평점')\n",
    "for s in students:\n",
    "    sum = s['korean'] + s['math'] + s['english'] + s['science']\n",
    "    ave = sum / 4\n",
    "    print(s['name'], sum, ave, sep = '\\t')"
   ]
  },
  {
   "cell_type": "code",
   "execution_count": 96,
   "id": "ef45e5f9",
   "metadata": {},
   "outputs": [],
   "source": [
    "def create_student(name, kor, math, eng, sci):\n",
    "    return{'name':name, 'korean':kor, 'math':math, 'english':eng, 'science':sci}"
   ]
  },
  {
   "cell_type": "code",
   "execution_count": 97,
   "id": "5c97e171",
   "metadata": {},
   "outputs": [],
   "source": [
    "def student_get_sum(s):\n",
    "    return s['koean'] + s['math'] + s['english'] + s['science']"
   ]
  },
  {
   "cell_type": "code",
   "execution_count": 98,
   "id": "4d55d5e3",
   "metadata": {},
   "outputs": [],
   "source": [
    "def student_get_average(s):\n",
    "    return student_get_sum(s)/4"
   ]
  },
  {
   "cell_type": "code",
   "execution_count": 99,
   "id": "62f8d1bc",
   "metadata": {},
   "outputs": [],
   "source": [
    "def student_to_string(s):\n",
    "    return '{}\\t{}\\t{}'.format(s['name'], student_get_sum(s), student_get_average(s))"
   ]
  },
  {
   "cell_type": "code",
   "execution_count": 100,
   "id": "d8fdc5ad",
   "metadata": {},
   "outputs": [
    {
     "ename": "KeyError",
     "evalue": "'koean'",
     "output_type": "error",
     "traceback": [
      "\u001b[1;31m---------------------------------------------------------------------------\u001b[0m",
      "\u001b[1;31mKeyError\u001b[0m                                  Traceback (most recent call last)",
      "\u001b[1;32m~\\AppData\\Local\\Temp/ipykernel_13100/3679160848.py\u001b[0m in \u001b[0;36m<module>\u001b[1;34m\u001b[0m\n\u001b[0;32m      9\u001b[0m \u001b[1;33m\u001b[0m\u001b[0m\n\u001b[0;32m     10\u001b[0m \u001b[1;32mfor\u001b[0m \u001b[0mi\u001b[0m \u001b[1;32min\u001b[0m \u001b[0ms\u001b[0m\u001b[1;33m:\u001b[0m\u001b[1;33m\u001b[0m\u001b[1;33m\u001b[0m\u001b[0m\n\u001b[1;32m---> 11\u001b[1;33m     \u001b[0mprint\u001b[0m\u001b[1;33m(\u001b[0m\u001b[0mstudent_to_string\u001b[0m\u001b[1;33m(\u001b[0m\u001b[0mi\u001b[0m\u001b[1;33m)\u001b[0m\u001b[1;33m)\u001b[0m\u001b[1;33m\u001b[0m\u001b[1;33m\u001b[0m\u001b[0m\n\u001b[0m",
      "\u001b[1;32m~\\AppData\\Local\\Temp/ipykernel_13100/1052373297.py\u001b[0m in \u001b[0;36mstudent_to_string\u001b[1;34m(s)\u001b[0m\n\u001b[0;32m      1\u001b[0m \u001b[1;32mdef\u001b[0m \u001b[0mstudent_to_string\u001b[0m\u001b[1;33m(\u001b[0m\u001b[0ms\u001b[0m\u001b[1;33m)\u001b[0m\u001b[1;33m:\u001b[0m\u001b[1;33m\u001b[0m\u001b[1;33m\u001b[0m\u001b[0m\n\u001b[1;32m----> 2\u001b[1;33m     \u001b[1;32mreturn\u001b[0m \u001b[1;34m'{}\\t{}\\t{}'\u001b[0m\u001b[1;33m.\u001b[0m\u001b[0mformat\u001b[0m\u001b[1;33m(\u001b[0m\u001b[0ms\u001b[0m\u001b[1;33m[\u001b[0m\u001b[1;34m'name'\u001b[0m\u001b[1;33m]\u001b[0m\u001b[1;33m,\u001b[0m \u001b[0mstudent_get_sum\u001b[0m\u001b[1;33m(\u001b[0m\u001b[0ms\u001b[0m\u001b[1;33m)\u001b[0m\u001b[1;33m,\u001b[0m \u001b[0mstudent_get_average\u001b[0m\u001b[1;33m(\u001b[0m\u001b[0ms\u001b[0m\u001b[1;33m)\u001b[0m\u001b[1;33m)\u001b[0m\u001b[1;33m\u001b[0m\u001b[1;33m\u001b[0m\u001b[0m\n\u001b[0m",
      "\u001b[1;32m~\\AppData\\Local\\Temp/ipykernel_13100/1944568967.py\u001b[0m in \u001b[0;36mstudent_get_sum\u001b[1;34m(s)\u001b[0m\n\u001b[0;32m      1\u001b[0m \u001b[1;32mdef\u001b[0m \u001b[0mstudent_get_sum\u001b[0m\u001b[1;33m(\u001b[0m\u001b[0ms\u001b[0m\u001b[1;33m)\u001b[0m\u001b[1;33m:\u001b[0m\u001b[1;33m\u001b[0m\u001b[1;33m\u001b[0m\u001b[0m\n\u001b[1;32m----> 2\u001b[1;33m     \u001b[1;32mreturn\u001b[0m \u001b[0ms\u001b[0m\u001b[1;33m[\u001b[0m\u001b[1;34m'koean'\u001b[0m\u001b[1;33m]\u001b[0m \u001b[1;33m+\u001b[0m \u001b[0ms\u001b[0m\u001b[1;33m[\u001b[0m\u001b[1;34m'math'\u001b[0m\u001b[1;33m]\u001b[0m \u001b[1;33m+\u001b[0m \u001b[0ms\u001b[0m\u001b[1;33m[\u001b[0m\u001b[1;34m'english'\u001b[0m\u001b[1;33m]\u001b[0m \u001b[1;33m+\u001b[0m \u001b[0ms\u001b[0m\u001b[1;33m[\u001b[0m\u001b[1;34m'science'\u001b[0m\u001b[1;33m]\u001b[0m\u001b[1;33m\u001b[0m\u001b[1;33m\u001b[0m\u001b[0m\n\u001b[0m",
      "\u001b[1;31mKeyError\u001b[0m: 'koean'"
     ]
    }
   ],
   "source": [
    "s = [\n",
    "    create_student('윤인성', 12,34,77,55),\n",
    "    create_student('박척순', 12,23,88,89),\n",
    "    create_student('김민수', 13,34,99,23),\n",
    "    create_student('김도현', 14,45,44,27),\n",
    "    create_student('박철순', 15,56,52,90),\n",
    "    create_student('이민성', 16,67,22,70),\n",
    "]\n",
    "\n",
    "for i in s:\n",
    "    print(student_to_string(i))"
   ]
  },
  {
   "cell_type": "code",
   "execution_count": 101,
   "id": "8301f12b",
   "metadata": {},
   "outputs": [
    {
     "ename": "SyntaxError",
     "evalue": "invalid syntax (Temp/ipykernel_13100/177054582.py, line 12)",
     "output_type": "error",
     "traceback": [
      "\u001b[1;36m  File \u001b[1;32m\"C:\\Users\\bitcamp\\AppData\\Local\\Temp/ipykernel_13100/177054582.py\"\u001b[1;36m, line \u001b[1;32m12\u001b[0m\n\u001b[1;33m    def get+average(self):\u001b[0m\n\u001b[1;37m           ^\u001b[0m\n\u001b[1;31mSyntaxError\u001b[0m\u001b[1;31m:\u001b[0m invalid syntax\n"
     ]
    }
   ],
   "source": [
    "class Student:\n",
    "    def __init__(self, name, kor, math, eng, sci):\n",
    "        self.name = name\n",
    "        self.kor = kor\n",
    "        self.math = math\n",
    "        self.eng = eng\n",
    "        self.sci\n",
    "    \n",
    "    def get_sum(self):\n",
    "        return self.kor + self.math + self.eng + self.sci\n",
    "    \n",
    "    def get+average(self):\n",
    "        return self.get_sum()/4\n",
    "    \n",
    "    def to_string():\n",
    "        return '{}\\t{}\\t{}'.format(self.name, self.get_sum(), self.get_average())"
   ]
  },
  {
   "cell_type": "code",
   "execution_count": 103,
   "id": "f2d28417",
   "metadata": {},
   "outputs": [
    {
     "ename": "AttributeError",
     "evalue": "'dict' object has no attribute 'to_string'",
     "output_type": "error",
     "traceback": [
      "\u001b[1;31m---------------------------------------------------------------------------\u001b[0m",
      "\u001b[1;31mAttributeError\u001b[0m                            Traceback (most recent call last)",
      "\u001b[1;32m~\\AppData\\Local\\Temp/ipykernel_13100/897137632.py\u001b[0m in \u001b[0;36m<module>\u001b[1;34m\u001b[0m\n\u001b[0;32m      9\u001b[0m \u001b[1;33m\u001b[0m\u001b[0m\n\u001b[0;32m     10\u001b[0m \u001b[1;32mfor\u001b[0m \u001b[0ms\u001b[0m \u001b[1;32min\u001b[0m \u001b[0mstudents\u001b[0m\u001b[1;33m:\u001b[0m\u001b[1;33m\u001b[0m\u001b[1;33m\u001b[0m\u001b[0m\n\u001b[1;32m---> 11\u001b[1;33m     \u001b[0mprint\u001b[0m\u001b[1;33m(\u001b[0m\u001b[0ms\u001b[0m\u001b[1;33m.\u001b[0m\u001b[0mto_string\u001b[0m\u001b[1;33m(\u001b[0m\u001b[1;33m)\u001b[0m\u001b[1;33m)\u001b[0m\u001b[1;33m\u001b[0m\u001b[1;33m\u001b[0m\u001b[0m\n\u001b[0m",
      "\u001b[1;31mAttributeError\u001b[0m: 'dict' object has no attribute 'to_string'"
     ]
    }
   ],
   "source": [
    "students = [\n",
    "    create_student('윤인성', 12,34,77,55),\n",
    "    create_student('박척순', 12,23,88,89),\n",
    "    create_student('김민수', 13,34,99,23),\n",
    "    create_student('김도현', 14,45,44,27),\n",
    "    create_student('박철순', 15,56,52,90),\n",
    "    create_student('이민성', 16,67,22,70),\n",
    "]\n",
    "\n",
    "for s in students:\n",
    "    print(s.to_string())"
   ]
  },
  {
   "cell_type": "code",
   "execution_count": null,
   "id": "d73a2dbe",
   "metadata": {},
   "outputs": [],
   "source": []
  },
  {
   "cell_type": "code",
   "execution_count": 104,
   "id": "de66cb50",
   "metadata": {},
   "outputs": [],
   "source": [
    "# 은닉화\n",
    "# 클래스 내에서 변수의 값을 노출시키고 싶지 않을 때, 변수를 은닉화"
   ]
  },
  {
   "cell_type": "code",
   "execution_count": 114,
   "id": "0b00e6c0",
   "metadata": {},
   "outputs": [],
   "source": [
    "import math\n",
    "\n",
    "class Circle:\n",
    "    def __init__(self, radius):\n",
    "        self.__radius = radius   # __변수명 : 외부에서 접근 금지. 클래스 내의 메소드에서만 접근 가능\n",
    "    def get_circumference(self):\n",
    "        return 2 * math.pi * self.__radius\n",
    "    def get_area(self):\n",
    "        return math.pi * (self.__radius ** 2)\n",
    "    \n",
    "    # 게터와 세터\n",
    "    # 게터 : 은닉된 변수의 값을 얻어올 수 있는 메소드\n",
    "    # 세터 : 은닉된 변수의 값을 수정할 수 있도록 하는 메소드\n",
    "    @property\n",
    "    def get_radius(self):\n",
    "        return self.__radius\n",
    "    @get_radius.setter\n",
    "    def set_radius(self, value):\n",
    "        if value >= 0:\n",
    "            raise TypeError('길이는 양의 숫자이어야 합니다.')\n",
    "        self.__ragius = value"
   ]
  },
  {
   "cell_type": "code",
   "execution_count": 115,
   "id": "e6e0119b",
   "metadata": {},
   "outputs": [],
   "source": [
    "cir = Circle(2)"
   ]
  },
  {
   "cell_type": "code",
   "execution_count": 116,
   "id": "c337d76b",
   "metadata": {},
   "outputs": [
    {
     "data": {
      "text/plain": [
       "12.566370614359172"
      ]
     },
     "execution_count": 116,
     "metadata": {},
     "output_type": "execute_result"
    }
   ],
   "source": [
    "cir.get_circumference()"
   ]
  },
  {
   "cell_type": "code",
   "execution_count": 117,
   "id": "77a7915a",
   "metadata": {
    "collapsed": true
   },
   "outputs": [
    {
     "ename": "AttributeError",
     "evalue": "'Circle' object has no attribute '__radius'",
     "output_type": "error",
     "traceback": [
      "\u001b[1;31m---------------------------------------------------------------------------\u001b[0m",
      "\u001b[1;31mAttributeError\u001b[0m                            Traceback (most recent call last)",
      "\u001b[1;32m~\\AppData\\Local\\Temp/ipykernel_13100/1304683988.py\u001b[0m in \u001b[0;36m<module>\u001b[1;34m\u001b[0m\n\u001b[1;32m----> 1\u001b[1;33m \u001b[0mcir\u001b[0m\u001b[1;33m.\u001b[0m\u001b[0m__radius\u001b[0m\u001b[1;33m\u001b[0m\u001b[1;33m\u001b[0m\u001b[0m\n\u001b[0m",
      "\u001b[1;31mAttributeError\u001b[0m: 'Circle' object has no attribute '__radius'"
     ]
    }
   ],
   "source": [
    "cir.__radius # 외부에서 접근이 안됨"
   ]
  },
  {
   "cell_type": "code",
   "execution_count": null,
   "id": "0a246013",
   "metadata": {},
   "outputs": [],
   "source": []
  }
 ],
 "metadata": {
  "kernelspec": {
   "display_name": "Python 3 (ipykernel)",
   "language": "python",
   "name": "python3"
  },
  "language_info": {
   "codemirror_mode": {
    "name": "ipython",
    "version": 3
   },
   "file_extension": ".py",
   "mimetype": "text/x-python",
   "name": "python",
   "nbconvert_exporter": "python",
   "pygments_lexer": "ipython3",
   "version": "3.9.7"
  }
 },
 "nbformat": 4,
 "nbformat_minor": 5
}
