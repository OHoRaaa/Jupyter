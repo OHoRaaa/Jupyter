{
 "cells": [
  {
   "cell_type": "code",
   "execution_count": 94,
   "id": "e0cda75e",
   "metadata": {},
   "outputs": [],
   "source": [
    "# https://www.amazon.com/bestsellers\n",
    "# 위 사이트에서 appliances 카테고리의 모든 제품의 랭킹, 타이틀, 점수, 댓글수, 가격 정보를 출력하시오"
   ]
  },
  {
   "cell_type": "code",
   "execution_count": 95,
   "id": "ecd6f74d",
   "metadata": {},
   "outputs": [],
   "source": [
    "from bs4 import BeautifulSoup\n",
    "import requests"
   ]
  },
  {
   "cell_type": "code",
   "execution_count": 96,
   "id": "6517ac7f",
   "metadata": {},
   "outputs": [],
   "source": [
    "from selenium import webdriver"
   ]
  },
  {
   "cell_type": "code",
   "execution_count": 97,
   "id": "e7535540",
   "metadata": {},
   "outputs": [],
   "source": [
    "url = 'https://www.amazon.com/bestsellers'\n",
    "\n"
   ]
  },
  {
   "cell_type": "code",
   "execution_count": 98,
   "id": "3ff7bfc3",
   "metadata": {},
   "outputs": [],
   "source": [
    "driver = webdriver.Chrome()"
   ]
  },
  {
   "cell_type": "code",
   "execution_count": 99,
   "id": "49be9734",
   "metadata": {},
   "outputs": [],
   "source": [
    "driver.get(url)"
   ]
  },
  {
   "cell_type": "code",
   "execution_count": 100,
   "id": "7a0f138c",
   "metadata": {
    "scrolled": true
   },
   "outputs": [
    {
     "name": "stderr",
     "output_type": "stream",
     "text": [
      "C:\\Users\\bitcamp\\AppData\\Local\\Temp/ipykernel_13168/3958995127.py:2: DeprecationWarning: find_element_by_* commands are deprecated. Please use find_element() instead\n",
      "  driver.find_element_by_css_selector(path).click()\n"
     ]
    }
   ],
   "source": [
    "path = '#CardInstanceCLYvG3hNjZXI3BxUdVjpOw > div._p13n-zg-nav-tree-all_style_zg-browse-group__88fbz > div:nth-child(4) > a'\n",
    "driver.find_element_by_css_selector(path).click()\n",
    "\n",
    "\n"
   ]
  },
  {
   "cell_type": "code",
   "execution_count": 93,
   "id": "84d20447",
   "metadata": {},
   "outputs": [],
   "source": [
    "html = driver.page_source\n",
    "soup = BeautifulSoup(html, 'html.parser')"
   ]
  },
  {
   "cell_type": "code",
   "execution_count": null,
   "id": "b7e2209d",
   "metadata": {},
   "outputs": [],
   "source": []
  }
 ],
 "metadata": {
  "kernelspec": {
   "display_name": "Python 3 (ipykernel)",
   "language": "python",
   "name": "python3"
  },
  "language_info": {
   "codemirror_mode": {
    "name": "ipython",
    "version": 3
   },
   "file_extension": ".py",
   "mimetype": "text/x-python",
   "name": "python",
   "nbconvert_exporter": "python",
   "pygments_lexer": "ipython3",
   "version": "3.9.7"
  }
 },
 "nbformat": 4,
 "nbformat_minor": 5
}
