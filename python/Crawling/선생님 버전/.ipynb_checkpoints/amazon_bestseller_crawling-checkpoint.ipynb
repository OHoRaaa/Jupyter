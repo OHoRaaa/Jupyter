{
 "cells": [
  {
   "cell_type": "code",
   "execution_count": 1,
   "id": "6328ed48",
   "metadata": {},
   "outputs": [],
   "source": [
    "# https://www.amazon.com/bestsellers\n",
    "# 위 사이트에서 appliances카테고리의 모든 제품의 랭킹, 타이틀, 댓글수, 가격 정보를 출력하시오..\n",
    "# 총 제품의 수는 100개.."
   ]
  },
  {
   "cell_type": "code",
   "execution_count": 2,
   "id": "b684676a",
   "metadata": {},
   "outputs": [],
   "source": [
    "from selenium import webdriver\n",
    "from bs4 import BeautifulSoup\n",
    "import time"
   ]
  },
  {
   "cell_type": "code",
   "execution_count": 3,
   "id": "ca72401f",
   "metadata": {},
   "outputs": [],
   "source": [
    "driver = webdriver.Chrome()"
   ]
  },
  {
   "cell_type": "code",
   "execution_count": 4,
   "id": "77c66fc9",
   "metadata": {},
   "outputs": [],
   "source": [
    "url = 'https://www.amazon.com/bestsellers'"
   ]
  },
  {
   "cell_type": "code",
   "execution_count": 5,
   "id": "482762ba",
   "metadata": {},
   "outputs": [],
   "source": [
    "driver.get(url)"
   ]
  },
  {
   "cell_type": "code",
   "execution_count": 6,
   "id": "ab8ea198",
   "metadata": {},
   "outputs": [
    {
     "name": "stderr",
     "output_type": "stream",
     "text": [
      "C:\\Users\\bitcamp\\AppData\\Local\\Temp/ipykernel_11336/236746476.py:1: DeprecationWarning: find_element_by_* commands are deprecated. Please use find_element() instead\n",
      "  driver.find_element_by_css_selector('#CardInstanceHCzYddMkAjCK7n72VdUdzg > div._p13n-zg-nav-tree-all_style_zg-browse-group__88fbz > div:nth-child(4) > a').click()\n"
     ]
    },
    {
     "ename": "NoSuchElementException",
     "evalue": "Message: no such element: Unable to locate element: {\"method\":\"css selector\",\"selector\":\"#CardInstanceHCzYddMkAjCK7n72VdUdzg > div._p13n-zg-nav-tree-all_style_zg-browse-group__88fbz > div:nth-child(4) > a\"}\n  (Session info: chrome=97.0.4692.99)\nStacktrace:\nBacktrace:\n\tOrdinal0 [0x00A9FDC3+2555331]\n\tOrdinal0 [0x00A377F1+2127857]\n\tOrdinal0 [0x00932E08+1060360]\n\tOrdinal0 [0x0095E49E+1238174]\n\tOrdinal0 [0x0095E69B+1238683]\n\tOrdinal0 [0x00989252+1413714]\n\tOrdinal0 [0x00977B54+1342292]\n\tOrdinal0 [0x009875FA+1406458]\n\tOrdinal0 [0x00977976+1341814]\n\tOrdinal0 [0x009536B6+1193654]\n\tOrdinal0 [0x00954546+1197382]\n\tGetHandleVerifier [0x00C39622+1619522]\n\tGetHandleVerifier [0x00CE882C+2336844]\n\tGetHandleVerifier [0x00B323E1+541697]\n\tGetHandleVerifier [0x00B31443+537699]\n\tOrdinal0 [0x00A3D18E+2150798]\n\tOrdinal0 [0x00A41518+2168088]\n\tOrdinal0 [0x00A41660+2168416]\n\tOrdinal0 [0x00A4B330+2208560]\n\tBaseThreadInitThunk [0x7738FA29+25]\n\tRtlGetAppContainerNamedObjectPath [0x77927A9E+286]\n\tRtlGetAppContainerNamedObjectPath [0x77927A6E+238]\n",
     "output_type": "error",
     "traceback": [
      "\u001b[1;31m---------------------------------------------------------------------------\u001b[0m",
      "\u001b[1;31mNoSuchElementException\u001b[0m                    Traceback (most recent call last)",
      "\u001b[1;32m~\\AppData\\Local\\Temp/ipykernel_11336/236746476.py\u001b[0m in \u001b[0;36m<module>\u001b[1;34m\u001b[0m\n\u001b[1;32m----> 1\u001b[1;33m \u001b[0mdriver\u001b[0m\u001b[1;33m.\u001b[0m\u001b[0mfind_element_by_css_selector\u001b[0m\u001b[1;33m(\u001b[0m\u001b[1;34m'#CardInstanceHCzYddMkAjCK7n72VdUdzg > div._p13n-zg-nav-tree-all_style_zg-browse-group__88fbz > div:nth-child(4) > a'\u001b[0m\u001b[1;33m)\u001b[0m\u001b[1;33m.\u001b[0m\u001b[0mclick\u001b[0m\u001b[1;33m(\u001b[0m\u001b[1;33m)\u001b[0m\u001b[1;33m\u001b[0m\u001b[1;33m\u001b[0m\u001b[0m\n\u001b[0m",
      "\u001b[1;32m~\\anaconda3\\lib\\site-packages\\selenium\\webdriver\\remote\\webdriver.py\u001b[0m in \u001b[0;36mfind_element_by_css_selector\u001b[1;34m(self, css_selector)\u001b[0m\n\u001b[0;32m    806\u001b[0m             \u001b[0mstacklevel\u001b[0m\u001b[1;33m=\u001b[0m\u001b[1;36m2\u001b[0m\u001b[1;33m,\u001b[0m\u001b[1;33m\u001b[0m\u001b[1;33m\u001b[0m\u001b[0m\n\u001b[0;32m    807\u001b[0m         )\n\u001b[1;32m--> 808\u001b[1;33m         \u001b[1;32mreturn\u001b[0m \u001b[0mself\u001b[0m\u001b[1;33m.\u001b[0m\u001b[0mfind_element\u001b[0m\u001b[1;33m(\u001b[0m\u001b[0mby\u001b[0m\u001b[1;33m=\u001b[0m\u001b[0mBy\u001b[0m\u001b[1;33m.\u001b[0m\u001b[0mCSS_SELECTOR\u001b[0m\u001b[1;33m,\u001b[0m \u001b[0mvalue\u001b[0m\u001b[1;33m=\u001b[0m\u001b[0mcss_selector\u001b[0m\u001b[1;33m)\u001b[0m\u001b[1;33m\u001b[0m\u001b[1;33m\u001b[0m\u001b[0m\n\u001b[0m\u001b[0;32m    809\u001b[0m \u001b[1;33m\u001b[0m\u001b[0m\n\u001b[0;32m    810\u001b[0m     \u001b[1;32mdef\u001b[0m \u001b[0mfind_elements_by_css_selector\u001b[0m\u001b[1;33m(\u001b[0m\u001b[0mself\u001b[0m\u001b[1;33m,\u001b[0m \u001b[0mcss_selector\u001b[0m\u001b[1;33m)\u001b[0m \u001b[1;33m->\u001b[0m \u001b[0mWebElement\u001b[0m\u001b[1;33m:\u001b[0m\u001b[1;33m\u001b[0m\u001b[1;33m\u001b[0m\u001b[0m\n",
      "\u001b[1;32m~\\anaconda3\\lib\\site-packages\\selenium\\webdriver\\remote\\webdriver.py\u001b[0m in \u001b[0;36mfind_element\u001b[1;34m(self, by, value)\u001b[0m\n\u001b[0;32m   1242\u001b[0m             \u001b[0mvalue\u001b[0m \u001b[1;33m=\u001b[0m \u001b[1;34m'[name=\"%s\"]'\u001b[0m \u001b[1;33m%\u001b[0m \u001b[0mvalue\u001b[0m\u001b[1;33m\u001b[0m\u001b[1;33m\u001b[0m\u001b[0m\n\u001b[0;32m   1243\u001b[0m \u001b[1;33m\u001b[0m\u001b[0m\n\u001b[1;32m-> 1244\u001b[1;33m         return self.execute(Command.FIND_ELEMENT, {\n\u001b[0m\u001b[0;32m   1245\u001b[0m             \u001b[1;34m'using'\u001b[0m\u001b[1;33m:\u001b[0m \u001b[0mby\u001b[0m\u001b[1;33m,\u001b[0m\u001b[1;33m\u001b[0m\u001b[1;33m\u001b[0m\u001b[0m\n\u001b[0;32m   1246\u001b[0m             'value': value})['value']\n",
      "\u001b[1;32m~\\anaconda3\\lib\\site-packages\\selenium\\webdriver\\remote\\webdriver.py\u001b[0m in \u001b[0;36mexecute\u001b[1;34m(self, driver_command, params)\u001b[0m\n\u001b[0;32m    422\u001b[0m         \u001b[0mresponse\u001b[0m \u001b[1;33m=\u001b[0m \u001b[0mself\u001b[0m\u001b[1;33m.\u001b[0m\u001b[0mcommand_executor\u001b[0m\u001b[1;33m.\u001b[0m\u001b[0mexecute\u001b[0m\u001b[1;33m(\u001b[0m\u001b[0mdriver_command\u001b[0m\u001b[1;33m,\u001b[0m \u001b[0mparams\u001b[0m\u001b[1;33m)\u001b[0m\u001b[1;33m\u001b[0m\u001b[1;33m\u001b[0m\u001b[0m\n\u001b[0;32m    423\u001b[0m         \u001b[1;32mif\u001b[0m \u001b[0mresponse\u001b[0m\u001b[1;33m:\u001b[0m\u001b[1;33m\u001b[0m\u001b[1;33m\u001b[0m\u001b[0m\n\u001b[1;32m--> 424\u001b[1;33m             \u001b[0mself\u001b[0m\u001b[1;33m.\u001b[0m\u001b[0merror_handler\u001b[0m\u001b[1;33m.\u001b[0m\u001b[0mcheck_response\u001b[0m\u001b[1;33m(\u001b[0m\u001b[0mresponse\u001b[0m\u001b[1;33m)\u001b[0m\u001b[1;33m\u001b[0m\u001b[1;33m\u001b[0m\u001b[0m\n\u001b[0m\u001b[0;32m    425\u001b[0m             response['value'] = self._unwrap_value(\n\u001b[0;32m    426\u001b[0m                 response.get('value', None))\n",
      "\u001b[1;32m~\\anaconda3\\lib\\site-packages\\selenium\\webdriver\\remote\\errorhandler.py\u001b[0m in \u001b[0;36mcheck_response\u001b[1;34m(self, response)\u001b[0m\n\u001b[0;32m    245\u001b[0m                 \u001b[0malert_text\u001b[0m \u001b[1;33m=\u001b[0m \u001b[0mvalue\u001b[0m\u001b[1;33m[\u001b[0m\u001b[1;34m'alert'\u001b[0m\u001b[1;33m]\u001b[0m\u001b[1;33m.\u001b[0m\u001b[0mget\u001b[0m\u001b[1;33m(\u001b[0m\u001b[1;34m'text'\u001b[0m\u001b[1;33m)\u001b[0m\u001b[1;33m\u001b[0m\u001b[1;33m\u001b[0m\u001b[0m\n\u001b[0;32m    246\u001b[0m             \u001b[1;32mraise\u001b[0m \u001b[0mexception_class\u001b[0m\u001b[1;33m(\u001b[0m\u001b[0mmessage\u001b[0m\u001b[1;33m,\u001b[0m \u001b[0mscreen\u001b[0m\u001b[1;33m,\u001b[0m \u001b[0mstacktrace\u001b[0m\u001b[1;33m,\u001b[0m \u001b[0malert_text\u001b[0m\u001b[1;33m)\u001b[0m  \u001b[1;31m# type: ignore[call-arg]  # mypy is not smart enough here\u001b[0m\u001b[1;33m\u001b[0m\u001b[1;33m\u001b[0m\u001b[0m\n\u001b[1;32m--> 247\u001b[1;33m         \u001b[1;32mraise\u001b[0m \u001b[0mexception_class\u001b[0m\u001b[1;33m(\u001b[0m\u001b[0mmessage\u001b[0m\u001b[1;33m,\u001b[0m \u001b[0mscreen\u001b[0m\u001b[1;33m,\u001b[0m \u001b[0mstacktrace\u001b[0m\u001b[1;33m)\u001b[0m\u001b[1;33m\u001b[0m\u001b[1;33m\u001b[0m\u001b[0m\n\u001b[0m\u001b[0;32m    248\u001b[0m \u001b[1;33m\u001b[0m\u001b[0m\n\u001b[0;32m    249\u001b[0m     \u001b[1;32mdef\u001b[0m \u001b[0m_value_or_default\u001b[0m\u001b[1;33m(\u001b[0m\u001b[0mself\u001b[0m\u001b[1;33m,\u001b[0m \u001b[0mobj\u001b[0m\u001b[1;33m:\u001b[0m \u001b[0mMapping\u001b[0m\u001b[1;33m[\u001b[0m\u001b[0m_KT\u001b[0m\u001b[1;33m,\u001b[0m \u001b[0m_VT\u001b[0m\u001b[1;33m]\u001b[0m\u001b[1;33m,\u001b[0m \u001b[0mkey\u001b[0m\u001b[1;33m:\u001b[0m \u001b[0m_KT\u001b[0m\u001b[1;33m,\u001b[0m \u001b[0mdefault\u001b[0m\u001b[1;33m:\u001b[0m \u001b[0m_VT\u001b[0m\u001b[1;33m)\u001b[0m \u001b[1;33m->\u001b[0m \u001b[0m_VT\u001b[0m\u001b[1;33m:\u001b[0m\u001b[1;33m\u001b[0m\u001b[1;33m\u001b[0m\u001b[0m\n",
      "\u001b[1;31mNoSuchElementException\u001b[0m: Message: no such element: Unable to locate element: {\"method\":\"css selector\",\"selector\":\"#CardInstanceHCzYddMkAjCK7n72VdUdzg > div._p13n-zg-nav-tree-all_style_zg-browse-group__88fbz > div:nth-child(4) > a\"}\n  (Session info: chrome=97.0.4692.99)\nStacktrace:\nBacktrace:\n\tOrdinal0 [0x00A9FDC3+2555331]\n\tOrdinal0 [0x00A377F1+2127857]\n\tOrdinal0 [0x00932E08+1060360]\n\tOrdinal0 [0x0095E49E+1238174]\n\tOrdinal0 [0x0095E69B+1238683]\n\tOrdinal0 [0x00989252+1413714]\n\tOrdinal0 [0x00977B54+1342292]\n\tOrdinal0 [0x009875FA+1406458]\n\tOrdinal0 [0x00977976+1341814]\n\tOrdinal0 [0x009536B6+1193654]\n\tOrdinal0 [0x00954546+1197382]\n\tGetHandleVerifier [0x00C39622+1619522]\n\tGetHandleVerifier [0x00CE882C+2336844]\n\tGetHandleVerifier [0x00B323E1+541697]\n\tGetHandleVerifier [0x00B31443+537699]\n\tOrdinal0 [0x00A3D18E+2150798]\n\tOrdinal0 [0x00A41518+2168088]\n\tOrdinal0 [0x00A41660+2168416]\n\tOrdinal0 [0x00A4B330+2208560]\n\tBaseThreadInitThunk [0x7738FA29+25]\n\tRtlGetAppContainerNamedObjectPath [0x77927A9E+286]\n\tRtlGetAppContainerNamedObjectPath [0x77927A6E+238]\n"
     ]
    }
   ],
   "source": [
    "driver.find_element_by_css_selector('#CardInstanceHCzYddMkAjCK7n72VdUdzg > div._p13n-zg-nav-tree-all_style_zg-browse-group__88fbz > div:nth-child(4) > a').click()"
   ]
  },
  {
   "cell_type": "code",
   "execution_count": null,
   "id": "666aa292",
   "metadata": {},
   "outputs": [],
   "source": [
    "html = driver.page_source\n",
    "soup = BeautifulSoup(html, 'html.parser')"
   ]
  },
  {
   "cell_type": "code",
   "execution_count": null,
   "id": "efcea839",
   "metadata": {},
   "outputs": [],
   "source": [
    "len(soup.select('li.zg-item-immersion'))"
   ]
  },
  {
   "cell_type": "code",
   "execution_count": null,
   "id": "19bacaba",
   "metadata": {},
   "outputs": [],
   "source": [
    "lis = soup.select('li.zg-item-immersion')"
   ]
  },
  {
   "cell_type": "code",
   "execution_count": null,
   "id": "1ac50e2c",
   "metadata": {},
   "outputs": [],
   "source": [
    "lis[0].select('#zg-ordered-list > li > span > div > div > span.a-size-small.aok-float-left.zg-badge-body.zg-badge-color > span')[0].text"
   ]
  },
  {
   "cell_type": "code",
   "execution_count": null,
   "id": "a553f2a7",
   "metadata": {},
   "outputs": [],
   "source": [
    "lis[0].select('#zg-ordered-list > li > span > div > span > a > div')[0].text"
   ]
  },
  {
   "cell_type": "code",
   "execution_count": null,
   "id": "a07c6158",
   "metadata": {},
   "outputs": [],
   "source": [
    "lis[2].select('#zg-ordered-list > li > span > div > span > div > a.a-size-small.a-link-normal')[0].text"
   ]
  },
  {
   "cell_type": "code",
   "execution_count": null,
   "id": "7458c67b",
   "metadata": {},
   "outputs": [],
   "source": [
    "lis[1].select('span.a-size-base.a-color-price')[0].text"
   ]
  },
  {
   "cell_type": "code",
   "execution_count": null,
   "id": "0b598875",
   "metadata": {},
   "outputs": [],
   "source": []
  },
  {
   "cell_type": "code",
   "execution_count": null,
   "id": "3375db7c",
   "metadata": {},
   "outputs": [],
   "source": [
    "for li in lis:\n",
    "    ranking = li.select('#zg-ordered-list > li > span > div > div > span.a-size-small.aok-float-left.zg-badge-body.zg-badge-color > span')[0].text\n",
    "    title = li.select('#zg-ordered-list > li > span > div > span > a > div')[0].text\n",
    "    comments_num = li.select('#zg-ordered-list > li > span > div > span > div > a.a-size-small.a-link-normal')[0].text\n",
    "    price = li.select('span.a-size-base.a-color-price')[0].text\n",
    "    \n",
    "    print(ranking)\n",
    "    print(title)\n",
    "    print(comments_num)\n",
    "    print(price)\n",
    "    print('-----------')"
   ]
  },
  {
   "cell_type": "code",
   "execution_count": null,
   "id": "a2f16e34",
   "metadata": {},
   "outputs": [],
   "source": []
  },
  {
   "cell_type": "code",
   "execution_count": null,
   "id": "b159eff1",
   "metadata": {},
   "outputs": [],
   "source": [
    "driver = webdriver.Chrome()"
   ]
  },
  {
   "cell_type": "code",
   "execution_count": null,
   "id": "d9ae8aae",
   "metadata": {},
   "outputs": [],
   "source": [
    "url = 'https://www.amazon.com/bestsellers'"
   ]
  },
  {
   "cell_type": "code",
   "execution_count": null,
   "id": "829fd562",
   "metadata": {},
   "outputs": [],
   "source": [
    "driver.get(url)"
   ]
  },
  {
   "cell_type": "code",
   "execution_count": null,
   "id": "3f15aebd",
   "metadata": {},
   "outputs": [],
   "source": [
    "url = 'https://www.amazon.com/Best-Sellers-Appliances/zgbs/appliances/ref=zg_bs_pg_1?_encoding=UTF8&pg={}'\n",
    "\n",
    "for i in range(1,3):\n",
    "    \n",
    "    url = url.format(i)\n",
    "    print(url)\n",
    "    driver.get(url)\n",
    "    \n",
    "    html = driver.page_source\n",
    "    soup = BeautifulSoup(html, 'html.parser')\n",
    "    \n",
    "    lis = soup.select('li.zg-item-immersion')\n",
    "    \n",
    "    for li in lis:\n",
    "        ranking = li.select('#zg-ordered-list > li > span > div > div > span.a-size-small.aok-float-left.zg-badge-body.zg-badge-color > span')[0].text\n",
    "        title = li.select('#zg-ordered-list > li > span > div > span > a > div')[0].text\n",
    "        comments_num = li.select('#zg-ordered-list > li > span > div > span > div > a.a-size-small.a-link-normal')[0].text\n",
    "        price = li.select('span.a-size-base.a-color-price')[0].text\n",
    "\n",
    "        print(ranking)\n",
    "        print(title)\n",
    "        print(comments_num)\n",
    "        print(price)\n",
    "        print('-----------')\n",
    "    \n",
    "    "
   ]
  },
  {
   "cell_type": "code",
   "execution_count": null,
   "id": "893212be",
   "metadata": {},
   "outputs": [],
   "source": []
  },
  {
   "cell_type": "code",
   "execution_count": null,
   "id": "04bea444",
   "metadata": {},
   "outputs": [],
   "source": [
    "url = 'https://www.amazon.com/bestsellers'\n",
    "\n",
    "driver = webdriver.Chrome()\n",
    "driver.get(url)\n",
    "\n",
    "driver.find_element_by_link_text('Appliances').click()"
   ]
  },
  {
   "cell_type": "code",
   "execution_count": null,
   "id": "859f17fc",
   "metadata": {},
   "outputs": [],
   "source": [
    "# url = 'https://www.amazon.com/Best-Sellers-Appliances/zgbs/appliances/ref=zg_bs_pg_1?_encoding=UTF8&pg={}'\n",
    "# url = 'https://www.amazon.com/Best-Sellers-Appliances/zgbs/appliances/ref=zg_bs_nav_0'\n",
    "\n",
    "for i in range(1,3):\n",
    "    \n",
    "    if i == 2:\n",
    "        url = 'https://www.amazon.com/Best-Sellers-Appliances/zgbs/appliances/ref=zg_bs_pg_{}?_encoding=UTF8&pg=2'\n",
    "        url = url.format(2)\n",
    "        \n",
    "        driver.get(url)\n",
    "\n",
    "    html = driver.page_source\n",
    "    soup = BeautifulSoup(html, 'html.parser')\n",
    "    \n",
    "    lis = soup.select('li.zg-item-immersion')\n",
    "#     print(lis)\n",
    "    \n",
    "    for li in lis:\n",
    "        \n",
    "        try:\n",
    "            ranking = li.select('#zg-ordered-list > li > span > div > div > span.a-size-small.aok-float-left.zg-badge-body.zg-badge-color > span')[0].text\n",
    "            title = li.select('#zg-ordered-list > li > span > div > span > a > div')[0].text\n",
    "            comments_num = li.select('#zg-ordered-list > li > span > div > span > div > a.a-size-small.a-link-normal')[0].text\n",
    "            price = li.select('span.a-size-base.a-color-price')[0].text\n",
    "\n",
    "            print(ranking)\n",
    "            print(title)\n",
    "            print(comments_num)\n",
    "            print(price)\n",
    "            print('-----------')\n",
    "        except:\n",
    "            pass\n",
    "        \n",
    "#     print(i)"
   ]
  },
  {
   "cell_type": "code",
   "execution_count": null,
   "id": "9a05b9c4",
   "metadata": {},
   "outputs": [],
   "source": []
  },
  {
   "cell_type": "code",
   "execution_count": null,
   "id": "802aaebd",
   "metadata": {},
   "outputs": [],
   "source": []
  },
  {
   "cell_type": "code",
   "execution_count": null,
   "id": "01d34baa",
   "metadata": {},
   "outputs": [],
   "source": []
  },
  {
   "cell_type": "code",
   "execution_count": null,
   "id": "aa4216b1",
   "metadata": {},
   "outputs": [],
   "source": []
  },
  {
   "cell_type": "code",
   "execution_count": null,
   "id": "36b95b8a",
   "metadata": {},
   "outputs": [],
   "source": []
  }
 ],
 "metadata": {
  "kernelspec": {
   "display_name": "Python 3 (ipykernel)",
   "language": "python",
   "name": "python3"
  },
  "language_info": {
   "codemirror_mode": {
    "name": "ipython",
    "version": 3
   },
   "file_extension": ".py",
   "mimetype": "text/x-python",
   "name": "python",
   "nbconvert_exporter": "python",
   "pygments_lexer": "ipython3",
   "version": "3.9.7"
  }
 },
 "nbformat": 4,
 "nbformat_minor": 5
}
