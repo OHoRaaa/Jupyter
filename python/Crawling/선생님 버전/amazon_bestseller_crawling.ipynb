{
 "cells": [
  {
   "cell_type": "code",
   "execution_count": 1,
   "id": "6328ed48",
   "metadata": {},
   "outputs": [],
   "source": [
    "# https://www.amazon.com/bestsellers\n",
    "# 위 사이트에서 appliances카테고리의 모든 제품의 랭킹, 타이틀, 댓글수, 가격 정보를 출력하시오..\n",
    "# 총 제품의 수는 100개.."
   ]
  },
  {
   "cell_type": "code",
   "execution_count": 3,
   "id": "b684676a",
   "metadata": {},
   "outputs": [],
   "source": [
    "from selenium import webdriver\n",
    "from bs4 import BeautifulSoup\n",
    "import time"
   ]
  },
  {
   "cell_type": "code",
   "execution_count": 3,
   "id": "ca72401f",
   "metadata": {},
   "outputs": [],
   "source": [
    "driver = webdriver.Chrome()"
   ]
  },
  {
   "cell_type": "code",
   "execution_count": 4,
   "id": "77c66fc9",
   "metadata": {},
   "outputs": [],
   "source": [
    "url = 'https://www.amazon.com/bestsellers'"
   ]
  },
  {
   "cell_type": "code",
   "execution_count": 5,
   "id": "482762ba",
   "metadata": {},
   "outputs": [],
   "source": [
    "driver.get(url)"
   ]
  },
  {
   "cell_type": "code",
   "execution_count": 7,
   "id": "ab8ea198",
   "metadata": {},
   "outputs": [
    {
     "name": "stderr",
     "output_type": "stream",
     "text": [
      "C:\\Users\\bitcamp\\AppData\\Local\\Temp/ipykernel_9748/236746476.py:1: DeprecationWarning: find_element_by_* commands are deprecated. Please use find_element() instead\n",
      "  driver.find_element_by_css_selector('#CardInstanceHCzYddMkAjCK7n72VdUdzg > div._p13n-zg-nav-tree-all_style_zg-browse-group__88fbz > div:nth-child(4) > a').click()\n"
     ]
    }
   ],
   "source": [
    "driver.find_element_by_css_selector('#CardInstanceHCzYddMkAjCK7n72VdUdzg > div._p13n-zg-nav-tree-all_style_zg-browse-group__88fbz > div:nth-child(4) > a').click()"
   ]
  },
  {
   "cell_type": "code",
   "execution_count": 8,
   "id": "666aa292",
   "metadata": {},
   "outputs": [],
   "source": [
    "html = driver.page_source\n",
    "soup = BeautifulSoup(html, 'html.parser')"
   ]
  },
  {
   "cell_type": "code",
   "execution_count": 10,
   "id": "efcea839",
   "metadata": {},
   "outputs": [
    {
     "data": {
      "text/plain": [
       "50"
      ]
     },
     "execution_count": 10,
     "metadata": {},
     "output_type": "execute_result"
    }
   ],
   "source": [
    "len(soup.select('li.zg-item-immersion'))"
   ]
  },
  {
   "cell_type": "code",
   "execution_count": 11,
   "id": "19bacaba",
   "metadata": {},
   "outputs": [],
   "source": [
    "lis = soup.select('li.zg-item-immersion')"
   ]
  },
  {
   "cell_type": "code",
   "execution_count": 14,
   "id": "1ac50e2c",
   "metadata": {},
   "outputs": [
    {
     "data": {
      "text/plain": [
       "'#1'"
      ]
     },
     "execution_count": 14,
     "metadata": {},
     "output_type": "execute_result"
    }
   ],
   "source": [
    "lis[0].select('#zg-ordered-list > li > span > div > div > span.a-size-small.aok-float-left.zg-badge-body.zg-badge-color > span')[0].text"
   ]
  },
  {
   "cell_type": "code",
   "execution_count": 16,
   "id": "a553f2a7",
   "metadata": {},
   "outputs": [
    {
     "data": {
      "text/plain": [
       "'Frigidaire EFIC-B-SS Ice Maker, Black Stainless Steel'"
      ]
     },
     "execution_count": 16,
     "metadata": {},
     "output_type": "execute_result"
    }
   ],
   "source": [
    "lis[0].select('#zg-ordered-list > li > span > div > span > a > div')[0].text"
   ]
  },
  {
   "cell_type": "code",
   "execution_count": 24,
   "id": "a07c6158",
   "metadata": {},
   "outputs": [
    {
     "data": {
      "text/plain": [
       "'8,433'"
      ]
     },
     "execution_count": 24,
     "metadata": {},
     "output_type": "execute_result"
    }
   ],
   "source": [
    "lis[2].select('#zg-ordered-list > li > span > div > span > div > a.a-size-small.a-link-normal')[0].text"
   ]
  },
  {
   "cell_type": "code",
   "execution_count": 30,
   "id": "7458c67b",
   "metadata": {},
   "outputs": [
    {
     "data": {
      "text/plain": [
       "'$316.98 - $317.00'"
      ]
     },
     "execution_count": 30,
     "metadata": {},
     "output_type": "execute_result"
    }
   ],
   "source": [
    "lis[1].select('span.a-size-base.a-color-price')[0].text"
   ]
  },
  {
   "cell_type": "code",
   "execution_count": null,
   "id": "0b598875",
   "metadata": {},
   "outputs": [],
   "source": []
  },
  {
   "cell_type": "code",
   "execution_count": 31,
   "id": "3375db7c",
   "metadata": {
    "collapsed": true
   },
   "outputs": [
    {
     "name": "stdout",
     "output_type": "stream",
     "text": [
      "#1\n",
      "Frigidaire EFIC-B-SS Ice Maker, Black Stainless Steel\n",
      "452\n",
      "$89.98\n",
      "-----------\n",
      "#2\n",
      "Silonn Ice Makers Countertop, 9 Cubes Ready in 6 Mins, 26lbs in 24Hrs, Self-Cleaning Ice…\n",
      "1,636\n",
      "$316.98 - $317.00\n",
      "-----------\n",
      "#3\n",
      "Frigidaire EFIC189-Silver Compact Ice Maker, 26 lb per Day, Silver\n",
      "8,433\n",
      "$129.99\n",
      "-----------\n",
      "#4\n",
      "AGLUCKY Ice Maker Machine for Countertop, Portable Ice Cube Makers, Make 26 lbs ice in…\n",
      "10,738\n",
      "$110.49\n",
      "-----------\n",
      "#5\n",
      "GE Profile Opal | Countertop Nugget Ice Maker with Side Tank | Portable Ice Machine with…\n",
      "15,109\n",
      "$412.49\n",
      "-----------\n",
      "#6\n",
      "2-Pack Ice Machine Cleaner and Descaler 16 fl oz, Nickel Safe Descaler | Ice Maker Cleaner…\n",
      "774\n",
      "$19.99 - $44.99\n",
      "-----------\n",
      "#7\n",
      "OxiClean Gel Sticks - 6.2 oz - 2 pk by OxiClean\n",
      "289\n",
      "$15.69\n",
      "-----------\n",
      "#8\n",
      "Midea MRU03M2ABB Upright Freezer Large Black, 3.0 Cubic Feet\n",
      "12,134\n",
      "$157.55 - $420.00\n",
      "-----------\n",
      "#9\n",
      "Arctic King 5 cu ft Chest Freezer for Your House, Garage, Basement, Apartment,…\n",
      "6,933\n",
      "$199.00\n",
      "-----------\n",
      "#10\n",
      "Arctic King Chest Freezer 5 cu ft (Black)\n",
      "229\n",
      "$207.88\n",
      "-----------\n",
      "#11\n",
      "Giantex Portable Mini Compact Twin Tub Washing Machine 17.6lbs Washer Spain…\n",
      "10,870\n",
      "$199.99\n",
      "-----------\n",
      "#12\n",
      "Broan-NuTone 412101 Non-Ducted Ductless Range Hood with Lights Exhaust Fan for…\n",
      "12,050\n",
      "$42.84 - $312.34\n",
      "-----------\n",
      "#13\n",
      "Euhomy Ice Maker Machine Countertop,26 lbs in 24 Hours,9 Cubes Ready in 6 Mins, Electric…\n",
      "8,979\n",
      "$129.99\n",
      "-----------\n",
      "#14\n",
      "Midea MRU03M2ABB Upright Freezer Large Black, 3.0 Cubic Feet\n",
      "12,134\n",
      "$183.08\n",
      "-----------\n",
      "#15\n",
      "SUPER DEAL Compact Mini Twin Tub Washing Machine, Portable Laundry Washer w/Wash…\n",
      "7,877\n",
      "$163.99\n",
      "-----------\n",
      "#16\n",
      "COMFEE’ 1.6 Cu.ft Portable Washing Machine, 11lbs Capacity Fully Automatic Compact…\n",
      "2,779\n",
      "$323.51 - $658.00\n",
      "-----------\n",
      "#17\n",
      "Broan-NuTone F403008 Two-Speed Four-Way Convertible Range Hood, 30-Inch, Almond\n",
      "6,548\n",
      "$51.80 - $305.24\n",
      "-----------\n",
      "#18\n",
      "Broan-NuTone 30-inch Under-Cabinet Convertible Range Hood with 2-Speed…\n",
      "1,478\n",
      "$49.98 - $134.66\n",
      "-----------\n",
      "#19\n",
      "COSTWAY Mini Washing Machine with Spin Dryer, Washing Capacity 5.5lbs, Electric…\n",
      "3,668\n",
      "$102.99\n",
      "-----------\n",
      "#20\n",
      "Broan-NuTone SP3004 Reversible Stainless Steel Backsplash Range Hood Wall Shield for…\n",
      "2,239\n",
      "$67.49\n",
      "-----------\n",
      "#21\n",
      "Frigidaire EFIC121-SSBLACK Ice Maker, Black Stainless\n",
      "853\n",
      "$140.00 - $299.99\n",
      "-----------\n",
      "#22\n",
      "Dreamiracle Ice Maker Machine Countertop, 26 lbs in 24 Hours, Self-cleaning Ice Maker…\n",
      "188\n",
      "$129.99\n",
      "-----------\n",
      "#23\n",
      "Wizisa Ice Maker Machine for Countertop, 9 Bullet Ice Cubes Ready in 6 Minutes, 26lbs in…\n",
      "390\n",
      "$112.99\n",
      "-----------\n",
      "#24\n",
      "Oline Ice Maker Machine, Automatic Self-Cleaning Portable Electric Countertop Ice…\n",
      "730\n",
      "$99.95 - $109.95\n",
      "-----------\n",
      "#25\n",
      "Portable Washing Machine Mini Washing 3in1 Dishwashers Mini Lights Ultrasonic Waves…\n",
      "98\n",
      "$22.99 - $25.99\n",
      "-----------\n",
      "#26\n",
      "Frigidaire EFR341, 3.2 cu ft 2 Door Fridge and Freezer, Platinum Series, Stainless Steel,…\n",
      "938\n",
      "$329.82 - $699.99\n",
      "-----------\n",
      "#27\n",
      "VIVOHOME Electric Portable Compact Countertop Automatic Ice Cube Maker…\n",
      "4,921\n",
      "$119.33\n",
      "-----------\n",
      "#28\n",
      "Whynter CUF-110B Energy Star 1.1 Cubic Feet Upright Lock, Black Freezer\n",
      "4,819\n",
      "$177.51 - $1,000.00\n",
      "-----------\n",
      "#29\n",
      "COMFEE' Portable Washing Machine, 0.9 cu.ft Compact Washer With LED Display, 5 Wash…\n",
      "1,989\n",
      "$249.00 - $429.99\n",
      "-----------\n",
      "#30\n",
      "Arctic King 7 cu ft Chest Freezer, Black\n",
      "348\n",
      "$243.98\n",
      "-----------\n",
      "#31\n",
      "EdgeStar DWP62SV 6 Place Setting Energy Star Rated Portable Countertop Dishwasher - Silver\n",
      "717\n",
      "$299.00\n",
      "-----------\n",
      "#32\n",
      "Frigidaire EFIC237 Countertop Crunchy Chewable Nugget Ice Maker, 44lbs per Day,…\n",
      "46\n",
      "$255.53\n",
      "-----------\n",
      "#33\n",
      "Frigidaire EFIC452-SSBLACK XL Maker, Makes 40 Lbs. of Clear Square Ice Cubes A Day,…\n",
      "1,913\n",
      "$193.89 - $274.27\n",
      "-----------\n",
      "#34\n",
      "Cosmo COS-5MU30 30 in. Under Cabinet Range Hood Ductless Convertible Duct, Slim…\n",
      "5,003\n",
      "$129.95 - $273.82\n",
      "-----------\n",
      "#35\n",
      "COSTWAY Compact Laundry Dryer, 110V Electric Portable Clothes Dryer with Stainless…\n",
      "1,814\n",
      "$279.99\n",
      "-----------\n",
      "#36\n",
      "BLACK & DECKER BPWM09W Portable Washer\n",
      "1,461\n",
      "$253.33\n",
      "-----------\n",
      "#37\n",
      "Igloo ICEB26AQ Automatic Portable Electric Countertop Ice Maker Machine, 26 Pounds in…\n",
      "7,661\n",
      "$149.99 - $285.00\n",
      "-----------\n",
      "#38\n",
      "Cosmo 63175S 30 in. Wall Mount Range Hood with Ductless Convertible Duct (additional…\n",
      "1,104\n",
      "$249.99\n",
      "-----------\n",
      "#39\n",
      "KOBE Range Hoods INX2930SQBF-500-1 Built-In/Insert Range Hood, 30\"\n",
      "429\n",
      "$287.79 - $946.00\n",
      "-----------\n",
      "#40\n",
      "Frigidaire Counter Top Ice Maker, Produces 26 pounds Ice per Day, Stainless Steel with…\n",
      "282\n",
      "$91.08\n",
      "-----------\n",
      "#41\n",
      "BANGSON Portable Washing Machine, 17.6 lbs Washer(11Lbs) and Spinner(6.6Lbs), Mini…\n",
      "364\n",
      "$139.99 - $172.98\n",
      "-----------\n",
      "#42\n",
      "Refrigerator Garage Heater Kit for Frigidaire Kenmore Refrigerator 5303918301…\n",
      "575\n",
      "$15.99\n",
      "-----------\n",
      "#43\n",
      "Cosmo 668ICS750 30 in. Island Mount Range Hood with 380 CFM, Soft Touch Controls,…\n",
      "1,478\n",
      "$382.21 - $615.38\n",
      "-----------\n",
      "#44\n",
      "Countertop Ice Maker Machine Portable, Self Cleaning Function, Mini Ice Makers, Make 26…\n",
      "2,068\n",
      "$99.99\n",
      "-----------\n",
      "#45\n",
      "Deco Rapid Portable Automatic Electric Countertop Ice Maker - 6 Great Colors…\n",
      "1,454\n",
      "$109.99 - $129.99\n",
      "-----------\n",
      "#46\n",
      "CROWNFUL Ice Maker Countertop Machine, 9 Ice Cubes Ready in 8 Minutes, 26lbs Bullet Ice…\n",
      "3,963\n",
      "$89.99\n",
      "-----------\n",
      "#47\n",
      "The Laundry Alternative, WonderWash, Portable Washing Machine, Mini Washer,…\n",
      "4,214\n",
      "$69.95 - $109.97\n",
      "-----------\n",
      "#48\n",
      "HCK44 Power Cord Kit, Compatible with Broan, Also Compatible with Whirlpool W10831110,…\n",
      "78\n",
      "$12.91\n",
      "-----------\n",
      "#49\n",
      "Upstreman 3.2 Cu.Ft Mini Fridge with Freezer,2 door, Adjustable Thermostat, Low noise,…\n",
      "3\n",
      "$249.97\n",
      "-----------\n",
      "#50\n",
      "GLACIALPURE Ice2 F2wc9i1 Cap Ice Maker Water Filter Compatible with W10565350,…\n",
      "24\n",
      "$36.99 - $45.99\n",
      "-----------\n"
     ]
    }
   ],
   "source": [
    "for li in lis:\n",
    "    ranking = li.select('#zg-ordered-list > li > span > div > div > span.a-size-small.aok-float-left.zg-badge-body.zg-badge-color > span')[0].text\n",
    "    title = li.select('#zg-ordered-list > li > span > div > span > a > div')[0].text\n",
    "    comments_num = li.select('#zg-ordered-list > li > span > div > span > div > a.a-size-small.a-link-normal')[0].text\n",
    "    price = li.select('span.a-size-base.a-color-price')[0].text\n",
    "    \n",
    "    print(ranking)\n",
    "    print(title)\n",
    "    print(comments_num)\n",
    "    print(price)\n",
    "    print('-----------')"
   ]
  },
  {
   "cell_type": "code",
   "execution_count": null,
   "id": "a2f16e34",
   "metadata": {},
   "outputs": [],
   "source": []
  },
  {
   "cell_type": "code",
   "execution_count": 36,
   "id": "b159eff1",
   "metadata": {},
   "outputs": [],
   "source": [
    "driver = webdriver.Chrome()"
   ]
  },
  {
   "cell_type": "code",
   "execution_count": 33,
   "id": "d9ae8aae",
   "metadata": {},
   "outputs": [],
   "source": [
    "url = 'https://www.amazon.com/bestsellers'"
   ]
  },
  {
   "cell_type": "code",
   "execution_count": 34,
   "id": "829fd562",
   "metadata": {},
   "outputs": [],
   "source": [
    "driver.get(url)"
   ]
  },
  {
   "cell_type": "code",
   "execution_count": 37,
   "id": "3f15aebd",
   "metadata": {},
   "outputs": [
    {
     "name": "stdout",
     "output_type": "stream",
     "text": [
      "https://www.amazon.com/Best-Sellers-Appliances/zgbs/appliances/ref=zg_bs_pg_1?_encoding=UTF8&pg=1\n",
      "https://www.amazon.com/Best-Sellers-Appliances/zgbs/appliances/ref=zg_bs_pg_1?_encoding=UTF8&pg=1\n"
     ]
    }
   ],
   "source": [
    "url = 'https://www.amazon.com/Best-Sellers-Appliances/zgbs/appliances/ref=zg_bs_pg_1?_encoding=UTF8&pg={}'\n",
    "\n",
    "for i in range(1,3):\n",
    "    \n",
    "    url = url.format(i)\n",
    "    print(url)\n",
    "    driver.get(url)\n",
    "    \n",
    "    html = driver.page_source\n",
    "    soup = BeautifulSoup(html, 'html.parser')\n",
    "    \n",
    "    lis = soup.select('li.zg-item-immersion')\n",
    "    \n",
    "    for li in lis:\n",
    "        ranking = li.select('#zg-ordered-list > li > span > div > div > span.a-size-small.aok-float-left.zg-badge-body.zg-badge-color > span')[0].text\n",
    "        title = li.select('#zg-ordered-list > li > span > div > span > a > div')[0].text\n",
    "        comments_num = li.select('#zg-ordered-list > li > span > div > span > div > a.a-size-small.a-link-normal')[0].text\n",
    "        price = li.select('span.a-size-base.a-color-price')[0].text\n",
    "\n",
    "        print(ranking)\n",
    "        print(title)\n",
    "        print(comments_num)\n",
    "        print(price)\n",
    "        print('-----------')\n",
    "    \n",
    "    "
   ]
  },
  {
   "cell_type": "code",
   "execution_count": null,
   "id": "893212be",
   "metadata": {},
   "outputs": [],
   "source": []
  },
  {
   "cell_type": "code",
   "execution_count": 4,
   "id": "04bea444",
   "metadata": {},
   "outputs": [
    {
     "name": "stderr",
     "output_type": "stream",
     "text": [
      "C:\\Users\\bitcamp\\AppData\\Local\\Temp/ipykernel_12076/4244660820.py:6: DeprecationWarning: find_element_by_* commands are deprecated. Please use find_element() instead\n",
      "  driver.find_element_by_link_text('Appliances').click()\n"
     ]
    }
   ],
   "source": [
    "url = 'https://www.amazon.com/bestsellers'\n",
    "\n",
    "driver = webdriver.Chrome()\n",
    "driver.get(url)\n",
    "\n",
    "driver.find_element_by_link_text('Appliances').click()"
   ]
  },
  {
   "cell_type": "code",
   "execution_count": 5,
   "id": "859f17fc",
   "metadata": {},
   "outputs": [],
   "source": [
    "# url = 'https://www.amazon.com/Best-Sellers-Appliances/zgbs/appliances/ref=zg_bs_pg_1?_encoding=UTF8&pg={}'\n",
    "# url = 'https://www.amazon.com/Best-Sellers-Appliances/zgbs/appliances/ref=zg_bs_nav_0'\n",
    "\n",
    "for i in range(1,3):\n",
    "    \n",
    "    if i == 2:\n",
    "        url = 'https://www.amazon.com/Best-Sellers-Appliances/zgbs/appliances/ref=zg_bs_pg_{}?_encoding=UTF8&pg=2'\n",
    "        url = url.format(2)\n",
    "        \n",
    "        driver.get(url)\n",
    "\n",
    "    html = driver.page_source\n",
    "    soup = BeautifulSoup(html, 'html.parser')\n",
    "    \n",
    "    lis = soup.select('li.zg-item-immersion')\n",
    "\n",
    "    \n",
    "    for li in lis:\n",
    "        \n",
    "        try:\n",
    "            ranking = li.select('#zg-ordered-list > li > span > div > div > span.a-size-small.aok-float-left.zg-badge-body.zg-badge-color > span')[0].text\n",
    "            title = li.select('#zg-ordered-list > li > span > div > span > a > div')[0].text\n",
    "            comments_num = li.select('#zg-ordered-list > li > span > div > span > div > a.a-size-small.a-link-normal')[0].text\n",
    "            price = li.select('span.a-size-base.a-color-price')[0].text\n",
    "\n",
    "            print(ranking)\n",
    "            print(title)\n",
    "            print(comments_num)\n",
    "            print(price)\n",
    "            print('-----------')\n",
    "        except:\n",
    "            pass\n",
    "        \n"
   ]
  },
  {
   "cell_type": "code",
   "execution_count": null,
   "id": "9a05b9c4",
   "metadata": {},
   "outputs": [],
   "source": []
  },
  {
   "cell_type": "code",
   "execution_count": null,
   "id": "802aaebd",
   "metadata": {},
   "outputs": [],
   "source": []
  },
  {
   "cell_type": "code",
   "execution_count": null,
   "id": "01d34baa",
   "metadata": {},
   "outputs": [],
   "source": []
  },
  {
   "cell_type": "code",
   "execution_count": null,
   "id": "aa4216b1",
   "metadata": {},
   "outputs": [],
   "source": []
  },
  {
   "cell_type": "code",
   "execution_count": null,
   "id": "36b95b8a",
   "metadata": {},
   "outputs": [],
   "source": []
  }
 ],
 "metadata": {
  "kernelspec": {
   "display_name": "Python 3 (ipykernel)",
   "language": "python",
   "name": "python3"
  },
  "language_info": {
   "codemirror_mode": {
    "name": "ipython",
    "version": 3
   },
   "file_extension": ".py",
   "mimetype": "text/x-python",
   "name": "python",
   "nbconvert_exporter": "python",
   "pygments_lexer": "ipython3",
   "version": "3.9.7"
  }
 },
 "nbformat": 4,
 "nbformat_minor": 5
}
