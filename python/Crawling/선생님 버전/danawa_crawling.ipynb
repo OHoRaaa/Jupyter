{
 "cells": [
  {
   "cell_type": "code",
   "execution_count": 1,
   "id": "ccffdadb",
   "metadata": {},
   "outputs": [],
   "source": [
    "# 다나와 사이트에 로그인 한 후 관심상품 목록 출력하기..\n",
    "# 제품, 상서정보, 가격..."
   ]
  },
  {
   "cell_type": "code",
   "execution_count": 1,
   "id": "c3c8c900",
   "metadata": {},
   "outputs": [
    {
     "ename": "ModuleNotFoundError",
     "evalue": "No module named 'sec'",
     "output_type": "error",
     "traceback": [
      "\u001b[1;31m---------------------------------------------------------------------------\u001b[0m",
      "\u001b[1;31mModuleNotFoundError\u001b[0m                       Traceback (most recent call last)",
      "\u001b[1;32m~\\AppData\\Local\\Temp/ipykernel_8512/2773420359.py\u001b[0m in \u001b[0;36m<module>\u001b[1;34m\u001b[0m\n\u001b[0;32m      1\u001b[0m \u001b[1;32mfrom\u001b[0m \u001b[0mselenium\u001b[0m \u001b[1;32mimport\u001b[0m \u001b[0mwebdriver\u001b[0m\u001b[1;33m\u001b[0m\u001b[1;33m\u001b[0m\u001b[0m\n\u001b[1;32m----> 2\u001b[1;33m \u001b[1;32mimport\u001b[0m \u001b[0msec\u001b[0m\u001b[1;33m\u001b[0m\u001b[1;33m\u001b[0m\u001b[0m\n\u001b[0m\u001b[0;32m      3\u001b[0m \u001b[1;32mfrom\u001b[0m \u001b[0mbs4\u001b[0m \u001b[1;32mimport\u001b[0m \u001b[0mBeautifulSoup\u001b[0m\u001b[1;33m\u001b[0m\u001b[1;33m\u001b[0m\u001b[0m\n\u001b[0;32m      4\u001b[0m \u001b[1;32mimport\u001b[0m \u001b[0mtime\u001b[0m\u001b[1;33m\u001b[0m\u001b[1;33m\u001b[0m\u001b[0m\n",
      "\u001b[1;31mModuleNotFoundError\u001b[0m: No module named 'sec'"
     ]
    }
   ],
   "source": [
    "from selenium import webdriver\n",
    "import sec\n",
    "from bs4 import BeautifulSoup\n",
    "import time"
   ]
  },
  {
   "cell_type": "code",
   "execution_count": 2,
   "id": "809d4fc3",
   "metadata": {},
   "outputs": [],
   "source": [
    "driver = webdriver.Chrome()"
   ]
  },
  {
   "cell_type": "code",
   "execution_count": 3,
   "id": "078edc48",
   "metadata": {},
   "outputs": [],
   "source": [
    "driver.get('https://www.danawa.com')"
   ]
  },
  {
   "cell_type": "code",
   "execution_count": 5,
   "id": "69fe0062",
   "metadata": {},
   "outputs": [
    {
     "name": "stderr",
     "output_type": "stream",
     "text": [
      "C:\\Users\\USER\\AppData\\Local\\Temp/ipykernel_8512/2960765474.py:2: DeprecationWarning: find_element_by_* commands are deprecated. Please use find_element() instead\n",
      "  driver.find_element_by_xpath(path).click()\n"
     ]
    },
    {
     "ename": "NoSuchElementException",
     "evalue": "Message: no such element: Unable to locate element: {\"method\":\"xpath\",\"selector\":\"//*[@id=\"danawa_menubar\"]/div[3]/div[3]/a/span\"}\n  (Session info: chrome=98.0.4758.82)\nStacktrace:\nBacktrace:\n\tOrdinal0 [0x0058FDC3+2555331]\n\tOrdinal0 [0x005277F1+2127857]\n\tOrdinal0 [0x00422E08+1060360]\n\tOrdinal0 [0x0044E49E+1238174]\n\tOrdinal0 [0x0044E69B+1238683]\n\tOrdinal0 [0x00479252+1413714]\n\tOrdinal0 [0x00467B54+1342292]\n\tOrdinal0 [0x004775FA+1406458]\n\tOrdinal0 [0x00467976+1341814]\n\tOrdinal0 [0x004436B6+1193654]\n\tOrdinal0 [0x00444546+1197382]\n\tGetHandleVerifier [0x00729622+1619522]\n\tGetHandleVerifier [0x007D882C+2336844]\n\tGetHandleVerifier [0x006223E1+541697]\n\tGetHandleVerifier [0x00621443+537699]\n\tOrdinal0 [0x0052D18E+2150798]\n\tOrdinal0 [0x00531518+2168088]\n\tOrdinal0 [0x00531660+2168416]\n\tOrdinal0 [0x0053B330+2208560]\n\tBaseThreadInitThunk [0x7727FA29+25]\n\tRtlGetAppContainerNamedObjectPath [0x775B7A9E+286]\n\tRtlGetAppContainerNamedObjectPath [0x775B7A6E+238]\n",
     "output_type": "error",
     "traceback": [
      "\u001b[1;31m---------------------------------------------------------------------------\u001b[0m",
      "\u001b[1;31mNoSuchElementException\u001b[0m                    Traceback (most recent call last)",
      "\u001b[1;32m~\\AppData\\Local\\Temp/ipykernel_8512/2960765474.py\u001b[0m in \u001b[0;36m<module>\u001b[1;34m\u001b[0m\n\u001b[0;32m      1\u001b[0m \u001b[0mpath\u001b[0m \u001b[1;33m=\u001b[0m \u001b[1;34m'//*[@id=\"danawa_menubar\"]/div[3]/div[3]/a/span'\u001b[0m\u001b[1;33m\u001b[0m\u001b[1;33m\u001b[0m\u001b[0m\n\u001b[1;32m----> 2\u001b[1;33m \u001b[0mdriver\u001b[0m\u001b[1;33m.\u001b[0m\u001b[0mfind_element_by_xpath\u001b[0m\u001b[1;33m(\u001b[0m\u001b[0mpath\u001b[0m\u001b[1;33m)\u001b[0m\u001b[1;33m.\u001b[0m\u001b[0mclick\u001b[0m\u001b[1;33m(\u001b[0m\u001b[1;33m)\u001b[0m\u001b[1;33m\u001b[0m\u001b[1;33m\u001b[0m\u001b[0m\n\u001b[0m",
      "\u001b[1;32m~\\anaconda3\\lib\\site-packages\\selenium\\webdriver\\remote\\webdriver.py\u001b[0m in \u001b[0;36mfind_element_by_xpath\u001b[1;34m(self, xpath)\u001b[0m\n\u001b[0;32m    518\u001b[0m             \u001b[0mstacklevel\u001b[0m\u001b[1;33m=\u001b[0m\u001b[1;36m2\u001b[0m\u001b[1;33m,\u001b[0m\u001b[1;33m\u001b[0m\u001b[1;33m\u001b[0m\u001b[0m\n\u001b[0;32m    519\u001b[0m         )\n\u001b[1;32m--> 520\u001b[1;33m         \u001b[1;32mreturn\u001b[0m \u001b[0mself\u001b[0m\u001b[1;33m.\u001b[0m\u001b[0mfind_element\u001b[0m\u001b[1;33m(\u001b[0m\u001b[0mby\u001b[0m\u001b[1;33m=\u001b[0m\u001b[0mBy\u001b[0m\u001b[1;33m.\u001b[0m\u001b[0mXPATH\u001b[0m\u001b[1;33m,\u001b[0m \u001b[0mvalue\u001b[0m\u001b[1;33m=\u001b[0m\u001b[0mxpath\u001b[0m\u001b[1;33m)\u001b[0m\u001b[1;33m\u001b[0m\u001b[1;33m\u001b[0m\u001b[0m\n\u001b[0m\u001b[0;32m    521\u001b[0m \u001b[1;33m\u001b[0m\u001b[0m\n\u001b[0;32m    522\u001b[0m     \u001b[1;32mdef\u001b[0m \u001b[0mfind_elements_by_xpath\u001b[0m\u001b[1;33m(\u001b[0m\u001b[0mself\u001b[0m\u001b[1;33m,\u001b[0m \u001b[0mxpath\u001b[0m\u001b[1;33m)\u001b[0m \u001b[1;33m->\u001b[0m \u001b[0mWebElement\u001b[0m\u001b[1;33m:\u001b[0m\u001b[1;33m\u001b[0m\u001b[1;33m\u001b[0m\u001b[0m\n",
      "\u001b[1;32m~\\anaconda3\\lib\\site-packages\\selenium\\webdriver\\remote\\webdriver.py\u001b[0m in \u001b[0;36mfind_element\u001b[1;34m(self, by, value)\u001b[0m\n\u001b[0;32m   1242\u001b[0m             \u001b[0mvalue\u001b[0m \u001b[1;33m=\u001b[0m \u001b[1;34m'[name=\"%s\"]'\u001b[0m \u001b[1;33m%\u001b[0m \u001b[0mvalue\u001b[0m\u001b[1;33m\u001b[0m\u001b[1;33m\u001b[0m\u001b[0m\n\u001b[0;32m   1243\u001b[0m \u001b[1;33m\u001b[0m\u001b[0m\n\u001b[1;32m-> 1244\u001b[1;33m         return self.execute(Command.FIND_ELEMENT, {\n\u001b[0m\u001b[0;32m   1245\u001b[0m             \u001b[1;34m'using'\u001b[0m\u001b[1;33m:\u001b[0m \u001b[0mby\u001b[0m\u001b[1;33m,\u001b[0m\u001b[1;33m\u001b[0m\u001b[1;33m\u001b[0m\u001b[0m\n\u001b[0;32m   1246\u001b[0m             'value': value})['value']\n",
      "\u001b[1;32m~\\anaconda3\\lib\\site-packages\\selenium\\webdriver\\remote\\webdriver.py\u001b[0m in \u001b[0;36mexecute\u001b[1;34m(self, driver_command, params)\u001b[0m\n\u001b[0;32m    422\u001b[0m         \u001b[0mresponse\u001b[0m \u001b[1;33m=\u001b[0m \u001b[0mself\u001b[0m\u001b[1;33m.\u001b[0m\u001b[0mcommand_executor\u001b[0m\u001b[1;33m.\u001b[0m\u001b[0mexecute\u001b[0m\u001b[1;33m(\u001b[0m\u001b[0mdriver_command\u001b[0m\u001b[1;33m,\u001b[0m \u001b[0mparams\u001b[0m\u001b[1;33m)\u001b[0m\u001b[1;33m\u001b[0m\u001b[1;33m\u001b[0m\u001b[0m\n\u001b[0;32m    423\u001b[0m         \u001b[1;32mif\u001b[0m \u001b[0mresponse\u001b[0m\u001b[1;33m:\u001b[0m\u001b[1;33m\u001b[0m\u001b[1;33m\u001b[0m\u001b[0m\n\u001b[1;32m--> 424\u001b[1;33m             \u001b[0mself\u001b[0m\u001b[1;33m.\u001b[0m\u001b[0merror_handler\u001b[0m\u001b[1;33m.\u001b[0m\u001b[0mcheck_response\u001b[0m\u001b[1;33m(\u001b[0m\u001b[0mresponse\u001b[0m\u001b[1;33m)\u001b[0m\u001b[1;33m\u001b[0m\u001b[1;33m\u001b[0m\u001b[0m\n\u001b[0m\u001b[0;32m    425\u001b[0m             response['value'] = self._unwrap_value(\n\u001b[0;32m    426\u001b[0m                 response.get('value', None))\n",
      "\u001b[1;32m~\\anaconda3\\lib\\site-packages\\selenium\\webdriver\\remote\\errorhandler.py\u001b[0m in \u001b[0;36mcheck_response\u001b[1;34m(self, response)\u001b[0m\n\u001b[0;32m    245\u001b[0m                 \u001b[0malert_text\u001b[0m \u001b[1;33m=\u001b[0m \u001b[0mvalue\u001b[0m\u001b[1;33m[\u001b[0m\u001b[1;34m'alert'\u001b[0m\u001b[1;33m]\u001b[0m\u001b[1;33m.\u001b[0m\u001b[0mget\u001b[0m\u001b[1;33m(\u001b[0m\u001b[1;34m'text'\u001b[0m\u001b[1;33m)\u001b[0m\u001b[1;33m\u001b[0m\u001b[1;33m\u001b[0m\u001b[0m\n\u001b[0;32m    246\u001b[0m             \u001b[1;32mraise\u001b[0m \u001b[0mexception_class\u001b[0m\u001b[1;33m(\u001b[0m\u001b[0mmessage\u001b[0m\u001b[1;33m,\u001b[0m \u001b[0mscreen\u001b[0m\u001b[1;33m,\u001b[0m \u001b[0mstacktrace\u001b[0m\u001b[1;33m,\u001b[0m \u001b[0malert_text\u001b[0m\u001b[1;33m)\u001b[0m  \u001b[1;31m# type: ignore[call-arg]  # mypy is not smart enough here\u001b[0m\u001b[1;33m\u001b[0m\u001b[1;33m\u001b[0m\u001b[0m\n\u001b[1;32m--> 247\u001b[1;33m         \u001b[1;32mraise\u001b[0m \u001b[0mexception_class\u001b[0m\u001b[1;33m(\u001b[0m\u001b[0mmessage\u001b[0m\u001b[1;33m,\u001b[0m \u001b[0mscreen\u001b[0m\u001b[1;33m,\u001b[0m \u001b[0mstacktrace\u001b[0m\u001b[1;33m)\u001b[0m\u001b[1;33m\u001b[0m\u001b[1;33m\u001b[0m\u001b[0m\n\u001b[0m\u001b[0;32m    248\u001b[0m \u001b[1;33m\u001b[0m\u001b[0m\n\u001b[0;32m    249\u001b[0m     \u001b[1;32mdef\u001b[0m \u001b[0m_value_or_default\u001b[0m\u001b[1;33m(\u001b[0m\u001b[0mself\u001b[0m\u001b[1;33m,\u001b[0m \u001b[0mobj\u001b[0m\u001b[1;33m:\u001b[0m \u001b[0mMapping\u001b[0m\u001b[1;33m[\u001b[0m\u001b[0m_KT\u001b[0m\u001b[1;33m,\u001b[0m \u001b[0m_VT\u001b[0m\u001b[1;33m]\u001b[0m\u001b[1;33m,\u001b[0m \u001b[0mkey\u001b[0m\u001b[1;33m:\u001b[0m \u001b[0m_KT\u001b[0m\u001b[1;33m,\u001b[0m \u001b[0mdefault\u001b[0m\u001b[1;33m:\u001b[0m \u001b[0m_VT\u001b[0m\u001b[1;33m)\u001b[0m \u001b[1;33m->\u001b[0m \u001b[0m_VT\u001b[0m\u001b[1;33m:\u001b[0m\u001b[1;33m\u001b[0m\u001b[1;33m\u001b[0m\u001b[0m\n",
      "\u001b[1;31mNoSuchElementException\u001b[0m: Message: no such element: Unable to locate element: {\"method\":\"xpath\",\"selector\":\"//*[@id=\"danawa_menubar\"]/div[3]/div[3]/a/span\"}\n  (Session info: chrome=98.0.4758.82)\nStacktrace:\nBacktrace:\n\tOrdinal0 [0x0058FDC3+2555331]\n\tOrdinal0 [0x005277F1+2127857]\n\tOrdinal0 [0x00422E08+1060360]\n\tOrdinal0 [0x0044E49E+1238174]\n\tOrdinal0 [0x0044E69B+1238683]\n\tOrdinal0 [0x00479252+1413714]\n\tOrdinal0 [0x00467B54+1342292]\n\tOrdinal0 [0x004775FA+1406458]\n\tOrdinal0 [0x00467976+1341814]\n\tOrdinal0 [0x004436B6+1193654]\n\tOrdinal0 [0x00444546+1197382]\n\tGetHandleVerifier [0x00729622+1619522]\n\tGetHandleVerifier [0x007D882C+2336844]\n\tGetHandleVerifier [0x006223E1+541697]\n\tGetHandleVerifier [0x00621443+537699]\n\tOrdinal0 [0x0052D18E+2150798]\n\tOrdinal0 [0x00531518+2168088]\n\tOrdinal0 [0x00531660+2168416]\n\tOrdinal0 [0x0053B330+2208560]\n\tBaseThreadInitThunk [0x7727FA29+25]\n\tRtlGetAppContainerNamedObjectPath [0x775B7A9E+286]\n\tRtlGetAppContainerNamedObjectPath [0x775B7A6E+238]\n"
     ]
    }
   ],
   "source": [
    "path = '//*[@id=\"danawa_menubar\"]/div[3]/div[3]/a/span'\n",
    "driver.find_element_by_xpath(path).click()\n"
   ]
  },
  {
   "cell_type": "code",
   "execution_count": 6,
   "id": "188cfb88",
   "metadata": {},
   "outputs": [],
   "source": [
    "userid = sec.sec_id_pw['id']\n",
    "passwd = sec.sec_id_pw['pw']"
   ]
  },
  {
   "cell_type": "code",
   "execution_count": 7,
   "id": "bafecb46",
   "metadata": {
    "collapsed": true
   },
   "outputs": [
    {
     "name": "stderr",
     "output_type": "stream",
     "text": [
      "C:\\Users\\bitcamp\\AppData\\Local\\Temp/ipykernel_12136/4196980011.py:1: DeprecationWarning: find_element_by_* commands are deprecated. Please use find_element() instead\n",
      "  driver.find_element_by_id('danawa-member-login-input-id').send_keys(userid)\n"
     ]
    }
   ],
   "source": [
    "driver.find_element_by_id('danawa-member-login-input-id').send_keys(userid)"
   ]
  },
  {
   "cell_type": "code",
   "execution_count": 8,
   "id": "455e7497",
   "metadata": {
    "collapsed": true
   },
   "outputs": [
    {
     "name": "stderr",
     "output_type": "stream",
     "text": [
      "C:\\Users\\bitcamp\\AppData\\Local\\Temp/ipykernel_12136/3955079498.py:1: DeprecationWarning: find_element_by_* commands are deprecated. Please use find_element() instead\n",
      "  driver.find_element_by_id('danawa-member-login-input-pwd').send_keys(passwd)\n"
     ]
    }
   ],
   "source": [
    "driver.find_element_by_id('danawa-member-login-input-pwd').send_keys(passwd)"
   ]
  },
  {
   "cell_type": "code",
   "execution_count": 9,
   "id": "3867cc66",
   "metadata": {},
   "outputs": [
    {
     "name": "stderr",
     "output_type": "stream",
     "text": [
      "C:\\Users\\bitcamp\\AppData\\Local\\Temp/ipykernel_12136/1352965252.py:1: DeprecationWarning: find_element_by_* commands are deprecated. Please use find_element() instead\n",
      "  driver.find_element_by_id('danawa-member-login-loginButton').click()\n"
     ]
    }
   ],
   "source": [
    "driver.find_element_by_id('danawa-member-login-loginButton').click()"
   ]
  },
  {
   "cell_type": "code",
   "execution_count": 10,
   "id": "ba6de0fb",
   "metadata": {},
   "outputs": [
    {
     "name": "stderr",
     "output_type": "stream",
     "text": [
      "C:\\Users\\bitcamp\\AppData\\Local\\Temp/ipykernel_12136/2808537612.py:1: DeprecationWarning: find_element_by_* commands are deprecated. Please use find_element() instead\n",
      "  driver.find_element_by_xpath('//*[@id=\"danawa_menubar\"]/div[3]/div[2]/a/span[1]').click()\n"
     ]
    }
   ],
   "source": [
    "driver.find_element_by_xpath('//*[@id=\"danawa_menubar\"]/div[3]/div[2]/a/span[1]').click()"
   ]
  },
  {
   "cell_type": "code",
   "execution_count": null,
   "id": "c98f812a",
   "metadata": {},
   "outputs": [],
   "source": []
  },
  {
   "cell_type": "code",
   "execution_count": 12,
   "id": "c32e70fb",
   "metadata": {},
   "outputs": [],
   "source": [
    "html = driver.page_source"
   ]
  },
  {
   "cell_type": "code",
   "execution_count": 13,
   "id": "8eeef430",
   "metadata": {},
   "outputs": [],
   "source": [
    "soup = BeautifulSoup(html, 'html.parser')"
   ]
  },
  {
   "cell_type": "code",
   "execution_count": 14,
   "id": "be3d6e24",
   "metadata": {
    "collapsed": true
   },
   "outputs": [
    {
     "data": {
      "text/plain": [
       "[<tr>\n",
       " <td class=\"check\">\n",
       " <div class=\"chk\">\n",
       " <input id=\"wishProductSeq_739734463_7019536_28129140\" type=\"checkbox\"/>\n",
       " <label for=\"wishProductSeq_739734463_7019536_28129140\"><span class=\"ico\" tabindex=\"0\"></span></label>\n",
       " </div>\n",
       " </td>\n",
       " <td class=\"img\">\n",
       " <a class=\"prod_link\" href=\"http://prod.danawa.com/info/?pcode=7019536\" onclick=\"_trkEventLog('관심상품보관함_로그인_상품클릭');\" target=\"_blank\"><span class=\"img_a\"><img alt=\"베이직기어 태블릿&amp;스마트폰 거치대 BG-CTM1_이미지\" class=\"image_lazy\" data-original=\"//img.danawa.com/prod_img/500000/536/019/img/7019536_1.jpg?shrink=160:160\" src=\"//img.danawa.com/prod_img/500000/536/019/img/7019536_1.jpg?shrink=160:160\" style=\"display: inline;\"/></span></a>\n",
       " </td>\n",
       " <td class=\"info\">\n",
       " <div class=\"info_folder\">관심상품1</div>\n",
       " <div class=\"tit\"><a class=\"link\" href=\"http://prod.danawa.com/info/?pcode=7019536\" onclick=\"_trkEventLog('관심상품보관함_로그인_상품클릭');\" target=\"_blank\">베이직기어 태블릿&amp;스마트폰 거치대 BG-CTM1</a></div>\n",
       " <dl class=\"spec\">\n",
       " <dt class=\"blind\">상세스펙</dt>\n",
       " <dd class=\"spec_list\">\n",
       " <a class=\"link\" href=\"http://prod.danawa.com/info/?pcode=7019536\" onclick=\"_trkEventLog('관심상품보관함_로그인_상품클릭');\" target=\"_blank\">차량용거치대 / 휴대폰용 / 태블릿용 / 장착위치: 대시보드, 앞유리, 좌석시트, 선바이저 / 거치대고정: 흡착식 / 기기고정: 그립식 / 너비조절: 130~220mm / 헤드회전 / 각도조절</a>\n",
       " </dd>\n",
       " </dl>\n",
       " <div class=\"sub_info clear\">\n",
       " <dl>\n",
       " <dt>등록일</dt>\n",
       " <dd>2019.01</dd>\n",
       " </dl>\n",
       " <dl>\n",
       " <dt>판매몰</dt>\n",
       " <dd>68개</dd>\n",
       " </dl>\n",
       " <dl>\n",
       " <dt>\n",
       " <span class=\"point_type_ss\">\n",
       " <span class=\"star_mask\" style=\"width:92%\"></span>\n",
       " </span>\n",
       " </dt>\n",
       " <dd><span>4.5점 (<strong>274</strong>)</span></dd>\n",
       " </dl>\n",
       " </div>\n",
       " </td>\n",
       " <td class=\"lowest\">\n",
       " <dl>\n",
       " <div class=\"cost\">\n",
       " <span class=\"price\">\n",
       " <em class=\"num\">31,200</em>원\n",
       " \t\t\t\t\t\t\t</span>\n",
       " </div>\n",
       " <div class=\"etc\">\n",
       " \t\t\t\t\t\t\t(<em>0</em>)\n",
       " \t\t\t\t\t\t</div>\n",
       " </dl>\n",
       " <a class=\"btn_delete\" href=\"#\" id=\"wishProductDel_739734463_28129140\" onclick=\"return false;\"><span class=\"ico\">관심상품 삭제</span></a>\n",
       " </td>\n",
       " </tr>,\n",
       " <tr>\n",
       " <td class=\"check\">\n",
       " <div class=\"chk\">\n",
       " <input id=\"wishProductSeq_739734385_14283260_28129140\" type=\"checkbox\"/>\n",
       " <label for=\"wishProductSeq_739734385_14283260_28129140\"><span class=\"ico\" tabindex=\"1\"></span></label>\n",
       " </div>\n",
       " </td>\n",
       " <td class=\"img\">\n",
       " <a class=\"prod_link\" href=\"http://prod.danawa.com/info/?pcode=14283260\" onclick=\"_trkEventLog('관심상품보관함_로그인_상품클릭');\" target=\"_blank\"><span class=\"img_a\"><img alt=\"로리스토어 알파플랜 내비 휴대폰 태블릿 차량용 컵홀더 거치대 ACH22L1_이미지\" class=\"image_lazy\" data-original=\"//img.danawa.com/prod_img/500000/260/283/img/14283260_1.jpg?shrink=160:160\" src=\"//img.danawa.com/prod_img/500000/260/283/img/14283260_1.jpg?shrink=160:160\" style=\"display: inline;\"/></span></a>\n",
       " </td>\n",
       " <td class=\"info\">\n",
       " <div class=\"info_folder\">관심상품1</div>\n",
       " <div class=\"tit\"><a class=\"link\" href=\"http://prod.danawa.com/info/?pcode=14283260\" onclick=\"_trkEventLog('관심상품보관함_로그인_상품클릭');\" target=\"_blank\">로리스토어 알파플랜 내비 휴대폰 태블릿 차량용 컵홀더 거치대 ACH22L1</a></div>\n",
       " <dl class=\"spec\">\n",
       " <dt class=\"blind\">상세스펙</dt>\n",
       " <dd class=\"spec_list\">\n",
       " <a class=\"link\" href=\"http://prod.danawa.com/info/?pcode=14283260\" onclick=\"_trkEventLog('관심상품보관함_로그인_상품클릭');\" target=\"_blank\">차량용거치대 / 휴대폰용 / 태블릿용 / 장착위치: 컵홀더 / 기기고정: 그립식 / 너비조절: 110~220mm / 헤드회전 / 각도조절 / 컵홀더규격: 59~115mm / 높이조절: 160~230mm</a>\n",
       " </dd>\n",
       " </dl>\n",
       " <div class=\"sub_info clear\">\n",
       " <dl>\n",
       " <dt>등록일</dt>\n",
       " <dd>2021.05</dd>\n",
       " </dl>\n",
       " <dl>\n",
       " <dt>판매몰</dt>\n",
       " <dd>54개</dd>\n",
       " </dl>\n",
       " <dl>\n",
       " <dt>\n",
       " <span class=\"point_type_ss\">\n",
       " <span class=\"star_mask\" style=\"width:87%\"></span>\n",
       " </span>\n",
       " </dt>\n",
       " <dd><span>4.3점 (<strong>166</strong>)</span></dd>\n",
       " </dl>\n",
       " </div>\n",
       " </td>\n",
       " <td class=\"lowest\">\n",
       " <dl>\n",
       " <div class=\"cost\">\n",
       " <span class=\"price\">\n",
       " <em class=\"num\">14,250</em>원\n",
       " \t\t\t\t\t\t\t</span>\n",
       " </div>\n",
       " <div class=\"etc\">\n",
       " \t\t\t\t\t\t\t(<em>0</em>)\n",
       " \t\t\t\t\t\t</div>\n",
       " </dl>\n",
       " <a class=\"btn_delete\" href=\"#\" id=\"wishProductDel_739734385_28129140\" onclick=\"return false;\"><span class=\"ico\">관심상품 삭제</span></a>\n",
       " </td>\n",
       " </tr>,\n",
       " <tr>\n",
       " <td class=\"check\">\n",
       " <div class=\"chk\">\n",
       " <input id=\"wishProductSeq_711573352_11855968_28129140\" type=\"checkbox\"/>\n",
       " <label for=\"wishProductSeq_711573352_11855968_28129140\"><span class=\"ico\" tabindex=\"2\"></span></label>\n",
       " </div>\n",
       " </td>\n",
       " <td class=\"img\">\n",
       " <a class=\"prod_link\" href=\"http://prod.danawa.com/info/?pcode=11855968\" onclick=\"_trkEventLog('관심상품보관함_로그인_상품클릭');\" target=\"_blank\"><span class=\"img_a\"><img alt=\"린백 올메쉬의자 LC36HB_이미지\" class=\"image_lazy\" data-original=\"//img.danawa.com/prod_img/500000/968/855/img/11855968_1.jpg?shrink=160:160\" src=\"//img.danawa.com/prod_img/500000/968/855/img/11855968_1.jpg?shrink=160:160\" style=\"display: inline;\"/></span></a>\n",
       " </td>\n",
       " <td class=\"info\">\n",
       " <div class=\"info_folder\">관심상품1</div>\n",
       " <div class=\"tit\"><a class=\"link\" href=\"http://prod.danawa.com/info/?pcode=11855968\" onclick=\"_trkEventLog('관심상품보관함_로그인_상품클릭');\" target=\"_blank\">린백 올메쉬의자 LC36HB</a></div>\n",
       " <dl class=\"spec\">\n",
       " <dt class=\"blind\">상세스펙</dt>\n",
       " <dd class=\"spec_list\">\n",
       " <a class=\"link\" href=\"http://prod.danawa.com/info/?pcode=11855968\" onclick=\"_trkEventLog('관심상품보관함_로그인_상품클릭');\" target=\"_blank\">책상의자 / 일반등받이 / AS기간: 무상 1년 / <br/><b>[소재]</b> 메쉬등판 / 메쉬좌판 / 다릿발: 나일론 / 바퀴: 우레탄 / <br/><b>[조절]</b> 틸팅: 강도, 고정 / 등판: 각도 / 목받침: 높낮이 / 요추받침: 높낮이 / <br/><b>[크기]</b> 좌판가로: 47cm / 좌판깊이: 48cm / 좌판높이: 48~54cm / 총높이: 116~122cm / 색상: 다크그레이</a>\n",
       " </dd>\n",
       " </dl>\n",
       " <div class=\"sub_info clear\">\n",
       " <dl>\n",
       " <dt>등록일</dt>\n",
       " <dd>2018.08</dd>\n",
       " </dl>\n",
       " <dl>\n",
       " <dt>판매몰</dt>\n",
       " <dd>22개</dd>\n",
       " </dl>\n",
       " <dl>\n",
       " <dt>\n",
       " <span class=\"point_type_ss\">\n",
       " <span class=\"star_mask\" style=\"width:84%\"></span>\n",
       " </span>\n",
       " </dt>\n",
       " <dd><span>4.1점 (<strong>34</strong>)</span></dd>\n",
       " </dl>\n",
       " </div>\n",
       " </td>\n",
       " <td class=\"lowest\">\n",
       " <dl>\n",
       " <div class=\"cost\">\n",
       " <span class=\"price\">\n",
       " <em class=\"num\">124,200</em>원\n",
       " \t\t\t\t\t\t\t</span>\n",
       " </div>\n",
       " <div class=\"etc red\">\n",
       " \t\t\t\t\t\t\t(<em>+6,570</em>)\n",
       " \t\t\t\t\t\t</div>\n",
       " </dl>\n",
       " <a class=\"btn_delete\" href=\"#\" id=\"wishProductDel_711573352_28129140\" onclick=\"return false;\"><span class=\"ico\">관심상품 삭제</span></a>\n",
       " </td>\n",
       " </tr>,\n",
       " <tr>\n",
       " <td class=\"check\">\n",
       " <div class=\"chk\">\n",
       " <input id=\"wishProductSeq_688167916_12392075_28129140\" type=\"checkbox\"/>\n",
       " <label for=\"wishProductSeq_688167916_12392075_28129140\"><span class=\"ico\" tabindex=\"3\"></span></label>\n",
       " </div>\n",
       " </td>\n",
       " <td class=\"img\">\n",
       " <a class=\"prod_link\" href=\"http://prod.danawa.com/info/?pcode=12392075\" onclick=\"_trkEventLog('관심상품보관함_로그인_상품클릭');\" target=\"_blank\"><span class=\"img_a\"><img alt=\"APPLE 워치 시리즈6 44mm 블루 알루미늄 (스포츠 밴드, 일반구매)_이미지\" class=\"image_lazy\" data-original=\"//img.danawa.com/prod_img/500000/075/392/img/12392075_1.jpg?shrink=160:160\" src=\"//img.danawa.com/prod_img/500000/075/392/img/12392075_1.jpg?shrink=160:160\" style=\"display: inline;\"/></span></a>\n",
       " </td>\n",
       " <td class=\"info\">\n",
       " <div class=\"info_folder\">관심상품1</div>\n",
       " <div class=\"tit\"><a class=\"link\" href=\"http://prod.danawa.com/info/?pcode=12392075\" onclick=\"_trkEventLog('관심상품보관함_로그인_상품클릭');\" target=\"_blank\">APPLE 워치 시리즈6 44mm 블루 알루미늄 (스포츠 밴드, 일반구매)</a></div>\n",
       " <dl class=\"spec\">\n",
       " <dt class=\"blind\">상세스펙</dt>\n",
       " <dd class=\"spec_list\">\n",
       " <a class=\"link\" href=\"http://prod.danawa.com/info/?pcode=12392075\" onclick=\"_trkEventLog('관심상품보관함_로그인_상품클릭');\" target=\"_blank\">스마트워치 / iOS(WatchOS) / OLED / 4.4cm(1.73인치) / 448x368 / <br/><b>[사양]</b> 애플S6 / 듀얼(2)코어 / 램 : 1GB / 저장 : 32GB / <br/><b>[운동]</b> 운동량 / 속도 / 이동거리 / 페이스 / 활동시간 / 자전거타기 / 스키 / 수영 / 날씨 / 로잉머신 / 골프 / 일립티컬 / 걷기 / 달리기 / 보행수 / 요가 / 고도 / 등산 / 승마 / <br/><b>[건강]</b> 수면정보 / 심박측정 / 혈중산소 / 칼로리 / 여성 건강 모니터링 / 낙상감지 / 심전도 / <br/><b>[연결]</b> WiFi / GPS / NFC / 블루투스 / v5.0 / <br/><b>[기능]</b> 스피커 / 마이크 / SNS알림 / 음악콘트롤 / 메세지알림 / 무선충전 / 전화알림 / 통화가능 / 진동 / AI음성인식 / 5ATM / 평균사용:1일이하 / 36.5g</a>\n",
       " </dd>\n",
       " </dl>\n",
       " <div class=\"sub_info clear\">\n",
       " <dl>\n",
       " <dt>등록일</dt>\n",
       " <dd>2020.09</dd>\n",
       " </dl>\n",
       " <dl>\n",
       " <dt>판매몰</dt>\n",
       " <dd>32개</dd>\n",
       " </dl>\n",
       " <dl>\n",
       " <dt>\n",
       " <span class=\"point_type_ss\">\n",
       " <span class=\"star_mask\" style=\"width:96%\"></span>\n",
       " </span>\n",
       " </dt>\n",
       " <dd><span>4.7점 (<strong>39</strong>)</span></dd>\n",
       " </dl>\n",
       " </div>\n",
       " </td>\n",
       " <td class=\"lowest\">\n",
       " <dl>\n",
       " <div class=\"cost\">\n",
       " <span class=\"price\">\n",
       " <em class=\"num\">401,247</em>원\n",
       " \t\t\t\t\t\t\t</span>\n",
       " </div>\n",
       " <div class=\"etc blue\">\n",
       " \t\t\t\t\t\t\t(<em>-161,453</em>)\n",
       " \t\t\t\t\t\t</div>\n",
       " </dl>\n",
       " <a class=\"btn_delete\" href=\"#\" id=\"wishProductDel_688167916_28129140\" onclick=\"return false;\"><span class=\"ico\">관심상품 삭제</span></a>\n",
       " </td>\n",
       " </tr>]"
      ]
     },
     "execution_count": 14,
     "metadata": {},
     "output_type": "execute_result"
    }
   ],
   "source": [
    "path = '#wishProductListArea > table > tbody > tr'\n",
    "soup.select(path)"
   ]
  },
  {
   "cell_type": "code",
   "execution_count": 15,
   "id": "1b6a1be5",
   "metadata": {},
   "outputs": [
    {
     "data": {
      "text/plain": [
       "4"
      ]
     },
     "execution_count": 15,
     "metadata": {},
     "output_type": "execute_result"
    }
   ],
   "source": [
    "len(soup.select(path))"
   ]
  },
  {
   "cell_type": "code",
   "execution_count": 16,
   "id": "74dace63",
   "metadata": {},
   "outputs": [],
   "source": [
    "tags = soup.select(path)"
   ]
  },
  {
   "cell_type": "code",
   "execution_count": 20,
   "id": "042df1cd",
   "metadata": {},
   "outputs": [
    {
     "data": {
      "text/plain": [
       "'베이직기어 태블릿&스마트폰 거치대 BG-CTM1'"
      ]
     },
     "execution_count": 20,
     "metadata": {},
     "output_type": "execute_result"
    }
   ],
   "source": [
    "tags[0].select('#wishProductListArea > table > tbody > tr > td.info > div.tit > a')[0].text"
   ]
  },
  {
   "cell_type": "code",
   "execution_count": 22,
   "id": "d397824b",
   "metadata": {},
   "outputs": [
    {
     "data": {
      "text/plain": [
       "'차량용거치대 / 휴대폰용 / 태블릿용 / 장착위치: 대시보드, 앞유리, 좌석시트, 선바이저 / 거치대고정: 흡착식 / 기기고정: 그립식 / 너비조절: 130~220mm / 헤드회전 / 각도조절'"
      ]
     },
     "execution_count": 22,
     "metadata": {},
     "output_type": "execute_result"
    }
   ],
   "source": [
    "tags[0].select('#wishProductListArea > table > tbody > tr > td.info > dl > dd > a')[0].text"
   ]
  },
  {
   "cell_type": "code",
   "execution_count": 24,
   "id": "fe8fe0b4",
   "metadata": {},
   "outputs": [
    {
     "data": {
      "text/plain": [
       "'31,200'"
      ]
     },
     "execution_count": 24,
     "metadata": {},
     "output_type": "execute_result"
    }
   ],
   "source": [
    "tags[0].select('#wishProductListArea > table > tbody > tr > td.lowest > dl > div.cost > span > em')[0].text"
   ]
  },
  {
   "cell_type": "code",
   "execution_count": null,
   "id": "8a69055d",
   "metadata": {},
   "outputs": [],
   "source": []
  },
  {
   "cell_type": "code",
   "execution_count": 25,
   "id": "9a7d41ea",
   "metadata": {},
   "outputs": [
    {
     "name": "stdout",
     "output_type": "stream",
     "text": [
      "베이직기어 태블릿&스마트폰 거치대 BG-CTM1\n",
      "차량용거치대 / 휴대폰용 / 태블릿용 / 장착위치: 대시보드, 앞유리, 좌석시트, 선바이저 / 거치대고정: 흡착식 / 기기고정: 그립식 / 너비조절: 130~220mm / 헤드회전 / 각도조절\n",
      "31,200\n",
      "\n",
      "============\n",
      "로리스토어 알파플랜 내비 휴대폰 태블릿 차량용 컵홀더 거치대 ACH22L1\n",
      "차량용거치대 / 휴대폰용 / 태블릿용 / 장착위치: 컵홀더 / 기기고정: 그립식 / 너비조절: 110~220mm / 헤드회전 / 각도조절 / 컵홀더규격: 59~115mm / 높이조절: 160~230mm\n",
      "31,200\n",
      "\n",
      "============\n",
      "린백 올메쉬의자 LC36HB\n",
      "책상의자 / 일반등받이 / AS기간: 무상 1년 / [소재] 메쉬등판 / 메쉬좌판 / 다릿발: 나일론 / 바퀴: 우레탄 / [조절] 틸팅: 강도, 고정 / 등판: 각도 / 목받침: 높낮이 / 요추받침: 높낮이 / [크기] 좌판가로: 47cm / 좌판깊이: 48cm / 좌판높이: 48~54cm / 총높이: 116~122cm / 색상: 다크그레이\n",
      "31,200\n",
      "\n",
      "============\n",
      "APPLE 워치 시리즈6 44mm 블루 알루미늄 (스포츠 밴드, 일반구매)\n",
      "스마트워치 / iOS(WatchOS) / OLED / 4.4cm(1.73인치) / 448x368 / [사양] 애플S6 / 듀얼(2)코어 / 램 : 1GB / 저장 : 32GB / [운동] 운동량 / 속도 / 이동거리 / 페이스 / 활동시간 / 자전거타기 / 스키 / 수영 / 날씨 / 로잉머신 / 골프 / 일립티컬 / 걷기 / 달리기 / 보행수 / 요가 / 고도 / 등산 / 승마 / [건강] 수면정보 / 심박측정 / 혈중산소 / 칼로리 / 여성 건강 모니터링 / 낙상감지 / 심전도 / [연결] WiFi / GPS / NFC / 블루투스 / v5.0 / [기능] 스피커 / 마이크 / SNS알림 / 음악콘트롤 / 메세지알림 / 무선충전 / 전화알림 / 통화가능 / 진동 / AI음성인식 / 5ATM / 평균사용:1일이하 / 36.5g\n",
      "31,200\n",
      "\n",
      "============\n"
     ]
    }
   ],
   "source": [
    "for tag in tags:\n",
    "    title = tag.select('#wishProductListArea > table > tbody > tr > td.info > div.tit > a')[0].text\n",
    "    detail = tag.select('#wishProductListArea > table > tbody > tr > td.info > dl > dd > a')[0].text\n",
    "    price = tags[0].select('#wishProductListArea > table > tbody > tr > td.lowest > dl > div.cost > span > em')[0].text\n",
    "    \n",
    "    print(title)\n",
    "    print(detail)\n",
    "    print(price)\n",
    "    print()\n",
    "    print('============')"
   ]
  },
  {
   "cell_type": "code",
   "execution_count": null,
   "id": "2c9e6326",
   "metadata": {},
   "outputs": [],
   "source": []
  },
  {
   "cell_type": "code",
   "execution_count": null,
   "id": "a44d62a1",
   "metadata": {},
   "outputs": [],
   "source": []
  }
 ],
 "metadata": {
  "kernelspec": {
   "display_name": "Python 3 (ipykernel)",
   "language": "python",
   "name": "python3"
  },
  "language_info": {
   "codemirror_mode": {
    "name": "ipython",
    "version": 3
   },
   "file_extension": ".py",
   "mimetype": "text/x-python",
   "name": "python",
   "nbconvert_exporter": "python",
   "pygments_lexer": "ipython3",
   "version": "3.9.7"
  }
 },
 "nbformat": 4,
 "nbformat_minor": 5
}
