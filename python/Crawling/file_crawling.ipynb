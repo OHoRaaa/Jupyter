{
 "cells": [
  {
   "cell_type": "code",
   "execution_count": 10,
   "id": "33b83a90",
   "metadata": {},
   "outputs": [],
   "source": [
    "import requests\n",
    "from bs4 import BeautifulSoup"
   ]
  },
  {
   "cell_type": "code",
   "execution_count": 11,
   "id": "569380b7",
   "metadata": {},
   "outputs": [],
   "source": [
    "url = 'https://xkcd.com/'"
   ]
  },
  {
   "cell_type": "code",
   "execution_count": 12,
   "id": "374ce4a8",
   "metadata": {},
   "outputs": [],
   "source": [
    "res = requests.get(url)\n",
    "soup = BeautifulSoup(res.text, 'html.parser')"
   ]
  },
  {
   "cell_type": "code",
   "execution_count": 13,
   "id": "cb155102",
   "metadata": {},
   "outputs": [],
   "source": [
    "tags = '#comic > img'"
   ]
  },
  {
   "cell_type": "code",
   "execution_count": 15,
   "id": "56586fc6",
   "metadata": {},
   "outputs": [
    {
     "data": {
      "text/plain": [
       "[<img alt=\"Captain Picard Tea Order\" src=\"//imgs.xkcd.com/comics/captain_picard_tea_order.png\" srcset=\"//imgs.xkcd.com/comics/captain_picard_tea_order_2x.png 2x\" style=\"image-orientation:none\" title=\"We can ask the Earl for his order once he's fully extruded from the dispenser.\"/>]"
      ]
     },
     "execution_count": 15,
     "metadata": {},
     "output_type": "execute_result"
    }
   ],
   "source": [
    "tag = soup.select(tags)\n",
    "tag"
   ]
  },
  {
   "cell_type": "code",
   "execution_count": 18,
   "id": "685f0172",
   "metadata": {},
   "outputs": [
    {
     "data": {
      "text/plain": [
       "'http://imgs.xkcd.com/comics/captain_picard_tea_order.png'"
      ]
     },
     "execution_count": 18,
     "metadata": {},
     "output_type": "execute_result"
    }
   ],
   "source": [
    "img_url = tag[0]['src']\n",
    "img_url = 'http:' + img_url\n",
    "img_url"
   ]
  },
  {
   "cell_type": "code",
   "execution_count": 19,
   "id": "e76966c7",
   "metadata": {},
   "outputs": [
    {
     "data": {
      "text/plain": [
       "('xkcd_1.jpg', <http.client.HTTPMessage at 0x1f85b780e80>)"
      ]
     },
     "execution_count": 19,
     "metadata": {},
     "output_type": "execute_result"
    }
   ],
   "source": [
    "import urllib\n",
    "urllib.request.urlretrieve(img_url, 'xkcd_1.jpg')"
   ]
  },
  {
   "cell_type": "code",
   "execution_count": 20,
   "id": "f7cf3f15",
   "metadata": {},
   "outputs": [
    {
     "data": {
      "text/plain": [
       "['.ipynb_checkpoints',\n",
       " 'Crawling.ipynb',\n",
       " 'file_crawling.ipynb',\n",
       " 'jump.html',\n",
       " 'python_crawling_1.ipynb',\n",
       " 'xkcd_1.jpg',\n",
       " '새 텍스트 문서.txt',\n",
       " '선생님 버전']"
      ]
     },
     "execution_count": 20,
     "metadata": {},
     "output_type": "execute_result"
    }
   ],
   "source": [
    "import os\n",
    "os.listdir()"
   ]
  },
  {
   "cell_type": "code",
   "execution_count": null,
   "id": "1e8efa5f",
   "metadata": {},
   "outputs": [],
   "source": []
  },
  {
   "cell_type": "code",
   "execution_count": 29,
   "id": "93bc911d",
   "metadata": {},
   "outputs": [
    {
     "data": {
      "text/plain": [
       "('xkcd_2569.jpg', <http.client.HTTPMessage at 0x1f85c52b0a0>)"
      ]
     },
     "execution_count": 29,
     "metadata": {},
     "output_type": "execute_result"
    }
   ],
   "source": [
    "for i in range(2560, 2570):\n",
    "    url = 'http://www.xkcd.com/{}'.format(i)\n",
    "#     print(url)\n",
    "res = requests.get(url)\n",
    "soup = BeautifulSoup(res.text, 'html.parser')\n",
    "\n",
    "path = '#comic > img'\n",
    "tag = soup.select(path)\n",
    "\n",
    "img_url = tag[0]['src']\n",
    "img_url = 'http:' + img_url\n",
    "\n",
    "urllib.request.urlretrieve(img_url, 'xkcd_{}.jpg'.format(i))"
   ]
  },
  {
   "cell_type": "code",
   "execution_count": 30,
   "id": "4de746f3",
   "metadata": {},
   "outputs": [
    {
     "data": {
      "text/plain": [
       "['.ipynb_checkpoints',\n",
       " 'Crawling.ipynb',\n",
       " 'file_crawling.ipynb',\n",
       " 'jump.html',\n",
       " 'python_crawling_1.ipynb',\n",
       " 'xkcd_1.jpg',\n",
       " 'xkcd_2569.jpg',\n",
       " '새 텍스트 문서.txt',\n",
       " '선생님 버전']"
      ]
     },
     "execution_count": 30,
     "metadata": {},
     "output_type": "execute_result"
    }
   ],
   "source": [
    "os.listdir()"
   ]
  },
  {
   "cell_type": "code",
   "execution_count": null,
   "id": "4a5c7359",
   "metadata": {},
   "outputs": [],
   "source": []
  }
 ],
 "metadata": {
  "kernelspec": {
   "display_name": "Python 3 (ipykernel)",
   "language": "python",
   "name": "python3"
  },
  "language_info": {
   "codemirror_mode": {
    "name": "ipython",
    "version": 3
   },
   "file_extension": ".py",
   "mimetype": "text/x-python",
   "name": "python",
   "nbconvert_exporter": "python",
   "pygments_lexer": "ipython3",
   "version": "3.9.7"
  }
 },
 "nbformat": 4,
 "nbformat_minor": 5
}
