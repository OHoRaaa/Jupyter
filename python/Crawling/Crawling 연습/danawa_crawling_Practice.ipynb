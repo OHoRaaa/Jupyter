{
 "cells": [
  {
   "cell_type": "code",
   "execution_count": 47,
   "id": "ea3ea334",
   "metadata": {},
   "outputs": [],
   "source": [
    "# 다나와 사이트에 로그인 한 후 관심상품 목록 출력하기..\n",
    "# 제품, 상서정보, 가격..."
   ]
  },
  {
   "cell_type": "code",
   "execution_count": 48,
   "id": "2888a49c",
   "metadata": {},
   "outputs": [],
   "source": [
    "from bs4 import BeautifulSoup\n",
    "from selenium import webdriver\n",
    "import time\n",
    "import sec"
   ]
  },
  {
   "cell_type": "code",
   "execution_count": 49,
   "id": "f976d20c",
   "metadata": {},
   "outputs": [],
   "source": [
    "driver = webdriver.Chrome()"
   ]
  },
  {
   "cell_type": "code",
   "execution_count": 50,
   "id": "7c5b74de",
   "metadata": {},
   "outputs": [],
   "source": [
    "driver.get('https://www.danawa.com')"
   ]
  },
  {
   "cell_type": "code",
   "execution_count": 51,
   "id": "a8531a93",
   "metadata": {},
   "outputs": [
    {
     "name": "stderr",
     "output_type": "stream",
     "text": [
      "C:\\Users\\bitcamp\\AppData\\Local\\Temp/ipykernel_13556/30928531.py:3: DeprecationWarning: find_element_by_* commands are deprecated. Please use find_element() instead\n",
      "  driver.find_element_by_xpath(path).click()\n"
     ]
    }
   ],
   "source": [
    "path = '//*[@id=\"danawa_menubar\"]/div[3]/div[3]/a/span'\n",
    "\n",
    "driver.find_element_by_xpath(path).click()"
   ]
  },
  {
   "cell_type": "code",
   "execution_count": 52,
   "id": "6a80310c",
   "metadata": {},
   "outputs": [],
   "source": [
    "u = {}\n",
    "u['i'] = 'wjddus531'\n",
    "\n",
    "p = {}\n",
    "p['p'] = 'eoemdha13@'\n",
    "\n",
    "userid = u['i']\n",
    "passwd = p['p']"
   ]
  },
  {
   "cell_type": "code",
   "execution_count": 53,
   "id": "246a8f21",
   "metadata": {},
   "outputs": [
    {
     "name": "stderr",
     "output_type": "stream",
     "text": [
      "C:\\Users\\bitcamp\\AppData\\Local\\Temp/ipykernel_13556/4196980011.py:1: DeprecationWarning: find_element_by_* commands are deprecated. Please use find_element() instead\n",
      "  driver.find_element_by_id('danawa-member-login-input-id').send_keys(userid)\n"
     ]
    }
   ],
   "source": [
    "driver.find_element_by_id('danawa-member-login-input-id').send_keys(userid)"
   ]
  },
  {
   "cell_type": "code",
   "execution_count": 54,
   "id": "5859e97d",
   "metadata": {},
   "outputs": [
    {
     "name": "stderr",
     "output_type": "stream",
     "text": [
      "C:\\Users\\bitcamp\\AppData\\Local\\Temp/ipykernel_13556/3955079498.py:1: DeprecationWarning: find_element_by_* commands are deprecated. Please use find_element() instead\n",
      "  driver.find_element_by_id('danawa-member-login-input-pwd').send_keys(passwd)\n"
     ]
    }
   ],
   "source": [
    "driver.find_element_by_id('danawa-member-login-input-pwd').send_keys(passwd)"
   ]
  },
  {
   "cell_type": "code",
   "execution_count": 55,
   "id": "42ca1793",
   "metadata": {},
   "outputs": [
    {
     "name": "stderr",
     "output_type": "stream",
     "text": [
      "C:\\Users\\bitcamp\\AppData\\Local\\Temp/ipykernel_13556/1352965252.py:1: DeprecationWarning: find_element_by_* commands are deprecated. Please use find_element() instead\n",
      "  driver.find_element_by_id('danawa-member-login-loginButton').click()\n"
     ]
    }
   ],
   "source": [
    "driver.find_element_by_id('danawa-member-login-loginButton').click()"
   ]
  },
  {
   "cell_type": "code",
   "execution_count": 56,
   "id": "83fdac25",
   "metadata": {},
   "outputs": [
    {
     "name": "stderr",
     "output_type": "stream",
     "text": [
      "C:\\Users\\bitcamp\\AppData\\Local\\Temp/ipykernel_13556/2808537612.py:1: DeprecationWarning: find_element_by_* commands are deprecated. Please use find_element() instead\n",
      "  driver.find_element_by_xpath('//*[@id=\"danawa_menubar\"]/div[3]/div[2]/a/span[1]').click()\n"
     ]
    }
   ],
   "source": [
    "driver.find_element_by_xpath('//*[@id=\"danawa_menubar\"]/div[3]/div[2]/a/span[1]').click()"
   ]
  },
  {
   "cell_type": "code",
   "execution_count": 57,
   "id": "8d8a67a0",
   "metadata": {},
   "outputs": [],
   "source": [
    "html = driver.page_source"
   ]
  },
  {
   "cell_type": "code",
   "execution_count": 58,
   "id": "38a139b5",
   "metadata": {},
   "outputs": [],
   "source": [
    "soup = BeautifulSoup(html, 'html.parser')"
   ]
  },
  {
   "cell_type": "code",
   "execution_count": 98,
   "id": "2533cf15",
   "metadata": {},
   "outputs": [
    {
     "data": {
      "text/plain": [
       "[<tr>\n",
       " <td class=\"check\">\n",
       " <div class=\"chk\">\n",
       " <input id=\"wishProductSeq_739735225_6131219_106869726\" type=\"checkbox\"/>\n",
       " <label for=\"wishProductSeq_739735225_6131219_106869726\"><span class=\"ico\" tabindex=\"0\"></span></label>\n",
       " </div>\n",
       " </td>\n",
       " <td class=\"img\">\n",
       " <a class=\"prod_link\" href=\"http://prod.danawa.com/info/?pcode=6131219\" onclick=\"_trkEventLog('관심상품보관함_로그인_상품클릭');\" target=\"_blank\"><span class=\"img_a\"><img alt=\"삼성전자 U32J590_이미지\" class=\"image_lazy\" data-original=\"//img.danawa.com/prod_img/500000/219/131/img/6131219_1.jpg?shrink=160:160\" src=\"//img.danawa.com/prod_img/500000/219/131/img/6131219_1.jpg?shrink=160:160\" style=\"display: inline;\"/></span></a>\n",
       " </td>\n",
       " <td class=\"info\">\n",
       " <div class=\"info_folder\">관심상품1</div>\n",
       " <div class=\"tit\"><a class=\"link\" href=\"http://prod.danawa.com/info/?pcode=6131219\" onclick=\"_trkEventLog('관심상품보관함_로그인_상품클릭');\" target=\"_blank\">삼성전자 U32J590</a></div>\n",
       " <dl class=\"spec\">\n",
       " <dt class=\"blind\">상세스펙</dt>\n",
       " <dd class=\"spec_list\">\n",
       " <a class=\"link\" href=\"http://prod.danawa.com/info/?pcode=6131219\" onclick=\"_trkEventLog('관심상품보관함_로그인_상품클릭');\" target=\"_blank\">80.1cm(32인치) / 와이드(16:9) / 평면 / VA / 광시야각 / 3840 x 2160(4K UHD) / 픽셀피치: 0.181mm / 4ms(GTG) / 270cd / 3,000:1 / 최대 주사율: 60Hz / 10bit (8bit + FRC) / HDMI / HDMI 2.0 / DP포트 / 플리커 프리 / 게임모드 지원 / FreeSync / PBP / PIP / SW 화면분할 / 헤드폰 아웃 / 틸트(상하) / 100 x 100mm / 59W / 0.3W / 6.3kg</a>\n",
       " </dd>\n",
       " </dl>\n",
       " <div class=\"sub_info clear\">\n",
       " <dl>\n",
       " <dt>등록일</dt>\n",
       " <dd>2018.05</dd>\n",
       " </dl>\n",
       " <dl>\n",
       " <dt>판매몰</dt>\n",
       " <dd>363개</dd>\n",
       " </dl>\n",
       " <dl>\n",
       " <dt>\n",
       " <span class=\"point_type_ss\">\n",
       " <span class=\"star_mask\" style=\"width:96%\"></span>\n",
       " </span>\n",
       " </dt>\n",
       " <dd><span>4.8점 (<strong>3,297</strong>)</span></dd>\n",
       " </dl>\n",
       " </div>\n",
       " </td>\n",
       " <td class=\"lowest\">\n",
       " <dl>\n",
       " <div class=\"cost\">\n",
       " <span class=\"price\">\n",
       " <em class=\"num\">389,000</em>원\n",
       " \t\t\t\t\t\t\t</span>\n",
       " </div>\n",
       " <div class=\"etc\">\n",
       " \t\t\t\t\t\t\t(<em>0</em>)\n",
       " \t\t\t\t\t\t</div>\n",
       " </dl>\n",
       " <a class=\"btn_delete\" href=\"#\" id=\"wishProductDel_739735225_106869726\" onclick=\"return false;\"><span class=\"ico\">관심상품 삭제</span></a>\n",
       " </td>\n",
       " </tr>,\n",
       " <tr>\n",
       " <td class=\"check\">\n",
       " <div class=\"chk\">\n",
       " <input id=\"wishProductSeq_739735222_12835076_106869729\" type=\"checkbox\"/>\n",
       " <label for=\"wishProductSeq_739735222_12835076_106869729\"><span class=\"ico\" tabindex=\"1\"></span></label>\n",
       " </div>\n",
       " </td>\n",
       " <td class=\"img\">\n",
       " <a class=\"prod_link\" href=\"http://prod.danawa.com/info/?pcode=12835076\" onclick=\"_trkEventLog('관심상품보관함_로그인_상품클릭');\" target=\"_blank\"><span class=\"img_a\"><img alt=\"삼성전자 SMART M7 S32AM700_이미지\" class=\"image_lazy\" data-original=\"//img.danawa.com/prod_img/500000/076/835/img/12835076_1.jpg?shrink=160:160\" src=\"//img.danawa.com/prod_img/500000/076/835/img/12835076_1.jpg?shrink=160:160\" style=\"display: inline;\"/></span></a>\n",
       " </td>\n",
       " <td class=\"info\">\n",
       " <div class=\"info_folder\">관심상품1</div>\n",
       " <div class=\"tit\"><a class=\"link\" href=\"http://prod.danawa.com/info/?pcode=12835076\" onclick=\"_trkEventLog('관심상품보관함_로그인_상품클릭');\" target=\"_blank\">삼성전자 SMART M7 S32AM700</a></div>\n",
       " <dl class=\"spec\">\n",
       " <dt class=\"blind\">상세스펙</dt>\n",
       " <dd class=\"spec_list\">\n",
       " <a class=\"link\" href=\"http://prod.danawa.com/info/?pcode=12835076\" onclick=\"_trkEventLog('관심상품보관함_로그인_상품클릭');\" target=\"_blank\">80cm(32인치) / 와이드(16:9) / 평면 / VA / 광시야각 / 3840 x 2160(4K UHD) / 픽셀피치: 0.18159mm / 8ms(GTG) / 250cd / 3,000:1 / 최대 주사율: 60Hz / HDMI 2.0 / USB Type-C / 플리커 프리 / 블루라이트 차단 / 게임모드 지원 / 스피커 / 리모컨 / USB허브 / Wi-Fi(무선) / 스마트TV / 블루투스 / 틸트(상하) / 100 x 100mm / HDR / HDR10 / 150W / 0.5W / 6.5kg</a>\n",
       " </dd>\n",
       " </dl>\n",
       " <div class=\"sub_info clear\">\n",
       " <dl>\n",
       " <dt>등록일</dt>\n",
       " <dd>2020.12</dd>\n",
       " </dl>\n",
       " <dl>\n",
       " <dt>판매몰</dt>\n",
       " <dd>251개</dd>\n",
       " </dl>\n",
       " <dl>\n",
       " <dt>\n",
       " <span class=\"point_type_ss\">\n",
       " <span class=\"star_mask\" style=\"width:97%\"></span>\n",
       " </span>\n",
       " </dt>\n",
       " <dd><span>4.8점 (<strong>1,442</strong>)</span></dd>\n",
       " </dl>\n",
       " </div>\n",
       " </td>\n",
       " <td class=\"lowest\">\n",
       " <dl>\n",
       " <div class=\"cost\">\n",
       " <span class=\"price\">\n",
       " <em class=\"num\">499,000</em>원\n",
       " \t\t\t\t\t\t\t</span>\n",
       " </div>\n",
       " <div class=\"etc\">\n",
       " \t\t\t\t\t\t\t(<em>0</em>)\n",
       " \t\t\t\t\t\t</div>\n",
       " </dl>\n",
       " <a class=\"btn_delete\" href=\"#\" id=\"wishProductDel_739735222_106869729\" onclick=\"return false;\"><span class=\"ico\">관심상품 삭제</span></a>\n",
       " </td>\n",
       " </tr>,\n",
       " <tr>\n",
       " <td class=\"check\">\n",
       " <div class=\"chk\">\n",
       " <input id=\"wishProductSeq_739735210_12394085_106869729\" type=\"checkbox\"/>\n",
       " <label for=\"wishProductSeq_739735210_12394085_106869729\"><span class=\"ico\" tabindex=\"2\"></span></label>\n",
       " </div>\n",
       " </td>\n",
       " <td class=\"img\">\n",
       " <a class=\"prod_link\" href=\"http://prod.danawa.com/info/?pcode=12394085\" onclick=\"_trkEventLog('관심상품보관함_로그인_상품클릭');\" target=\"_blank\"><span class=\"img_a\"><img alt=\"알파스캔 AOC U28P UHD 피벗 높낮이 시력보호 무결점_이미지\" class=\"image_lazy\" data-original=\"//img.danawa.com/prod_img/500000/085/394/img/12394085_1.jpg?shrink=160:160\" src=\"//img.danawa.com/prod_img/500000/085/394/img/12394085_1.jpg?shrink=160:160\" style=\"display: inline;\"/></span></a>\n",
       " </td>\n",
       " <td class=\"info\">\n",
       " <div class=\"info_folder\">관심상품1</div>\n",
       " <div class=\"tit\"><a class=\"link\" href=\"http://prod.danawa.com/info/?pcode=12394085\" onclick=\"_trkEventLog('관심상품보관함_로그인_상품클릭');\" target=\"_blank\">알파스캔 AOC U28P UHD 피벗 높낮이 시력보호 무결점</a></div>\n",
       " <dl class=\"spec\">\n",
       " <dt class=\"blind\">상세스펙</dt>\n",
       " <dd class=\"spec_list\">\n",
       " <a class=\"link\" href=\"http://prod.danawa.com/info/?pcode=12394085\" onclick=\"_trkEventLog('관심상품보관함_로그인_상품클릭');\" target=\"_blank\">71cm(27.9인치) / 와이드(16:9) / 평면 / IPS / 광시야각 / 3840 x 2160(4K UHD) / 픽셀피치: 0.16mm / 4ms(GTG OD) / 300cd / 1,000:1 / 50,000,000:1 / 최대 주사율: 60Hz / 논글레어 / 10bit (8bit + FRC) / NTSC: 107% / sRGB: 122.6% / DCI-P3: 97.6% / Adobe RGB: 105% / HDMI 2.0 / DP포트 / 플리커 프리 / 블루라이트 차단 / 눈부심 방지 / 게임모드 지원 / FreeSync / Adaptive Sync / PBP / PIP / SW 화면분할 / 헤드폰 아웃 / USB허브 / HDCP 지원 / 무결점 정책 / 피벗(회전) / 엘리베이션(높낮이) / 스위블(좌우) / 틸트(상하) / 100 x 100mm / 고정종횡비 지원 / 크로마서브샘플링 / 45W / 0.3W / 6.76kg</a>\n",
       " </dd>\n",
       " </dl>\n",
       " <div class=\"sub_info clear\">\n",
       " <dl>\n",
       " <dt>등록일</dt>\n",
       " <dd>2020.10</dd>\n",
       " </dl>\n",
       " <dl>\n",
       " <dt>판매몰</dt>\n",
       " <dd>116개</dd>\n",
       " </dl>\n",
       " <dl>\n",
       " <dt>\n",
       " <span class=\"point_type_ss\">\n",
       " <span class=\"star_mask\" style=\"width:97%\"></span>\n",
       " </span>\n",
       " </dt>\n",
       " <dd><span>4.8점 (<strong>356</strong>)</span></dd>\n",
       " </dl>\n",
       " </div>\n",
       " </td>\n",
       " <td class=\"lowest\">\n",
       " <dl>\n",
       " <div class=\"cost\">\n",
       " <span class=\"price\">\n",
       " <em class=\"num\">439,000</em>원\n",
       " \t\t\t\t\t\t\t</span>\n",
       " </div>\n",
       " <div class=\"etc\">\n",
       " \t\t\t\t\t\t\t(<em>0</em>)\n",
       " \t\t\t\t\t\t</div>\n",
       " </dl>\n",
       " <a class=\"btn_delete\" href=\"#\" id=\"wishProductDel_739735210_106869729\" onclick=\"return false;\"><span class=\"ico\">관심상품 삭제</span></a>\n",
       " </td>\n",
       " </tr>]"
      ]
     },
     "execution_count": 98,
     "metadata": {},
     "output_type": "execute_result"
    }
   ],
   "source": [
    "path = '#wishProductListArea > table > tbody > tr'\n",
    "soup.select(path)"
   ]
  },
  {
   "cell_type": "code",
   "execution_count": 115,
   "id": "867397a7",
   "metadata": {},
   "outputs": [
    {
     "name": "stdout",
     "output_type": "stream",
     "text": [
      "Product:  삼성전자 U32J590\n",
      "Detail:  80.1cm(32인치) / 와이드(16:9) / 평면 / VA / 광시야각 / 3840 x 2160(4K UHD) / 픽셀피치: 0.181mm / 4ms(GTG) / 270cd / 3,000:1 / 최대 주사율: 60Hz / 10bit (8bit + FRC) / HDMI / HDMI 2.0 / DP포트 / 플리커 프리 / 게임모드 지원 / FreeSync / PBP / PIP / SW 화면분할 / 헤드폰 아웃 / 틸트(상하) / 100 x 100mm / 59W / 0.3W / 6.3kg\n",
      "Price:  389,000\n",
      "-----------\n",
      "\n",
      "Product:  삼성전자 SMART M7 S32AM700\n",
      "Detail:  80cm(32인치) / 와이드(16:9) / 평면 / VA / 광시야각 / 3840 x 2160(4K UHD) / 픽셀피치: 0.18159mm / 8ms(GTG) / 250cd / 3,000:1 / 최대 주사율: 60Hz / HDMI 2.0 / USB Type-C / 플리커 프리 / 블루라이트 차단 / 게임모드 지원 / 스피커 / 리모컨 / USB허브 / Wi-Fi(무선) / 스마트TV / 블루투스 / 틸트(상하) / 100 x 100mm / HDR / HDR10 / 150W / 0.5W / 6.5kg\n",
      "Price:  499,000\n",
      "-----------\n",
      "\n",
      "Product:  알파스캔 AOC U28P UHD 피벗 높낮이 시력보호 무결점\n",
      "Detail:  71cm(27.9인치) / 와이드(16:9) / 평면 / IPS / 광시야각 / 3840 x 2160(4K UHD) / 픽셀피치: 0.16mm / 4ms(GTG OD) / 300cd / 1,000:1 / 50,000,000:1 / 최대 주사율: 60Hz / 논글레어 / 10bit (8bit + FRC) / NTSC: 107% / sRGB: 122.6% / DCI-P3: 97.6% / Adobe RGB: 105% / HDMI 2.0 / DP포트 / 플리커 프리 / 블루라이트 차단 / 눈부심 방지 / 게임모드 지원 / FreeSync / Adaptive Sync / PBP / PIP / SW 화면분할 / 헤드폰 아웃 / USB허브 / HDCP 지원 / 무결점 정책 / 피벗(회전) / 엘리베이션(높낮이) / 스위블(좌우) / 틸트(상하) / 100 x 100mm / 고정종횡비 지원 / 크로마서브샘플링 / 45W / 0.3W / 6.76kg\n",
      "Price:  439,000\n",
      "-----------\n",
      "\n"
     ]
    }
   ],
   "source": [
    "tags = soup.select(path)\n",
    "\n",
    "for tag in tags:\n",
    "    print('Product: ', tag.select('div.tit')[0].text)\n",
    "    print('Detail: ', tag.select('a.link')[1].text)\n",
    "    print('Price: ', tag.select('em.num')[0].text)\n",
    "    print('-----------')\n",
    "    print()"
   ]
  },
  {
   "cell_type": "code",
   "execution_count": null,
   "id": "3f14f8c2",
   "metadata": {},
   "outputs": [],
   "source": []
  }
 ],
 "metadata": {
  "kernelspec": {
   "display_name": "Python 3 (ipykernel)",
   "language": "python",
   "name": "python3"
  },
  "language_info": {
   "codemirror_mode": {
    "name": "ipython",
    "version": 3
   },
   "file_extension": ".py",
   "mimetype": "text/x-python",
   "name": "python",
   "nbconvert_exporter": "python",
   "pygments_lexer": "ipython3",
   "version": "3.9.7"
  }
 },
 "nbformat": 4,
 "nbformat_minor": 5
}
