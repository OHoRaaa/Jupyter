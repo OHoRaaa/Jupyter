{
 "cells": [
  {
   "cell_type": "code",
   "execution_count": 8,
   "id": "74b3ce36",
   "metadata": {},
   "outputs": [],
   "source": [
    "# https://www.amazon.com/bestsellers\n",
    "# 위 사이트에서 appliances카테고리의 모든 제품의 \n",
    "# 랭킹, 타이틀, 댓글수, 가격 정보를 출력하시오..\n",
    "# 총 제품의 수는 100개.."
   ]
  },
  {
   "cell_type": "code",
   "execution_count": 9,
   "id": "05bcd1b7",
   "metadata": {},
   "outputs": [],
   "source": [
    "from bs4 import BeautifulSoup\n",
    "from selenium import webdriver\n"
   ]
  },
  {
   "cell_type": "code",
   "execution_count": 42,
   "id": "b96eda06",
   "metadata": {},
   "outputs": [],
   "source": [
    "url = 'https://www.amazon.com/bestsellers'\n",
    "\n",
    "driver = webdriver.Chrome()\n",
    "driver.get(url)"
   ]
  },
  {
   "cell_type": "code",
   "execution_count": 43,
   "id": "a62aa4c3",
   "metadata": {},
   "outputs": [
    {
     "name": "stderr",
     "output_type": "stream",
     "text": [
      "C:\\Users\\USER\\AppData\\Local\\Temp/ipykernel_5996/1962257963.py:1: DeprecationWarning: find_element_by_* commands are deprecated. Please use find_element() instead\n",
      "  driver.find_element_by_link_text('Appliances').click()\n"
     ]
    }
   ],
   "source": [
    "driver.find_element_by_link_text('Appliances').click()"
   ]
  },
  {
   "cell_type": "code",
   "execution_count": 44,
   "id": "f0e3a378",
   "metadata": {},
   "outputs": [
    {
     "name": "stdout",
     "output_type": "stream",
     "text": [
      "[]\n",
      "[]\n"
     ]
    }
   ],
   "source": [
    "url = 'https://www.amazon.com/Best-Sellers-Appliances/zgbs/appliances/ref=zg_bs_pg_{}?_encoding=UTF8&pg={}'\n",
    "\n",
    "for i in range(1,3):\n",
    "    if i == 2:\n",
    "        url = url.format(2, 2)\n",
    "        \n",
    "        driver.get(url)\n",
    "    html = driver.page_source\n",
    "    soup = BeautifulSoup(html, 'html.parser')\n",
    "    \n",
    "    lis = soup.select('#CardInstanceUBEyRKxNcqqq9nsQ4jhQwQ')\n",
    "    print(lis)\n",
    "    \n",
    "#     for li in lis:\n",
    "#         print(li.select('span.zg-bdg-text'))\n",
    "        \n",
    "        \n",
    "    "
   ]
  },
  {
   "cell_type": "code",
   "execution_count": 20,
   "id": "e3ab1ba9",
   "metadata": {},
   "outputs": [
    {
     "name": "stdout",
     "output_type": "stream",
     "text": [
      "[]\n"
     ]
    }
   ],
   "source": []
  },
  {
   "cell_type": "code",
   "execution_count": null,
   "id": "2e2ffc72",
   "metadata": {},
   "outputs": [],
   "source": []
  }
 ],
 "metadata": {
  "kernelspec": {
   "display_name": "Python 3 (ipykernel)",
   "language": "python",
   "name": "python3"
  },
  "language_info": {
   "codemirror_mode": {
    "name": "ipython",
    "version": 3
   },
   "file_extension": ".py",
   "mimetype": "text/x-python",
   "name": "python",
   "nbconvert_exporter": "python",
   "pygments_lexer": "ipython3",
   "version": "3.9.7"
  }
 },
 "nbformat": 4,
 "nbformat_minor": 5
}
