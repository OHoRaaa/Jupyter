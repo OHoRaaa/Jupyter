{
 "cells": [
  {
   "cell_type": "code",
   "execution_count": null,
   "id": "25f27c63",
   "metadata": {},
   "outputs": [],
   "source": [
    "# selenium 정리\n",
    "\n",
    "# elem = find_element_by_class_name()\n",
    "# elem = find_element_by_id()\n",
    "# elem = find_element_by_xpath()\n",
    "# elem = find_element_by_link_text()\n",
    "# elem = find_element_by_partial_link_text()\n",
    "# elem = find_element_by_name()   # 확인요\n",
    "# elem = find_element_by_tag_name()\n",
    "\n",
    "# elem = find_elements_by_class_name()\n",
    "# elem = find_elements_by_id()\n",
    "# elem = find_elements_by_xpath()\n",
    "# elem = find_elements_by_link_text()\n",
    "# elem = find_elements_by_partial_link_text()\n",
    "# elem = find_elements_by_name()   # 확인요\n",
    "# elem = find_elements_by_tag_name()\n",
    "# elem = find_elements_by_css_selector()\n",
    "# elem = find_elements_by_css_selector().send_keys('???')               키(???) 입력해줌  \n",
    "# elem = find_elements_by_css_selector().click()                        클릭해줌"
   ]
  }
 ],
 "metadata": {
  "kernelspec": {
   "display_name": "Python 3 (ipykernel)",
   "language": "python",
   "name": "python3"
  },
  "language_info": {
   "codemirror_mode": {
    "name": "ipython",
    "version": 3
   },
   "file_extension": ".py",
   "mimetype": "text/x-python",
   "name": "python",
   "nbconvert_exporter": "python",
   "pygments_lexer": "ipython3",
   "version": "3.9.7"
  }
 },
 "nbformat": 4,
 "nbformat_minor": 5
}
