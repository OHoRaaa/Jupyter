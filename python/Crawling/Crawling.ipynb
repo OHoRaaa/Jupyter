{
 "cells": [
  {
   "cell_type": "code",
   "execution_count": null,
   "id": "8455a08b",
   "metadata": {},
   "outputs": [],
   "source": [
    "## crawling(scrapying)\n",
    "# web에서 데이터를 프로그램을 통해서 가져오는 작업\n",
    "\n",
    "## web구성하는 언어 - html, css, javascript\n",
    "# html은 웹의 기본 구조를 구성하는 스크립트 언어\n",
    "# css는 웹을 꾸며주는 언어\n",
    "# javascript은 웹이 동적으로 작동하도록 만드는 언어\n",
    "\n",
    "## html\n",
    "# 기본 구조는 태그 - 여는 태크 '<', 닫는 태그 '/>'\n",
    "# 태그 계층구조 부모태그, 자식태그\n",
    "# <head> 정보...</head> : 웹의 정보를 담고 있는 태그\n",
    "# <body> 태그...</body> : 웹에서 눈으로 보는 내용이 들어있는 태그"
   ]
  },
  {
   "cell_type": "code",
   "execution_count": null,
   "id": "972dceb4",
   "metadata": {},
   "outputs": [],
   "source": [
    "<html>\n",
    "    <head>\n",
    "        web page meta정보\n",
    "    \n",
    "    </head>\n",
    "    \n",
    "    <body>\n",
    "        웹페이지에서 보여지는 콘텐츠가 들어가는 부분\n",
    "        <p>문단을 나타냅니다</p>\n",
    "        <div><h3>제목을 나타냅니다</h3></div>\n",
    "    \n",
    "    </body>\n",
    "\n",
    "</html>"
   ]
  },
  {
   "cell_type": "code",
   "execution_count": null,
   "id": "a3eff01d",
   "metadata": {},
   "outputs": [],
   "source": []
  },
  {
   "cell_type": "code",
   "execution_count": null,
   "id": "6ac63009",
   "metadata": {},
   "outputs": [],
   "source": []
  },
  {
   "cell_type": "code",
   "execution_count": null,
   "id": "f9ce2908",
   "metadata": {},
   "outputs": [],
   "source": []
  },
  {
   "cell_type": "code",
   "execution_count": null,
   "id": "97097111",
   "metadata": {},
   "outputs": [],
   "source": []
  },
  {
   "cell_type": "code",
   "execution_count": null,
   "id": "a24b09aa",
   "metadata": {},
   "outputs": [],
   "source": []
  },
  {
   "cell_type": "code",
   "execution_count": null,
   "id": "be8e6a6d",
   "metadata": {},
   "outputs": [],
   "source": []
  },
  {
   "cell_type": "code",
   "execution_count": null,
   "id": "7ee5d7a5",
   "metadata": {},
   "outputs": [],
   "source": []
  },
  {
   "cell_type": "code",
   "execution_count": null,
   "id": "b1ea335a",
   "metadata": {},
   "outputs": [],
   "source": []
  },
  {
   "cell_type": "code",
   "execution_count": null,
   "id": "136884d2",
   "metadata": {},
   "outputs": [],
   "source": []
  },
  {
   "cell_type": "code",
   "execution_count": null,
   "id": "01906065",
   "metadata": {},
   "outputs": [],
   "source": []
  },
  {
   "cell_type": "code",
   "execution_count": null,
   "id": "1742c00f",
   "metadata": {},
   "outputs": [],
   "source": []
  },
  {
   "cell_type": "code",
   "execution_count": null,
   "id": "74e5c40c",
   "metadata": {},
   "outputs": [],
   "source": []
  },
  {
   "cell_type": "code",
   "execution_count": null,
   "id": "ad3612da",
   "metadata": {},
   "outputs": [],
   "source": []
  },
  {
   "cell_type": "code",
   "execution_count": null,
   "id": "8d9c17d4",
   "metadata": {},
   "outputs": [],
   "source": []
  },
  {
   "cell_type": "code",
   "execution_count": null,
   "id": "74ef2ca5",
   "metadata": {},
   "outputs": [],
   "source": []
  }
 ],
 "metadata": {
  "kernelspec": {
   "display_name": "Python 3 (ipykernel)",
   "language": "python",
   "name": "python3"
  },
  "language_info": {
   "codemirror_mode": {
    "name": "ipython",
    "version": 3
   },
   "file_extension": ".py",
   "mimetype": "text/x-python",
   "name": "python",
   "nbconvert_exporter": "python",
   "pygments_lexer": "ipython3",
   "version": "3.9.7"
  }
 },
 "nbformat": 4,
 "nbformat_minor": 5
}
