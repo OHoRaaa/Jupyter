{
 "cells": [
  {
   "cell_type": "markdown",
   "id": "858cc7d4",
   "metadata": {},
   "source": [
    "String"
   ]
  },
  {
   "cell_type": "code",
   "execution_count": 44,
   "id": "cd69e86d",
   "metadata": {},
   "outputs": [
    {
     "data": {
      "text/plain": [
       "'tale'"
      ]
     },
     "execution_count": 44,
     "metadata": {},
     "output_type": "execute_result"
    }
   ],
   "source": [
    "txt1 = '  A tale that was not right  '\n",
    "txt2 = '이 또한 지나가리라'\n",
    "\n",
    "#------------------------------\n",
    "\n",
    "# tale을 출력하시오\n",
    "txt1[4:8]"
   ]
  },
  {
   "cell_type": "code",
   "execution_count": 5,
   "id": "8de3ca02",
   "metadata": {},
   "outputs": [
    {
     "data": {
      "text/plain": [
       "'지'"
      ]
     },
     "execution_count": 5,
     "metadata": {},
     "output_type": "execute_result"
    }
   ],
   "source": [
    "# '지'를 출력하시오\n",
    "txt2[5]"
   ]
  },
  {
   "cell_type": "code",
   "execution_count": 6,
   "id": "c9a55984",
   "metadata": {},
   "outputs": [
    {
     "data": {
      "text/plain": [
       "3"
      ]
     },
     "execution_count": 6,
     "metadata": {},
     "output_type": "execute_result"
    }
   ],
   "source": [
    "# 'a'는 몇 개가 존재하는가?\n",
    "txt1.count('a')"
   ]
  },
  {
   "cell_type": "code",
   "execution_count": 47,
   "id": "ed589aeb",
   "metadata": {},
   "outputs": [
    {
     "data": {
      "text/plain": [
       "7"
      ]
     },
     "execution_count": 47,
     "metadata": {},
     "output_type": "execute_result"
    }
   ],
   "source": [
    "#  txt1에서 모음의 개수는 몇 개인가?\n",
    "\n",
    "# print(txt1.count('a'))\n",
    "# print(txt1.count('e'))\n",
    "# print(txt1.count('i'))\n",
    "# print(txt1.count('o'))\n",
    "# print(txt1.count('u'))\n",
    "\n",
    "suma = 0\n",
    "for c in txt1:\n",
    "    if c in 'aeiouAEIOU':\n",
    "        suma += 1\n",
    "suma\n"
   ]
  },
  {
   "cell_type": "code",
   "execution_count": 10,
   "id": "46a7e0ea",
   "metadata": {},
   "outputs": [
    {
     "data": {
      "text/plain": [
       "'이 것도 지나가리라'"
      ]
     },
     "execution_count": 10,
     "metadata": {},
     "output_type": "execute_result"
    }
   ],
   "source": [
    "# '또한'을 '것도'로 수정하시오\n",
    "txt2.replace('또한', '것도')"
   ]
  },
  {
   "cell_type": "code",
   "execution_count": 45,
   "id": "ed0009e0",
   "metadata": {},
   "outputs": [
    {
     "data": {
      "text/plain": [
       "'  A TALE THAT WAS NOT RIGHT  '"
      ]
     },
     "execution_count": 45,
     "metadata": {},
     "output_type": "execute_result"
    }
   ],
   "source": [
    "# txt1을 대문자로 출력하시오\n",
    "txt1.upper()"
   ]
  },
  {
   "cell_type": "code",
   "execution_count": 48,
   "id": "474c44fe",
   "metadata": {},
   "outputs": [
    {
     "data": {
      "text/plain": [
       "22"
      ]
     },
     "execution_count": 48,
     "metadata": {},
     "output_type": "execute_result"
    }
   ],
   "source": [
    "# txt1에서 right은 몇 번째 인덱스에 등장하는가?\n",
    "txt1.index('right')"
   ]
  },
  {
   "cell_type": "code",
   "execution_count": 46,
   "id": "730dd91b",
   "metadata": {},
   "outputs": [
    {
     "data": {
      "text/plain": [
       "['A', 'tale', 'that', 'was', 'not', 'right']"
      ]
     },
     "execution_count": 46,
     "metadata": {},
     "output_type": "execute_result"
    }
   ],
   "source": [
    "# txt1을 sapce 기준으로 나누어서 리스트에 담으시오\n",
    "txt1.split()"
   ]
  },
  {
   "cell_type": "code",
   "execution_count": 15,
   "id": "3c38e549",
   "metadata": {},
   "outputs": [
    {
     "data": {
      "text/plain": [
       "10"
      ]
     },
     "execution_count": 15,
     "metadata": {},
     "output_type": "execute_result"
    }
   ],
   "source": [
    "# txt2의 길이는 얼마인가?\n",
    "len(txt2)"
   ]
  },
  {
   "cell_type": "code",
   "execution_count": 49,
   "id": "87213e12",
   "metadata": {},
   "outputs": [
    {
     "data": {
      "text/plain": [
       "['이', ' ', '또', '한', ' ', '지', '나', '가', '리', '라']"
      ]
     },
     "execution_count": 49,
     "metadata": {},
     "output_type": "execute_result"
    }
   ],
   "source": [
    "# txt2를 character 단위로 나누어서 리스트에 담으시오\n",
    "list(txt2)"
   ]
  },
  {
   "cell_type": "code",
   "execution_count": 50,
   "id": "cda855e4",
   "metadata": {},
   "outputs": [
    {
     "data": {
      "text/plain": [
       "'A tale that was not right'"
      ]
     },
     "execution_count": 50,
     "metadata": {},
     "output_type": "execute_result"
    }
   ],
   "source": [
    "# txt1의 좌우 공백을 제거하시오\n",
    "txt1.strip()"
   ]
  },
  {
   "cell_type": "code",
   "execution_count": 51,
   "id": "ac516b4e",
   "metadata": {},
   "outputs": [
    {
     "data": {
      "text/plain": [
       "'라리가나지 한또 이'"
      ]
     },
     "execution_count": 51,
     "metadata": {},
     "output_type": "execute_result"
    }
   ],
   "source": [
    "# txt2를 역순으로 출력하시오\n",
    "txt2[::-1]"
   ]
  },
  {
   "cell_type": "code",
   "execution_count": 53,
   "id": "3590e04a",
   "metadata": {},
   "outputs": [
    {
     "data": {
      "text/plain": [
       "' Atl htwsntrgt '"
      ]
     },
     "execution_count": 53,
     "metadata": {},
     "output_type": "execute_result"
    }
   ],
   "source": [
    "# txt1에서 짝수 인덱스만 출력하시오\n",
    "# for i in txt1:\n",
    "#     if txt1.index(i) % 2 == 0:\n",
    "#         print(i, end=' ')\n",
    "\n",
    "txt1[0:50:2]"
   ]
  },
  {
   "cell_type": "code",
   "execution_count": 55,
   "id": "75cb770b",
   "metadata": {},
   "outputs": [
    {
     "data": {
      "text/plain": [
       "'이 또한 지나가리라이 또한 지나가리라'"
      ]
     },
     "execution_count": 55,
     "metadata": {},
     "output_type": "execute_result"
    }
   ],
   "source": [
    "# txt2를 두 번 반복하시오\n",
    "txt2 * 2"
   ]
  },
  {
   "cell_type": "code",
   "execution_count": 22,
   "id": "fb80a1e9",
   "metadata": {},
   "outputs": [
    {
     "data": {
      "text/plain": [
       "'A tale that was not right이 또한 지나가리라'"
      ]
     },
     "execution_count": 22,
     "metadata": {},
     "output_type": "execute_result"
    }
   ],
   "source": [
    "# txt1과 txt2를 연결하여 하나의 문자열로 만드시오\n",
    "txt1 + txt2"
   ]
  },
  {
   "cell_type": "code",
   "execution_count": 23,
   "id": "069a88d6",
   "metadata": {},
   "outputs": [
    {
     "data": {
      "text/plain": [
       "True"
      ]
     },
     "execution_count": 23,
     "metadata": {},
     "output_type": "execute_result"
    }
   ],
   "source": [
    "# txt1에서 'right'이 존재하는지 확인하시오\n",
    "'right' in txt1"
   ]
  },
  {
   "cell_type": "code",
   "execution_count": 56,
   "id": "da6bb70c",
   "metadata": {},
   "outputs": [
    {
     "data": {
      "text/plain": [
       "'g'"
      ]
     },
     "execution_count": 56,
     "metadata": {},
     "output_type": "execute_result"
    }
   ],
   "source": [
    "# txt1에서 뒤에서 5번째 문자를 출력하시오\n",
    "txt1[-5]"
   ]
  },
  {
   "cell_type": "code",
   "execution_count": 27,
   "id": "cc8e938f",
   "metadata": {},
   "outputs": [
    {
     "name": "stdout",
     "output_type": "stream",
     "text": [
      "(0, 'A')(1, ' ')(2, 't')(3, 'a')(4, 'l')(5, 'e')(6, ' ')(7, 't')(8, 'h')(9, 'a')(10, 't')(11, ' ')(12, 'w')(13, 'a')(14, 's')(15, ' ')(16, 'n')(17, 'o')(18, 't')(19, ' ')(20, 'r')(21, 'i')(22, 'g')(23, 'h')(24, 't')"
     ]
    }
   ],
   "source": [
    "# txt1의 문자를 index와 튜플로 묶어서 리스트에 담으시오\n",
    "for i,j in enumerate(txt1):\n",
    "    print((i,j), end='')"
   ]
  },
  {
   "cell_type": "code",
   "execution_count": 57,
   "id": "ce5fa9a7",
   "metadata": {},
   "outputs": [
    {
     "data": {
      "text/plain": [
       "'www.naver.com'"
      ]
     },
     "execution_count": 57,
     "metadata": {},
     "output_type": "execute_result"
    }
   ],
   "source": [
    "#  url중 도메인만 출력하시오\n",
    "url = 'http://www.naver.com/news/today=20221230'\n",
    "\n",
    "# url[:20]\n",
    "\n",
    "url.split('/')[2]"
   ]
  },
  {
   "cell_type": "code",
   "execution_count": 58,
   "id": "d3effe9b",
   "metadata": {},
   "outputs": [
    {
     "name": "stdout",
     "output_type": "stream",
     "text": [
      "name => 홍길동\n",
      "age => 17\n",
      "sex => 남성\n",
      "nation => 대한민국\n"
     ]
    }
   ],
   "source": [
    "# 아래와 같이 출력하시오\n",
    "# name => '홍길동'\n",
    "# age => 17\n",
    "# sex => 남성\n",
    "#...\n",
    "log = 'name:홍길동, age:17, sex:남성, nation:대한민국'\n",
    "\n",
    "for i in log.split(','):\n",
    "    print(i.split(':')[0].strip(), '=>', i.split(':')[1].strip())\n"
   ]
  },
  {
   "cell_type": "code",
   "execution_count": null,
   "id": "c20a4db1",
   "metadata": {},
   "outputs": [],
   "source": []
  },
  {
   "cell_type": "markdown",
   "id": "650fde75",
   "metadata": {},
   "source": [
    "### datatype\n",
    "1. 기본형\n",
    "- int: 1,2,3,4\n",
    "- float: 1.1, 2.4, 5.67\n",
    "- bool: True, False\n",
    "\n",
    "2. 군집형(여러 요소가 모여서 하나의 데이터 형식)\n",
    "- string: '', 요소의 수정, 삭제, 추가 안됨. 순서,인덱스 존재\n",
    "- list: [], 요소의 수정, 삭제, 추가가 자유로움. 순서, 인덱스 존재\n",
    "- tuple: () , 요소의 수정, 삭제, 추가 안됨.수정하지 않을 값, 보조용\n",
    "- set: {}, 집합, 요소의 삭제, 추가 안 됨. 중복요소가 없다. 집합연산\n",
    "- dictionary: {key:value}, 요소의 수정, 삭제, 추가가 자유로움. 데이터의 저장(json과 유사),순서 없고, 인덱스는 key 역할\n",
    "    "
   ]
  },
  {
   "cell_type": "code",
   "execution_count": null,
   "id": "5641ab7a",
   "metadata": {},
   "outputs": [],
   "source": []
  },
  {
   "cell_type": "markdown",
   "id": "288b6e49",
   "metadata": {},
   "source": [
    "####List"
   ]
  },
  {
   "cell_type": "code",
   "execution_count": 120,
   "id": "2de70e57",
   "metadata": {},
   "outputs": [
    {
     "data": {
      "text/plain": [
       "'t'"
      ]
     },
     "execution_count": 120,
     "metadata": {},
     "output_type": "execute_result"
    }
   ],
   "source": [
    "score = [81, 90, 78, 'python', 'hello', True, [78, 56, 32], (24,25,3)]\n",
    "\n",
    "# 't'를 출력하시오\n",
    "score[3][2]"
   ]
  },
  {
   "cell_type": "code",
   "execution_count": 121,
   "id": "d67b4b58",
   "metadata": {},
   "outputs": [
    {
     "data": {
      "text/plain": [
       "56"
      ]
     },
     "execution_count": 121,
     "metadata": {},
     "output_type": "execute_result"
    }
   ],
   "source": [
    "# 56을 출력하시오\n",
    "score[6][1]"
   ]
  },
  {
   "cell_type": "code",
   "execution_count": 122,
   "id": "27ae4739",
   "metadata": {},
   "outputs": [
    {
     "data": {
      "text/plain": [
       "25"
      ]
     },
     "execution_count": 122,
     "metadata": {},
     "output_type": "execute_result"
    }
   ],
   "source": [
    "# 마지막 요소의 최대값을 출력하시오\n",
    "max(score[7])"
   ]
  },
  {
   "cell_type": "code",
   "execution_count": 123,
   "id": "066116bc",
   "metadata": {},
   "outputs": [
    {
     "name": "stdout",
     "output_type": "stream",
     "text": [
      "[81, 90, 78, 'world', 'hello', True, [78, 56, 32], (24, 25, 3)]\n"
     ]
    }
   ],
   "source": [
    "# 'python'을 'world'로 수정하시오\n",
    "score[3]='world'\n",
    "print(score)"
   ]
  },
  {
   "cell_type": "code",
   "execution_count": 124,
   "id": "7768af2a",
   "metadata": {},
   "outputs": [
    {
     "name": "stdout",
     "output_type": "stream",
     "text": [
      "[81, 90, 78, 'world', 'hello', True, [78, 56, 32], (24, 25, 3), 'sun']\n"
     ]
    }
   ],
   "source": [
    "# 마지막에 'sun'을 추가하시오\n",
    "\n",
    "score.append('sun')\n",
    "print(score)"
   ]
  },
  {
   "cell_type": "code",
   "execution_count": 125,
   "id": "ff42380e",
   "metadata": {},
   "outputs": [
    {
     "data": {
      "text/plain": [
       "True"
      ]
     },
     "execution_count": 125,
     "metadata": {},
     "output_type": "execute_result"
    }
   ],
   "source": [
    "# 'world'가 있는지 확인하시오\n",
    "'world' in score"
   ]
  },
  {
   "cell_type": "code",
   "execution_count": 126,
   "id": "451f0c7a",
   "metadata": {},
   "outputs": [
    {
     "data": {
      "text/plain": [
       "[25, 24, 3]"
      ]
     },
     "execution_count": 126,
     "metadata": {},
     "output_type": "execute_result"
    }
   ],
   "source": [
    "# 마지막에서 2번째 요소를 내림차순으로 정렬하시오\n",
    "sorted(score[-2], reverse = True)"
   ]
  },
  {
   "cell_type": "code",
   "execution_count": 127,
   "id": "f86c6c23",
   "metadata": {},
   "outputs": [
    {
     "data": {
      "text/plain": [
       "1"
      ]
     },
     "execution_count": 127,
     "metadata": {},
     "output_type": "execute_result"
    }
   ],
   "source": [
    "# 90은 몇 번째 인덱스에 있는지 확인하시오\n",
    "score.index(90)"
   ]
  },
  {
   "cell_type": "code",
   "execution_count": 130,
   "id": "bf6ee75b",
   "metadata": {},
   "outputs": [
    {
     "data": {
      "text/plain": [
       "['sun', (24, 25, 3), [78, 56, 32], True, 'hello', 'world', 78, 90, 81]"
      ]
     },
     "execution_count": 130,
     "metadata": {},
     "output_type": "execute_result"
    }
   ],
   "source": [
    "# 리스트를 역순으로 정렬하시오\n",
    "# score[::-1]\n",
    "score.reverse()\n",
    "score"
   ]
  },
  {
   "cell_type": "code",
   "execution_count": 110,
   "id": "a80c5ec8",
   "metadata": {},
   "outputs": [
    {
     "name": "stdout",
     "output_type": "stream",
     "text": [
      "[81, 90, 78, 'sea', 'world', 'hello', True, [78, 56, 32], (24, 25, 3), 'sun']\n"
     ]
    }
   ],
   "source": [
    "# 3번째 인덱스에 'sea'를 추가하시오\n",
    "score.insert(3, 'sea')\n",
    "print(score)"
   ]
  },
  {
   "cell_type": "code",
   "execution_count": 111,
   "id": "144e9e6f",
   "metadata": {},
   "outputs": [
    {
     "name": "stdout",
     "output_type": "stream",
     "text": [
      "[81, 90, 78, 'sea', 'world', 'hello', 'False', [78, 56, 32], (24, 25, 3), 'sun']\n"
     ]
    }
   ],
   "source": [
    "# True를 False로 수정하시오\n",
    "score[6] = 'False'\n",
    "print(score)"
   ]
  },
  {
   "cell_type": "code",
   "execution_count": 112,
   "id": "7f0312dd",
   "metadata": {},
   "outputs": [
    {
     "name": "stdout",
     "output_type": "stream",
     "text": [
      "[81, 90, 78, 'sea', 'world', 'hello', 'False', [78, 56, 32], (24, 25, 3), 'sun']\n"
     ]
    }
   ],
   "source": [
    "# 'world'를 제거하시오\n",
    "# score.remove('world')\n",
    "print(score)"
   ]
  },
  {
   "cell_type": "code",
   "execution_count": 113,
   "id": "6a6226b9",
   "metadata": {},
   "outputs": [
    {
     "name": "stdout",
     "output_type": "stream",
     "text": [
      "[81, 90, 78, 'sea', 'world', 'hello', 'False', (24, 25, 3), 'sun']\n"
     ]
    }
   ],
   "source": [
    "# 7번째 요소를 제거하시오\n",
    "del score[7]\n",
    "print(score)"
   ]
  },
  {
   "cell_type": "code",
   "execution_count": 134,
   "id": "03141159",
   "metadata": {},
   "outputs": [
    {
     "name": "stdout",
     "output_type": "stream",
     "text": [
      "['sun', (24, 25, 3), [78, 56, 32], True, 'hello', 'world', 78, 90]\n"
     ]
    }
   ],
   "source": [
    "# 마지막 요소를 제거하시오\n",
    "score.pop()\n",
    "print(score)"
   ]
  },
  {
   "cell_type": "code",
   "execution_count": 135,
   "id": "9be69507",
   "metadata": {},
   "outputs": [
    {
     "data": {
      "text/plain": [
       "8"
      ]
     },
     "execution_count": 135,
     "metadata": {},
     "output_type": "execute_result"
    }
   ],
   "source": [
    "# 리스트의 길이를 출력하시오\n",
    "len(score)"
   ]
  },
  {
   "cell_type": "code",
   "execution_count": 170,
   "id": "a05ebd01",
   "metadata": {},
   "outputs": [
    {
     "name": "stdout",
     "output_type": "stream",
     "text": [
      "<class 'str'>\n"
     ]
    }
   ],
   "source": [
    "# 두 번째 요소의 데이터 타입을 출력하시오\n",
    "print(type(score[2]))"
   ]
  },
  {
   "cell_type": "code",
   "execution_count": 171,
   "id": "158eaae0",
   "metadata": {},
   "outputs": [
    {
     "name": "stdout",
     "output_type": "stream",
     "text": [
      "['sun', (24, 25, 3), '7:::8:::::::5:::6:::::::3:::2', True, 'hello', 'world', 78, 90]\n"
     ]
    }
   ],
   "source": [
    "# [78, 56, 32]를 '78:56:32'로 수정하시오\n",
    "\n",
    "list(map(str, score[2]))\n",
    "score[2]\n",
    "\n",
    "score[2]=':'.join(score[2])\n",
    "print(score)\n",
    "\n",
    "\n",
    "\n",
    "\n",
    "\n",
    "\n",
    "\n",
    "\n"
   ]
  },
  {
   "cell_type": "code",
   "execution_count": 117,
   "id": "da26683a",
   "metadata": {
    "scrolled": false
   },
   "outputs": [
    {
     "name": "stdout",
     "output_type": "stream",
     "text": [
      "[]\n"
     ]
    }
   ],
   "source": [
    "# 모든 원소를 제거하시오\n",
    "del score[:]\n",
    "print(score)"
   ]
  },
  {
   "cell_type": "code",
   "execution_count": 94,
   "id": "e39a61a5",
   "metadata": {},
   "outputs": [],
   "source": [
    "# 리스트를 삭제하시오"
   ]
  },
  {
   "cell_type": "code",
   "execution_count": 118,
   "id": "332e4eeb",
   "metadata": {},
   "outputs": [],
   "source": [
    "del score"
   ]
  },
  {
   "cell_type": "code",
   "execution_count": null,
   "id": "41dc7f03",
   "metadata": {},
   "outputs": [],
   "source": []
  }
 ],
 "metadata": {
  "kernelspec": {
   "display_name": "Python 3.10.1 64-bit",
   "language": "python",
   "name": "python3101jvsc74a57bd08931d08a56ba8ec5bd4013e6d6c9066a90d099ecd0b9731835efa4c48cf46a24"
  },
  "language_info": {
   "codemirror_mode": {
    "name": "ipython",
    "version": 3
   },
   "file_extension": ".py",
   "mimetype": "text/x-python",
   "name": "python",
   "nbconvert_exporter": "python",
   "pygments_lexer": "ipython3",
   "version": "3.10.1"
  }
 },
 "nbformat": 4,
 "nbformat_minor": 5
}
