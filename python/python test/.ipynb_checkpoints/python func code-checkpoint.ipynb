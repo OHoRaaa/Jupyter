{
 "cells": [
  {
   "cell_type": "code",
   "execution_count": 36,
   "id": "ac181b6b",
   "metadata": {
    "scrolled": true
   },
   "outputs": [
    {
     "ename": "SyntaxError",
     "evalue": "invalid syntax (Temp/ipykernel_12708/4016689430.py, line 5)",
     "output_type": "error",
     "traceback": [
      "\u001b[1;36m  File \u001b[1;32m\"C:\\Users\\bitcamp\\AppData\\Local\\Temp/ipykernel_12708/4016689430.py\"\u001b[1;36m, line \u001b[1;32m5\u001b[0m\n\u001b[1;33m    sum = 0\u001b[0m\n\u001b[1;37m    ^\u001b[0m\n\u001b[1;31mSyntaxError\u001b[0m\u001b[1;31m:\u001b[0m invalid syntax\n"
     ]
    }
   ],
   "source": [
    "# If\n",
    "\n",
    "## 임의 정수(n)를 입력받은 후 0부터 n까지의 정수 중 짝수들의 합을 구하시오.\n",
    "num = int(input('임의의 수를 입력하시오')\n",
    "sum = 0\n",
    "for i in range(num):\n",
    "    if i % 2 == 0:\n",
    "        sum =+ i"
   ]
  },
  {
   "cell_type": "code",
   "execution_count": 37,
   "id": "a8d71cac",
   "metadata": {},
   "outputs": [
    {
     "name": "stdout",
     "output_type": "stream",
     "text": [
      "이름을 입력하세요mary\n",
      "1520\n"
     ]
    }
   ],
   "source": [
    "# names = {'mary':1520, 'tom':5214, 'park':5478, 'sams':5478}\n",
    "# 이름을 입력받은 후 names dict에 이름이 있으면 값을 출력하고,\n",
    "# 없으면 새로운 값 2000과 함께 dict에 'key':'value'로 추가\n",
    "# setdefault를 사용하지 않음..\n",
    "\n",
    "names = {'mary':1520, 'tom':5214, 'park':5478, 'sams':5478}\n",
    "\n",
    "nam = input('이름을 입력하세요')\n",
    "\n",
    "if nam in names:\n",
    "    print(names[nam])\n",
    "else:\n",
    "    names[nam] = 2000\n",
    "\n",
    "\n"
   ]
  },
  {
   "cell_type": "code",
   "execution_count": null,
   "id": "795eb72c",
   "metadata": {},
   "outputs": [],
   "source": [
    "# 학점 출력.. 점수를 입력받은 후..\n",
    "# 90점 이상이면 \"당신은 'A'학점입니다\"를 출력\n",
    "# 80점 이상이면서 90점 미만이면 \"당신은 'B'학점입니다\"를 출력\n",
    "# 70점 이상이면서 80점 미만이면 \"당신은 'C'학점입니다\"를 출력\n",
    "# 70점 미만이면 \"당신은 D학점입니다\"를 출력\n",
    "\n",
    "score = int(input('점수를 입력하세요'))\n",
    "if score >= 90:\n",
    "    print('A학점입니다')\n",
    "elif 90 > score >= 80:\n",
    "    print('B학점입니다')\n",
    "elif 80 > score >= 70:\n",
    "    print('C학점입니다')\n",
    "else:\n",
    "    print('D학점입니다')"
   ]
  },
  {
   "cell_type": "code",
   "execution_count": 3,
   "id": "bed60102",
   "metadata": {},
   "outputs": [
    {
     "name": "stdout",
     "output_type": "stream",
     "text": [
      "비밀번호를 입력하시오1234\n",
      "환영합니다.\n"
     ]
    }
   ],
   "source": [
    "# 비밀번호 = 1234 인 경우 비밀번호를 입력받은 후 맞으면' 환영합니다'. \n",
    "# 틀리면 '비밀번호가 틀립니다'를 출력하시오\n",
    "\n",
    "password = int(input('비밀번호를 입력하시오'))\n",
    "if password == 1234:\n",
    "    print('환영합니다.')\n",
    "else:\n",
    "    print('비밀번호가 틀립니다.')\n"
   ]
  },
  {
   "cell_type": "code",
   "execution_count": 6,
   "id": "25f77df2",
   "metadata": {},
   "outputs": [
    {
     "name": "stdout",
     "output_type": "stream",
     "text": [
      "정수를 입력하시오3\n",
      "홀수입니다.\n"
     ]
    }
   ],
   "source": [
    "# 임의의 정수를 입력받은 후 짝수면 ' 짝수입니다' 홀수면 '홀수입니다'를 출력\n",
    "\n",
    "num = int(input('정수를 입력하시오'))\n",
    "if num % 2 == 0:\n",
    "    print('짝수입니다.')\n",
    "else:\n",
    "    print('홀수입니다.')"
   ]
  },
  {
   "cell_type": "code",
   "execution_count": 14,
   "id": "23d7748d",
   "metadata": {},
   "outputs": [
    {
     "name": "stdout",
     "output_type": "stream",
     "text": [
      "주민번호를 입력하시오721117-2673816\n",
      "당신의 나이는 50이고, 성별은 여성 입니다.\n"
     ]
    }
   ],
   "source": [
    "# 주민번호 '940415-1041614'\n",
    "# 주민번호를 입력받은 후 '당신의 나이는 _이고, 성별은 _입니다'를 출력하시오\n",
    "\n",
    "person = input('주민번호를 입력하시오')\n",
    "age = 2022 - (1900 + int(person[:2]))\n",
    "if int(person[7]) == 1:\n",
    "              print(f'당신의 나이는 {age}이고, 성별은 남성 입니다.')\n",
    "else:\n",
    "              print(f'당신의 나이는 {age}이고, 성별은 여성 입니다.')\n",
    "                    "
   ]
  },
  {
   "cell_type": "code",
   "execution_count": 20,
   "id": "2a6bcc17",
   "metadata": {},
   "outputs": [
    {
     "name": "stdout",
     "output_type": "stream",
     "text": [
      "이름을 입력하시오JYP\n",
      "{'Mary': 85, 'Sam': 95, 'Bob': 87, 'Han': 77, 'JYP': 0}\n"
     ]
    }
   ],
   "source": [
    "scores = {'Mary':85, 'Sam':95, 'Bob':87, 'Han':77}\n",
    "\n",
    "# 이름을 입력받은 후 이름이 있으면 80점 이상이면 '합격입니다',\n",
    "# 이하이면 '불합격입니다'를 출력하시오. 이름이 없으면 값을 0으로 하여 추가하시오\n",
    "\n",
    "name = input('이름을 입력하시오')\n",
    "\n",
    "if name in scores:\n",
    "    if scores[name] >= 80:\n",
    "        print('합격입니다')\n",
    "    else:\n",
    "        print('불합격입니다')\n",
    "else:\n",
    "    scores[name] = 0\n",
    "print(scores)\n",
    "\n"
   ]
  },
  {
   "cell_type": "code",
   "execution_count": 40,
   "id": "318486b7",
   "metadata": {},
   "outputs": [
    {
     "name": "stdout",
     "output_type": "stream",
     "text": [
      "mime <= 가위, 바위, 보 중에서 하나를 선택하세요보\n",
      "yours <= 가위, 바위, 보 중에서 하나를 선택하세요가위\n",
      "당신이 이겼습니다\n"
     ]
    }
   ],
   "source": [
    "# 가위, 바위, 보 게임\n",
    "mine = input('mime <= 가위, 바위, 보 중에서 하나를 선택하세요')\n",
    "yours = input('yours <= 가위, 바위, 보 중에서 하나를 선택하세요')\n",
    "\n",
    "# 비겼습니다\n",
    "# 내가 이겼습니다\n",
    "# 당신이 이겼습니다\n",
    "\n",
    "\n",
    "\n",
    "if mine == yours:\n",
    "    print('비겼습니다')\n",
    "elif mine == '가위':\n",
    "    if yours == '바위':\n",
    "        print('당신이 이겼습니다')\n",
    "    else:\n",
    "        print('내가 이겼습니다')\n",
    "elif mine == '바위':\n",
    "    if yours == '가위':\n",
    "        print('내가 이겼습니다')\n",
    "    else:\n",
    "        print('당신이 이겼습니다')\n",
    "elif mine == '보':\n",
    "    if yours == \"가위\":\n",
    "        print('당신이 이겼습니다')\n",
    "    else:\n",
    "        print('내가 이겼습니다')\n",
    "    "
   ]
  },
  {
   "cell_type": "code",
   "execution_count": 45,
   "id": "9cd87359",
   "metadata": {},
   "outputs": [
    {
     "name": "stdout",
     "output_type": "stream",
     "text": [
      "나이를 입력하시오44\n",
      "젊으시군요\n"
     ]
    }
   ],
   "source": [
    "# 나이를 입력받은 후, 50대 이상이면 중년이시군요. 20~40대면 젊으시군요\n",
    "# 20세 미만이면 어리시군요를 출력\n",
    "\n",
    "age = int(input('나이를 입력하시오'))\n",
    "\n",
    "if age >= 50:\n",
    "    print('중년이시군요')\n",
    "elif 20 <= age < 50:\n",
    "    print('젊으시군요')\n",
    "else:\n",
    "    print('어리시군요')"
   ]
  },
  {
   "cell_type": "code",
   "execution_count": 4,
   "id": "ab846490",
   "metadata": {},
   "outputs": [
    {
     "name": "stdout",
     "output_type": "stream",
     "text": [
      "O I U "
     ]
    }
   ],
   "source": [
    "# For\n",
    "\n",
    "# text = 'python is fun' # text의 character를 모음만 대문자로 전환해서 출력하세요. 참고) 영어모음 = ‘aeiou’\n",
    "text = 'python is fun'\n",
    "for c in text:\n",
    "    if c in 'aeiou':\n",
    "        print(c.upper(), end = ' ')"
   ]
  },
  {
   "cell_type": "code",
   "execution_count": 46,
   "id": "0ead110a",
   "metadata": {},
   "outputs": [
    {
     "data": {
      "text/plain": [
       "8"
      ]
     },
     "execution_count": 46,
     "metadata": {},
     "output_type": "execute_result"
    }
   ],
   "source": [
    "# 모음의 숫자를 계산하시오\n",
    "\n",
    "text = 'computational thinking'\n",
    "vol = 'aeiouAEIOU'\n",
    "\n",
    "suma = 0\n",
    "\n",
    "for c in text:\n",
    "    if c in vol:\n",
    "        suma += 1\n",
    "suma"
   ]
  },
  {
   "cell_type": "code",
   "execution_count": 47,
   "id": "05278176",
   "metadata": {},
   "outputs": [
    {
     "name": "stdout",
     "output_type": "stream",
     "text": [
      "26\n"
     ]
    }
   ],
   "source": [
    "# word의 길이가 4 이상인 단어의 단어길이 총합을 구하시오\n",
    "\n",
    "words = ['mountain', 'sea', 'sky', 'river', 'cloud', 'tree', 'lake']\n",
    "suma = 0\n",
    "for i in words:\n",
    "    if len(i) >= 4:\n",
    "        suma += len(i)\n",
    "print(suma)\n",
    "        "
   ]
  },
  {
   "cell_type": "code",
   "execution_count": 55,
   "id": "8b131247",
   "metadata": {},
   "outputs": [
    {
     "name": "stdout",
     "output_type": "stream",
     "text": [
      "[('a', '가'), ('a', '나'), ('a', '다'), ('a', '라'), ('b', '가'), ('b', '나'), ('b', '다'), ('b', '라'), ('c', '가'), ('c', '나'), ('c', '다'), ('c', '라'), ('d', '가'), ('d', '나'), ('d', '다'), ('d', '라')]\n"
     ]
    }
   ],
   "source": [
    "# 두 리스트 원소간의 모든 조합을 리스트에 담으시오\n",
    "# [('a', '가'), ('a', '나'), ... ('d', '다'), ('d', '라')]\n",
    "\n",
    "L1 = ['a', 'b', 'c', 'd']\n",
    "L2 = ['가', '나', '다', '라']\n",
    "\n",
    "\n",
    "# for i in range(len(L1)):\n",
    "#     for j in L2:\n",
    "#         a = (L1[i],j)\n",
    "#         print(a, end =' ')\n",
    "\n",
    "L = []\n",
    "for i in L1:\n",
    "    for j in L2:\n",
    "        L.append((i,j))\n",
    "print(L)\n"
   ]
  },
  {
   "cell_type": "code",
   "execution_count": 74,
   "id": "1134a150",
   "metadata": {},
   "outputs": [
    {
     "name": "stdout",
     "output_type": "stream",
     "text": [
      "110 100\n"
     ]
    }
   ],
   "source": [
    "# for문과 while문을 이용해서 1~20까지의 정수에서 짝수의 합과 홀수의 합을 구하시오\n",
    "\n",
    "suma = 0\n",
    "sumb = 0\n",
    "for i in range(0, 21, 2):\n",
    "    suma += i\n",
    "for j in range(1, 21, 2):\n",
    "    sumb += j\n",
    "print(suma, sumb)\n",
    "\n",
    "\n",
    "\n",
    "# i = 0\n",
    "# sumc = 0\n",
    "# sumd = 0\n",
    "# while i < 20:\n",
    "#     i += 1\n",
    "#     if i % 2 == 0:\n",
    "#         sumc += i\n",
    "#     if i % 2 == 1:\n",
    "#         sumd += i\n",
    "        \n",
    "# print(sumc, sumd)\n",
    "\n",
    "\n",
    "        "
   ]
  },
  {
   "cell_type": "code",
   "execution_count": 65,
   "id": "85f4df36",
   "metadata": {},
   "outputs": [
    {
     "name": "stdout",
     "output_type": "stream",
     "text": [
      "4 5 6 7 "
     ]
    }
   ],
   "source": [
    "# break와 continue를 이용해서 1부터 10까지 정수 중에서 4,5,6,7만을 출력하시오\n",
    "\n",
    "i = 1\n",
    "while i <= 10:\n",
    "    i += 1\n",
    "    if i <= 3:\n",
    "        continue\n",
    "    elif 4 <= i <= 7:\n",
    "        print(i, end = ' ')\n",
    "    else:\n",
    "        break"
   ]
  },
  {
   "cell_type": "code",
   "execution_count": 76,
   "id": "88e3f885",
   "metadata": {},
   "outputs": [
    {
     "name": "stdout",
     "output_type": "stream",
     "text": [
      "최대값 170, 최소값 30\n"
     ]
    }
   ],
   "source": [
    "# 반복문을 이용해서 최대값과 최소값을 구하시오\n",
    "\n",
    "L = [70, 100, 80, 120, 130, 170, 30]\n",
    "\n",
    "max_n = L[0]\n",
    "min_n = L[0]\n",
    "\n",
    "for n in L:\n",
    "    if max_n < n:\n",
    "        max_n = n\n",
    "    if min_n > n:\n",
    "        min_n = n\n",
    "print('최대값 {}, 최소값 {}'.format(max_n, min_n))"
   ]
  },
  {
   "cell_type": "code",
   "execution_count": 79,
   "id": "14765a3b",
   "metadata": {},
   "outputs": [
    {
     "name": "stdout",
     "output_type": "stream",
     "text": [
      "*\n",
      "**\n",
      "***\n",
      "****\n",
      "*****\n"
     ]
    }
   ],
   "source": [
    "# *\n",
    "# **\n",
    "# ***\n",
    "# ****\n",
    "# *****\n",
    "\n",
    "a = '*'\n",
    "for i in range(1, 6):\n",
    "    print(a * i)"
   ]
  },
  {
   "cell_type": "code",
   "execution_count": 101,
   "id": "efd594c7",
   "metadata": {},
   "outputs": [
    {
     "name": "stdout",
     "output_type": "stream",
     "text": [
      " *****\n",
      "  ****\n",
      "   ***\n",
      "    **\n",
      "     *\n"
     ]
    }
   ],
   "source": [
    "# *****\n",
    "#  ****\n",
    "#   ***\n",
    "#    **\n",
    "#     *\n",
    "\n",
    "# a = '*'\n",
    "# for i in range(5, 0, -1):\n",
    "#     print(a * i)\n",
    "\n",
    "for i in range(5):\n",
    "    print(' ' * i, '*' * (5-i))"
   ]
  },
  {
   "cell_type": "code",
   "execution_count": 95,
   "id": "7aa3aaf4",
   "metadata": {},
   "outputs": [
    {
     "name": "stdout",
     "output_type": "stream",
     "text": [
      "     *\n",
      "    **\n",
      "   ***\n",
      "  ****\n",
      " *****\n"
     ]
    }
   ],
   "source": [
    "#     *\n",
    "#    **\n",
    "#   ***\n",
    "#  ****\n",
    "# *****\n",
    "\n",
    "for i in range(5):\n",
    "    print(' ' * (4-i), '*' * (i+1))"
   ]
  },
  {
   "cell_type": "code",
   "execution_count": 96,
   "id": "fa0e2076",
   "metadata": {},
   "outputs": [
    {
     "name": "stdout",
     "output_type": "stream",
     "text": [
      "*****\n",
      "****\n",
      "***\n",
      "**\n",
      "*\n"
     ]
    }
   ],
   "source": [
    "# *****\n",
    "# ****\n",
    "# ***\n",
    "# **\n",
    "# *\n",
    "\n",
    "for i in range(5):\n",
    "    print('*' * (5-i))"
   ]
  },
  {
   "cell_type": "code",
   "execution_count": 69,
   "id": "47ebb450",
   "metadata": {},
   "outputs": [
    {
     "name": "stdout",
     "output_type": "stream",
     "text": [
      "임의의 수를 입력하시오6\n"
     ]
    },
    {
     "data": {
      "text/plain": [
       "720"
      ]
     },
     "execution_count": 69,
     "metadata": {},
     "output_type": "execute_result"
    }
   ],
   "source": [
    "# 임의의 수를 입력받은 후 팩토리얼을 계산하는 코드를 작성하시오\n",
    "# 5! = 5*4*3*2*1\n",
    "\n",
    "num = int(input('임의의 수를 입력하시오'))\n",
    "result = 1\n",
    "while num > 1:\n",
    "    result *= num\n",
    "    num -=1\n",
    "result"
   ]
  },
  {
   "cell_type": "code",
   "execution_count": 47,
   "id": "a919f603",
   "metadata": {},
   "outputs": [
    {
     "name": "stdout",
     "output_type": "stream",
     "text": [
      "0 p\n",
      "1 y\n",
      "2 t\n",
      "3 h\n",
      "4 o\n",
      "5 n\n",
      "6  \n",
      "7 i\n",
      "8 s\n",
      "9  \n",
      "10 f\n",
      "11 u\n",
      "12 n\n",
      "0 p\n",
      "1 y\n",
      "2 t\n",
      "3 h\n",
      "4 o\n",
      "5 n\n",
      "6  \n",
      "7 i\n",
      "8 s\n",
      "9  \n",
      "10 f\n",
      "11 u\n",
      "12 n\n"
     ]
    }
   ],
   "source": [
    "# 위의 text의 문자를 index와 함께 출력하시오.\n",
    "text = 'python is fun' \n",
    "for i in range(len(text)):\n",
    "    print(i, text[i])\n",
    "\n",
    "for i,j in enumerate(text):\n",
    "    print(i,j)"
   ]
  },
  {
   "cell_type": "code",
   "execution_count": 32,
   "id": "aa2cb7c7",
   "metadata": {},
   "outputs": [
    {
     "data": {
      "text/plain": [
       "[2, 4, 6, 8, 10, 12, 14, 16, 18, 20]"
      ]
     },
     "execution_count": 32,
     "metadata": {},
     "output_type": "execute_result"
    }
   ],
   "source": [
    "# 1~20까지 수에서 짝수만 리스트에 담으세요.\n",
    "# => for문과 while문, list comprehension을 각각 활용\n",
    "\n",
    "even_list = []\n",
    "for i in range(1, 21):\n",
    "    if i % 2 == 0:\n",
    "        even_list.append(i)\n",
    "even_list\n",
    "\n",
    "\n",
    "even_list = []\n",
    "count = 0\n",
    "while count < 21:\n",
    "    if count % 2 == 0\"\n",
    "        even_list.append(count)\n",
    "    count += 1\n",
    "even_list\n",
    "\n",
    "[i for i in range(1, 21) if i % 2 == 0]"
   ]
  },
  {
   "cell_type": "code",
   "execution_count": 48,
   "id": "c8c9c88b",
   "metadata": {},
   "outputs": [
    {
     "name": "stdout",
     "output_type": "stream",
     "text": [
      "3\n",
      "4\n",
      "5\n",
      "6\n"
     ]
    }
   ],
   "source": [
    "# 1~10까지 정수를 출력하는 while문에서 continue와 break를 이용해서 3,4,5,6만 출력하도록 하시오.\n",
    "\n",
    "count = 0\n",
    "while count < 10:\n",
    "    count += 1\n",
    "    if count < 3:\n",
    "        continue\n",
    "    if count > 6:\n",
    "        break\n",
    "    print(count)\n",
    "    "
   ]
  },
  {
   "cell_type": "code",
   "execution_count": 51,
   "id": "35ee79dc",
   "metadata": {},
   "outputs": [
    {
     "data": {
      "text/plain": [
       "[('a', '가'), ('b', '나'), ('c', '다'), ('d', '라'), ('e', '마')]"
      ]
     },
     "execution_count": 51,
     "metadata": {},
     "output_type": "execute_result"
    }
   ],
   "source": [
    "# x = ['a','b','c','d','e'], y = ['가','나','다','라','마'] 두 리스트의 원소들의 모든 조합을 아래와 같이 출력하시오. =>\n",
    "# [('a','가'), ('a','나'), ('a', '다') ... ('e','라'), ('e', '마')]\n",
    "\n",
    "\n",
    "x = ['a','b','c','d','e'] \n",
    "y = ['가','나','다','라','마'] \n",
    "\n",
    "l = []\n",
    "for i in range(len(x)):\n",
    "    l.append((x[i], y[i]))\n",
    "l\n",
    "\n",
    "l = []\n",
    "for i in zip(x, y):\n",
    "    l.append(i)\n",
    "l\n",
    "\n"
   ]
  },
  {
   "cell_type": "code",
   "execution_count": 52,
   "id": "2d5cd080",
   "metadata": {},
   "outputs": [
    {
     "name": "stdout",
     "output_type": "stream",
     "text": [
      "['o', 'p', 't', 't', 'o', 'a', ' ', 'h', 'n', 'i', 'g']\n"
     ]
    }
   ],
   "source": [
    "# computational thinking에서 홀수인덱스만 리스트에 담으세요..\n",
    "\n",
    "text = 'computational thinking'\n",
    "L = []\n",
    "for i in range(1, len(text), 2):\n",
    "    L.append(text[i])\n",
    "print(L)\n"
   ]
  },
  {
   "cell_type": "code",
   "execution_count": 43,
   "id": "6d0321de",
   "metadata": {},
   "outputs": [
    {
     "name": "stdout",
     "output_type": "stream",
     "text": [
      "점수를 입력하시오50\n",
      "점수를 입력하시오10\n",
      "점수를 입력하시오5\n",
      "점수를 입력하시오6\n",
      "점수를 입력하시오3\n"
     ]
    },
    {
     "data": {
      "text/plain": [
       "14.8"
      ]
     },
     "execution_count": 43,
     "metadata": {},
     "output_type": "execute_result"
    }
   ],
   "source": [
    "# 점수를 5회 입력받은 후 평균을 출력하세요.\n",
    "\n",
    "count = 0\n",
    "score_sum = 0\n",
    "while count < 5:\n",
    "    score = int(input('점수를 입력하시오'))\n",
    "    score_sum += score\n",
    "    count += 1\n",
    "score_sum / 5"
   ]
  },
  {
   "cell_type": "code",
   "execution_count": 39,
   "id": "de30fdcc",
   "metadata": {},
   "outputs": [
    {
     "name": "stdout",
     "output_type": "stream",
     "text": [
      "0 p\n",
      "1 y\n",
      "2 t\n",
      "3 h\n",
      "4 o\n",
      "5 n\n",
      "6  \n",
      "7 i\n",
      "8 s\n",
      "9  \n",
      "10 f\n",
      "11 u\n",
      "12 n\n"
     ]
    }
   ],
   "source": [
    "# text = 'hello world'에서 각 문자를 인덱스와 함께 튜플로 묶어서 출력\n",
    "# (0, 'h'), (1, 'e') ...\n",
    "\n",
    "for i, j in enumerate(text):\n",
    "    print(i, j)"
   ]
  },
  {
   "cell_type": "code",
   "execution_count": 100,
   "id": "e2baf52c",
   "metadata": {},
   "outputs": [
    {
     "name": "stdout",
     "output_type": "stream",
     "text": [
      "2*1= 2 2*2= 4 2*3= 6 2*4= 8 2*5=10 2*6=12 2*7=14 2*8=16 2*9=18 \n",
      "3*1= 3 3*2= 6 3*3= 9 3*4=12 3*5=15 3*6=18 3*7=21 3*8=24 3*9=27 \n",
      "4*1= 4 4*2= 8 4*3=12 4*4=16 4*5=20 4*6=24 4*7=28 4*8=32 4*9=36 \n",
      "5*1= 5 5*2=10 5*3=15 5*4=20 5*5=25 5*6=30 5*7=35 5*8=40 5*9=45 \n",
      "6*1= 6 6*2=12 6*3=18 6*4=24 6*5=30 6*6=36 6*7=42 6*8=48 6*9=54 \n",
      "7*1= 7 7*2=14 7*3=21 7*4=28 7*5=35 7*6=42 7*7=49 7*8=56 7*9=63 \n",
      "8*1= 8 8*2=16 8*3=24 8*4=32 8*5=40 8*6=48 8*7=56 8*8=64 8*9=72 \n",
      "9*1= 9 9*2=18 9*3=27 9*4=36 9*5=45 9*6=54 9*7=63 9*8=72 9*9=81 \n"
     ]
    }
   ],
   "source": [
    "# 구구단을 출력하시오...\n",
    "for i in range(2, 10):\n",
    "    for j in range(1, 10):\n",
    "        print('{0}*{1}={2:>2}'.format(i, j, i*j), end = ' ')\n",
    "    print()"
   ]
  },
  {
   "cell_type": "code",
   "execution_count": 53,
   "id": "ab53a8da",
   "metadata": {
    "scrolled": true
   },
   "outputs": [
    {
     "name": "stdout",
     "output_type": "stream",
     "text": [
      "1\n",
      "정수를 입력하시오1\n",
      "2\n",
      "정수를 입력하시오2\n",
      "3\n",
      "정수를 입력하시오3\n",
      "4\n",
      "정수를 입력하시오4\n",
      "5\n",
      "정수를 입력하시오5\n",
      "6\n",
      "정수를 입력하시오50\n",
      "13.0\n"
     ]
    }
   ],
   "source": [
    "count = 0\n",
    "plus = 0\n",
    "while count <= 5:\n",
    "    count+=1\n",
    "    print(count)\n",
    "    a = int(input('정수를 입력하시오'))\n",
    "    plus += a\n",
    "print(plus/5)"
   ]
  },
  {
   "cell_type": "code",
   "execution_count": null,
   "id": "dd36fefe",
   "metadata": {},
   "outputs": [],
   "source": []
  },
  {
   "cell_type": "markdown",
   "id": "1a1856a5",
   "metadata": {},
   "source": [
    "### File"
   ]
  },
  {
   "cell_type": "code",
   "execution_count": 102,
   "id": "f5902259",
   "metadata": {},
   "outputs": [],
   "source": [
    "# 1. 파일을 연다 - open(), 모드를 설정 : 'r', 'w'\n",
    "# 2. 파일을 읽거나 쓴다 - read(), write()\n",
    "# 3. 파일을 닫는다 - close()\n",
    "\n",
    "# f = open('filename', 'r')\n",
    "# text = f.read()\n",
    "# f.close()\n",
    "\n",
    "# with open('filename', 'r') as f:\n",
    "#     text = f.read()\n",
    "\n",
    "# f = open('filename', 'w')\n",
    "# f.write(text)\n",
    "# f.close()\n",
    "\n",
    "# with open('filename', 'w') as f:\n",
    "#     f.write(text)"
   ]
  },
  {
   "cell_type": "code",
   "execution_count": 120,
   "id": "18176614",
   "metadata": {},
   "outputs": [
    {
     "name": "stdout",
     "output_type": "stream",
     "text": [
      "\n",
      "\n",
      "“지금 되는 게 맞나요?” 지난 12일 롯데리아 경기 수원역점에서 전자출입명부 인증(QR체크인)을 \n",
      "\n",
      "시도하던 한혜경 디지털시각장애연대 대표가 기자에게 물었다. 주변에는 한 대표를 도와줄 \n",
      "\n",
      "직원들이 보이지 않았고, 매장에는 ‘지금은 셀프계산대 전용 운영시간입니다’라고 적힌 \n",
      "\n",
      "입간판만 놓여 있었다. QR체크인 인증 기기 거치대가 기울어진 탓에 스마트폰 QR코드를 태블릿PC \n",
      "\n",
      "화면에 비추는 것도 쉽지 않았다. 15초 제한시간이 지나 QR체크인 애플리케이션(앱)이 번번이 꺼졌고, \n",
      "\n",
      "그때마다 시각장애인용 음성변환 기능을 이용해 앱을 켜는 일을 반복했다. 5분간 공을 들여 성공했지만 \n",
      "\n",
      "‘인증되었습니다’라는 안내 음성은 매장 음악소리에 묻혀 들리지 않았다. 한 대표는 \n",
      "\n",
      "“사람들이 기다릴지 모르니까 일단 (매장 밖으로) 나가야겠어요”라고 했다.\n",
      "\n"
     ]
    }
   ],
   "source": [
    "# 인터넷 뉴스 텍스트를 'news.txt' 파일로 저장하시오\n",
    "# 'news.txt' 파일을 4가지 다른 방식으로 열어서 출력하시오\n",
    "\n",
    "news = \"\"\"\n",
    "“지금 되는 게 맞나요?” 지난 12일 롯데리아 경기 수원역점에서 전자출입명부 인증(QR체크인)을 \n",
    "시도하던 한혜경 디지털시각장애연대 대표가 기자에게 물었다. 주변에는 한 대표를 도와줄 \n",
    "직원들이 보이지 않았고, 매장에는 ‘지금은 셀프계산대 전용 운영시간입니다’라고 적힌 \n",
    "입간판만 놓여 있었다. QR체크인 인증 기기 거치대가 기울어진 탓에 스마트폰 QR코드를 태블릿PC \n",
    "화면에 비추는 것도 쉽지 않았다. 15초 제한시간이 지나 QR체크인 애플리케이션(앱)이 번번이 꺼졌고, \n",
    "그때마다 시각장애인용 음성변환 기능을 이용해 앱을 켜는 일을 반복했다. 5분간 공을 들여 성공했지만 \n",
    "‘인증되었습니다’라는 안내 음성은 매장 음악소리에 묻혀 들리지 않았다. 한 대표는 \n",
    "“사람들이 기다릴지 모르니까 일단 (매장 밖으로) 나가야겠어요”라고 했다.\n",
    "\"\"\"\n",
    "\n",
    "# f = open('news.txt', 'w')\n",
    "# f.write(news)\n",
    "# f.close()\n",
    "\n",
    "# with open('news.txt', 'w') as f:\n",
    "#     f.write(news)\n",
    "    \n",
    "# with open('news.txt', 'r') as f:\n",
    "#     text = f.read()\n",
    "\n",
    "# f = open('news.txt', 'r')\n",
    "# text = f.read()\n",
    "# f.close()\n",
    "\n",
    "# f = open('news.txt', 'r')\n",
    "# text = f.readlines()\n",
    "# while text:\n",
    "#     print(text)\n",
    "#     text = f.readline()\n",
    "# f.close()\n",
    "\n",
    "f = open('news.txt', 'r')\n",
    "for line in f:\n",
    "    print(line)"
   ]
  },
  {
   "cell_type": "code",
   "execution_count": null,
   "id": "69c7ef91",
   "metadata": {},
   "outputs": [],
   "source": [
    "# with open('filename', 'r') as f:\n",
    "#  1   text = f.read()         - 전체 text를 한 번에 읽는다\n",
    "#  2   text = f.readlines()    - 한 문장씩 리스트에 담아서 출력\n",
    "#  3   text = f.readline()     - 한 문장을 읽는다\n",
    "#  4   for line as f:          - 파일 객체를 for을 이용해서 한 문장씩 출력\n",
    "#         pass\n"
   ]
  }
 ],
 "metadata": {
  "kernelspec": {
   "display_name": "Python 3 (ipykernel)",
   "language": "python",
   "name": "python3"
  },
  "language_info": {
   "codemirror_mode": {
    "name": "ipython",
    "version": 3
   },
   "file_extension": ".py",
   "mimetype": "text/x-python",
   "name": "python",
   "nbconvert_exporter": "python",
   "pygments_lexer": "ipython3",
   "version": "3.9.7"
  }
 },
 "nbformat": 4,
 "nbformat_minor": 5
}
