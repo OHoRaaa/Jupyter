{
 "cells": [
  {
   "cell_type": "code",
   "execution_count": 2,
   "id": "d0e7d774",
   "metadata": {},
   "outputs": [],
   "source": [
    "import pandas as pd\n",
    "import numpy as np\n",
    "import matplotlib.pyplot as plt\n",
    "import seaborn as sns"
   ]
  },
  {
   "cell_type": "code",
   "execution_count": 3,
   "id": "061eacd9",
   "metadata": {},
   "outputs": [],
   "source": [
    "import warnings\n",
    "warnings.filterwarnings(action='ignore')"
   ]
  },
  {
   "cell_type": "code",
   "execution_count": 4,
   "id": "afc88e6e",
   "metadata": {},
   "outputs": [],
   "source": [
    "import matplotlib as mpl\n",
    "import matplotlib.font_manager as fm\n",
    "\n",
    "mpl.rcParams['axes.unicode_minus'] = False\n",
    "\n",
    "path = 'C:/Windows/Fonts/malgun.ttf'\n",
    "font_name = fm.FontProperties(fname=path, size=50).get_name()\n",
    "plt.rc('font', family=font_name)"
   ]
  },
  {
   "cell_type": "code",
   "execution_count": 5,
   "id": "425368ca",
   "metadata": {},
   "outputs": [],
   "source": [
    "df = pd.read_csv('./data/전국도시공원표준데이터.csv', encoding = 'cp949')"
   ]
  },
  {
   "cell_type": "code",
   "execution_count": 6,
   "id": "18582ab0",
   "metadata": {
    "scrolled": true
   },
   "outputs": [
    {
     "data": {
      "text/html": [
       "<div>\n",
       "<style scoped>\n",
       "    .dataframe tbody tr th:only-of-type {\n",
       "        vertical-align: middle;\n",
       "    }\n",
       "\n",
       "    .dataframe tbody tr th {\n",
       "        vertical-align: top;\n",
       "    }\n",
       "\n",
       "    .dataframe thead th {\n",
       "        text-align: right;\n",
       "    }\n",
       "</style>\n",
       "<table border=\"1\" class=\"dataframe\">\n",
       "  <thead>\n",
       "    <tr style=\"text-align: right;\">\n",
       "      <th></th>\n",
       "      <th>관리번호</th>\n",
       "      <th>공원명</th>\n",
       "      <th>공원구분</th>\n",
       "      <th>소재지도로명주소</th>\n",
       "      <th>소재지지번주소</th>\n",
       "      <th>위도</th>\n",
       "      <th>경도</th>\n",
       "      <th>공원면적</th>\n",
       "      <th>공원보유시설(운동시설)</th>\n",
       "      <th>공원보유시설(유희시설)</th>\n",
       "      <th>공원보유시설(편익시설)</th>\n",
       "      <th>공원보유시설(교양시설)</th>\n",
       "      <th>공원보유시설(기타시설)</th>\n",
       "      <th>지정고시일</th>\n",
       "      <th>관리기관명</th>\n",
       "      <th>전화번호</th>\n",
       "      <th>데이터기준일자</th>\n",
       "      <th>제공기관코드</th>\n",
       "      <th>제공기관명</th>\n",
       "      <th>Unnamed: 19</th>\n",
       "    </tr>\n",
       "  </thead>\n",
       "  <tbody>\n",
       "    <tr>\n",
       "      <th>0</th>\n",
       "      <td>26440-00001</td>\n",
       "      <td>구랑공원</td>\n",
       "      <td>문화공원</td>\n",
       "      <td>NaN</td>\n",
       "      <td>부산광역시 강서구 구랑동 1199-7</td>\n",
       "      <td>35.157215</td>\n",
       "      <td>128.854935</td>\n",
       "      <td>9137.0</td>\n",
       "      <td>4</td>\n",
       "      <td>NaN</td>\n",
       "      <td>화장실</td>\n",
       "      <td>NaN</td>\n",
       "      <td>팔각정자, 파고라2, 평의자6, 앉음벽14.38m, 축구장(골대2), 컨테이너, 안...</td>\n",
       "      <td>2011-09-02</td>\n",
       "      <td>부산광역시 강서구청 녹지공원과</td>\n",
       "      <td>051-970-4536</td>\n",
       "      <td>2019-05-02</td>\n",
       "      <td>3360000</td>\n",
       "      <td>부산광역시 강서구</td>\n",
       "      <td>NaN</td>\n",
       "    </tr>\n",
       "    <tr>\n",
       "      <th>1</th>\n",
       "      <td>26440-00002</td>\n",
       "      <td>압곡공원</td>\n",
       "      <td>근린공원</td>\n",
       "      <td>NaN</td>\n",
       "      <td>부산광역시 강서구 구랑동 1219</td>\n",
       "      <td>35.154655</td>\n",
       "      <td>128.854727</td>\n",
       "      <td>33756.0</td>\n",
       "      <td>4</td>\n",
       "      <td>NaN</td>\n",
       "      <td>NaN</td>\n",
       "      <td>NaN</td>\n",
       "      <td>배드민턴장, 족구장, 파고라4, 안내판, 볼라드7, 데크435.11㎡, 데크계단19...</td>\n",
       "      <td>2008-02-28</td>\n",
       "      <td>부산광역시 강서구청 녹지공원과</td>\n",
       "      <td>051-970-4536</td>\n",
       "      <td>2019-05-02</td>\n",
       "      <td>3360000</td>\n",
       "      <td>부산광역시 강서구</td>\n",
       "      <td>NaN</td>\n",
       "    </tr>\n",
       "    <tr>\n",
       "      <th>2</th>\n",
       "      <td>26440-00003</td>\n",
       "      <td>서연정공원</td>\n",
       "      <td>소공원</td>\n",
       "      <td>NaN</td>\n",
       "      <td>부산광역시 강서구 대저1동 1330-7</td>\n",
       "      <td>35.216183</td>\n",
       "      <td>128.969558</td>\n",
       "      <td>646.0</td>\n",
       "      <td>7</td>\n",
       "      <td>NaN</td>\n",
       "      <td>NaN</td>\n",
       "      <td>NaN</td>\n",
       "      <td>앉음벽13.57m, 트렐리스3, 안내판2, 플랜트2, 파고라, 평의자4</td>\n",
       "      <td>2013-01-23</td>\n",
       "      <td>부산광역시 강서구청 녹지공원과</td>\n",
       "      <td>051-970-4536</td>\n",
       "      <td>2019-05-02</td>\n",
       "      <td>3360000</td>\n",
       "      <td>부산광역시 강서구</td>\n",
       "      <td>NaN</td>\n",
       "    </tr>\n",
       "    <tr>\n",
       "      <th>3</th>\n",
       "      <td>26440-00004</td>\n",
       "      <td>용두공원</td>\n",
       "      <td>어린이공원</td>\n",
       "      <td>NaN</td>\n",
       "      <td>부산광역시 강서구 대저2동 1870-67</td>\n",
       "      <td>35.183679</td>\n",
       "      <td>128.956007</td>\n",
       "      <td>1620.0</td>\n",
       "      <td>NaN</td>\n",
       "      <td>조합놀이기구, 그네</td>\n",
       "      <td>NaN</td>\n",
       "      <td>NaN</td>\n",
       "      <td>정자, 농구장, 평의자6</td>\n",
       "      <td>1998-07-25</td>\n",
       "      <td>부산광역시 강서구청 녹지공원과</td>\n",
       "      <td>051-970-4536</td>\n",
       "      <td>2019-05-02</td>\n",
       "      <td>3360000</td>\n",
       "      <td>부산광역시 강서구</td>\n",
       "      <td>NaN</td>\n",
       "    </tr>\n",
       "    <tr>\n",
       "      <th>4</th>\n",
       "      <td>26440-00005</td>\n",
       "      <td>새동내공원</td>\n",
       "      <td>어린이공원</td>\n",
       "      <td>NaN</td>\n",
       "      <td>부산광역시 강서구 대저2동 2407-1</td>\n",
       "      <td>35.174568</td>\n",
       "      <td>128.950612</td>\n",
       "      <td>1009.0</td>\n",
       "      <td>8</td>\n",
       "      <td>조합놀이기구, 그네, 흔들놀이기구2</td>\n",
       "      <td>NaN</td>\n",
       "      <td>NaN</td>\n",
       "      <td>정자, 평의자14, 트렐리스2, 안내판, 볼라드</td>\n",
       "      <td>1995-04-07</td>\n",
       "      <td>부산광역시 강서구청 녹지공원과</td>\n",
       "      <td>051-970-4536</td>\n",
       "      <td>2019-05-02</td>\n",
       "      <td>3360000</td>\n",
       "      <td>부산광역시 강서구</td>\n",
       "      <td>NaN</td>\n",
       "    </tr>\n",
       "  </tbody>\n",
       "</table>\n",
       "</div>"
      ],
      "text/plain": [
       "          관리번호    공원명   공원구분 소재지도로명주소                 소재지지번주소         위도  \\\n",
       "0  26440-00001   구랑공원   문화공원      NaN    부산광역시 강서구 구랑동 1199-7  35.157215   \n",
       "1  26440-00002   압곡공원   근린공원      NaN      부산광역시 강서구 구랑동 1219  35.154655   \n",
       "2  26440-00003  서연정공원    소공원      NaN   부산광역시 강서구 대저1동 1330-7  35.216183   \n",
       "3  26440-00004   용두공원  어린이공원      NaN  부산광역시 강서구 대저2동 1870-67  35.183679   \n",
       "4  26440-00005  새동내공원  어린이공원      NaN   부산광역시 강서구 대저2동 2407-1  35.174568   \n",
       "\n",
       "           경도     공원면적 공원보유시설(운동시설)         공원보유시설(유희시설) 공원보유시설(편익시설)  \\\n",
       "0  128.854935   9137.0            4                  NaN          화장실   \n",
       "1  128.854727  33756.0            4                  NaN          NaN   \n",
       "2  128.969558    646.0            7                  NaN          NaN   \n",
       "3  128.956007   1620.0          NaN           조합놀이기구, 그네          NaN   \n",
       "4  128.950612   1009.0            8  조합놀이기구, 그네, 흔들놀이기구2          NaN   \n",
       "\n",
       "  공원보유시설(교양시설)                                       공원보유시설(기타시설)       지정고시일  \\\n",
       "0          NaN  팔각정자, 파고라2, 평의자6, 앉음벽14.38m, 축구장(골대2), 컨테이너, 안...  2011-09-02   \n",
       "1          NaN  배드민턴장, 족구장, 파고라4, 안내판, 볼라드7, 데크435.11㎡, 데크계단19...  2008-02-28   \n",
       "2          NaN            앉음벽13.57m, 트렐리스3, 안내판2, 플랜트2, 파고라, 평의자4  2013-01-23   \n",
       "3          NaN                                      정자, 농구장, 평의자6  1998-07-25   \n",
       "4          NaN                         정자, 평의자14, 트렐리스2, 안내판, 볼라드  1995-04-07   \n",
       "\n",
       "              관리기관명          전화번호     데이터기준일자   제공기관코드      제공기관명  Unnamed: 19  \n",
       "0  부산광역시 강서구청 녹지공원과  051-970-4536  2019-05-02  3360000  부산광역시 강서구          NaN  \n",
       "1  부산광역시 강서구청 녹지공원과  051-970-4536  2019-05-02  3360000  부산광역시 강서구          NaN  \n",
       "2  부산광역시 강서구청 녹지공원과  051-970-4536  2019-05-02  3360000  부산광역시 강서구          NaN  \n",
       "3  부산광역시 강서구청 녹지공원과  051-970-4536  2019-05-02  3360000  부산광역시 강서구          NaN  \n",
       "4  부산광역시 강서구청 녹지공원과  051-970-4536  2019-05-02  3360000  부산광역시 강서구          NaN  "
      ]
     },
     "execution_count": 6,
     "metadata": {},
     "output_type": "execute_result"
    }
   ],
   "source": [
    "df.head()"
   ]
  },
  {
   "cell_type": "code",
   "execution_count": null,
   "id": "451ee003",
   "metadata": {},
   "outputs": [],
   "source": []
  },
  {
   "cell_type": "code",
   "execution_count": 7,
   "id": "98a3b627",
   "metadata": {},
   "outputs": [],
   "source": [
    "# pandas profiling\n",
    "# -dataframe를 report로 만들어주는 모듈"
   ]
  },
  {
   "cell_type": "code",
   "execution_count": 8,
   "id": "3b0c2008",
   "metadata": {
    "scrolled": true
   },
   "outputs": [],
   "source": [
    "# !pip install pandas-profiling"
   ]
  },
  {
   "cell_type": "code",
   "execution_count": 9,
   "id": "733b3435",
   "metadata": {},
   "outputs": [],
   "source": [
    "import pandas_profiling"
   ]
  },
  {
   "cell_type": "code",
   "execution_count": 10,
   "id": "38d309de",
   "metadata": {},
   "outputs": [],
   "source": [
    "from pandas_profiling import ProfileReport"
   ]
  },
  {
   "cell_type": "code",
   "execution_count": 11,
   "id": "233fd871",
   "metadata": {},
   "outputs": [
    {
     "data": {
      "application/vnd.jupyter.widget-view+json": {
       "model_id": "38d188f939904c038b53c7635702cc26",
       "version_major": 2,
       "version_minor": 0
      },
      "text/plain": [
       "Summarize dataset:   0%|          | 0/5 [00:00<?, ?it/s]"
      ]
     },
     "metadata": {},
     "output_type": "display_data"
    },
    {
     "data": {
      "application/vnd.jupyter.widget-view+json": {
       "model_id": "0dece2e02a4b4dcba808e90610eef623",
       "version_major": 2,
       "version_minor": 0
      },
      "text/plain": [
       "Generate report structure:   0%|          | 0/1 [00:00<?, ?it/s]"
      ]
     },
     "metadata": {},
     "output_type": "display_data"
    },
    {
     "data": {
      "application/vnd.jupyter.widget-view+json": {
       "model_id": "0ecdd6550f6041b2b54fdf4e4b59ff41",
       "version_major": 2,
       "version_minor": 0
      },
      "text/plain": [
       "Render HTML:   0%|          | 0/1 [00:00<?, ?it/s]"
      ]
     },
     "metadata": {},
     "output_type": "display_data"
    },
    {
     "data": {
      "application/vnd.jupyter.widget-view+json": {
       "model_id": "ee9e5a180e0641798a35eee122ad27ab",
       "version_major": 2,
       "version_minor": 0
      },
      "text/plain": [
       "Export report to file:   0%|          | 0/1 [00:00<?, ?it/s]"
      ]
     },
     "metadata": {},
     "output_type": "display_data"
    }
   ],
   "source": [
    "profile = ProfileReport(df, title = '도시공원 표준 데이터')\n",
    "profile.to_file(output_file = '05-park-pandas_profile.html')"
   ]
  },
  {
   "cell_type": "code",
   "execution_count": 12,
   "id": "2145d455",
   "metadata": {},
   "outputs": [
    {
     "data": {
      "text/html": [
       "<div>\n",
       "<style scoped>\n",
       "    .dataframe tbody tr th:only-of-type {\n",
       "        vertical-align: middle;\n",
       "    }\n",
       "\n",
       "    .dataframe tbody tr th {\n",
       "        vertical-align: top;\n",
       "    }\n",
       "\n",
       "    .dataframe thead th {\n",
       "        text-align: right;\n",
       "    }\n",
       "</style>\n",
       "<table border=\"1\" class=\"dataframe\">\n",
       "  <thead>\n",
       "    <tr style=\"text-align: right;\">\n",
       "      <th></th>\n",
       "      <th>위도</th>\n",
       "      <th>경도</th>\n",
       "      <th>공원면적</th>\n",
       "      <th>Unnamed: 19</th>\n",
       "    </tr>\n",
       "  </thead>\n",
       "  <tbody>\n",
       "    <tr>\n",
       "      <th>count</th>\n",
       "      <td>18137.000000</td>\n",
       "      <td>18137.000000</td>\n",
       "      <td>1.813700e+04</td>\n",
       "      <td>0.0</td>\n",
       "    </tr>\n",
       "    <tr>\n",
       "      <th>mean</th>\n",
       "      <td>36.335922</td>\n",
       "      <td>127.543937</td>\n",
       "      <td>3.781196e+04</td>\n",
       "      <td>NaN</td>\n",
       "    </tr>\n",
       "    <tr>\n",
       "      <th>std</th>\n",
       "      <td>1.051835</td>\n",
       "      <td>0.892670</td>\n",
       "      <td>2.203052e+05</td>\n",
       "      <td>NaN</td>\n",
       "    </tr>\n",
       "    <tr>\n",
       "      <th>min</th>\n",
       "      <td>27.551606</td>\n",
       "      <td>125.430955</td>\n",
       "      <td>0.000000e+00</td>\n",
       "      <td>NaN</td>\n",
       "    </tr>\n",
       "    <tr>\n",
       "      <th>25%</th>\n",
       "      <td>35.275430</td>\n",
       "      <td>126.872301</td>\n",
       "      <td>1.503000e+03</td>\n",
       "      <td>NaN</td>\n",
       "    </tr>\n",
       "    <tr>\n",
       "      <th>50%</th>\n",
       "      <td>36.364729</td>\n",
       "      <td>127.130926</td>\n",
       "      <td>2.159000e+03</td>\n",
       "      <td>NaN</td>\n",
       "    </tr>\n",
       "    <tr>\n",
       "      <th>75%</th>\n",
       "      <td>37.404278</td>\n",
       "      <td>128.466193</td>\n",
       "      <td>1.025460e+04</td>\n",
       "      <td>NaN</td>\n",
       "    </tr>\n",
       "    <tr>\n",
       "      <th>max</th>\n",
       "      <td>38.224926</td>\n",
       "      <td>137.202661</td>\n",
       "      <td>8.703000e+06</td>\n",
       "      <td>NaN</td>\n",
       "    </tr>\n",
       "  </tbody>\n",
       "</table>\n",
       "</div>"
      ],
      "text/plain": [
       "                 위도            경도          공원면적  Unnamed: 19\n",
       "count  18137.000000  18137.000000  1.813700e+04          0.0\n",
       "mean      36.335922    127.543937  3.781196e+04          NaN\n",
       "std        1.051835      0.892670  2.203052e+05          NaN\n",
       "min       27.551606    125.430955  0.000000e+00          NaN\n",
       "25%       35.275430    126.872301  1.503000e+03          NaN\n",
       "50%       36.364729    127.130926  2.159000e+03          NaN\n",
       "75%       37.404278    128.466193  1.025460e+04          NaN\n",
       "max       38.224926    137.202661  8.703000e+06          NaN"
      ]
     },
     "execution_count": 12,
     "metadata": {},
     "output_type": "execute_result"
    }
   ],
   "source": [
    "df.describe()"
   ]
  },
  {
   "cell_type": "code",
   "execution_count": null,
   "id": "02ca04c1",
   "metadata": {},
   "outputs": [],
   "source": []
  },
  {
   "cell_type": "code",
   "execution_count": 13,
   "id": "d28dffbb",
   "metadata": {
    "scrolled": true
   },
   "outputs": [
    {
     "data": {
      "text/plain": [
       "관리번호                0\n",
       "공원명                 0\n",
       "공원구분                0\n",
       "소재지도로명주소        10098\n",
       "소재지지번주소           979\n",
       "위도                  0\n",
       "경도                  0\n",
       "공원면적                0\n",
       "공원보유시설(운동시설)    13292\n",
       "공원보유시설(유희시설)    11173\n",
       "공원보유시설(편익시설)    13053\n",
       "공원보유시설(교양시설)    16977\n",
       "공원보유시설(기타시설)    15021\n",
       "지정고시일            2912\n",
       "관리기관명             754\n",
       "전화번호             1180\n",
       "데이터기준일자             0\n",
       "제공기관코드              0\n",
       "제공기관명               0\n",
       "Unnamed: 19     18137\n",
       "dtype: int64"
      ]
     },
     "execution_count": 13,
     "metadata": {},
     "output_type": "execute_result"
    }
   ],
   "source": [
    "df.isna().sum()"
   ]
  },
  {
   "cell_type": "code",
   "execution_count": 14,
   "id": "ebc61c2e",
   "metadata": {},
   "outputs": [],
   "source": [
    "sns.set(font = 'Malgun Gothic',\n",
    "       rc = {'axes.unicode_minus' : False},\n",
    "        style = 'darkgrid')"
   ]
  },
  {
   "cell_type": "code",
   "execution_count": 15,
   "id": "8c4175e7",
   "metadata": {
    "scrolled": true
   },
   "outputs": [
    {
     "name": "stdout",
     "output_type": "stream",
     "text": [
      "Requirement already satisfied: missingno in c:\\users\\bitcamp\\anaconda3\\lib\\site-packages (0.5.0)\n",
      "Requirement already satisfied: scipy in c:\\users\\bitcamp\\anaconda3\\lib\\site-packages (from missingno) (1.7.1)\n",
      "Requirement already satisfied: numpy in c:\\users\\bitcamp\\anaconda3\\lib\\site-packages (from missingno) (1.20.3)\n",
      "Requirement already satisfied: matplotlib in c:\\users\\bitcamp\\anaconda3\\lib\\site-packages (from missingno) (3.4.3)\n",
      "Requirement already satisfied: seaborn in c:\\users\\bitcamp\\anaconda3\\lib\\site-packages (from missingno) (0.11.2)\n",
      "Requirement already satisfied: pillow>=6.2.0 in c:\\users\\bitcamp\\anaconda3\\lib\\site-packages (from matplotlib->missingno) (8.4.0)\n",
      "Requirement already satisfied: python-dateutil>=2.7 in c:\\users\\bitcamp\\anaconda3\\lib\\site-packages (from matplotlib->missingno) (2.8.2)\n",
      "Requirement already satisfied: kiwisolver>=1.0.1 in c:\\users\\bitcamp\\anaconda3\\lib\\site-packages (from matplotlib->missingno) (1.3.1)\n",
      "Requirement already satisfied: cycler>=0.10 in c:\\users\\bitcamp\\anaconda3\\lib\\site-packages (from matplotlib->missingno) (0.10.0)\n",
      "Requirement already satisfied: pyparsing>=2.2.1 in c:\\users\\bitcamp\\anaconda3\\lib\\site-packages (from matplotlib->missingno) (3.0.4)\n",
      "Requirement already satisfied: six in c:\\users\\bitcamp\\anaconda3\\lib\\site-packages (from cycler>=0.10->matplotlib->missingno) (1.16.0)\n",
      "Requirement already satisfied: pandas>=0.23 in c:\\users\\bitcamp\\anaconda3\\lib\\site-packages (from seaborn->missingno) (1.3.4)\n",
      "Requirement already satisfied: pytz>=2017.3 in c:\\users\\bitcamp\\anaconda3\\lib\\site-packages (from pandas>=0.23->seaborn->missingno) (2021.3)\n"
     ]
    }
   ],
   "source": [
    "!pip install missingno"
   ]
  },
  {
   "cell_type": "code",
   "execution_count": 21,
   "id": "4ca9457a",
   "metadata": {},
   "outputs": [
    {
     "name": "stdout",
     "output_type": "stream",
     "text": [
      "^C\n"
     ]
    }
   ],
   "source": [
    "! conda install -c conda-forge missingno"
   ]
  },
  {
   "cell_type": "code",
   "execution_count": 22,
   "id": "fb55974d",
   "metadata": {},
   "outputs": [],
   "source": [
    "import missingno"
   ]
  },
  {
   "cell_type": "code",
   "execution_count": 23,
   "id": "57026e7b",
   "metadata": {},
   "outputs": [
    {
     "data": {
      "text/plain": [
       "<AxesSubplot:>"
      ]
     },
     "execution_count": 23,
     "metadata": {},
     "output_type": "execute_result"
    },
    {
     "data": {
      "image/png": "[encoded data removed]",
      "text/plain": [
       "<Figure size 1800x720 with 2 Axes>"
      ]
     },
     "metadata": {
      "needs_background": "light"
     },
     "output_type": "display_data"
    }
   ],
   "source": [
    "%matplotlib inline\n",
    "missingno.matrix(df)"
   ]
  },
  {
   "cell_type": "code",
   "execution_count": 24,
   "id": "b2df5459",
   "metadata": {},
   "outputs": [
    {
     "data": {
      "text/plain": [
       "Index(['관리번호', '공원명', '공원구분', '소재지도로명주소', '소재지지번주소', '위도', '경도', '공원면적',\n",
       "       '공원보유시설(운동시설)', '공원보유시설(유희시설)', '공원보유시설(편익시설)', '공원보유시설(교양시설)',\n",
       "       '공원보유시설(기타시설)', '지정고시일', '관리기관명', '전화번호', '데이터기준일자', '제공기관코드', '제공기관명',\n",
       "       'Unnamed: 19'],\n",
       "      dtype='object')"
      ]
     },
     "execution_count": 24,
     "metadata": {},
     "output_type": "execute_result"
    }
   ],
   "source": [
    "df.columns"
   ]
  },
  {
   "cell_type": "code",
   "execution_count": 25,
   "id": "e05589da",
   "metadata": {},
   "outputs": [
    {
     "data": {
      "text/html": [
       "<div>\n",
       "<style scoped>\n",
       "    .dataframe tbody tr th:only-of-type {\n",
       "        vertical-align: middle;\n",
       "    }\n",
       "\n",
       "    .dataframe tbody tr th {\n",
       "        vertical-align: top;\n",
       "    }\n",
       "\n",
       "    .dataframe thead th {\n",
       "        text-align: right;\n",
       "    }\n",
       "</style>\n",
       "<table border=\"1\" class=\"dataframe\">\n",
       "  <thead>\n",
       "    <tr style=\"text-align: right;\">\n",
       "      <th></th>\n",
       "      <th>관리번호</th>\n",
       "      <th>공원명</th>\n",
       "      <th>공원구분</th>\n",
       "      <th>소재지도로명주소</th>\n",
       "      <th>소재지지번주소</th>\n",
       "      <th>위도</th>\n",
       "      <th>경도</th>\n",
       "      <th>공원면적</th>\n",
       "      <th>공원보유시설(운동시설)</th>\n",
       "      <th>공원보유시설(유희시설)</th>\n",
       "      <th>공원보유시설(편익시설)</th>\n",
       "      <th>공원보유시설(교양시설)</th>\n",
       "      <th>공원보유시설(기타시설)</th>\n",
       "      <th>지정고시일</th>\n",
       "      <th>관리기관명</th>\n",
       "      <th>전화번호</th>\n",
       "      <th>데이터기준일자</th>\n",
       "      <th>제공기관코드</th>\n",
       "      <th>제공기관명</th>\n",
       "      <th>Unnamed: 19</th>\n",
       "    </tr>\n",
       "  </thead>\n",
       "  <tbody>\n",
       "    <tr>\n",
       "      <th>0</th>\n",
       "      <td>26440-00001</td>\n",
       "      <td>구랑공원</td>\n",
       "      <td>문화공원</td>\n",
       "      <td>NaN</td>\n",
       "      <td>부산광역시 강서구 구랑동 1199-7</td>\n",
       "      <td>35.157215</td>\n",
       "      <td>128.854935</td>\n",
       "      <td>9137.0</td>\n",
       "      <td>4</td>\n",
       "      <td>NaN</td>\n",
       "      <td>화장실</td>\n",
       "      <td>NaN</td>\n",
       "      <td>팔각정자, 파고라2, 평의자6, 앉음벽14.38m, 축구장(골대2), 컨테이너, 안...</td>\n",
       "      <td>2011-09-02</td>\n",
       "      <td>부산광역시 강서구청 녹지공원과</td>\n",
       "      <td>051-970-4536</td>\n",
       "      <td>2019-05-02</td>\n",
       "      <td>3360000</td>\n",
       "      <td>부산광역시 강서구</td>\n",
       "      <td>NaN</td>\n",
       "    </tr>\n",
       "    <tr>\n",
       "      <th>1</th>\n",
       "      <td>26440-00002</td>\n",
       "      <td>압곡공원</td>\n",
       "      <td>근린공원</td>\n",
       "      <td>NaN</td>\n",
       "      <td>부산광역시 강서구 구랑동 1219</td>\n",
       "      <td>35.154655</td>\n",
       "      <td>128.854727</td>\n",
       "      <td>33756.0</td>\n",
       "      <td>4</td>\n",
       "      <td>NaN</td>\n",
       "      <td>NaN</td>\n",
       "      <td>NaN</td>\n",
       "      <td>배드민턴장, 족구장, 파고라4, 안내판, 볼라드7, 데크435.11㎡, 데크계단19...</td>\n",
       "      <td>2008-02-28</td>\n",
       "      <td>부산광역시 강서구청 녹지공원과</td>\n",
       "      <td>051-970-4536</td>\n",
       "      <td>2019-05-02</td>\n",
       "      <td>3360000</td>\n",
       "      <td>부산광역시 강서구</td>\n",
       "      <td>NaN</td>\n",
       "    </tr>\n",
       "    <tr>\n",
       "      <th>2</th>\n",
       "      <td>26440-00003</td>\n",
       "      <td>서연정공원</td>\n",
       "      <td>소공원</td>\n",
       "      <td>NaN</td>\n",
       "      <td>부산광역시 강서구 대저1동 1330-7</td>\n",
       "      <td>35.216183</td>\n",
       "      <td>128.969558</td>\n",
       "      <td>646.0</td>\n",
       "      <td>7</td>\n",
       "      <td>NaN</td>\n",
       "      <td>NaN</td>\n",
       "      <td>NaN</td>\n",
       "      <td>앉음벽13.57m, 트렐리스3, 안내판2, 플랜트2, 파고라, 평의자4</td>\n",
       "      <td>2013-01-23</td>\n",
       "      <td>부산광역시 강서구청 녹지공원과</td>\n",
       "      <td>051-970-4536</td>\n",
       "      <td>2019-05-02</td>\n",
       "      <td>3360000</td>\n",
       "      <td>부산광역시 강서구</td>\n",
       "      <td>NaN</td>\n",
       "    </tr>\n",
       "    <tr>\n",
       "      <th>3</th>\n",
       "      <td>26440-00004</td>\n",
       "      <td>용두공원</td>\n",
       "      <td>어린이공원</td>\n",
       "      <td>NaN</td>\n",
       "      <td>부산광역시 강서구 대저2동 1870-67</td>\n",
       "      <td>35.183679</td>\n",
       "      <td>128.956007</td>\n",
       "      <td>1620.0</td>\n",
       "      <td>NaN</td>\n",
       "      <td>조합놀이기구, 그네</td>\n",
       "      <td>NaN</td>\n",
       "      <td>NaN</td>\n",
       "      <td>정자, 농구장, 평의자6</td>\n",
       "      <td>1998-07-25</td>\n",
       "      <td>부산광역시 강서구청 녹지공원과</td>\n",
       "      <td>051-970-4536</td>\n",
       "      <td>2019-05-02</td>\n",
       "      <td>3360000</td>\n",
       "      <td>부산광역시 강서구</td>\n",
       "      <td>NaN</td>\n",
       "    </tr>\n",
       "    <tr>\n",
       "      <th>4</th>\n",
       "      <td>26440-00005</td>\n",
       "      <td>새동내공원</td>\n",
       "      <td>어린이공원</td>\n",
       "      <td>NaN</td>\n",
       "      <td>부산광역시 강서구 대저2동 2407-1</td>\n",
       "      <td>35.174568</td>\n",
       "      <td>128.950612</td>\n",
       "      <td>1009.0</td>\n",
       "      <td>8</td>\n",
       "      <td>조합놀이기구, 그네, 흔들놀이기구2</td>\n",
       "      <td>NaN</td>\n",
       "      <td>NaN</td>\n",
       "      <td>정자, 평의자14, 트렐리스2, 안내판, 볼라드</td>\n",
       "      <td>1995-04-07</td>\n",
       "      <td>부산광역시 강서구청 녹지공원과</td>\n",
       "      <td>051-970-4536</td>\n",
       "      <td>2019-05-02</td>\n",
       "      <td>3360000</td>\n",
       "      <td>부산광역시 강서구</td>\n",
       "      <td>NaN</td>\n",
       "    </tr>\n",
       "    <tr>\n",
       "      <th>...</th>\n",
       "      <td>...</td>\n",
       "      <td>...</td>\n",
       "      <td>...</td>\n",
       "      <td>...</td>\n",
       "      <td>...</td>\n",
       "      <td>...</td>\n",
       "      <td>...</td>\n",
       "      <td>...</td>\n",
       "      <td>...</td>\n",
       "      <td>...</td>\n",
       "      <td>...</td>\n",
       "      <td>...</td>\n",
       "      <td>...</td>\n",
       "      <td>...</td>\n",
       "      <td>...</td>\n",
       "      <td>...</td>\n",
       "      <td>...</td>\n",
       "      <td>...</td>\n",
       "      <td>...</td>\n",
       "      <td>...</td>\n",
       "    </tr>\n",
       "    <tr>\n",
       "      <th>18132</th>\n",
       "      <td>28140-00009</td>\n",
       "      <td>송림4공원</td>\n",
       "      <td>어린이공원</td>\n",
       "      <td>NaN</td>\n",
       "      <td>인천광역시 동구 송림동 291-6</td>\n",
       "      <td>37.478715</td>\n",
       "      <td>126.653257</td>\n",
       "      <td>412.9</td>\n",
       "      <td>NaN</td>\n",
       "      <td>야외무대</td>\n",
       "      <td>NaN</td>\n",
       "      <td>NaN</td>\n",
       "      <td>조형파고라, 앉음벽</td>\n",
       "      <td>1998-07-20</td>\n",
       "      <td>인천광역시 동구청</td>\n",
       "      <td>032-770-6205</td>\n",
       "      <td>2019-07-30</td>\n",
       "      <td>3500000</td>\n",
       "      <td>인천광역시 동구</td>\n",
       "      <td>NaN</td>\n",
       "    </tr>\n",
       "    <tr>\n",
       "      <th>18133</th>\n",
       "      <td>47760-00002</td>\n",
       "      <td>서부공원</td>\n",
       "      <td>근린공원</td>\n",
       "      <td>NaN</td>\n",
       "      <td>경상북도 영양군 영양읍 서부리 123</td>\n",
       "      <td>36.660456</td>\n",
       "      <td>129.114953</td>\n",
       "      <td>56045.0</td>\n",
       "      <td>NaN</td>\n",
       "      <td>NaN</td>\n",
       "      <td>화장실</td>\n",
       "      <td>NaN</td>\n",
       "      <td>NaN</td>\n",
       "      <td>1973-03-02</td>\n",
       "      <td>경상북도 영양군청</td>\n",
       "      <td>054-680-6340</td>\n",
       "      <td>2019-09-05</td>\n",
       "      <td>5170000</td>\n",
       "      <td>경상북도 영양군</td>\n",
       "      <td>NaN</td>\n",
       "    </tr>\n",
       "    <tr>\n",
       "      <th>18134</th>\n",
       "      <td>47760-00003</td>\n",
       "      <td>입암공원</td>\n",
       "      <td>근린공원</td>\n",
       "      <td>NaN</td>\n",
       "      <td>경상북도 영양군 입암면 신구리 산27-5</td>\n",
       "      <td>36.594802</td>\n",
       "      <td>129.093007</td>\n",
       "      <td>109262.0</td>\n",
       "      <td>NaN</td>\n",
       "      <td>NaN</td>\n",
       "      <td>NaN</td>\n",
       "      <td>NaN</td>\n",
       "      <td>NaN</td>\n",
       "      <td>1977-06-29</td>\n",
       "      <td>경상북도 영양군청</td>\n",
       "      <td>054-680-6340</td>\n",
       "      <td>2019-09-05</td>\n",
       "      <td>5170000</td>\n",
       "      <td>경상북도 영양군</td>\n",
       "      <td>NaN</td>\n",
       "    </tr>\n",
       "    <tr>\n",
       "      <th>18135</th>\n",
       "      <td>47760-00004</td>\n",
       "      <td>수비공원</td>\n",
       "      <td>근린공원</td>\n",
       "      <td>NaN</td>\n",
       "      <td>경상북도 영양군 수비면 발리리 산48</td>\n",
       "      <td>36.761440</td>\n",
       "      <td>129.200011</td>\n",
       "      <td>67159.0</td>\n",
       "      <td>NaN</td>\n",
       "      <td>NaN</td>\n",
       "      <td>NaN</td>\n",
       "      <td>NaN</td>\n",
       "      <td>NaN</td>\n",
       "      <td>1978-02-14</td>\n",
       "      <td>경상북도 영양군청</td>\n",
       "      <td>054-680-6340</td>\n",
       "      <td>2019-09-05</td>\n",
       "      <td>5170000</td>\n",
       "      <td>경상북도 영양군</td>\n",
       "      <td>NaN</td>\n",
       "    </tr>\n",
       "    <tr>\n",
       "      <th>18136</th>\n",
       "      <td>47760-00005</td>\n",
       "      <td>삼지연꽃 테마파크</td>\n",
       "      <td>수변공원</td>\n",
       "      <td>NaN</td>\n",
       "      <td>경상북도 영양군 영양읍 삼지리 200</td>\n",
       "      <td>36.662816</td>\n",
       "      <td>129.129372</td>\n",
       "      <td>380000.0</td>\n",
       "      <td>NaN</td>\n",
       "      <td>NaN</td>\n",
       "      <td>화장실</td>\n",
       "      <td>NaN</td>\n",
       "      <td>체험장</td>\n",
       "      <td>2009-11-19</td>\n",
       "      <td>경상북도 영양군청</td>\n",
       "      <td>054-680-6340</td>\n",
       "      <td>2019-09-05</td>\n",
       "      <td>5170000</td>\n",
       "      <td>경상북도 영양군</td>\n",
       "      <td>NaN</td>\n",
       "    </tr>\n",
       "  </tbody>\n",
       "</table>\n",
       "<p>18137 rows × 20 columns</p>\n",
       "</div>"
      ],
      "text/plain": [
       "              관리번호        공원명   공원구분 소재지도로명주소                 소재지지번주소  \\\n",
       "0      26440-00001       구랑공원   문화공원      NaN    부산광역시 강서구 구랑동 1199-7   \n",
       "1      26440-00002       압곡공원   근린공원      NaN      부산광역시 강서구 구랑동 1219   \n",
       "2      26440-00003      서연정공원    소공원      NaN   부산광역시 강서구 대저1동 1330-7   \n",
       "3      26440-00004       용두공원  어린이공원      NaN  부산광역시 강서구 대저2동 1870-67   \n",
       "4      26440-00005      새동내공원  어린이공원      NaN   부산광역시 강서구 대저2동 2407-1   \n",
       "...            ...        ...    ...      ...                     ...   \n",
       "18132  28140-00009      송림4공원  어린이공원      NaN      인천광역시 동구 송림동 291-6   \n",
       "18133  47760-00002       서부공원   근린공원      NaN    경상북도 영양군 영양읍 서부리 123   \n",
       "18134  47760-00003       입암공원   근린공원      NaN  경상북도 영양군 입암면 신구리 산27-5   \n",
       "18135  47760-00004       수비공원   근린공원      NaN    경상북도 영양군 수비면 발리리 산48   \n",
       "18136  47760-00005  삼지연꽃 테마파크   수변공원      NaN    경상북도 영양군 영양읍 삼지리 200   \n",
       "\n",
       "              위도          경도      공원면적 공원보유시설(운동시설)         공원보유시설(유희시설)  \\\n",
       "0      35.157215  128.854935    9137.0            4                  NaN   \n",
       "1      35.154655  128.854727   33756.0            4                  NaN   \n",
       "2      35.216183  128.969558     646.0            7                  NaN   \n",
       "3      35.183679  128.956007    1620.0          NaN           조합놀이기구, 그네   \n",
       "4      35.174568  128.950612    1009.0            8  조합놀이기구, 그네, 흔들놀이기구2   \n",
       "...          ...         ...       ...          ...                  ...   \n",
       "18132  37.478715  126.653257     412.9          NaN                 야외무대   \n",
       "18133  36.660456  129.114953   56045.0          NaN                  NaN   \n",
       "18134  36.594802  129.093007  109262.0          NaN                  NaN   \n",
       "18135  36.761440  129.200011   67159.0          NaN                  NaN   \n",
       "18136  36.662816  129.129372  380000.0          NaN                  NaN   \n",
       "\n",
       "      공원보유시설(편익시설) 공원보유시설(교양시설)  \\\n",
       "0              화장실          NaN   \n",
       "1              NaN          NaN   \n",
       "2              NaN          NaN   \n",
       "3              NaN          NaN   \n",
       "4              NaN          NaN   \n",
       "...            ...          ...   \n",
       "18132          NaN          NaN   \n",
       "18133          화장실          NaN   \n",
       "18134          NaN          NaN   \n",
       "18135          NaN          NaN   \n",
       "18136          화장실          NaN   \n",
       "\n",
       "                                            공원보유시설(기타시설)       지정고시일  \\\n",
       "0      팔각정자, 파고라2, 평의자6, 앉음벽14.38m, 축구장(골대2), 컨테이너, 안...  2011-09-02   \n",
       "1      배드민턴장, 족구장, 파고라4, 안내판, 볼라드7, 데크435.11㎡, 데크계단19...  2008-02-28   \n",
       "2                앉음벽13.57m, 트렐리스3, 안내판2, 플랜트2, 파고라, 평의자4  2013-01-23   \n",
       "3                                          정자, 농구장, 평의자6  1998-07-25   \n",
       "4                             정자, 평의자14, 트렐리스2, 안내판, 볼라드  1995-04-07   \n",
       "...                                                  ...         ...   \n",
       "18132                                         조형파고라, 앉음벽  1998-07-20   \n",
       "18133                                                NaN  1973-03-02   \n",
       "18134                                                NaN  1977-06-29   \n",
       "18135                                                NaN  1978-02-14   \n",
       "18136                                                체험장  2009-11-19   \n",
       "\n",
       "                  관리기관명          전화번호     데이터기준일자   제공기관코드      제공기관명  \\\n",
       "0      부산광역시 강서구청 녹지공원과  051-970-4536  2019-05-02  3360000  부산광역시 강서구   \n",
       "1      부산광역시 강서구청 녹지공원과  051-970-4536  2019-05-02  3360000  부산광역시 강서구   \n",
       "2      부산광역시 강서구청 녹지공원과  051-970-4536  2019-05-02  3360000  부산광역시 강서구   \n",
       "3      부산광역시 강서구청 녹지공원과  051-970-4536  2019-05-02  3360000  부산광역시 강서구   \n",
       "4      부산광역시 강서구청 녹지공원과  051-970-4536  2019-05-02  3360000  부산광역시 강서구   \n",
       "...                 ...           ...         ...      ...        ...   \n",
       "18132         인천광역시 동구청  032-770-6205  2019-07-30  3500000   인천광역시 동구   \n",
       "18133         경상북도 영양군청  054-680-6340  2019-09-05  5170000   경상북도 영양군   \n",
       "18134         경상북도 영양군청  054-680-6340  2019-09-05  5170000   경상북도 영양군   \n",
       "18135         경상북도 영양군청  054-680-6340  2019-09-05  5170000   경상북도 영양군   \n",
       "18136         경상북도 영양군청  054-680-6340  2019-09-05  5170000   경상북도 영양군   \n",
       "\n",
       "       Unnamed: 19  \n",
       "0              NaN  \n",
       "1              NaN  \n",
       "2              NaN  \n",
       "3              NaN  \n",
       "4              NaN  \n",
       "...            ...  \n",
       "18132          NaN  \n",
       "18133          NaN  \n",
       "18134          NaN  \n",
       "18135          NaN  \n",
       "18136          NaN  \n",
       "\n",
       "[18137 rows x 20 columns]"
      ]
     },
     "execution_count": 25,
     "metadata": {},
     "output_type": "execute_result"
    }
   ],
   "source": [
    "df"
   ]
  },
  {
   "cell_type": "code",
   "execution_count": null,
   "id": "c7bc25af",
   "metadata": {},
   "outputs": [],
   "source": []
  },
  {
   "cell_type": "code",
   "execution_count": 27,
   "id": "b8dfc6db",
   "metadata": {},
   "outputs": [
    {
     "data": {
      "text/plain": [
       "0          부산광역시 강서구 구랑동 1199-7\n",
       "1            부산광역시 강서구 구랑동 1219\n",
       "2         부산광역시 강서구 대저1동 1330-7\n",
       "3        부산광역시 강서구 대저2동 1870-67\n",
       "4         부산광역시 강서구 대저2동 2407-1\n",
       "                  ...          \n",
       "18132        인천광역시 동구 송림동 291-6\n",
       "18133      경상북도 영양군 영양읍 서부리 123\n",
       "18134    경상북도 영양군 입암면 신구리 산27-5\n",
       "18135      경상북도 영양군 수비면 발리리 산48\n",
       "18136      경상북도 영양군 영양읍 삼지리 200\n",
       "Name: 소재지도로명주소, Length: 18137, dtype: object"
      ]
     },
     "execution_count": 27,
     "metadata": {},
     "output_type": "execute_result"
    }
   ],
   "source": [
    "df['소재지도로명주소'] = df['소재지지번주소'].fillna(df['소재지지번주소'])\n"
   ]
  },
  {
   "cell_type": "code",
   "execution_count": 28,
   "id": "6cdcd714",
   "metadata": {},
   "outputs": [
    {
     "data": {
      "text/plain": [
       "979"
      ]
     },
     "execution_count": 28,
     "metadata": {},
     "output_type": "execute_result"
    }
   ],
   "source": [
    "df['소재지도로명주소'].isna().sum()"
   ]
  },
  {
   "cell_type": "code",
   "execution_count": null,
   "id": "9c3e633b",
   "metadata": {},
   "outputs": [],
   "source": []
  }
 ],
 "metadata": {
  "kernelspec": {
   "display_name": "Python 3 (ipykernel)",
   "language": "python",
   "name": "python3"
  },
  "language_info": {
   "codemirror_mode": {
    "name": "ipython",
    "version": 3
   },
   "file_extension": ".py",
   "mimetype": "text/x-python",
   "name": "python",
   "nbconvert_exporter": "python",
   "pygments_lexer": "ipython3",
   "version": "3.9.7"
  }
 },
 "nbformat": 4,
 "nbformat_minor": 5
}
