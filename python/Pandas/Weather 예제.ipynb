{
 "cells": [
  {
   "cell_type": "code",
   "execution_count": 5,
   "id": "4a3e9659",
   "metadata": {},
   "outputs": [],
   "source": [
    "import pandas as pd\n",
    "import numpy as np"
   ]
  },
  {
   "cell_type": "code",
   "execution_count": 6,
   "id": "a1b39fa6",
   "metadata": {},
   "outputs": [
    {
     "data": {
      "text/html": [
       "<div>\n",
       "<style scoped>\n",
       "    .dataframe tbody tr th:only-of-type {\n",
       "        vertical-align: middle;\n",
       "    }\n",
       "\n",
       "    .dataframe tbody tr th {\n",
       "        vertical-align: top;\n",
       "    }\n",
       "\n",
       "    .dataframe thead th {\n",
       "        text-align: right;\n",
       "    }\n",
       "</style>\n",
       "<table border=\"1\" class=\"dataframe\">\n",
       "  <thead>\n",
       "    <tr style=\"text-align: right;\">\n",
       "      <th></th>\n",
       "      <th>\\t\\t지점번호</th>\n",
       "      <th>지점명</th>\n",
       "      <th>일시</th>\n",
       "      <th>평균기온(℃)</th>\n",
       "      <th>최고기온(℃)</th>\n",
       "      <th>\\t최고기온시각</th>\n",
       "      <th>최저기온(℃)</th>\n",
       "      <th>최저기온시각</th>\n",
       "    </tr>\n",
       "  </thead>\n",
       "  <tbody>\n",
       "    <tr>\n",
       "      <th>0</th>\n",
       "      <td>108</td>\n",
       "      <td>서울</td>\n",
       "      <td>1907-10-01</td>\n",
       "      <td>13.5</td>\n",
       "      <td>20.7</td>\n",
       "      <td>NaN</td>\n",
       "      <td>7.9</td>\n",
       "      <td>NaN</td>\n",
       "    </tr>\n",
       "    <tr>\n",
       "      <th>1</th>\n",
       "      <td>108</td>\n",
       "      <td>서울</td>\n",
       "      <td>1907-10-02</td>\n",
       "      <td>16.2</td>\n",
       "      <td>22.0</td>\n",
       "      <td>NaN</td>\n",
       "      <td>7.9</td>\n",
       "      <td>NaN</td>\n",
       "    </tr>\n",
       "  </tbody>\n",
       "</table>\n",
       "</div>"
      ],
      "text/plain": [
       "   \\t\\t지점번호 지점명          일시  평균기온(℃)  최고기온(℃) \\t최고기온시각  최저기온(℃) 최저기온시각\n",
       "0       108  서울  1907-10-01     13.5     20.7      NaN      7.9    NaN\n",
       "1       108  서울  1907-10-02     16.2     22.0      NaN      7.9    NaN"
      ]
     },
     "execution_count": 6,
     "metadata": {},
     "output_type": "execute_result"
    }
   ],
   "source": [
    "weather = pd.read_csv('./data/seoul_weather.csv', encoding = 'cp949', skiprows = 11)\n",
    "weather.head(2)"
   ]
  },
  {
   "cell_type": "code",
   "execution_count": 9,
   "id": "ca2a0fd7",
   "metadata": {},
   "outputs": [
    {
     "data": {
      "text/plain": [
       "39.6"
      ]
     },
     "execution_count": 9,
     "metadata": {},
     "output_type": "execute_result"
    }
   ],
   "source": [
    "# 역대 최고기온인 날의 날짜는?\n",
    "\n",
    "best = weather['최고기온(℃)']\n",
    "best.max()\n"
   ]
  },
  {
   "cell_type": "code",
   "execution_count": 10,
   "id": "f59bbd0b",
   "metadata": {},
   "outputs": [
    {
     "data": {
      "text/plain": [
       "40051    2018-08-01\n",
       "Name: 일시, dtype: object"
      ]
     },
     "execution_count": 10,
     "metadata": {},
     "output_type": "execute_result"
    }
   ],
   "source": [
    "weather[best == 39.6]['일시']"
   ]
  },
  {
   "cell_type": "code",
   "execution_count": 60,
   "id": "0738cc6b",
   "metadata": {},
   "outputs": [
    {
     "data": {
      "text/plain": [
       "\\t\\t지점번호           108\n",
       "지점명                 서울\n",
       "일시          2018-08-01\n",
       "평균기온(℃)           33.6\n",
       "최고기온(℃)           39.6\n",
       "\\t최고기온시각         15:36\n",
       "최저기온(℃)           27.8\n",
       "최저기온시각           05:56\n",
       "월                   08\n",
       "일교차               11.8\n",
       "Name: 40051, dtype: object"
      ]
     },
     "execution_count": 60,
     "metadata": {},
     "output_type": "execute_result"
    }
   ],
   "source": [
    "# <선생님 버전>\n",
    "\n",
    "weather.sort_values('최고기온(℃)', ascending = False).iloc[0]"
   ]
  },
  {
   "cell_type": "code",
   "execution_count": 22,
   "id": "d5dbff53",
   "metadata": {},
   "outputs": [],
   "source": [
    "# 일교차가 가장 큰 월은 언제인가?\n",
    "\n",
    "weather['월'] = weather['일시'].apply(lambda x : x.split('-')[1])\n"
   ]
  },
  {
   "cell_type": "code",
   "execution_count": 23,
   "id": "ceca9bfc",
   "metadata": {},
   "outputs": [
    {
     "data": {
      "text/plain": [
       "21.8"
      ]
     },
     "execution_count": 23,
     "metadata": {},
     "output_type": "execute_result"
    }
   ],
   "source": [
    "th = weather['최고기온(℃)'] - weather['최저기온(℃)']\n",
    "th.max()"
   ]
  },
  {
   "cell_type": "code",
   "execution_count": 24,
   "id": "013617ea",
   "metadata": {},
   "outputs": [
    {
     "data": {
      "text/plain": [
       "12619    04\n",
       "Name: 월, dtype: object"
      ]
     },
     "execution_count": 24,
     "metadata": {},
     "output_type": "execute_result"
    }
   ],
   "source": [
    "weather[th == 21.8]['월']"
   ]
  },
  {
   "cell_type": "code",
   "execution_count": 37,
   "id": "d0a8f6a2",
   "metadata": {
    "collapsed": true
   },
   "outputs": [
    {
     "data": {
      "text/html": [
       "<div>\n",
       "<style scoped>\n",
       "    .dataframe tbody tr th:only-of-type {\n",
       "        vertical-align: middle;\n",
       "    }\n",
       "\n",
       "    .dataframe tbody tr th {\n",
       "        vertical-align: top;\n",
       "    }\n",
       "\n",
       "    .dataframe thead th {\n",
       "        text-align: right;\n",
       "    }\n",
       "</style>\n",
       "<table border=\"1\" class=\"dataframe\">\n",
       "  <thead>\n",
       "    <tr style=\"text-align: right;\">\n",
       "      <th></th>\n",
       "      <th>\\t\\t지점번호</th>\n",
       "      <th>지점명</th>\n",
       "      <th>일시</th>\n",
       "      <th>평균기온(℃)</th>\n",
       "      <th>최고기온(℃)</th>\n",
       "      <th>\\t최고기온시각</th>\n",
       "      <th>최저기온(℃)</th>\n",
       "      <th>최저기온시각</th>\n",
       "      <th>월</th>\n",
       "      <th>일교차</th>\n",
       "    </tr>\n",
       "  </thead>\n",
       "  <tbody>\n",
       "    <tr>\n",
       "      <th>0</th>\n",
       "      <td>108</td>\n",
       "      <td>서울</td>\n",
       "      <td>1907-10-01</td>\n",
       "      <td>13.5</td>\n",
       "      <td>20.7</td>\n",
       "      <td>NaN</td>\n",
       "      <td>7.9</td>\n",
       "      <td>NaN</td>\n",
       "      <td>10</td>\n",
       "      <td>12.8</td>\n",
       "    </tr>\n",
       "    <tr>\n",
       "      <th>1</th>\n",
       "      <td>108</td>\n",
       "      <td>서울</td>\n",
       "      <td>1907-10-02</td>\n",
       "      <td>16.2</td>\n",
       "      <td>22.0</td>\n",
       "      <td>NaN</td>\n",
       "      <td>7.9</td>\n",
       "      <td>NaN</td>\n",
       "      <td>10</td>\n",
       "      <td>14.1</td>\n",
       "    </tr>\n",
       "    <tr>\n",
       "      <th>2</th>\n",
       "      <td>108</td>\n",
       "      <td>서울</td>\n",
       "      <td>1907-10-03</td>\n",
       "      <td>16.2</td>\n",
       "      <td>21.3</td>\n",
       "      <td>NaN</td>\n",
       "      <td>13.1</td>\n",
       "      <td>NaN</td>\n",
       "      <td>10</td>\n",
       "      <td>8.2</td>\n",
       "    </tr>\n",
       "    <tr>\n",
       "      <th>3</th>\n",
       "      <td>108</td>\n",
       "      <td>서울</td>\n",
       "      <td>1907-10-04</td>\n",
       "      <td>16.5</td>\n",
       "      <td>22.0</td>\n",
       "      <td>NaN</td>\n",
       "      <td>11.2</td>\n",
       "      <td>NaN</td>\n",
       "      <td>10</td>\n",
       "      <td>10.8</td>\n",
       "    </tr>\n",
       "    <tr>\n",
       "      <th>4</th>\n",
       "      <td>108</td>\n",
       "      <td>서울</td>\n",
       "      <td>1907-10-05</td>\n",
       "      <td>17.6</td>\n",
       "      <td>25.4</td>\n",
       "      <td>NaN</td>\n",
       "      <td>10.9</td>\n",
       "      <td>NaN</td>\n",
       "      <td>10</td>\n",
       "      <td>14.5</td>\n",
       "    </tr>\n",
       "    <tr>\n",
       "      <th>...</th>\n",
       "      <td>...</td>\n",
       "      <td>...</td>\n",
       "      <td>...</td>\n",
       "      <td>...</td>\n",
       "      <td>...</td>\n",
       "      <td>...</td>\n",
       "      <td>...</td>\n",
       "      <td>...</td>\n",
       "      <td>...</td>\n",
       "      <td>...</td>\n",
       "    </tr>\n",
       "    <tr>\n",
       "      <th>40483</th>\n",
       "      <td>108</td>\n",
       "      <td>서울</td>\n",
       "      <td>2019-10-07</td>\n",
       "      <td>14.8</td>\n",
       "      <td>17.9</td>\n",
       "      <td>00:01</td>\n",
       "      <td>13.3</td>\n",
       "      <td>23:09</td>\n",
       "      <td>10</td>\n",
       "      <td>4.6</td>\n",
       "    </tr>\n",
       "    <tr>\n",
       "      <th>40484</th>\n",
       "      <td>108</td>\n",
       "      <td>서울</td>\n",
       "      <td>2019-10-08</td>\n",
       "      <td>14.7</td>\n",
       "      <td>19.8</td>\n",
       "      <td>14:42</td>\n",
       "      <td>10.6</td>\n",
       "      <td>23:31</td>\n",
       "      <td>10</td>\n",
       "      <td>9.2</td>\n",
       "    </tr>\n",
       "    <tr>\n",
       "      <th>40485</th>\n",
       "      <td>108</td>\n",
       "      <td>서울</td>\n",
       "      <td>2019-10-09</td>\n",
       "      <td>13.6</td>\n",
       "      <td>20.4</td>\n",
       "      <td>14:41</td>\n",
       "      <td>7.7</td>\n",
       "      <td>07:04</td>\n",
       "      <td>10</td>\n",
       "      <td>12.7</td>\n",
       "    </tr>\n",
       "    <tr>\n",
       "      <th>40486</th>\n",
       "      <td>108</td>\n",
       "      <td>서울</td>\n",
       "      <td>2019-10-10</td>\n",
       "      <td>15.2</td>\n",
       "      <td>19.8</td>\n",
       "      <td>15:08</td>\n",
       "      <td>10.7</td>\n",
       "      <td>02:15</td>\n",
       "      <td>10</td>\n",
       "      <td>9.1</td>\n",
       "    </tr>\n",
       "    <tr>\n",
       "      <th>40487</th>\n",
       "      <td>108</td>\n",
       "      <td>서울</td>\n",
       "      <td>2019-10-11</td>\n",
       "      <td>18.8</td>\n",
       "      <td>26.1</td>\n",
       "      <td>15:48</td>\n",
       "      <td>13.0</td>\n",
       "      <td>06:59</td>\n",
       "      <td>10</td>\n",
       "      <td>13.1</td>\n",
       "    </tr>\n",
       "  </tbody>\n",
       "</table>\n",
       "<p>40488 rows × 10 columns</p>\n",
       "</div>"
      ],
      "text/plain": [
       "       \\t\\t지점번호 지점명          일시  평균기온(℃)  최고기온(℃) \\t최고기온시각  최저기온(℃) 최저기온시각  \\\n",
       "0           108  서울  1907-10-01     13.5     20.7      NaN      7.9    NaN   \n",
       "1           108  서울  1907-10-02     16.2     22.0      NaN      7.9    NaN   \n",
       "2           108  서울  1907-10-03     16.2     21.3      NaN     13.1    NaN   \n",
       "3           108  서울  1907-10-04     16.5     22.0      NaN     11.2    NaN   \n",
       "4           108  서울  1907-10-05     17.6     25.4      NaN     10.9    NaN   \n",
       "...         ...  ..         ...      ...      ...      ...      ...    ...   \n",
       "40483       108  서울  2019-10-07     14.8     17.9    00:01     13.3  23:09   \n",
       "40484       108  서울  2019-10-08     14.7     19.8    14:42     10.6  23:31   \n",
       "40485       108  서울  2019-10-09     13.6     20.4    14:41      7.7  07:04   \n",
       "40486       108  서울  2019-10-10     15.2     19.8    15:08     10.7  02:15   \n",
       "40487       108  서울  2019-10-11     18.8     26.1    15:48     13.0  06:59   \n",
       "\n",
       "        월   일교차  \n",
       "0      10  12.8  \n",
       "1      10  14.1  \n",
       "2      10   8.2  \n",
       "3      10  10.8  \n",
       "4      10  14.5  \n",
       "...    ..   ...  \n",
       "40483  10   4.6  \n",
       "40484  10   9.2  \n",
       "40485  10  12.7  \n",
       "40486  10   9.1  \n",
       "40487  10  13.1  \n",
       "\n",
       "[40488 rows x 10 columns]"
      ]
     },
     "execution_count": 37,
     "metadata": {},
     "output_type": "execute_result"
    }
   ],
   "source": [
    "# 월교차(월간 온도 분산)가 가장 큰 년도는?\n",
    "\n",
    "weather['일교차'] = th\n",
    "weather"
   ]
  },
  {
   "cell_type": "code",
   "execution_count": 55,
   "id": "6579c335",
   "metadata": {
    "collapsed": true
   },
   "outputs": [
    {
     "data": {
      "text/plain": [
       "월\n",
       "01    21.3\n",
       "02    17.7\n",
       "03    21.2\n",
       "04    21.8\n",
       "05    21.4\n",
       "06    21.0\n",
       "07    16.1\n",
       "08    17.2\n",
       "09    18.7\n",
       "10    21.2\n",
       "11    19.3\n",
       "12    19.7\n",
       "Name: 일교차, dtype: float64"
      ]
     },
     "execution_count": 55,
     "metadata": {},
     "output_type": "execute_result"
    }
   ],
   "source": [
    "dif = weather.groupby('월')['일교차'].max()\n",
    "dif"
   ]
  },
  {
   "cell_type": "code",
   "execution_count": 53,
   "id": "e110420f",
   "metadata": {},
   "outputs": [
    {
     "data": {
      "text/plain": [
       "12619    1942-04-19\n",
       "Name: 일시, dtype: object"
      ]
     },
     "execution_count": 53,
     "metadata": {},
     "output_type": "execute_result"
    }
   ],
   "source": [
    "weather[th == 21.8]['일시']"
   ]
  },
  {
   "cell_type": "code",
   "execution_count": 68,
   "id": "3a43ffa8",
   "metadata": {},
   "outputs": [
    {
     "data": {
      "text/plain": [
       "년\n",
       "1917    12.088418\n",
       "dtype: float64"
      ]
     },
     "execution_count": 68,
     "metadata": {},
     "output_type": "execute_result"
    }
   ],
   "source": [
    "# <선생님 버전>\n",
    "weather['년'] = weather['일시'].apply(lambda x : x.split('-')[0])\n",
    "weather.groupby(['년', '월'])['평균기온(℃)'].mean().unstack().std(axis = 1).sort_values(ascending = False).iloc[:1]\n"
   ]
  },
  {
   "cell_type": "code",
   "execution_count": 63,
   "id": "b259fc05",
   "metadata": {
    "collapsed": true
   },
   "outputs": [
    {
     "data": {
      "text/html": [
       "<div>\n",
       "<style scoped>\n",
       "    .dataframe tbody tr th:only-of-type {\n",
       "        vertical-align: middle;\n",
       "    }\n",
       "\n",
       "    .dataframe tbody tr th {\n",
       "        vertical-align: top;\n",
       "    }\n",
       "\n",
       "    .dataframe thead th {\n",
       "        text-align: right;\n",
       "    }\n",
       "</style>\n",
       "<table border=\"1\" class=\"dataframe\">\n",
       "  <thead>\n",
       "    <tr style=\"text-align: right;\">\n",
       "      <th></th>\n",
       "      <th>\\t\\t지점번호</th>\n",
       "      <th>지점명</th>\n",
       "      <th>일시</th>\n",
       "      <th>평균기온(℃)</th>\n",
       "      <th>최고기온(℃)</th>\n",
       "      <th>\\t최고기온시각</th>\n",
       "      <th>최저기온(℃)</th>\n",
       "      <th>최저기온시각</th>\n",
       "      <th>월</th>\n",
       "      <th>일교차</th>\n",
       "      <th>년</th>\n",
       "    </tr>\n",
       "  </thead>\n",
       "  <tbody>\n",
       "    <tr>\n",
       "      <th>0</th>\n",
       "      <td>108</td>\n",
       "      <td>서울</td>\n",
       "      <td>1907-10-01</td>\n",
       "      <td>13.5</td>\n",
       "      <td>20.7</td>\n",
       "      <td>NaN</td>\n",
       "      <td>7.9</td>\n",
       "      <td>NaN</td>\n",
       "      <td>10</td>\n",
       "      <td>12.8</td>\n",
       "      <td>1907</td>\n",
       "    </tr>\n",
       "    <tr>\n",
       "      <th>1</th>\n",
       "      <td>108</td>\n",
       "      <td>서울</td>\n",
       "      <td>1907-10-02</td>\n",
       "      <td>16.2</td>\n",
       "      <td>22.0</td>\n",
       "      <td>NaN</td>\n",
       "      <td>7.9</td>\n",
       "      <td>NaN</td>\n",
       "      <td>10</td>\n",
       "      <td>14.1</td>\n",
       "      <td>1907</td>\n",
       "    </tr>\n",
       "    <tr>\n",
       "      <th>2</th>\n",
       "      <td>108</td>\n",
       "      <td>서울</td>\n",
       "      <td>1907-10-03</td>\n",
       "      <td>16.2</td>\n",
       "      <td>21.3</td>\n",
       "      <td>NaN</td>\n",
       "      <td>13.1</td>\n",
       "      <td>NaN</td>\n",
       "      <td>10</td>\n",
       "      <td>8.2</td>\n",
       "      <td>1907</td>\n",
       "    </tr>\n",
       "    <tr>\n",
       "      <th>3</th>\n",
       "      <td>108</td>\n",
       "      <td>서울</td>\n",
       "      <td>1907-10-04</td>\n",
       "      <td>16.5</td>\n",
       "      <td>22.0</td>\n",
       "      <td>NaN</td>\n",
       "      <td>11.2</td>\n",
       "      <td>NaN</td>\n",
       "      <td>10</td>\n",
       "      <td>10.8</td>\n",
       "      <td>1907</td>\n",
       "    </tr>\n",
       "    <tr>\n",
       "      <th>4</th>\n",
       "      <td>108</td>\n",
       "      <td>서울</td>\n",
       "      <td>1907-10-05</td>\n",
       "      <td>17.6</td>\n",
       "      <td>25.4</td>\n",
       "      <td>NaN</td>\n",
       "      <td>10.9</td>\n",
       "      <td>NaN</td>\n",
       "      <td>10</td>\n",
       "      <td>14.5</td>\n",
       "      <td>1907</td>\n",
       "    </tr>\n",
       "    <tr>\n",
       "      <th>...</th>\n",
       "      <td>...</td>\n",
       "      <td>...</td>\n",
       "      <td>...</td>\n",
       "      <td>...</td>\n",
       "      <td>...</td>\n",
       "      <td>...</td>\n",
       "      <td>...</td>\n",
       "      <td>...</td>\n",
       "      <td>...</td>\n",
       "      <td>...</td>\n",
       "      <td>...</td>\n",
       "    </tr>\n",
       "    <tr>\n",
       "      <th>40483</th>\n",
       "      <td>108</td>\n",
       "      <td>서울</td>\n",
       "      <td>2019-10-07</td>\n",
       "      <td>14.8</td>\n",
       "      <td>17.9</td>\n",
       "      <td>00:01</td>\n",
       "      <td>13.3</td>\n",
       "      <td>23:09</td>\n",
       "      <td>10</td>\n",
       "      <td>4.6</td>\n",
       "      <td>2019</td>\n",
       "    </tr>\n",
       "    <tr>\n",
       "      <th>40484</th>\n",
       "      <td>108</td>\n",
       "      <td>서울</td>\n",
       "      <td>2019-10-08</td>\n",
       "      <td>14.7</td>\n",
       "      <td>19.8</td>\n",
       "      <td>14:42</td>\n",
       "      <td>10.6</td>\n",
       "      <td>23:31</td>\n",
       "      <td>10</td>\n",
       "      <td>9.2</td>\n",
       "      <td>2019</td>\n",
       "    </tr>\n",
       "    <tr>\n",
       "      <th>40485</th>\n",
       "      <td>108</td>\n",
       "      <td>서울</td>\n",
       "      <td>2019-10-09</td>\n",
       "      <td>13.6</td>\n",
       "      <td>20.4</td>\n",
       "      <td>14:41</td>\n",
       "      <td>7.7</td>\n",
       "      <td>07:04</td>\n",
       "      <td>10</td>\n",
       "      <td>12.7</td>\n",
       "      <td>2019</td>\n",
       "    </tr>\n",
       "    <tr>\n",
       "      <th>40486</th>\n",
       "      <td>108</td>\n",
       "      <td>서울</td>\n",
       "      <td>2019-10-10</td>\n",
       "      <td>15.2</td>\n",
       "      <td>19.8</td>\n",
       "      <td>15:08</td>\n",
       "      <td>10.7</td>\n",
       "      <td>02:15</td>\n",
       "      <td>10</td>\n",
       "      <td>9.1</td>\n",
       "      <td>2019</td>\n",
       "    </tr>\n",
       "    <tr>\n",
       "      <th>40487</th>\n",
       "      <td>108</td>\n",
       "      <td>서울</td>\n",
       "      <td>2019-10-11</td>\n",
       "      <td>18.8</td>\n",
       "      <td>26.1</td>\n",
       "      <td>15:48</td>\n",
       "      <td>13.0</td>\n",
       "      <td>06:59</td>\n",
       "      <td>10</td>\n",
       "      <td>13.1</td>\n",
       "      <td>2019</td>\n",
       "    </tr>\n",
       "  </tbody>\n",
       "</table>\n",
       "<p>40488 rows × 11 columns</p>\n",
       "</div>"
      ],
      "text/plain": [
       "       \\t\\t지점번호 지점명          일시  평균기온(℃)  최고기온(℃) \\t최고기온시각  최저기온(℃) 최저기온시각  \\\n",
       "0           108  서울  1907-10-01     13.5     20.7      NaN      7.9    NaN   \n",
       "1           108  서울  1907-10-02     16.2     22.0      NaN      7.9    NaN   \n",
       "2           108  서울  1907-10-03     16.2     21.3      NaN     13.1    NaN   \n",
       "3           108  서울  1907-10-04     16.5     22.0      NaN     11.2    NaN   \n",
       "4           108  서울  1907-10-05     17.6     25.4      NaN     10.9    NaN   \n",
       "...         ...  ..         ...      ...      ...      ...      ...    ...   \n",
       "40483       108  서울  2019-10-07     14.8     17.9    00:01     13.3  23:09   \n",
       "40484       108  서울  2019-10-08     14.7     19.8    14:42     10.6  23:31   \n",
       "40485       108  서울  2019-10-09     13.6     20.4    14:41      7.7  07:04   \n",
       "40486       108  서울  2019-10-10     15.2     19.8    15:08     10.7  02:15   \n",
       "40487       108  서울  2019-10-11     18.8     26.1    15:48     13.0  06:59   \n",
       "\n",
       "        월   일교차     년  \n",
       "0      10  12.8  1907  \n",
       "1      10  14.1  1907  \n",
       "2      10   8.2  1907  \n",
       "3      10  10.8  1907  \n",
       "4      10  14.5  1907  \n",
       "...    ..   ...   ...  \n",
       "40483  10   4.6  2019  \n",
       "40484  10   9.2  2019  \n",
       "40485  10  12.7  2019  \n",
       "40486  10   9.1  2019  \n",
       "40487  10  13.1  2019  \n",
       "\n",
       "[40488 rows x 11 columns]"
      ]
     },
     "execution_count": 63,
     "metadata": {},
     "output_type": "execute_result"
    }
   ],
   "source": [
    "weather"
   ]
  },
  {
   "cell_type": "code",
   "execution_count": null,
   "id": "b41acc14",
   "metadata": {},
   "outputs": [],
   "source": []
  }
 ],
 "metadata": {
  "kernelspec": {
   "display_name": "Python 3 (ipykernel)",
   "language": "python",
   "name": "python3"
  },
  "language_info": {
   "codemirror_mode": {
    "name": "ipython",
    "version": 3
   },
   "file_extension": ".py",
   "mimetype": "text/x-python",
   "name": "python",
   "nbconvert_exporter": "python",
   "pygments_lexer": "ipython3",
   "version": "3.9.7"
  }
 },
 "nbformat": 4,
 "nbformat_minor": 5
}
