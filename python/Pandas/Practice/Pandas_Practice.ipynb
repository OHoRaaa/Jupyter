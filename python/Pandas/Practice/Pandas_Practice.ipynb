{
 "cells": [
  {
   "cell_type": "code",
   "execution_count": 1,
   "id": "605d7b72",
   "metadata": {},
   "outputs": [],
   "source": [
    "import numpy as np\n",
    "import pandas as pd"
   ]
  },
  {
   "cell_type": "code",
   "execution_count": 2,
   "id": "c160a2b2",
   "metadata": {},
   "outputs": [
    {
     "data": {
      "text/plain": [
       "0    1\n",
       "1    2\n",
       "2    3\n",
       "3    4\n",
       "dtype: int64"
      ]
     },
     "execution_count": 2,
     "metadata": {},
     "output_type": "execute_result"
    }
   ],
   "source": [
    "L = [1, 2, 3, 4]\n",
    "s = pd.Series(L)\n",
    "s"
   ]
  },
  {
   "cell_type": "code",
   "execution_count": 4,
   "id": "b25334f9",
   "metadata": {},
   "outputs": [
    {
     "data": {
      "text/plain": [
       "a    1\n",
       "b    2\n",
       "c    3\n",
       "d    4\n",
       "dtype: int64"
      ]
     },
     "execution_count": 4,
     "metadata": {},
     "output_type": "execute_result"
    }
   ],
   "source": [
    "s = pd.Series(L, index = ['a', 'b', 'c', 'd'])\n",
    "s              "
   ]
  },
  {
   "cell_type": "code",
   "execution_count": 5,
   "id": "34d3aaeb",
   "metadata": {},
   "outputs": [
    {
     "data": {
      "text/plain": [
       "2"
      ]
     },
     "execution_count": 5,
     "metadata": {},
     "output_type": "execute_result"
    }
   ],
   "source": [
    "s['b']"
   ]
  },
  {
   "cell_type": "code",
   "execution_count": 6,
   "id": "d0163c73",
   "metadata": {},
   "outputs": [
    {
     "data": {
      "text/plain": [
       "1"
      ]
     },
     "execution_count": 6,
     "metadata": {},
     "output_type": "execute_result"
    }
   ],
   "source": [
    "s['a']"
   ]
  },
  {
   "cell_type": "code",
   "execution_count": 8,
   "id": "bf2139b6",
   "metadata": {},
   "outputs": [
    {
     "data": {
      "text/plain": [
       "a    1\n",
       "d    4\n",
       "dtype: int64"
      ]
     },
     "execution_count": 8,
     "metadata": {},
     "output_type": "execute_result"
    }
   ],
   "source": [
    "s[['a', 'd']]"
   ]
  },
  {
   "cell_type": "code",
   "execution_count": 9,
   "id": "ba7f0bfd",
   "metadata": {},
   "outputs": [
    {
     "data": {
      "text/plain": [
       "a    False\n",
       "b    False\n",
       "c     True\n",
       "d     True\n",
       "dtype: bool"
      ]
     },
     "execution_count": 9,
     "metadata": {},
     "output_type": "execute_result"
    }
   ],
   "source": [
    "s > 2"
   ]
  },
  {
   "cell_type": "code",
   "execution_count": 10,
   "id": "e00884ea",
   "metadata": {},
   "outputs": [
    {
     "data": {
      "text/plain": [
       "c    3\n",
       "d    4\n",
       "dtype: int64"
      ]
     },
     "execution_count": 10,
     "metadata": {},
     "output_type": "execute_result"
    }
   ],
   "source": [
    "s[s > 2]"
   ]
  },
  {
   "cell_type": "code",
   "execution_count": 14,
   "id": "5b546107",
   "metadata": {},
   "outputs": [
    {
     "data": {
      "text/plain": [
       "a    2\n",
       "b    4\n",
       "c    6\n",
       "d    8\n",
       "dtype: int64"
      ]
     },
     "execution_count": 14,
     "metadata": {},
     "output_type": "execute_result"
    }
   ],
   "source": [
    "s * 2\n"
   ]
  },
  {
   "cell_type": "code",
   "execution_count": 15,
   "id": "8058948d",
   "metadata": {},
   "outputs": [
    {
     "data": {
      "text/plain": [
       "True"
      ]
     },
     "execution_count": 15,
     "metadata": {},
     "output_type": "execute_result"
    }
   ],
   "source": [
    "'b' in s"
   ]
  },
  {
   "cell_type": "code",
   "execution_count": 16,
   "id": "f9bf1d72",
   "metadata": {},
   "outputs": [
    {
     "data": {
      "text/plain": [
       "Index(['a', 'b', 'c', 'd'], dtype='object')"
      ]
     },
     "execution_count": 16,
     "metadata": {},
     "output_type": "execute_result"
    }
   ],
   "source": [
    "s.index"
   ]
  },
  {
   "cell_type": "code",
   "execution_count": 17,
   "id": "33554dc0",
   "metadata": {},
   "outputs": [
    {
     "data": {
      "text/plain": [
       "array([1, 2, 3, 4], dtype=int64)"
      ]
     },
     "execution_count": 17,
     "metadata": {},
     "output_type": "execute_result"
    }
   ],
   "source": [
    "s.values"
   ]
  },
  {
   "cell_type": "code",
   "execution_count": 20,
   "id": "fbd68f4d",
   "metadata": {},
   "outputs": [
    {
     "data": {
      "text/plain": [
       "A    1\n",
       "B    2\n",
       "C    3\n",
       "D    4\n",
       "dtype: int64"
      ]
     },
     "execution_count": 20,
     "metadata": {},
     "output_type": "execute_result"
    }
   ],
   "source": [
    "s.index = ('A', 'B', 'C', 'D')\n",
    "s"
   ]
  },
  {
   "cell_type": "code",
   "execution_count": 26,
   "id": "97451679",
   "metadata": {},
   "outputs": [
    {
     "data": {
      "text/plain": [
       "{'밀짚모자': ['루피', '조로', '상디', '우솝'],\n",
       " '해군': ['거프', '키자루', '아카이누', '아오키지'],\n",
       " '칠무해': ['미호크', '쿠마', '모리아', '도플라밍고'],\n",
       " '흰수염': ['뉴게이트', '마르코', '죠즈', '에이스'],\n",
       " '혁명군': ['드래곤', '사보', '코니', '이반']}"
      ]
     },
     "execution_count": 26,
     "metadata": {},
     "output_type": "execute_result"
    }
   ],
   "source": [
    "One       = {'밀짚모자' : ['루피', '조로', '상디', '우솝'],\n",
    "             '해군' : ['거프', '키자루', '아카이누', '아오키지'],\n",
    "             '칠무해' : ['미호크', '쿠마', '모리아', '도플라밍고'],\n",
    "             '흰수염' : ['뉴게이트', '마르코', '죠즈', '에이스'],\n",
    "             '혁명군' : ['드래곤', '사보', '코니', '이반']}\n",
    "One"
   ]
  },
  {
   "cell_type": "code",
   "execution_count": 28,
   "id": "a752dcaf",
   "metadata": {},
   "outputs": [
    {
     "data": {
      "text/html": [
       "<div>\n",
       "<style scoped>\n",
       "    .dataframe tbody tr th:only-of-type {\n",
       "        vertical-align: middle;\n",
       "    }\n",
       "\n",
       "    .dataframe tbody tr th {\n",
       "        vertical-align: top;\n",
       "    }\n",
       "\n",
       "    .dataframe thead th {\n",
       "        text-align: right;\n",
       "    }\n",
       "</style>\n",
       "<table border=\"1\" class=\"dataframe\">\n",
       "  <thead>\n",
       "    <tr style=\"text-align: right;\">\n",
       "      <th></th>\n",
       "      <th>밀짚모자</th>\n",
       "      <th>해군</th>\n",
       "      <th>칠무해</th>\n",
       "      <th>흰수염</th>\n",
       "      <th>혁명군</th>\n",
       "    </tr>\n",
       "  </thead>\n",
       "  <tbody>\n",
       "    <tr>\n",
       "      <th>0</th>\n",
       "      <td>루피</td>\n",
       "      <td>거프</td>\n",
       "      <td>미호크</td>\n",
       "      <td>뉴게이트</td>\n",
       "      <td>드래곤</td>\n",
       "    </tr>\n",
       "    <tr>\n",
       "      <th>1</th>\n",
       "      <td>조로</td>\n",
       "      <td>키자루</td>\n",
       "      <td>쿠마</td>\n",
       "      <td>마르코</td>\n",
       "      <td>사보</td>\n",
       "    </tr>\n",
       "    <tr>\n",
       "      <th>2</th>\n",
       "      <td>상디</td>\n",
       "      <td>아카이누</td>\n",
       "      <td>모리아</td>\n",
       "      <td>죠즈</td>\n",
       "      <td>코니</td>\n",
       "    </tr>\n",
       "    <tr>\n",
       "      <th>3</th>\n",
       "      <td>우솝</td>\n",
       "      <td>아오키지</td>\n",
       "      <td>도플라밍고</td>\n",
       "      <td>에이스</td>\n",
       "      <td>이반</td>\n",
       "    </tr>\n",
       "  </tbody>\n",
       "</table>\n",
       "</div>"
      ],
      "text/plain": [
       "  밀짚모자    해군    칠무해   흰수염  혁명군\n",
       "0   루피    거프    미호크  뉴게이트  드래곤\n",
       "1   조로   키자루     쿠마   마르코   사보\n",
       "2   상디  아카이누    모리아    죠즈   코니\n",
       "3   우솝  아오키지  도플라밍고   에이스   이반"
      ]
     },
     "execution_count": 28,
     "metadata": {},
     "output_type": "execute_result"
    }
   ],
   "source": [
    "OnePiece = pd.DataFrame(One)\n",
    "OnePiece"
   ]
  },
  {
   "cell_type": "code",
   "execution_count": 29,
   "id": "0c000dc4",
   "metadata": {},
   "outputs": [
    {
     "data": {
      "text/html": [
       "<div>\n",
       "<style scoped>\n",
       "    .dataframe tbody tr th:only-of-type {\n",
       "        vertical-align: middle;\n",
       "    }\n",
       "\n",
       "    .dataframe tbody tr th {\n",
       "        vertical-align: top;\n",
       "    }\n",
       "\n",
       "    .dataframe thead th {\n",
       "        text-align: right;\n",
       "    }\n",
       "</style>\n",
       "<table border=\"1\" class=\"dataframe\">\n",
       "  <thead>\n",
       "    <tr style=\"text-align: right;\">\n",
       "      <th></th>\n",
       "      <th>밀짚모자</th>\n",
       "      <th>해군</th>\n",
       "      <th>칠무해</th>\n",
       "      <th>흰수염</th>\n",
       "      <th>혁명군</th>\n",
       "    </tr>\n",
       "  </thead>\n",
       "  <tbody>\n",
       "    <tr>\n",
       "      <th>0</th>\n",
       "      <td>루피</td>\n",
       "      <td>거프</td>\n",
       "      <td>미호크</td>\n",
       "      <td>뉴게이트</td>\n",
       "      <td>드래곤</td>\n",
       "    </tr>\n",
       "    <tr>\n",
       "      <th>1</th>\n",
       "      <td>조로</td>\n",
       "      <td>키자루</td>\n",
       "      <td>쿠마</td>\n",
       "      <td>마르코</td>\n",
       "      <td>사보</td>\n",
       "    </tr>\n",
       "    <tr>\n",
       "      <th>2</th>\n",
       "      <td>상디</td>\n",
       "      <td>아카이누</td>\n",
       "      <td>모리아</td>\n",
       "      <td>죠즈</td>\n",
       "      <td>코니</td>\n",
       "    </tr>\n",
       "  </tbody>\n",
       "</table>\n",
       "</div>"
      ],
      "text/plain": [
       "  밀짚모자    해군  칠무해   흰수염  혁명군\n",
       "0   루피    거프  미호크  뉴게이트  드래곤\n",
       "1   조로   키자루   쿠마   마르코   사보\n",
       "2   상디  아카이누  모리아    죠즈   코니"
      ]
     },
     "execution_count": 29,
     "metadata": {},
     "output_type": "execute_result"
    }
   ],
   "source": [
    "OnePiece.head(3)"
   ]
  },
  {
   "cell_type": "code",
   "execution_count": 30,
   "id": "e3065791",
   "metadata": {},
   "outputs": [
    {
     "data": {
      "text/plain": [
       "0      거프\n",
       "1     키자루\n",
       "2    아카이누\n",
       "3    아오키지\n",
       "Name: 해군, dtype: object"
      ]
     },
     "execution_count": 30,
     "metadata": {},
     "output_type": "execute_result"
    }
   ],
   "source": [
    "OnePiece['해군']"
   ]
  },
  {
   "cell_type": "code",
   "execution_count": 33,
   "id": "bec33cb0",
   "metadata": {},
   "outputs": [
    {
     "data": {
      "text/html": [
       "<div>\n",
       "<style scoped>\n",
       "    .dataframe tbody tr th:only-of-type {\n",
       "        vertical-align: middle;\n",
       "    }\n",
       "\n",
       "    .dataframe tbody tr th {\n",
       "        vertical-align: top;\n",
       "    }\n",
       "\n",
       "    .dataframe thead th {\n",
       "        text-align: right;\n",
       "    }\n",
       "</style>\n",
       "<table border=\"1\" class=\"dataframe\">\n",
       "  <thead>\n",
       "    <tr style=\"text-align: right;\">\n",
       "      <th></th>\n",
       "      <th>칠무해</th>\n",
       "      <th>혁명군</th>\n",
       "    </tr>\n",
       "  </thead>\n",
       "  <tbody>\n",
       "    <tr>\n",
       "      <th>0</th>\n",
       "      <td>미호크</td>\n",
       "      <td>드래곤</td>\n",
       "    </tr>\n",
       "    <tr>\n",
       "      <th>1</th>\n",
       "      <td>쿠마</td>\n",
       "      <td>사보</td>\n",
       "    </tr>\n",
       "    <tr>\n",
       "      <th>2</th>\n",
       "      <td>모리아</td>\n",
       "      <td>코니</td>\n",
       "    </tr>\n",
       "    <tr>\n",
       "      <th>3</th>\n",
       "      <td>도플라밍고</td>\n",
       "      <td>이반</td>\n",
       "    </tr>\n",
       "  </tbody>\n",
       "</table>\n",
       "</div>"
      ],
      "text/plain": [
       "     칠무해  혁명군\n",
       "0    미호크  드래곤\n",
       "1     쿠마   사보\n",
       "2    모리아   코니\n",
       "3  도플라밍고   이반"
      ]
     },
     "execution_count": 33,
     "metadata": {},
     "output_type": "execute_result"
    }
   ],
   "source": [
    "OnePiece[['칠무해', '혁명군']]"
   ]
  },
  {
   "cell_type": "code",
   "execution_count": 34,
   "id": "71a3e3f0",
   "metadata": {},
   "outputs": [
    {
     "data": {
      "text/plain": [
       "RangeIndex(start=0, stop=4, step=1)"
      ]
     },
     "execution_count": 34,
     "metadata": {},
     "output_type": "execute_result"
    }
   ],
   "source": [
    "OnePiece.index"
   ]
  },
  {
   "cell_type": "code",
   "execution_count": 35,
   "id": "652cbf2e",
   "metadata": {},
   "outputs": [
    {
     "data": {
      "text/plain": [
       "Index(['밀짚모자', '해군', '칠무해', '흰수염', '혁명군'], dtype='object')"
      ]
     },
     "execution_count": 35,
     "metadata": {},
     "output_type": "execute_result"
    }
   ],
   "source": [
    "OnePiece.columns"
   ]
  },
  {
   "cell_type": "code",
   "execution_count": 36,
   "id": "77ca71bb",
   "metadata": {},
   "outputs": [
    {
     "data": {
      "text/plain": [
       "array([['루피', '거프', '미호크', '뉴게이트', '드래곤'],\n",
       "       ['조로', '키자루', '쿠마', '마르코', '사보'],\n",
       "       ['상디', '아카이누', '모리아', '죠즈', '코니'],\n",
       "       ['우솝', '아오키지', '도플라밍고', '에이스', '이반']], dtype=object)"
      ]
     },
     "execution_count": 36,
     "metadata": {},
     "output_type": "execute_result"
    }
   ],
   "source": [
    "OnePiece.values"
   ]
  },
  {
   "cell_type": "code",
   "execution_count": 37,
   "id": "3abe0a50",
   "metadata": {},
   "outputs": [],
   "source": [
    "OnePiece.index = ['A', 'B', 'C', 'D']"
   ]
  },
  {
   "cell_type": "code",
   "execution_count": 38,
   "id": "ec595c0a",
   "metadata": {},
   "outputs": [
    {
     "data": {
      "text/html": [
       "<div>\n",
       "<style scoped>\n",
       "    .dataframe tbody tr th:only-of-type {\n",
       "        vertical-align: middle;\n",
       "    }\n",
       "\n",
       "    .dataframe tbody tr th {\n",
       "        vertical-align: top;\n",
       "    }\n",
       "\n",
       "    .dataframe thead th {\n",
       "        text-align: right;\n",
       "    }\n",
       "</style>\n",
       "<table border=\"1\" class=\"dataframe\">\n",
       "  <thead>\n",
       "    <tr style=\"text-align: right;\">\n",
       "      <th></th>\n",
       "      <th>밀짚모자</th>\n",
       "      <th>해군</th>\n",
       "      <th>칠무해</th>\n",
       "      <th>흰수염</th>\n",
       "      <th>혁명군</th>\n",
       "    </tr>\n",
       "  </thead>\n",
       "  <tbody>\n",
       "    <tr>\n",
       "      <th>A</th>\n",
       "      <td>루피</td>\n",
       "      <td>거프</td>\n",
       "      <td>미호크</td>\n",
       "      <td>뉴게이트</td>\n",
       "      <td>드래곤</td>\n",
       "    </tr>\n",
       "    <tr>\n",
       "      <th>B</th>\n",
       "      <td>조로</td>\n",
       "      <td>키자루</td>\n",
       "      <td>쿠마</td>\n",
       "      <td>마르코</td>\n",
       "      <td>사보</td>\n",
       "    </tr>\n",
       "    <tr>\n",
       "      <th>C</th>\n",
       "      <td>상디</td>\n",
       "      <td>아카이누</td>\n",
       "      <td>모리아</td>\n",
       "      <td>죠즈</td>\n",
       "      <td>코니</td>\n",
       "    </tr>\n",
       "    <tr>\n",
       "      <th>D</th>\n",
       "      <td>우솝</td>\n",
       "      <td>아오키지</td>\n",
       "      <td>도플라밍고</td>\n",
       "      <td>에이스</td>\n",
       "      <td>이반</td>\n",
       "    </tr>\n",
       "  </tbody>\n",
       "</table>\n",
       "</div>"
      ],
      "text/plain": [
       "  밀짚모자    해군    칠무해   흰수염  혁명군\n",
       "A   루피    거프    미호크  뉴게이트  드래곤\n",
       "B   조로   키자루     쿠마   마르코   사보\n",
       "C   상디  아카이누    모리아    죠즈   코니\n",
       "D   우솝  아오키지  도플라밍고   에이스   이반"
      ]
     },
     "execution_count": 38,
     "metadata": {},
     "output_type": "execute_result"
    }
   ],
   "source": [
    "OnePiece"
   ]
  },
  {
   "cell_type": "code",
   "execution_count": 42,
   "id": "ceea6810",
   "metadata": {},
   "outputs": [
    {
     "data": {
      "text/plain": [
       "밀짚모자      상디\n",
       "해군      아카이누\n",
       "칠무해      모리아\n",
       "흰수염       죠즈\n",
       "혁명군       코니\n",
       "Name: C, dtype: object"
      ]
     },
     "execution_count": 42,
     "metadata": {},
     "output_type": "execute_result"
    }
   ],
   "source": [
    "OnePiece.loc['C']"
   ]
  },
  {
   "cell_type": "code",
   "execution_count": 45,
   "id": "63a4196b",
   "metadata": {},
   "outputs": [
    {
     "data": {
      "text/plain": [
       "밀짚모자     조로\n",
       "해군      키자루\n",
       "칠무해      쿠마\n",
       "흰수염     마르코\n",
       "혁명군      사보\n",
       "Name: B, dtype: object"
      ]
     },
     "execution_count": 45,
     "metadata": {},
     "output_type": "execute_result"
    }
   ],
   "source": [
    "OnePiece.iloc[1]"
   ]
  },
  {
   "cell_type": "code",
   "execution_count": 46,
   "id": "7a9866cf",
   "metadata": {},
   "outputs": [
    {
     "data": {
      "text/html": [
       "<div>\n",
       "<style scoped>\n",
       "    .dataframe tbody tr th:only-of-type {\n",
       "        vertical-align: middle;\n",
       "    }\n",
       "\n",
       "    .dataframe tbody tr th {\n",
       "        vertical-align: top;\n",
       "    }\n",
       "\n",
       "    .dataframe thead th {\n",
       "        text-align: right;\n",
       "    }\n",
       "</style>\n",
       "<table border=\"1\" class=\"dataframe\">\n",
       "  <thead>\n",
       "    <tr style=\"text-align: right;\">\n",
       "      <th></th>\n",
       "      <th>밀짚모자</th>\n",
       "      <th>해군</th>\n",
       "      <th>칠무해</th>\n",
       "      <th>흰수염</th>\n",
       "      <th>혁명군</th>\n",
       "    </tr>\n",
       "  </thead>\n",
       "  <tbody>\n",
       "    <tr>\n",
       "      <th>C</th>\n",
       "      <td>상디</td>\n",
       "      <td>아카이누</td>\n",
       "      <td>모리아</td>\n",
       "      <td>죠즈</td>\n",
       "      <td>코니</td>\n",
       "    </tr>\n",
       "    <tr>\n",
       "      <th>D</th>\n",
       "      <td>우솝</td>\n",
       "      <td>아오키지</td>\n",
       "      <td>도플라밍고</td>\n",
       "      <td>에이스</td>\n",
       "      <td>이반</td>\n",
       "    </tr>\n",
       "  </tbody>\n",
       "</table>\n",
       "</div>"
      ],
      "text/plain": [
       "  밀짚모자    해군    칠무해  흰수염 혁명군\n",
       "C   상디  아카이누    모리아   죠즈  코니\n",
       "D   우솝  아오키지  도플라밍고  에이스  이반"
      ]
     },
     "execution_count": 46,
     "metadata": {},
     "output_type": "execute_result"
    }
   ],
   "source": [
    "OnePiece.iloc[2:]"
   ]
  },
  {
   "cell_type": "code",
   "execution_count": 47,
   "id": "631a93a4",
   "metadata": {},
   "outputs": [
    {
     "data": {
      "text/html": [
       "<div>\n",
       "<style scoped>\n",
       "    .dataframe tbody tr th:only-of-type {\n",
       "        vertical-align: middle;\n",
       "    }\n",
       "\n",
       "    .dataframe tbody tr th {\n",
       "        vertical-align: top;\n",
       "    }\n",
       "\n",
       "    .dataframe thead th {\n",
       "        text-align: right;\n",
       "    }\n",
       "</style>\n",
       "<table border=\"1\" class=\"dataframe\">\n",
       "  <thead>\n",
       "    <tr style=\"text-align: right;\">\n",
       "      <th></th>\n",
       "      <th>밀짚모자</th>\n",
       "      <th>해군</th>\n",
       "      <th>칠무해</th>\n",
       "      <th>흰수염</th>\n",
       "      <th>혁명군</th>\n",
       "    </tr>\n",
       "  </thead>\n",
       "  <tbody>\n",
       "    <tr>\n",
       "      <th>A</th>\n",
       "      <td>루피</td>\n",
       "      <td>거프</td>\n",
       "      <td>미호크</td>\n",
       "      <td>뉴게이트</td>\n",
       "      <td>드래곤</td>\n",
       "    </tr>\n",
       "    <tr>\n",
       "      <th>B</th>\n",
       "      <td>조로</td>\n",
       "      <td>키자루</td>\n",
       "      <td>쿠마</td>\n",
       "      <td>마르코</td>\n",
       "      <td>사보</td>\n",
       "    </tr>\n",
       "    <tr>\n",
       "      <th>C</th>\n",
       "      <td>상디</td>\n",
       "      <td>아카이누</td>\n",
       "      <td>모리아</td>\n",
       "      <td>죠즈</td>\n",
       "      <td>코니</td>\n",
       "    </tr>\n",
       "    <tr>\n",
       "      <th>D</th>\n",
       "      <td>우솝</td>\n",
       "      <td>아오키지</td>\n",
       "      <td>도플라밍고</td>\n",
       "      <td>에이스</td>\n",
       "      <td>이반</td>\n",
       "    </tr>\n",
       "  </tbody>\n",
       "</table>\n",
       "</div>"
      ],
      "text/plain": [
       "  밀짚모자    해군    칠무해   흰수염  혁명군\n",
       "A   루피    거프    미호크  뉴게이트  드래곤\n",
       "B   조로   키자루     쿠마   마르코   사보\n",
       "C   상디  아카이누    모리아    죠즈   코니\n",
       "D   우솝  아오키지  도플라밍고   에이스   이반"
      ]
     },
     "execution_count": 47,
     "metadata": {},
     "output_type": "execute_result"
    }
   ],
   "source": [
    "OnePiece.loc['A':]"
   ]
  },
  {
   "cell_type": "code",
   "execution_count": 48,
   "id": "0b323864",
   "metadata": {},
   "outputs": [
    {
     "data": {
      "text/html": [
       "<div>\n",
       "<style scoped>\n",
       "    .dataframe tbody tr th:only-of-type {\n",
       "        vertical-align: middle;\n",
       "    }\n",
       "\n",
       "    .dataframe tbody tr th {\n",
       "        vertical-align: top;\n",
       "    }\n",
       "\n",
       "    .dataframe thead th {\n",
       "        text-align: right;\n",
       "    }\n",
       "</style>\n",
       "<table border=\"1\" class=\"dataframe\">\n",
       "  <thead>\n",
       "    <tr style=\"text-align: right;\">\n",
       "      <th></th>\n",
       "      <th>밀짚모자</th>\n",
       "      <th>해군</th>\n",
       "      <th>칠무해</th>\n",
       "      <th>흰수염</th>\n",
       "      <th>혁명군</th>\n",
       "    </tr>\n",
       "  </thead>\n",
       "  <tbody>\n",
       "    <tr>\n",
       "      <th>A</th>\n",
       "      <td>루피</td>\n",
       "      <td>거프</td>\n",
       "      <td>미호크</td>\n",
       "      <td>뉴게이트</td>\n",
       "      <td>드래곤</td>\n",
       "    </tr>\n",
       "    <tr>\n",
       "      <th>D</th>\n",
       "      <td>우솝</td>\n",
       "      <td>아오키지</td>\n",
       "      <td>도플라밍고</td>\n",
       "      <td>에이스</td>\n",
       "      <td>이반</td>\n",
       "    </tr>\n",
       "  </tbody>\n",
       "</table>\n",
       "</div>"
      ],
      "text/plain": [
       "  밀짚모자    해군    칠무해   흰수염  혁명군\n",
       "A   루피    거프    미호크  뉴게이트  드래곤\n",
       "D   우솝  아오키지  도플라밍고   에이스   이반"
      ]
     },
     "execution_count": 48,
     "metadata": {},
     "output_type": "execute_result"
    }
   ],
   "source": [
    "OnePiece.loc[['A', 'D']]"
   ]
  },
  {
   "cell_type": "code",
   "execution_count": 49,
   "id": "819fdb31",
   "metadata": {},
   "outputs": [
    {
     "data": {
      "text/plain": [
       "'사보'"
      ]
     },
     "execution_count": 49,
     "metadata": {},
     "output_type": "execute_result"
    }
   ],
   "source": [
    "OnePiece.loc['B', '혁명군']"
   ]
  },
  {
   "cell_type": "code",
   "execution_count": 50,
   "id": "aeb2129a",
   "metadata": {},
   "outputs": [
    {
     "data": {
      "text/plain": [
       "'죠즈'"
      ]
     },
     "execution_count": 50,
     "metadata": {},
     "output_type": "execute_result"
    }
   ],
   "source": [
    "OnePiece.iloc[2, 3]"
   ]
  },
  {
   "cell_type": "code",
   "execution_count": 52,
   "id": "d6566bf5",
   "metadata": {},
   "outputs": [
    {
     "data": {
      "text/html": [
       "<div>\n",
       "<style scoped>\n",
       "    .dataframe tbody tr th:only-of-type {\n",
       "        vertical-align: middle;\n",
       "    }\n",
       "\n",
       "    .dataframe tbody tr th {\n",
       "        vertical-align: top;\n",
       "    }\n",
       "\n",
       "    .dataframe thead th {\n",
       "        text-align: right;\n",
       "    }\n",
       "</style>\n",
       "<table border=\"1\" class=\"dataframe\">\n",
       "  <thead>\n",
       "    <tr style=\"text-align: right;\">\n",
       "      <th></th>\n",
       "      <th>해군</th>\n",
       "      <th>칠무해</th>\n",
       "      <th>흰수염</th>\n",
       "    </tr>\n",
       "  </thead>\n",
       "  <tbody>\n",
       "    <tr>\n",
       "      <th>B</th>\n",
       "      <td>키자루</td>\n",
       "      <td>쿠마</td>\n",
       "      <td>마르코</td>\n",
       "    </tr>\n",
       "    <tr>\n",
       "      <th>C</th>\n",
       "      <td>아카이누</td>\n",
       "      <td>모리아</td>\n",
       "      <td>죠즈</td>\n",
       "    </tr>\n",
       "    <tr>\n",
       "      <th>D</th>\n",
       "      <td>아오키지</td>\n",
       "      <td>도플라밍고</td>\n",
       "      <td>에이스</td>\n",
       "    </tr>\n",
       "  </tbody>\n",
       "</table>\n",
       "</div>"
      ],
      "text/plain": [
       "     해군    칠무해  흰수염\n",
       "B   키자루     쿠마  마르코\n",
       "C  아카이누    모리아   죠즈\n",
       "D  아오키지  도플라밍고  에이스"
      ]
     },
     "execution_count": 52,
     "metadata": {},
     "output_type": "execute_result"
    }
   ],
   "source": [
    "OnePiece.loc['B':, '해군':'흰수염']"
   ]
  },
  {
   "cell_type": "code",
   "execution_count": 53,
   "id": "f225c42d",
   "metadata": {},
   "outputs": [
    {
     "data": {
      "text/plain": [
       "B    사보\n",
       "C    코니\n",
       "D    이반\n",
       "Name: 혁명군, dtype: object"
      ]
     },
     "execution_count": 53,
     "metadata": {},
     "output_type": "execute_result"
    }
   ],
   "source": [
    "OnePiece.loc['B':, '혁명군']"
   ]
  },
  {
   "cell_type": "code",
   "execution_count": 56,
   "id": "8b745f14",
   "metadata": {},
   "outputs": [
    {
     "data": {
      "text/html": [
       "<div>\n",
       "<style scoped>\n",
       "    .dataframe tbody tr th:only-of-type {\n",
       "        vertical-align: middle;\n",
       "    }\n",
       "\n",
       "    .dataframe tbody tr th {\n",
       "        vertical-align: top;\n",
       "    }\n",
       "\n",
       "    .dataframe thead th {\n",
       "        text-align: right;\n",
       "    }\n",
       "</style>\n",
       "<table border=\"1\" class=\"dataframe\">\n",
       "  <thead>\n",
       "    <tr style=\"text-align: right;\">\n",
       "      <th></th>\n",
       "      <th>밀짚모자</th>\n",
       "      <th>해군</th>\n",
       "      <th>칠무해</th>\n",
       "      <th>흰수염</th>\n",
       "      <th>혁명군</th>\n",
       "    </tr>\n",
       "  </thead>\n",
       "  <tbody>\n",
       "    <tr>\n",
       "      <th>A</th>\n",
       "      <td>루피</td>\n",
       "      <td>거프</td>\n",
       "      <td>미호크</td>\n",
       "      <td>뉴게이트</td>\n",
       "      <td>드래곤</td>\n",
       "    </tr>\n",
       "    <tr>\n",
       "      <th>C</th>\n",
       "      <td>상디</td>\n",
       "      <td>아카이누</td>\n",
       "      <td>모리아</td>\n",
       "      <td>죠즈</td>\n",
       "      <td>코니</td>\n",
       "    </tr>\n",
       "  </tbody>\n",
       "</table>\n",
       "</div>"
      ],
      "text/plain": [
       "  밀짚모자    해군  칠무해   흰수염  혁명군\n",
       "A   루피    거프  미호크  뉴게이트  드래곤\n",
       "C   상디  아카이누  모리아    죠즈   코니"
      ]
     },
     "execution_count": 56,
     "metadata": {},
     "output_type": "execute_result"
    }
   ],
   "source": [
    "OnePiece.iloc[0:3:2]"
   ]
  },
  {
   "cell_type": "code",
   "execution_count": 61,
   "id": "a78bff96",
   "metadata": {},
   "outputs": [
    {
     "data": {
      "text/html": [
       "<div>\n",
       "<style scoped>\n",
       "    .dataframe tbody tr th:only-of-type {\n",
       "        vertical-align: middle;\n",
       "    }\n",
       "\n",
       "    .dataframe tbody tr th {\n",
       "        vertical-align: top;\n",
       "    }\n",
       "\n",
       "    .dataframe thead th {\n",
       "        text-align: right;\n",
       "    }\n",
       "</style>\n",
       "<table border=\"1\" class=\"dataframe\">\n",
       "  <thead>\n",
       "    <tr style=\"text-align: right;\">\n",
       "      <th></th>\n",
       "      <th>밀짚모자</th>\n",
       "      <th>해군</th>\n",
       "      <th>칠무해</th>\n",
       "      <th>흰수염</th>\n",
       "      <th>혁명군</th>\n",
       "    </tr>\n",
       "  </thead>\n",
       "  <tbody>\n",
       "    <tr>\n",
       "      <th>B</th>\n",
       "      <td>조로</td>\n",
       "      <td>키자루</td>\n",
       "      <td>쿠마</td>\n",
       "      <td>마르코</td>\n",
       "      <td>사보</td>\n",
       "    </tr>\n",
       "  </tbody>\n",
       "</table>\n",
       "</div>"
      ],
      "text/plain": [
       "  밀짚모자   해군 칠무해  흰수염 혁명군\n",
       "B   조로  키자루  쿠마  마르코  사보"
      ]
     },
     "execution_count": 61,
     "metadata": {},
     "output_type": "execute_result"
    }
   ],
   "source": [
    "OnePiece.loc[OnePiece['혁명군'] == '사보']"
   ]
  },
  {
   "cell_type": "code",
   "execution_count": 62,
   "id": "0246ce2b",
   "metadata": {},
   "outputs": [
    {
     "data": {
      "text/html": [
       "<div>\n",
       "<style scoped>\n",
       "    .dataframe tbody tr th:only-of-type {\n",
       "        vertical-align: middle;\n",
       "    }\n",
       "\n",
       "    .dataframe tbody tr th {\n",
       "        vertical-align: top;\n",
       "    }\n",
       "\n",
       "    .dataframe thead th {\n",
       "        text-align: right;\n",
       "    }\n",
       "</style>\n",
       "<table border=\"1\" class=\"dataframe\">\n",
       "  <thead>\n",
       "    <tr style=\"text-align: right;\">\n",
       "      <th></th>\n",
       "      <th>밀짚모자</th>\n",
       "      <th>해군</th>\n",
       "      <th>칠무해</th>\n",
       "      <th>흰수염</th>\n",
       "      <th>혁명군</th>\n",
       "      <th>가</th>\n",
       "    </tr>\n",
       "  </thead>\n",
       "  <tbody>\n",
       "    <tr>\n",
       "      <th>A</th>\n",
       "      <td>루피</td>\n",
       "      <td>거프</td>\n",
       "      <td>미호크</td>\n",
       "      <td>뉴게이트</td>\n",
       "      <td>드래곤</td>\n",
       "      <td>나</td>\n",
       "    </tr>\n",
       "    <tr>\n",
       "      <th>B</th>\n",
       "      <td>조로</td>\n",
       "      <td>키자루</td>\n",
       "      <td>쿠마</td>\n",
       "      <td>마르코</td>\n",
       "      <td>사보</td>\n",
       "      <td>다</td>\n",
       "    </tr>\n",
       "    <tr>\n",
       "      <th>C</th>\n",
       "      <td>상디</td>\n",
       "      <td>아카이누</td>\n",
       "      <td>모리아</td>\n",
       "      <td>죠즈</td>\n",
       "      <td>코니</td>\n",
       "      <td>라</td>\n",
       "    </tr>\n",
       "    <tr>\n",
       "      <th>D</th>\n",
       "      <td>우솝</td>\n",
       "      <td>아오키지</td>\n",
       "      <td>도플라밍고</td>\n",
       "      <td>에이스</td>\n",
       "      <td>이반</td>\n",
       "      <td>마</td>\n",
       "    </tr>\n",
       "  </tbody>\n",
       "</table>\n",
       "</div>"
      ],
      "text/plain": [
       "  밀짚모자    해군    칠무해   흰수염  혁명군  가\n",
       "A   루피    거프    미호크  뉴게이트  드래곤  나\n",
       "B   조로   키자루     쿠마   마르코   사보  다\n",
       "C   상디  아카이누    모리아    죠즈   코니  라\n",
       "D   우솝  아오키지  도플라밍고   에이스   이반  마"
      ]
     },
     "execution_count": 62,
     "metadata": {},
     "output_type": "execute_result"
    }
   ],
   "source": [
    "OnePiece['가'] = ['나', '다', '라', '마']\n",
    "OnePiece"
   ]
  },
  {
   "cell_type": "code",
   "execution_count": 63,
   "id": "13d57784",
   "metadata": {},
   "outputs": [
    {
     "data": {
      "text/html": [
       "<div>\n",
       "<style scoped>\n",
       "    .dataframe tbody tr th:only-of-type {\n",
       "        vertical-align: middle;\n",
       "    }\n",
       "\n",
       "    .dataframe tbody tr th {\n",
       "        vertical-align: top;\n",
       "    }\n",
       "\n",
       "    .dataframe thead th {\n",
       "        text-align: right;\n",
       "    }\n",
       "</style>\n",
       "<table border=\"1\" class=\"dataframe\">\n",
       "  <thead>\n",
       "    <tr style=\"text-align: right;\">\n",
       "      <th></th>\n",
       "      <th>밀짚모자</th>\n",
       "      <th>해군</th>\n",
       "      <th>칠무해</th>\n",
       "      <th>흰수염</th>\n",
       "      <th>혁명군</th>\n",
       "      <th>CP9</th>\n",
       "    </tr>\n",
       "  </thead>\n",
       "  <tbody>\n",
       "    <tr>\n",
       "      <th>A</th>\n",
       "      <td>루피</td>\n",
       "      <td>거프</td>\n",
       "      <td>미호크</td>\n",
       "      <td>뉴게이트</td>\n",
       "      <td>드래곤</td>\n",
       "      <td>나</td>\n",
       "    </tr>\n",
       "    <tr>\n",
       "      <th>B</th>\n",
       "      <td>조로</td>\n",
       "      <td>키자루</td>\n",
       "      <td>쿠마</td>\n",
       "      <td>마르코</td>\n",
       "      <td>사보</td>\n",
       "      <td>다</td>\n",
       "    </tr>\n",
       "    <tr>\n",
       "      <th>C</th>\n",
       "      <td>상디</td>\n",
       "      <td>아카이누</td>\n",
       "      <td>모리아</td>\n",
       "      <td>죠즈</td>\n",
       "      <td>코니</td>\n",
       "      <td>라</td>\n",
       "    </tr>\n",
       "    <tr>\n",
       "      <th>D</th>\n",
       "      <td>우솝</td>\n",
       "      <td>아오키지</td>\n",
       "      <td>도플라밍고</td>\n",
       "      <td>에이스</td>\n",
       "      <td>이반</td>\n",
       "      <td>마</td>\n",
       "    </tr>\n",
       "  </tbody>\n",
       "</table>\n",
       "</div>"
      ],
      "text/plain": [
       "  밀짚모자    해군    칠무해   흰수염  혁명군 CP9\n",
       "A   루피    거프    미호크  뉴게이트  드래곤   나\n",
       "B   조로   키자루     쿠마   마르코   사보   다\n",
       "C   상디  아카이누    모리아    죠즈   코니   라\n",
       "D   우솝  아오키지  도플라밍고   에이스   이반   마"
      ]
     },
     "execution_count": 63,
     "metadata": {},
     "output_type": "execute_result"
    }
   ],
   "source": [
    "OnePiece.rename(columns = {'가' : 'CP9'}, inplace = True)\n",
    "OnePiece"
   ]
  },
  {
   "cell_type": "code",
   "execution_count": 64,
   "id": "ca710dba",
   "metadata": {},
   "outputs": [
    {
     "data": {
      "text/html": [
       "<div>\n",
       "<style scoped>\n",
       "    .dataframe tbody tr th:only-of-type {\n",
       "        vertical-align: middle;\n",
       "    }\n",
       "\n",
       "    .dataframe tbody tr th {\n",
       "        vertical-align: top;\n",
       "    }\n",
       "\n",
       "    .dataframe thead th {\n",
       "        text-align: right;\n",
       "    }\n",
       "</style>\n",
       "<table border=\"1\" class=\"dataframe\">\n",
       "  <thead>\n",
       "    <tr style=\"text-align: right;\">\n",
       "      <th></th>\n",
       "      <th>밀짚모자</th>\n",
       "      <th>해군</th>\n",
       "      <th>칠무해</th>\n",
       "      <th>흰수염</th>\n",
       "      <th>혁명군</th>\n",
       "    </tr>\n",
       "  </thead>\n",
       "  <tbody>\n",
       "    <tr>\n",
       "      <th>A</th>\n",
       "      <td>루피</td>\n",
       "      <td>거프</td>\n",
       "      <td>미호크</td>\n",
       "      <td>뉴게이트</td>\n",
       "      <td>드래곤</td>\n",
       "    </tr>\n",
       "    <tr>\n",
       "      <th>B</th>\n",
       "      <td>조로</td>\n",
       "      <td>키자루</td>\n",
       "      <td>쿠마</td>\n",
       "      <td>마르코</td>\n",
       "      <td>사보</td>\n",
       "    </tr>\n",
       "    <tr>\n",
       "      <th>C</th>\n",
       "      <td>상디</td>\n",
       "      <td>아카이누</td>\n",
       "      <td>모리아</td>\n",
       "      <td>죠즈</td>\n",
       "      <td>코니</td>\n",
       "    </tr>\n",
       "    <tr>\n",
       "      <th>D</th>\n",
       "      <td>우솝</td>\n",
       "      <td>아오키지</td>\n",
       "      <td>도플라밍고</td>\n",
       "      <td>에이스</td>\n",
       "      <td>이반</td>\n",
       "    </tr>\n",
       "  </tbody>\n",
       "</table>\n",
       "</div>"
      ],
      "text/plain": [
       "  밀짚모자    해군    칠무해   흰수염  혁명군\n",
       "A   루피    거프    미호크  뉴게이트  드래곤\n",
       "B   조로   키자루     쿠마   마르코   사보\n",
       "C   상디  아카이누    모리아    죠즈   코니\n",
       "D   우솝  아오키지  도플라밍고   에이스   이반"
      ]
     },
     "execution_count": 64,
     "metadata": {},
     "output_type": "execute_result"
    }
   ],
   "source": [
    "OnePiece.drop('CP9', axis = 1, inplace = True)\n",
    "OnePiece"
   ]
  },
  {
   "cell_type": "code",
   "execution_count": 65,
   "id": "25810151",
   "metadata": {},
   "outputs": [
    {
     "data": {
      "text/html": [
       "<div>\n",
       "<style scoped>\n",
       "    .dataframe tbody tr th:only-of-type {\n",
       "        vertical-align: middle;\n",
       "    }\n",
       "\n",
       "    .dataframe tbody tr th {\n",
       "        vertical-align: top;\n",
       "    }\n",
       "\n",
       "    .dataframe thead th {\n",
       "        text-align: right;\n",
       "    }\n",
       "</style>\n",
       "<table border=\"1\" class=\"dataframe\">\n",
       "  <thead>\n",
       "    <tr style=\"text-align: right;\">\n",
       "      <th></th>\n",
       "      <th>밀짚모자</th>\n",
       "      <th>해군</th>\n",
       "      <th>칠무해</th>\n",
       "      <th>흰수염</th>\n",
       "      <th>혁명군</th>\n",
       "    </tr>\n",
       "  </thead>\n",
       "  <tbody>\n",
       "    <tr>\n",
       "      <th>A</th>\n",
       "      <td>루피</td>\n",
       "      <td>거프</td>\n",
       "      <td>미호크</td>\n",
       "      <td>뉴게이트</td>\n",
       "      <td>드래곤</td>\n",
       "    </tr>\n",
       "    <tr>\n",
       "      <th>C</th>\n",
       "      <td>상디</td>\n",
       "      <td>아카이누</td>\n",
       "      <td>모리아</td>\n",
       "      <td>죠즈</td>\n",
       "      <td>코니</td>\n",
       "    </tr>\n",
       "    <tr>\n",
       "      <th>D</th>\n",
       "      <td>우솝</td>\n",
       "      <td>아오키지</td>\n",
       "      <td>도플라밍고</td>\n",
       "      <td>에이스</td>\n",
       "      <td>이반</td>\n",
       "    </tr>\n",
       "  </tbody>\n",
       "</table>\n",
       "</div>"
      ],
      "text/plain": [
       "  밀짚모자    해군    칠무해   흰수염  혁명군\n",
       "A   루피    거프    미호크  뉴게이트  드래곤\n",
       "C   상디  아카이누    모리아    죠즈   코니\n",
       "D   우솝  아오키지  도플라밍고   에이스   이반"
      ]
     },
     "execution_count": 65,
     "metadata": {},
     "output_type": "execute_result"
    }
   ],
   "source": [
    "OnePiece.drop('B')"
   ]
  },
  {
   "cell_type": "code",
   "execution_count": null,
   "id": "673c491f",
   "metadata": {},
   "outputs": [],
   "source": []
  }
 ],
 "metadata": {
  "kernelspec": {
   "display_name": "Python 3 (ipykernel)",
   "language": "python",
   "name": "python3"
  },
  "language_info": {
   "codemirror_mode": {
    "name": "ipython",
    "version": 3
   },
   "file_extension": ".py",
   "mimetype": "text/x-python",
   "name": "python",
   "nbconvert_exporter": "python",
   "pygments_lexer": "ipython3",
   "version": "3.9.7"
  }
 },
 "nbformat": 4,
 "nbformat_minor": 5
}
