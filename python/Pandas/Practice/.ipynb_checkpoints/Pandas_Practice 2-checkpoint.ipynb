{
 "cells": [
  {
   "cell_type": "code",
   "execution_count": 1,
   "id": "169a4ed3",
   "metadata": {},
   "outputs": [],
   "source": [
    "import numpy as np\n",
    "import pandas as pd"
   ]
  },
  {
   "cell_type": "code",
   "execution_count": 6,
   "id": "8268473b",
   "metadata": {},
   "outputs": [
    {
     "data": {
      "text/plain": [
       "a    1\n",
       "b    2\n",
       "c    3\n",
       "d    4\n",
       "e    5\n",
       "dtype: int64"
      ]
     },
     "execution_count": 6,
     "metadata": {},
     "output_type": "execute_result"
    }
   ],
   "source": [
    "L = [1,2,3,4,5]\n",
    "P = pd.Series(L, index = ['a', 'b', 'c', 'd', 'e'])\n",
    "P"
   ]
  },
  {
   "cell_type": "code",
   "execution_count": 7,
   "id": "c76aef6a",
   "metadata": {},
   "outputs": [
    {
     "data": {
      "text/plain": [
       "5"
      ]
     },
     "execution_count": 7,
     "metadata": {},
     "output_type": "execute_result"
    }
   ],
   "source": [
    "P['e']"
   ]
  },
  {
   "cell_type": "code",
   "execution_count": 8,
   "id": "c6f9dec5",
   "metadata": {},
   "outputs": [
    {
     "data": {
      "text/plain": [
       "a    1\n",
       "c    3\n",
       "dtype: int64"
      ]
     },
     "execution_count": 8,
     "metadata": {},
     "output_type": "execute_result"
    }
   ],
   "source": [
    "P[['a', 'c']]"
   ]
  },
  {
   "cell_type": "code",
   "execution_count": 9,
   "id": "bcc935d2",
   "metadata": {},
   "outputs": [
    {
     "data": {
      "text/plain": [
       "Index(['a', 'b', 'c', 'd', 'e'], dtype='object')"
      ]
     },
     "execution_count": 9,
     "metadata": {},
     "output_type": "execute_result"
    }
   ],
   "source": [
    "P.index"
   ]
  },
  {
   "cell_type": "code",
   "execution_count": 10,
   "id": "dc29aaf1",
   "metadata": {},
   "outputs": [
    {
     "data": {
      "text/plain": [
       "array([1, 2, 3, 4, 5], dtype=int64)"
      ]
     },
     "execution_count": 10,
     "metadata": {},
     "output_type": "execute_result"
    }
   ],
   "source": [
    "P.values"
   ]
  },
  {
   "cell_type": "code",
   "execution_count": 11,
   "id": "85d91d19",
   "metadata": {},
   "outputs": [],
   "source": [
    "charcter = {'name':['나루토', '가아라', '킬러비', '하쿠', '데이다라'],\n",
    "            'town':['나뭇잎', '모래', '구름', '안개', '바위'],\n",
    "            'age':[15,15,38,13,19],\n",
    "            'skill':['나선환','사박궤','미수옥','빙결','폭탄']\n",
    "}"
   ]
  },
  {
   "cell_type": "code",
   "execution_count": 13,
   "id": "4efc1879",
   "metadata": {},
   "outputs": [
    {
     "data": {
      "text/html": [
       "<div>\n",
       "<style scoped>\n",
       "    .dataframe tbody tr th:only-of-type {\n",
       "        vertical-align: middle;\n",
       "    }\n",
       "\n",
       "    .dataframe tbody tr th {\n",
       "        vertical-align: top;\n",
       "    }\n",
       "\n",
       "    .dataframe thead th {\n",
       "        text-align: right;\n",
       "    }\n",
       "</style>\n",
       "<table border=\"1\" class=\"dataframe\">\n",
       "  <thead>\n",
       "    <tr style=\"text-align: right;\">\n",
       "      <th></th>\n",
       "      <th>name</th>\n",
       "      <th>town</th>\n",
       "      <th>age</th>\n",
       "      <th>skill</th>\n",
       "    </tr>\n",
       "  </thead>\n",
       "  <tbody>\n",
       "    <tr>\n",
       "      <th>0</th>\n",
       "      <td>나루토</td>\n",
       "      <td>나뭇잎</td>\n",
       "      <td>15</td>\n",
       "      <td>나선환</td>\n",
       "    </tr>\n",
       "    <tr>\n",
       "      <th>1</th>\n",
       "      <td>가아라</td>\n",
       "      <td>모래</td>\n",
       "      <td>15</td>\n",
       "      <td>사박궤</td>\n",
       "    </tr>\n",
       "    <tr>\n",
       "      <th>2</th>\n",
       "      <td>킬러비</td>\n",
       "      <td>구름</td>\n",
       "      <td>38</td>\n",
       "      <td>미수옥</td>\n",
       "    </tr>\n",
       "    <tr>\n",
       "      <th>3</th>\n",
       "      <td>하쿠</td>\n",
       "      <td>안개</td>\n",
       "      <td>13</td>\n",
       "      <td>빙결</td>\n",
       "    </tr>\n",
       "    <tr>\n",
       "      <th>4</th>\n",
       "      <td>데이다라</td>\n",
       "      <td>바위</td>\n",
       "      <td>19</td>\n",
       "      <td>폭탄</td>\n",
       "    </tr>\n",
       "  </tbody>\n",
       "</table>\n",
       "</div>"
      ],
      "text/plain": [
       "   name town  age skill\n",
       "0   나루토  나뭇잎   15   나선환\n",
       "1   가아라   모래   15   사박궤\n",
       "2   킬러비   구름   38   미수옥\n",
       "3    하쿠   안개   13    빙결\n",
       "4  데이다라   바위   19    폭탄"
      ]
     },
     "execution_count": 13,
     "metadata": {},
     "output_type": "execute_result"
    }
   ],
   "source": [
    "ninja = pd.DataFrame(charcter)\n",
    "ninja"
   ]
  },
  {
   "cell_type": "code",
   "execution_count": 29,
   "id": "2684cdf0",
   "metadata": {},
   "outputs": [
    {
     "data": {
      "text/html": [
       "<div>\n",
       "<style scoped>\n",
       "    .dataframe tbody tr th:only-of-type {\n",
       "        vertical-align: middle;\n",
       "    }\n",
       "\n",
       "    .dataframe tbody tr th {\n",
       "        vertical-align: top;\n",
       "    }\n",
       "\n",
       "    .dataframe thead th {\n",
       "        text-align: right;\n",
       "    }\n",
       "</style>\n",
       "<table border=\"1\" class=\"dataframe\">\n",
       "  <thead>\n",
       "    <tr style=\"text-align: right;\">\n",
       "      <th></th>\n",
       "      <th>name</th>\n",
       "      <th>town</th>\n",
       "      <th>age</th>\n",
       "      <th>skill</th>\n",
       "    </tr>\n",
       "  </thead>\n",
       "  <tbody>\n",
       "    <tr>\n",
       "      <th>A</th>\n",
       "      <td>나루토</td>\n",
       "      <td>나뭇잎</td>\n",
       "      <td>15</td>\n",
       "      <td>나선환</td>\n",
       "    </tr>\n",
       "    <tr>\n",
       "      <th>B</th>\n",
       "      <td>가아라</td>\n",
       "      <td>모래</td>\n",
       "      <td>15</td>\n",
       "      <td>사박궤</td>\n",
       "    </tr>\n",
       "    <tr>\n",
       "      <th>C</th>\n",
       "      <td>킬러비</td>\n",
       "      <td>구름</td>\n",
       "      <td>38</td>\n",
       "      <td>미수옥</td>\n",
       "    </tr>\n",
       "    <tr>\n",
       "      <th>D</th>\n",
       "      <td>하쿠</td>\n",
       "      <td>안개</td>\n",
       "      <td>13</td>\n",
       "      <td>빙결</td>\n",
       "    </tr>\n",
       "    <tr>\n",
       "      <th>E</th>\n",
       "      <td>데이다라</td>\n",
       "      <td>바위</td>\n",
       "      <td>19</td>\n",
       "      <td>폭탄</td>\n",
       "    </tr>\n",
       "  </tbody>\n",
       "</table>\n",
       "</div>"
      ],
      "text/plain": [
       "   name town  age skill\n",
       "A   나루토  나뭇잎   15   나선환\n",
       "B   가아라   모래   15   사박궤\n",
       "C   킬러비   구름   38   미수옥\n",
       "D    하쿠   안개   13    빙결\n",
       "E  데이다라   바위   19    폭탄"
      ]
     },
     "execution_count": 29,
     "metadata": {},
     "output_type": "execute_result"
    }
   ],
   "source": [
    "ninja.index = ['A', 'B', 'C', 'D', 'E']\n",
    "ninja"
   ]
  },
  {
   "cell_type": "code",
   "execution_count": 30,
   "id": "6525993a",
   "metadata": {},
   "outputs": [
    {
     "data": {
      "text/plain": [
       "name     킬러비\n",
       "town      구름\n",
       "age       38\n",
       "skill    미수옥\n",
       "Name: C, dtype: object"
      ]
     },
     "execution_count": 30,
     "metadata": {},
     "output_type": "execute_result"
    }
   ],
   "source": [
    "ninja.loc['C']"
   ]
  },
  {
   "cell_type": "code",
   "execution_count": 31,
   "id": "edceee61",
   "metadata": {},
   "outputs": [
    {
     "data": {
      "text/plain": [
       "name     데이다라\n",
       "town       바위\n",
       "age        19\n",
       "skill      폭탄\n",
       "Name: E, dtype: object"
      ]
     },
     "execution_count": 31,
     "metadata": {},
     "output_type": "execute_result"
    }
   ],
   "source": [
    "ninja.iloc[4]"
   ]
  },
  {
   "cell_type": "code",
   "execution_count": 33,
   "id": "7e6d02e7",
   "metadata": {},
   "outputs": [
    {
     "data": {
      "text/html": [
       "<div>\n",
       "<style scoped>\n",
       "    .dataframe tbody tr th:only-of-type {\n",
       "        vertical-align: middle;\n",
       "    }\n",
       "\n",
       "    .dataframe tbody tr th {\n",
       "        vertical-align: top;\n",
       "    }\n",
       "\n",
       "    .dataframe thead th {\n",
       "        text-align: right;\n",
       "    }\n",
       "</style>\n",
       "<table border=\"1\" class=\"dataframe\">\n",
       "  <thead>\n",
       "    <tr style=\"text-align: right;\">\n",
       "      <th></th>\n",
       "      <th>name</th>\n",
       "      <th>town</th>\n",
       "      <th>age</th>\n",
       "      <th>skill</th>\n",
       "    </tr>\n",
       "  </thead>\n",
       "  <tbody>\n",
       "    <tr>\n",
       "      <th>B</th>\n",
       "      <td>가아라</td>\n",
       "      <td>모래</td>\n",
       "      <td>15</td>\n",
       "      <td>사박궤</td>\n",
       "    </tr>\n",
       "    <tr>\n",
       "      <th>D</th>\n",
       "      <td>하쿠</td>\n",
       "      <td>안개</td>\n",
       "      <td>13</td>\n",
       "      <td>빙결</td>\n",
       "    </tr>\n",
       "    <tr>\n",
       "      <th>E</th>\n",
       "      <td>데이다라</td>\n",
       "      <td>바위</td>\n",
       "      <td>19</td>\n",
       "      <td>폭탄</td>\n",
       "    </tr>\n",
       "  </tbody>\n",
       "</table>\n",
       "</div>"
      ],
      "text/plain": [
       "   name town  age skill\n",
       "B   가아라   모래   15   사박궤\n",
       "D    하쿠   안개   13    빙결\n",
       "E  데이다라   바위   19    폭탄"
      ]
     },
     "execution_count": 33,
     "metadata": {},
     "output_type": "execute_result"
    }
   ],
   "source": [
    "ninja.loc[['B', 'D', 'E']]"
   ]
  },
  {
   "cell_type": "code",
   "execution_count": 34,
   "id": "4e235e47",
   "metadata": {},
   "outputs": [
    {
     "data": {
      "text/html": [
       "<div>\n",
       "<style scoped>\n",
       "    .dataframe tbody tr th:only-of-type {\n",
       "        vertical-align: middle;\n",
       "    }\n",
       "\n",
       "    .dataframe tbody tr th {\n",
       "        vertical-align: top;\n",
       "    }\n",
       "\n",
       "    .dataframe thead th {\n",
       "        text-align: right;\n",
       "    }\n",
       "</style>\n",
       "<table border=\"1\" class=\"dataframe\">\n",
       "  <thead>\n",
       "    <tr style=\"text-align: right;\">\n",
       "      <th></th>\n",
       "      <th>name</th>\n",
       "      <th>town</th>\n",
       "      <th>age</th>\n",
       "      <th>skill</th>\n",
       "    </tr>\n",
       "  </thead>\n",
       "  <tbody>\n",
       "    <tr>\n",
       "      <th>C</th>\n",
       "      <td>킬러비</td>\n",
       "      <td>구름</td>\n",
       "      <td>38</td>\n",
       "      <td>미수옥</td>\n",
       "    </tr>\n",
       "    <tr>\n",
       "      <th>D</th>\n",
       "      <td>하쿠</td>\n",
       "      <td>안개</td>\n",
       "      <td>13</td>\n",
       "      <td>빙결</td>\n",
       "    </tr>\n",
       "  </tbody>\n",
       "</table>\n",
       "</div>"
      ],
      "text/plain": [
       "  name town  age skill\n",
       "C  킬러비   구름   38   미수옥\n",
       "D   하쿠   안개   13    빙결"
      ]
     },
     "execution_count": 34,
     "metadata": {},
     "output_type": "execute_result"
    }
   ],
   "source": [
    "ninja.iloc[2:4]"
   ]
  },
  {
   "cell_type": "code",
   "execution_count": 42,
   "id": "f4764809",
   "metadata": {},
   "outputs": [
    {
     "data": {
      "text/html": [
       "<div>\n",
       "<style scoped>\n",
       "    .dataframe tbody tr th:only-of-type {\n",
       "        vertical-align: middle;\n",
       "    }\n",
       "\n",
       "    .dataframe tbody tr th {\n",
       "        vertical-align: top;\n",
       "    }\n",
       "\n",
       "    .dataframe thead th {\n",
       "        text-align: right;\n",
       "    }\n",
       "</style>\n",
       "<table border=\"1\" class=\"dataframe\">\n",
       "  <thead>\n",
       "    <tr style=\"text-align: right;\">\n",
       "      <th></th>\n",
       "      <th>name</th>\n",
       "      <th>town</th>\n",
       "      <th>age</th>\n",
       "    </tr>\n",
       "  </thead>\n",
       "  <tbody>\n",
       "    <tr>\n",
       "      <th>A</th>\n",
       "      <td>나루토</td>\n",
       "      <td>나뭇잎</td>\n",
       "      <td>15</td>\n",
       "    </tr>\n",
       "    <tr>\n",
       "      <th>D</th>\n",
       "      <td>하쿠</td>\n",
       "      <td>안개</td>\n",
       "      <td>13</td>\n",
       "    </tr>\n",
       "  </tbody>\n",
       "</table>\n",
       "</div>"
      ],
      "text/plain": [
       "  name town  age\n",
       "A  나루토  나뭇잎   15\n",
       "D   하쿠   안개   13"
      ]
     },
     "execution_count": 42,
     "metadata": {},
     "output_type": "execute_result"
    }
   ],
   "source": [
    "ninja.loc[['A', 'D'], 'name':'age']"
   ]
  },
  {
   "cell_type": "code",
   "execution_count": 47,
   "id": "5a36871b",
   "metadata": {},
   "outputs": [
    {
     "data": {
      "text/html": [
       "<div>\n",
       "<style scoped>\n",
       "    .dataframe tbody tr th:only-of-type {\n",
       "        vertical-align: middle;\n",
       "    }\n",
       "\n",
       "    .dataframe tbody tr th {\n",
       "        vertical-align: top;\n",
       "    }\n",
       "\n",
       "    .dataframe thead th {\n",
       "        text-align: right;\n",
       "    }\n",
       "</style>\n",
       "<table border=\"1\" class=\"dataframe\">\n",
       "  <thead>\n",
       "    <tr style=\"text-align: right;\">\n",
       "      <th></th>\n",
       "      <th>town</th>\n",
       "      <th>age</th>\n",
       "    </tr>\n",
       "  </thead>\n",
       "  <tbody>\n",
       "    <tr>\n",
       "      <th>C</th>\n",
       "      <td>구름</td>\n",
       "      <td>38</td>\n",
       "    </tr>\n",
       "    <tr>\n",
       "      <th>E</th>\n",
       "      <td>바위</td>\n",
       "      <td>19</td>\n",
       "    </tr>\n",
       "  </tbody>\n",
       "</table>\n",
       "</div>"
      ],
      "text/plain": [
       "  town  age\n",
       "C   구름   38\n",
       "E   바위   19"
      ]
     },
     "execution_count": 47,
     "metadata": {},
     "output_type": "execute_result"
    }
   ],
   "source": [
    "ninja.iloc[[2,4], 1:3]"
   ]
  },
  {
   "cell_type": "code",
   "execution_count": 48,
   "id": "4284539c",
   "metadata": {},
   "outputs": [
    {
     "data": {
      "text/html": [
       "<div>\n",
       "<style scoped>\n",
       "    .dataframe tbody tr th:only-of-type {\n",
       "        vertical-align: middle;\n",
       "    }\n",
       "\n",
       "    .dataframe tbody tr th {\n",
       "        vertical-align: top;\n",
       "    }\n",
       "\n",
       "    .dataframe thead th {\n",
       "        text-align: right;\n",
       "    }\n",
       "</style>\n",
       "<table border=\"1\" class=\"dataframe\">\n",
       "  <thead>\n",
       "    <tr style=\"text-align: right;\">\n",
       "      <th></th>\n",
       "      <th>name</th>\n",
       "      <th>town</th>\n",
       "      <th>age</th>\n",
       "      <th>skill</th>\n",
       "    </tr>\n",
       "  </thead>\n",
       "  <tbody>\n",
       "    <tr>\n",
       "      <th>A</th>\n",
       "      <td>나루토</td>\n",
       "      <td>나뭇잎</td>\n",
       "      <td>15</td>\n",
       "      <td>나선환</td>\n",
       "    </tr>\n",
       "    <tr>\n",
       "      <th>B</th>\n",
       "      <td>가아라</td>\n",
       "      <td>모래</td>\n",
       "      <td>15</td>\n",
       "      <td>사박궤</td>\n",
       "    </tr>\n",
       "    <tr>\n",
       "      <th>C</th>\n",
       "      <td>킬러비</td>\n",
       "      <td>구름</td>\n",
       "      <td>38</td>\n",
       "      <td>미수옥</td>\n",
       "    </tr>\n",
       "    <tr>\n",
       "      <th>D</th>\n",
       "      <td>하쿠</td>\n",
       "      <td>안개</td>\n",
       "      <td>13</td>\n",
       "      <td>빙결</td>\n",
       "    </tr>\n",
       "    <tr>\n",
       "      <th>E</th>\n",
       "      <td>데이다라</td>\n",
       "      <td>바위</td>\n",
       "      <td>19</td>\n",
       "      <td>폭탄</td>\n",
       "    </tr>\n",
       "  </tbody>\n",
       "</table>\n",
       "</div>"
      ],
      "text/plain": [
       "   name town  age skill\n",
       "A   나루토  나뭇잎   15   나선환\n",
       "B   가아라   모래   15   사박궤\n",
       "C   킬러비   구름   38   미수옥\n",
       "D    하쿠   안개   13    빙결\n",
       "E  데이다라   바위   19    폭탄"
      ]
     },
     "execution_count": 48,
     "metadata": {},
     "output_type": "execute_result"
    }
   ],
   "source": [
    "ninja"
   ]
  },
  {
   "cell_type": "code",
   "execution_count": 53,
   "id": "dd2d8b52",
   "metadata": {},
   "outputs": [
    {
     "data": {
      "text/html": [
       "<div>\n",
       "<style scoped>\n",
       "    .dataframe tbody tr th:only-of-type {\n",
       "        vertical-align: middle;\n",
       "    }\n",
       "\n",
       "    .dataframe tbody tr th {\n",
       "        vertical-align: top;\n",
       "    }\n",
       "\n",
       "    .dataframe thead th {\n",
       "        text-align: right;\n",
       "    }\n",
       "</style>\n",
       "<table border=\"1\" class=\"dataframe\">\n",
       "  <thead>\n",
       "    <tr style=\"text-align: right;\">\n",
       "      <th></th>\n",
       "      <th>name</th>\n",
       "      <th>town</th>\n",
       "      <th>age</th>\n",
       "      <th>skill</th>\n",
       "    </tr>\n",
       "  </thead>\n",
       "  <tbody>\n",
       "    <tr>\n",
       "      <th>A</th>\n",
       "      <td>나루토</td>\n",
       "      <td>나뭇잎</td>\n",
       "      <td>15</td>\n",
       "      <td>나선환</td>\n",
       "    </tr>\n",
       "    <tr>\n",
       "      <th>B</th>\n",
       "      <td>가아라</td>\n",
       "      <td>모래</td>\n",
       "      <td>15</td>\n",
       "      <td>사박궤</td>\n",
       "    </tr>\n",
       "    <tr>\n",
       "      <th>C</th>\n",
       "      <td>킬러비</td>\n",
       "      <td>구름</td>\n",
       "      <td>38</td>\n",
       "      <td>미수옥</td>\n",
       "    </tr>\n",
       "    <tr>\n",
       "      <th>D</th>\n",
       "      <td>하쿠</td>\n",
       "      <td>안개</td>\n",
       "      <td>13</td>\n",
       "      <td>빙둔</td>\n",
       "    </tr>\n",
       "    <tr>\n",
       "      <th>E</th>\n",
       "      <td>데이다라</td>\n",
       "      <td>바위</td>\n",
       "      <td>19</td>\n",
       "      <td>폭탄</td>\n",
       "    </tr>\n",
       "  </tbody>\n",
       "</table>\n",
       "</div>"
      ],
      "text/plain": [
       "   name town  age skill\n",
       "A   나루토  나뭇잎   15   나선환\n",
       "B   가아라   모래   15   사박궤\n",
       "C   킬러비   구름   38   미수옥\n",
       "D    하쿠   안개   13    빙둔\n",
       "E  데이다라   바위   19    폭탄"
      ]
     },
     "execution_count": 53,
     "metadata": {},
     "output_type": "execute_result"
    }
   ],
   "source": [
    "ninja.loc['D', 'skill'] = '빙둔'\n",
    "ninja"
   ]
  },
  {
   "cell_type": "code",
   "execution_count": 60,
   "id": "e49a1e20",
   "metadata": {},
   "outputs": [
    {
     "data": {
      "text/html": [
       "<div>\n",
       "<style scoped>\n",
       "    .dataframe tbody tr th:only-of-type {\n",
       "        vertical-align: middle;\n",
       "    }\n",
       "\n",
       "    .dataframe tbody tr th {\n",
       "        vertical-align: top;\n",
       "    }\n",
       "\n",
       "    .dataframe thead th {\n",
       "        text-align: right;\n",
       "    }\n",
       "</style>\n",
       "<table border=\"1\" class=\"dataframe\">\n",
       "  <thead>\n",
       "    <tr style=\"text-align: right;\">\n",
       "      <th></th>\n",
       "      <th>name</th>\n",
       "      <th>town</th>\n",
       "      <th>age</th>\n",
       "      <th>skill</th>\n",
       "    </tr>\n",
       "  </thead>\n",
       "  <tbody>\n",
       "    <tr>\n",
       "      <th>C</th>\n",
       "      <td>킬러비</td>\n",
       "      <td>구름</td>\n",
       "      <td>38</td>\n",
       "      <td>미수옥</td>\n",
       "    </tr>\n",
       "    <tr>\n",
       "      <th>E</th>\n",
       "      <td>데이다라</td>\n",
       "      <td>바위</td>\n",
       "      <td>19</td>\n",
       "      <td>폭탄</td>\n",
       "    </tr>\n",
       "  </tbody>\n",
       "</table>\n",
       "</div>"
      ],
      "text/plain": [
       "   name town  age skill\n",
       "C   킬러비   구름   38   미수옥\n",
       "E  데이다라   바위   19    폭탄"
      ]
     },
     "execution_count": 60,
     "metadata": {},
     "output_type": "execute_result"
    }
   ],
   "source": [
    "ninja.loc[ninja['age'] >16]"
   ]
  },
  {
   "cell_type": "code",
   "execution_count": 67,
   "id": "97f022fb",
   "metadata": {},
   "outputs": [
    {
     "data": {
      "text/plain": [
       "20.0"
      ]
     },
     "execution_count": 67,
     "metadata": {},
     "output_type": "execute_result"
    }
   ],
   "source": [
    "ninja['age'].mean()"
   ]
  },
  {
   "cell_type": "code",
   "execution_count": null,
   "id": "f49e157d",
   "metadata": {},
   "outputs": [],
   "source": []
  }
 ],
 "metadata": {
  "kernelspec": {
   "display_name": "Python 3 (ipykernel)",
   "language": "python",
   "name": "python3"
  },
  "language_info": {
   "codemirror_mode": {
    "name": "ipython",
    "version": 3
   },
   "file_extension": ".py",
   "mimetype": "text/x-python",
   "name": "python",
   "nbconvert_exporter": "python",
   "pygments_lexer": "ipython3",
   "version": "3.9.7"
  }
 },
 "nbformat": 4,
 "nbformat_minor": 5
}
