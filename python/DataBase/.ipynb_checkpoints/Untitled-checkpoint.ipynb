{
 "cells": [
  {
   "cell_type": "code",
   "execution_count": 1,
   "id": "cc20b34d",
   "metadata": {},
   "outputs": [
    {
     "name": "stdout",
     "output_type": "stream",
     "text": [
      "Collecting mysqlclient\n",
      "  Downloading mysqlclient-2.1.0-cp39-cp39-win_amd64.whl (180 kB)\n",
      "Installing collected packages: mysqlclient\n",
      "Successfully installed mysqlclient-2.1.0\n"
     ]
    }
   ],
   "source": [
    "!pip install mysqlclient"
   ]
  },
  {
   "cell_type": "code",
   "execution_count": 19,
   "id": "b2aa6f11",
   "metadata": {},
   "outputs": [],
   "source": [
    "import MySQLdb"
   ]
  },
  {
   "cell_type": "code",
   "execution_count": 20,
   "id": "ba8fc34d",
   "metadata": {},
   "outputs": [],
   "source": [
    "# connect 객체\n",
    "db = MySQLdb.connect(host = 'localhost', port = 3306, user = 'root', password = '1234')"
   ]
  },
  {
   "cell_type": "code",
   "execution_count": 21,
   "id": "7b6c44b4",
   "metadata": {},
   "outputs": [],
   "source": [
    "# cursor 객체\n",
    "cursor = db.cursor()"
   ]
  },
  {
   "cell_type": "code",
   "execution_count": 22,
   "id": "c724a4ec",
   "metadata": {},
   "outputs": [
    {
     "data": {
      "text/plain": [
       "10"
      ]
     },
     "execution_count": 22,
     "metadata": {},
     "output_type": "execute_result"
    }
   ],
   "source": [
    "cursor.execute('show databases;') # 결과의 수"
   ]
  },
  {
   "cell_type": "code",
   "execution_count": 23,
   "id": "61835c13",
   "metadata": {},
   "outputs": [
    {
     "data": {
      "text/plain": [
       "(('information_schema',),\n",
       " ('employees',),\n",
       " ('mysql',),\n",
       " ('performance_schema',),\n",
       " ('sakila',),\n",
       " ('shopdb',),\n",
       " ('sqldb',),\n",
       " ('sys',),\n",
       " ('tabledb',),\n",
       " ('world',))"
      ]
     },
     "execution_count": 23,
     "metadata": {},
     "output_type": "execute_result"
    }
   ],
   "source": [
    "cursor.fetchall() # db server애서 출력을 리턴"
   ]
  },
  {
   "cell_type": "code",
   "execution_count": 28,
   "id": "861781b0",
   "metadata": {},
   "outputs": [
    {
     "data": {
      "text/plain": [
       "0"
      ]
     },
     "execution_count": 28,
     "metadata": {},
     "output_type": "execute_result"
    }
   ],
   "source": [
    "sql = \"\"\"\n",
    "use sqldb;\n",
    "show tables\n",
    "\"\"\"\n",
    "\n",
    "cursor.execute(sql)\n",
    "# cursor.fetchall()"
   ]
  },
  {
   "cell_type": "code",
   "execution_count": 29,
   "id": "4ec4ad62",
   "metadata": {},
   "outputs": [],
   "source": [
    "import pandas as pd"
   ]
  },
  {
   "cell_type": "code",
   "execution_count": 30,
   "id": "dfe92bfe",
   "metadata": {},
   "outputs": [
    {
     "data": {
      "text/html": [
       "<div>\n",
       "<style scoped>\n",
       "    .dataframe tbody tr th:only-of-type {\n",
       "        vertical-align: middle;\n",
       "    }\n",
       "\n",
       "    .dataframe tbody tr th {\n",
       "        vertical-align: top;\n",
       "    }\n",
       "\n",
       "    .dataframe thead th {\n",
       "        text-align: right;\n",
       "    }\n",
       "</style>\n",
       "<table border=\"1\" class=\"dataframe\">\n",
       "  <thead>\n",
       "    <tr style=\"text-align: right;\">\n",
       "      <th></th>\n",
       "      <th>Tables_in_sqldb</th>\n",
       "    </tr>\n",
       "  </thead>\n",
       "  <tbody>\n",
       "    <tr>\n",
       "      <th>0</th>\n",
       "      <td>buytbl</td>\n",
       "    </tr>\n",
       "    <tr>\n",
       "      <th>1</th>\n",
       "      <td>usertbl</td>\n",
       "    </tr>\n",
       "  </tbody>\n",
       "</table>\n",
       "</div>"
      ],
      "text/plain": [
       "  Tables_in_sqldb\n",
       "0          buytbl\n",
       "1         usertbl"
      ]
     },
     "execution_count": 30,
     "metadata": {},
     "output_type": "execute_result"
    }
   ],
   "source": [
    "pd.read_sql('show tables;', db)"
   ]
  },
  {
   "cell_type": "code",
   "execution_count": 31,
   "id": "7eb5e1c7",
   "metadata": {},
   "outputs": [
    {
     "data": {
      "text/html": [
       "<div>\n",
       "<style scoped>\n",
       "    .dataframe tbody tr th:only-of-type {\n",
       "        vertical-align: middle;\n",
       "    }\n",
       "\n",
       "    .dataframe tbody tr th {\n",
       "        vertical-align: top;\n",
       "    }\n",
       "\n",
       "    .dataframe thead th {\n",
       "        text-align: right;\n",
       "    }\n",
       "</style>\n",
       "<table border=\"1\" class=\"dataframe\">\n",
       "  <thead>\n",
       "    <tr style=\"text-align: right;\">\n",
       "      <th></th>\n",
       "      <th>userid</th>\n",
       "      <th>name</th>\n",
       "      <th>birthyear</th>\n",
       "      <th>addr</th>\n",
       "      <th>mobile1</th>\n",
       "      <th>mobile2</th>\n",
       "      <th>height</th>\n",
       "      <th>mdate</th>\n",
       "    </tr>\n",
       "  </thead>\n",
       "  <tbody>\n",
       "    <tr>\n",
       "      <th>0</th>\n",
       "      <td>BBK</td>\n",
       "      <td>바비킴</td>\n",
       "      <td>1973</td>\n",
       "      <td>서울</td>\n",
       "      <td>010</td>\n",
       "      <td>0000000</td>\n",
       "      <td>176</td>\n",
       "      <td>2013-05-05</td>\n",
       "    </tr>\n",
       "    <tr>\n",
       "      <th>1</th>\n",
       "      <td>EJW</td>\n",
       "      <td>은지원</td>\n",
       "      <td>1972</td>\n",
       "      <td>경북</td>\n",
       "      <td>011</td>\n",
       "      <td>8888888</td>\n",
       "      <td>174</td>\n",
       "      <td>2014-03-03</td>\n",
       "    </tr>\n",
       "    <tr>\n",
       "      <th>2</th>\n",
       "      <td>JKW</td>\n",
       "      <td>조관우</td>\n",
       "      <td>1965</td>\n",
       "      <td>경기</td>\n",
       "      <td>018</td>\n",
       "      <td>9999999</td>\n",
       "      <td>172</td>\n",
       "      <td>2010-10-10</td>\n",
       "    </tr>\n",
       "    <tr>\n",
       "      <th>3</th>\n",
       "      <td>JYP</td>\n",
       "      <td>조용필</td>\n",
       "      <td>1950</td>\n",
       "      <td>경기</td>\n",
       "      <td>011</td>\n",
       "      <td>4444444</td>\n",
       "      <td>166</td>\n",
       "      <td>2009-04-04</td>\n",
       "    </tr>\n",
       "    <tr>\n",
       "      <th>4</th>\n",
       "      <td>KBS</td>\n",
       "      <td>김범수</td>\n",
       "      <td>1979</td>\n",
       "      <td>경남</td>\n",
       "      <td>011</td>\n",
       "      <td>2222222</td>\n",
       "      <td>173</td>\n",
       "      <td>2012-04-04</td>\n",
       "    </tr>\n",
       "    <tr>\n",
       "      <th>5</th>\n",
       "      <td>KKH</td>\n",
       "      <td>김경호</td>\n",
       "      <td>1971</td>\n",
       "      <td>전남</td>\n",
       "      <td>019</td>\n",
       "      <td>3333333</td>\n",
       "      <td>177</td>\n",
       "      <td>2007-07-07</td>\n",
       "    </tr>\n",
       "    <tr>\n",
       "      <th>6</th>\n",
       "      <td>LJB</td>\n",
       "      <td>임재범</td>\n",
       "      <td>1963</td>\n",
       "      <td>서울</td>\n",
       "      <td>016</td>\n",
       "      <td>6666666</td>\n",
       "      <td>182</td>\n",
       "      <td>2009-09-09</td>\n",
       "    </tr>\n",
       "    <tr>\n",
       "      <th>7</th>\n",
       "      <td>LSG</td>\n",
       "      <td>이승기</td>\n",
       "      <td>1987</td>\n",
       "      <td>서울</td>\n",
       "      <td>011</td>\n",
       "      <td>1111111</td>\n",
       "      <td>182</td>\n",
       "      <td>2008-08-08</td>\n",
       "    </tr>\n",
       "    <tr>\n",
       "      <th>8</th>\n",
       "      <td>SSK</td>\n",
       "      <td>성시경</td>\n",
       "      <td>1979</td>\n",
       "      <td>서울</td>\n",
       "      <td>None</td>\n",
       "      <td>None</td>\n",
       "      <td>186</td>\n",
       "      <td>2013-12-12</td>\n",
       "    </tr>\n",
       "    <tr>\n",
       "      <th>9</th>\n",
       "      <td>YJS</td>\n",
       "      <td>윤종신</td>\n",
       "      <td>1969</td>\n",
       "      <td>경남</td>\n",
       "      <td>None</td>\n",
       "      <td>None</td>\n",
       "      <td>170</td>\n",
       "      <td>2005-05-05</td>\n",
       "    </tr>\n",
       "  </tbody>\n",
       "</table>\n",
       "</div>"
      ],
      "text/plain": [
       "  userid name  birthyear addr mobile1  mobile2  height       mdate\n",
       "0    BBK  바비킴       1973   서울     010  0000000     176  2013-05-05\n",
       "1    EJW  은지원       1972   경북     011  8888888     174  2014-03-03\n",
       "2    JKW  조관우       1965   경기     018  9999999     172  2010-10-10\n",
       "3    JYP  조용필       1950   경기     011  4444444     166  2009-04-04\n",
       "4    KBS  김범수       1979   경남     011  2222222     173  2012-04-04\n",
       "5    KKH  김경호       1971   전남     019  3333333     177  2007-07-07\n",
       "6    LJB  임재범       1963   서울     016  6666666     182  2009-09-09\n",
       "7    LSG  이승기       1987   서울     011  1111111     182  2008-08-08\n",
       "8    SSK  성시경       1979   서울    None     None     186  2013-12-12\n",
       "9    YJS  윤종신       1969   경남    None     None     170  2005-05-05"
      ]
     },
     "execution_count": 31,
     "metadata": {},
     "output_type": "execute_result"
    }
   ],
   "source": [
    "pd.read_sql('select * from usertbl;', db)"
   ]
  },
  {
   "cell_type": "code",
   "execution_count": 32,
   "id": "a1d6c43f",
   "metadata": {},
   "outputs": [
    {
     "data": {
      "text/plain": [
       "0"
      ]
     },
     "execution_count": 32,
     "metadata": {},
     "output_type": "execute_result"
    }
   ],
   "source": []
  },
  {
   "cell_type": "code",
   "execution_count": null,
   "id": "d6240117",
   "metadata": {},
   "outputs": [],
   "source": []
  },
  {
   "cell_type": "code",
   "execution_count": 33,
   "id": "43a921b1",
   "metadata": {},
   "outputs": [
    {
     "data": {
      "text/plain": [
       "0"
      ]
     },
     "execution_count": 33,
     "metadata": {},
     "output_type": "execute_result"
    }
   ],
   "source": [
    "sql = \"\"\"\n",
    "use sakila;\n",
    "\"\"\"\n",
    "\n",
    "cursor.execute(sql)"
   ]
  },
  {
   "cell_type": "code",
   "execution_count": 35,
   "id": "9d092a13",
   "metadata": {},
   "outputs": [
    {
     "data": {
      "text/plain": [
       "(('actor',),\n",
       " ('actor_info',),\n",
       " ('address',),\n",
       " ('category',),\n",
       " ('city',),\n",
       " ('country',),\n",
       " ('customer',),\n",
       " ('customer_list',),\n",
       " ('film',),\n",
       " ('film_actor',),\n",
       " ('film_category',),\n",
       " ('film_list',),\n",
       " ('film_text',),\n",
       " ('inventory',),\n",
       " ('language',),\n",
       " ('nicer_but_slower_film_list',),\n",
       " ('payment',),\n",
       " ('rental',),\n",
       " ('sales_by_film_category',),\n",
       " ('sales_by_store',),\n",
       " ('staff',),\n",
       " ('staff_list',),\n",
       " ('store',))"
      ]
     },
     "execution_count": 35,
     "metadata": {},
     "output_type": "execute_result"
    }
   ],
   "source": [
    "sql = \"\"\"\n",
    "show tables;\n",
    "\"\"\"\n",
    "\n",
    "cursor.execute(sql)\n",
    "cursor.fetchall()"
   ]
  },
  {
   "cell_type": "code",
   "execution_count": 36,
   "id": "d5499001",
   "metadata": {
    "collapsed": true
   },
   "outputs": [
    {
     "data": {
      "text/html": [
       "<div>\n",
       "<style scoped>\n",
       "    .dataframe tbody tr th:only-of-type {\n",
       "        vertical-align: middle;\n",
       "    }\n",
       "\n",
       "    .dataframe tbody tr th {\n",
       "        vertical-align: top;\n",
       "    }\n",
       "\n",
       "    .dataframe thead th {\n",
       "        text-align: right;\n",
       "    }\n",
       "</style>\n",
       "<table border=\"1\" class=\"dataframe\">\n",
       "  <thead>\n",
       "    <tr style=\"text-align: right;\">\n",
       "      <th></th>\n",
       "      <th>FID</th>\n",
       "      <th>title</th>\n",
       "      <th>description</th>\n",
       "      <th>category</th>\n",
       "      <th>price</th>\n",
       "      <th>length</th>\n",
       "      <th>rating</th>\n",
       "      <th>actors</th>\n",
       "    </tr>\n",
       "  </thead>\n",
       "  <tbody>\n",
       "    <tr>\n",
       "      <th>0</th>\n",
       "      <td>1</td>\n",
       "      <td>ACADEMY DINOSAUR</td>\n",
       "      <td>A Epic Drama of a Feminist And a Mad Scientist...</td>\n",
       "      <td>Documentary</td>\n",
       "      <td>0.99</td>\n",
       "      <td>86</td>\n",
       "      <td>PG</td>\n",
       "      <td>PENELOPE GUINESS, CHRISTIAN GABLE, LUCILLE TRA...</td>\n",
       "    </tr>\n",
       "    <tr>\n",
       "      <th>1</th>\n",
       "      <td>2</td>\n",
       "      <td>ACE GOLDFINGER</td>\n",
       "      <td>A Astounding Epistle of a Database Administrat...</td>\n",
       "      <td>Horror</td>\n",
       "      <td>4.99</td>\n",
       "      <td>48</td>\n",
       "      <td>G</td>\n",
       "      <td>BOB FAWCETT, MINNIE ZELLWEGER, SEAN GUINESS, C...</td>\n",
       "    </tr>\n",
       "    <tr>\n",
       "      <th>2</th>\n",
       "      <td>3</td>\n",
       "      <td>ADAPTATION HOLES</td>\n",
       "      <td>A Astounding Reflection of a Lumberjack And a ...</td>\n",
       "      <td>Documentary</td>\n",
       "      <td>2.99</td>\n",
       "      <td>50</td>\n",
       "      <td>NC-17</td>\n",
       "      <td>NICK WAHLBERG, BOB FAWCETT, CAMERON STREEP, RA...</td>\n",
       "    </tr>\n",
       "    <tr>\n",
       "      <th>3</th>\n",
       "      <td>4</td>\n",
       "      <td>AFFAIR PREJUDICE</td>\n",
       "      <td>A Fanciful Documentary of a Frisbee And a Lumb...</td>\n",
       "      <td>Horror</td>\n",
       "      <td>2.99</td>\n",
       "      <td>117</td>\n",
       "      <td>G</td>\n",
       "      <td>JODIE DEGENERES, SCARLETT DAMON, KENNETH PESCI...</td>\n",
       "    </tr>\n",
       "    <tr>\n",
       "      <th>4</th>\n",
       "      <td>5</td>\n",
       "      <td>AFRICAN EGG</td>\n",
       "      <td>A Fast-Paced Documentary of a Pastry Chef And ...</td>\n",
       "      <td>Family</td>\n",
       "      <td>2.99</td>\n",
       "      <td>130</td>\n",
       "      <td>G</td>\n",
       "      <td>GARY PHOENIX, DUSTIN TAUTOU, MATTHEW LEIGH, MA...</td>\n",
       "    </tr>\n",
       "    <tr>\n",
       "      <th>...</th>\n",
       "      <td>...</td>\n",
       "      <td>...</td>\n",
       "      <td>...</td>\n",
       "      <td>...</td>\n",
       "      <td>...</td>\n",
       "      <td>...</td>\n",
       "      <td>...</td>\n",
       "      <td>...</td>\n",
       "    </tr>\n",
       "    <tr>\n",
       "      <th>992</th>\n",
       "      <td>996</td>\n",
       "      <td>YOUNG LANGUAGE</td>\n",
       "      <td>A Unbelieveable Yarn of a Boat And a Database ...</td>\n",
       "      <td>Documentary</td>\n",
       "      <td>0.99</td>\n",
       "      <td>183</td>\n",
       "      <td>G</td>\n",
       "      <td>ED CHASE, JULIA MCQUEEN, JAMES PITT, CHRISTOPH...</td>\n",
       "    </tr>\n",
       "    <tr>\n",
       "      <th>993</th>\n",
       "      <td>997</td>\n",
       "      <td>YOUTH KICK</td>\n",
       "      <td>A Touching Drama of a Teacher And a Cat who mu...</td>\n",
       "      <td>Music</td>\n",
       "      <td>0.99</td>\n",
       "      <td>179</td>\n",
       "      <td>NC-17</td>\n",
       "      <td>SANDRA KILMER, VAL BOLGER, SCARLETT BENING, IA...</td>\n",
       "    </tr>\n",
       "    <tr>\n",
       "      <th>994</th>\n",
       "      <td>998</td>\n",
       "      <td>ZHIVAGO CORE</td>\n",
       "      <td>A Fateful Yarn of a Composer And a Man who mus...</td>\n",
       "      <td>Horror</td>\n",
       "      <td>0.99</td>\n",
       "      <td>105</td>\n",
       "      <td>NC-17</td>\n",
       "      <td>UMA WOOD, NICK STALLONE, GARY PENN, SALMA NOLT...</td>\n",
       "    </tr>\n",
       "    <tr>\n",
       "      <th>995</th>\n",
       "      <td>999</td>\n",
       "      <td>ZOOLANDER FICTION</td>\n",
       "      <td>A Fateful Reflection of a Waitress And a Boat ...</td>\n",
       "      <td>Children</td>\n",
       "      <td>2.99</td>\n",
       "      <td>101</td>\n",
       "      <td>R</td>\n",
       "      <td>CARMEN HUNT, MARY TANDY, PENELOPE CRONYN, WHOO...</td>\n",
       "    </tr>\n",
       "    <tr>\n",
       "      <th>996</th>\n",
       "      <td>1000</td>\n",
       "      <td>ZORRO ARK</td>\n",
       "      <td>A Intrepid Panorama of a Mad Scientist And a B...</td>\n",
       "      <td>Comedy</td>\n",
       "      <td>4.99</td>\n",
       "      <td>50</td>\n",
       "      <td>NC-17</td>\n",
       "      <td>IAN TANDY, NICK DEGENERES, LISA MONROE</td>\n",
       "    </tr>\n",
       "  </tbody>\n",
       "</table>\n",
       "<p>997 rows × 8 columns</p>\n",
       "</div>"
      ],
      "text/plain": [
       "      FID              title  \\\n",
       "0       1   ACADEMY DINOSAUR   \n",
       "1       2     ACE GOLDFINGER   \n",
       "2       3   ADAPTATION HOLES   \n",
       "3       4   AFFAIR PREJUDICE   \n",
       "4       5        AFRICAN EGG   \n",
       "..    ...                ...   \n",
       "992   996     YOUNG LANGUAGE   \n",
       "993   997         YOUTH KICK   \n",
       "994   998       ZHIVAGO CORE   \n",
       "995   999  ZOOLANDER FICTION   \n",
       "996  1000          ZORRO ARK   \n",
       "\n",
       "                                           description     category  price  \\\n",
       "0    A Epic Drama of a Feminist And a Mad Scientist...  Documentary   0.99   \n",
       "1    A Astounding Epistle of a Database Administrat...       Horror   4.99   \n",
       "2    A Astounding Reflection of a Lumberjack And a ...  Documentary   2.99   \n",
       "3    A Fanciful Documentary of a Frisbee And a Lumb...       Horror   2.99   \n",
       "4    A Fast-Paced Documentary of a Pastry Chef And ...       Family   2.99   \n",
       "..                                                 ...          ...    ...   \n",
       "992  A Unbelieveable Yarn of a Boat And a Database ...  Documentary   0.99   \n",
       "993  A Touching Drama of a Teacher And a Cat who mu...        Music   0.99   \n",
       "994  A Fateful Yarn of a Composer And a Man who mus...       Horror   0.99   \n",
       "995  A Fateful Reflection of a Waitress And a Boat ...     Children   2.99   \n",
       "996  A Intrepid Panorama of a Mad Scientist And a B...       Comedy   4.99   \n",
       "\n",
       "     length rating                                             actors  \n",
       "0        86     PG  PENELOPE GUINESS, CHRISTIAN GABLE, LUCILLE TRA...  \n",
       "1        48      G  BOB FAWCETT, MINNIE ZELLWEGER, SEAN GUINESS, C...  \n",
       "2        50  NC-17  NICK WAHLBERG, BOB FAWCETT, CAMERON STREEP, RA...  \n",
       "3       117      G  JODIE DEGENERES, SCARLETT DAMON, KENNETH PESCI...  \n",
       "4       130      G  GARY PHOENIX, DUSTIN TAUTOU, MATTHEW LEIGH, MA...  \n",
       "..      ...    ...                                                ...  \n",
       "992     183      G  ED CHASE, JULIA MCQUEEN, JAMES PITT, CHRISTOPH...  \n",
       "993     179  NC-17  SANDRA KILMER, VAL BOLGER, SCARLETT BENING, IA...  \n",
       "994     105  NC-17  UMA WOOD, NICK STALLONE, GARY PENN, SALMA NOLT...  \n",
       "995     101      R  CARMEN HUNT, MARY TANDY, PENELOPE CRONYN, WHOO...  \n",
       "996      50  NC-17             IAN TANDY, NICK DEGENERES, LISA MONROE  \n",
       "\n",
       "[997 rows x 8 columns]"
      ]
     },
     "execution_count": 36,
     "metadata": {},
     "output_type": "execute_result"
    }
   ],
   "source": [
    "sql = 'select * from film_list;'\n",
    "\n",
    "pd.read_sql(sql, db)"
   ]
  },
  {
   "cell_type": "code",
   "execution_count": null,
   "id": "526b39ee",
   "metadata": {},
   "outputs": [],
   "source": []
  },
  {
   "cell_type": "code",
   "execution_count": 37,
   "id": "04eeffff",
   "metadata": {},
   "outputs": [],
   "source": [
    "# sakila database의 모든 table을 '테이블명.csv' 형식으로 새로운 폴더\n",
    "# sakila에 csv 파일형식으로 저장하시오"
   ]
  },
  {
   "cell_type": "code",
   "execution_count": 38,
   "id": "22a1e5bf",
   "metadata": {},
   "outputs": [],
   "source": [
    "sql = \"\"\"\n",
    "show tables;\n",
    "\"\"\"\n",
    "\n",
    "tables = pd.read_sql(sql, db)"
   ]
  },
  {
   "cell_type": "code",
   "execution_count": 41,
   "id": "0f08dbed",
   "metadata": {},
   "outputs": [
    {
     "ename": "SyntaxError",
     "evalue": "invalid syntax (Temp/ipykernel_8824/3783612702.py, line 5)",
     "output_type": "error",
     "traceback": [
      "\u001b[1;36m  File \u001b[1;32m\"C:\\Users\\bitcamp\\AppData\\Local\\Temp/ipykernel_8824/3783612702.py\"\u001b[1;36m, line \u001b[1;32m5\u001b[0m\n\u001b[1;33m    table_df  pd.read_sql(sql, db)\u001b[0m\n\u001b[1;37m              ^\u001b[0m\n\u001b[1;31mSyntaxError\u001b[0m\u001b[1;31m:\u001b[0m invalid syntax\n"
     ]
    }
   ],
   "source": [
    "for t in tables.values:\n",
    "    print(t[0])\n",
    "    \n",
    "    sql = 'select * from {}'.format(t[0])\n",
    "    table_df  pd.read_sql(sql, db)\n",
    "    table_df.to_csv('./sakila/{}.csv'.format(t[0]))"
   ]
  },
  {
   "cell_type": "code",
   "execution_count": null,
   "id": "0dd6799a",
   "metadata": {},
   "outputs": [],
   "source": []
  },
  {
   "cell_type": "code",
   "execution_count": 42,
   "id": "317721ef",
   "metadata": {},
   "outputs": [],
   "source": [
    "# world 데이터베이스에서 country 테이블에서 인구수가 10,000,000 이상인 국가명을 출력하시오\n",
    "# 1. sql을 통해서 값만 출력\n",
    "# 2. 데이터를 불러와서 pandas로 값을 구하는 방법"
   ]
  },
  {
   "cell_type": "code",
   "execution_count": 43,
   "id": "70792277",
   "metadata": {},
   "outputs": [
    {
     "data": {
      "text/plain": [
       "()"
      ]
     },
     "execution_count": 43,
     "metadata": {},
     "output_type": "execute_result"
    }
   ],
   "source": [
    "# 1.\n",
    "\n",
    "sql = \"\"\"\n",
    "use world;\n",
    "select * from country where population >= ;\n",
    "\"\"\"\n",
    "\n",
    "cursor = db.cursor()\n",
    "\n",
    "cursor.execute(sql)\n",
    "cursor.fetchall()"
   ]
  },
  {
   "cell_type": "code",
   "execution_count": 44,
   "id": "ac84a84c",
   "metadata": {},
   "outputs": [
    {
     "ename": "SyntaxError",
     "evalue": "invalid syntax (Temp/ipykernel_8824/3476570600.py, line 8)",
     "output_type": "error",
     "traceback": [
      "\u001b[1;36m  File \u001b[1;32m\"C:\\Users\\bitcamp\\AppData\\Local\\Temp/ipykernel_8824/3476570600.py\"\u001b[1;36m, line \u001b[1;32m8\u001b[0m\n\u001b[1;33m    pd.\u001b[0m\n\u001b[1;37m       ^\u001b[0m\n\u001b[1;31mSyntaxError\u001b[0m\u001b[1;31m:\u001b[0m invalid syntax\n"
     ]
    }
   ],
   "source": [
    "# 2.\n",
    "\n",
    "sql = \"\"\"\n",
    "use world;\n",
    "select * from country;\n",
    "\"\"\"\n",
    "\n",
    "pd."
   ]
  },
  {
   "cell_type": "code",
   "execution_count": null,
   "id": "f79758fd",
   "metadata": {},
   "outputs": [],
   "source": []
  },
  {
   "cell_type": "code",
   "execution_count": null,
   "id": "98acf0a0",
   "metadata": {},
   "outputs": [],
   "source": []
  },
  {
   "cell_type": "code",
   "execution_count": 45,
   "id": "66c27a6e",
   "metadata": {},
   "outputs": [],
   "source": [
    "# 'GovermentForm'에 'Republic'이라는 텍스트가 포함된 국가를 출력\n",
    "# (country name, city name)형식으로 묶어서 출력"
   ]
  },
  {
   "cell_type": "code",
   "execution_count": null,
   "id": "f9932c23",
   "metadata": {},
   "outputs": [],
   "source": []
  }
 ],
 "metadata": {
  "kernelspec": {
   "display_name": "Python 3 (ipykernel)",
   "language": "python",
   "name": "python3"
  },
  "language_info": {
   "codemirror_mode": {
    "name": "ipython",
    "version": 3
   },
   "file_extension": ".py",
   "mimetype": "text/x-python",
   "name": "python",
   "nbconvert_exporter": "python",
   "pygments_lexer": "ipython3",
   "version": "3.9.7"
  }
 },
 "nbformat": 4,
 "nbformat_minor": 5
}
